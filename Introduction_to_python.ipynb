{
  "nbformat": 4,
  "nbformat_minor": 0,
  "metadata": {
    "kernelspec": {
      "display_name": "Python 3",
      "language": "python",
      "name": "python3"
    },
    "language_info": {
      "codemirror_mode": {
        "name": "ipython",
        "version": 3
      },
      "file_extension": ".py",
      "mimetype": "text/x-python",
      "name": "python",
      "nbconvert_exporter": "python",
      "pygments_lexer": "ipython3",
      "version": "3.7.4"
    },
    "colab": {
      "name": "Introduction_to_python.ipynb",
      "provenance": [],
      "collapsed_sections": [],
      "include_colab_link": true
    }
  },
  "cells": [
    {
      "cell_type": "markdown",
      "metadata": {
        "id": "view-in-github",
        "colab_type": "text"
      },
      "source": [
        "<a href=\"https://colab.research.google.com/github/kumbhat10/Data_Science_in_Python/blob/master/Introduction_to_python.ipynb\" target=\"_parent\"><img src=\"https://colab.research.google.com/assets/colab-badge.svg\" alt=\"Open In Colab\"/></a>"
      ]
    },
    {
      "cell_type": "markdown",
      "metadata": {
        "id": "ySs5Jg1S6SBf",
        "colab_type": "text"
      },
      "source": [
        "#**Mount Google Drive**"
      ]
    },
    {
      "cell_type": "code",
      "metadata": {
        "id": "7WCA7qZ1Z3O_",
        "colab_type": "code",
        "colab": {}
      },
      "source": [
        "\n",
        "# This cell is not required to be executed (i.e. ignore any error) if Notebook is run locally or in Binder\n",
        "# Authorise and mount google drive to access code and data files\n",
        "# https://www.w3schools.com/python/default.asp\n",
        "\n",
        "project_folder = '/content/drive/My Drive/Colab Notebooks/'\n",
        "\n",
        "import os\n",
        "\n",
        "if os.path.isdir('/content'):\n",
        "    from google.colab import drive\n",
        "    drive.mount('/content/drive')\n",
        "\n",
        "    if not(os.path.isdir(project_folder)):\n",
        "      os.makedirs(project_folder)\n",
        "      print(\"new project folder created\")\n",
        "\n",
        "    os.chdir(project_folder)"
      ],
      "execution_count": 0,
      "outputs": []
    },
    {
      "cell_type": "markdown",
      "metadata": {
        "id": "PR1ZIud-YGIt",
        "colab_type": "text"
      },
      "source": [
        "#**Zen of python**\n",
        "\n"
      ]
    },
    {
      "cell_type": "code",
      "metadata": {
        "id": "ju2Yl4aLL44I",
        "colab_type": "code",
        "outputId": "3ba063b3-6203-4215-a422-f45237bd64be",
        "colab": {
          "base_uri": "https://localhost:8080/",
          "height": 374
        }
      },
      "source": [
        "#import this\n",
        "#del this\n",
        "import this\n",
        "#this?"
      ],
      "execution_count": 0,
      "outputs": [
        {
          "output_type": "stream",
          "text": [
            "The Zen of Python, by Tim Peters\n",
            "\n",
            "Beautiful is better than ugly.\n",
            "Explicit is better than implicit.\n",
            "Simple is better than complex.\n",
            "Complex is better than complicated.\n",
            "Flat is better than nested.\n",
            "Sparse is better than dense.\n",
            "Readability counts.\n",
            "Special cases aren't special enough to break the rules.\n",
            "Although practicality beats purity.\n",
            "Errors should never pass silently.\n",
            "Unless explicitly silenced.\n",
            "In the face of ambiguity, refuse the temptation to guess.\n",
            "There should be one-- and preferably only one --obvious way to do it.\n",
            "Although that way may not be obvious at first unless you're Dutch.\n",
            "Now is better than never.\n",
            "Although never is often better than *right* now.\n",
            "If the implementation is hard to explain, it's a bad idea.\n",
            "If the implementation is easy to explain, it may be a good idea.\n",
            "Namespaces are one honking great idea -- let's do more of those!\n"
          ],
          "name": "stdout"
        }
      ]
    },
    {
      "cell_type": "markdown",
      "metadata": {
        "id": "UcIwKhFL6kdW",
        "colab_type": "text"
      },
      "source": [
        "# **Introduction**"
      ]
    },
    {
      "cell_type": "code",
      "metadata": {
        "scrolled": true,
        "id": "eB5ij9K1L438",
        "colab_type": "code",
        "colab": {}
      },
      "source": [
        "x= \"Hello, world\"       #string\n",
        "y=5   \n",
        "print(x + \"   \" + x)      # add strings ( concatenate)\n",
        "print(y*10)"
      ],
      "execution_count": 0,
      "outputs": []
    },
    {
      "cell_type": "markdown",
      "metadata": {
        "id": "XrR7uQ1i4Nxr",
        "colab_type": "text"
      },
      "source": [
        "# **Clear output cell**"
      ]
    },
    {
      "cell_type": "code",
      "metadata": {
        "id": "i4YbLmTF4VeQ",
        "colab_type": "code",
        "colab": {}
      },
      "source": [
        "print(\"This is output cell to be cleared after clear output call\")\n",
        "from IPython.display import clear_output\n",
        "clear_output()"
      ],
      "execution_count": 0,
      "outputs": []
    },
    {
      "cell_type": "markdown",
      "metadata": {
        "id": "_kMsbpUI6ic2",
        "colab_type": "text"
      },
      "source": [
        "# **Global Variable declaration**"
      ]
    },
    {
      "cell_type": "code",
      "metadata": {
        "id": "s9EeejI1L44C",
        "colab_type": "code",
        "colab": {}
      },
      "source": [
        "# global variable inside function\n",
        "x=10\n",
        "print(x)\n",
        "def myfunc():\n",
        "    global x\n",
        "    x=5\n",
        "    print(x)\n",
        "\n",
        "myfunc()\n",
        "print(x)"
      ],
      "execution_count": 0,
      "outputs": []
    },
    {
      "cell_type": "markdown",
      "metadata": {
        "id": "qGrwCDOi7AJf",
        "colab_type": "text"
      },
      "source": [
        "# **Data types**"
      ]
    },
    {
      "cell_type": "code",
      "metadata": {
        "id": "Bl8iZaG1L44F",
        "colab_type": "code",
        "colab": {}
      },
      "source": [
        "# data types\n",
        "# use type() to check the data tyoe\n",
        "x=5 #int\n",
        "\n",
        "y = \"hello\"  #str\n",
        "z = 1j       #complex\n",
        "x = 20.56    #float \n",
        "x = range(6) #range\n",
        "x = {\"name\": \"john\",\"age\" :36} #dict\n",
        "x = [\"apple\", \"banana\"]   #list\n",
        "x = (\"apple\",\"banana\")   #tuple\n",
        "x = {\"apple\",\"cherry\"} # set\n",
        "x = frozenset(x)\n",
        "x = True        #bool \n",
        "x = b\"hello\"    #bytes\n",
        "x = bytearray(5)\n",
        "x = memoryview(bytes(5))\n",
        "print(x)\n",
        "print(type(x))"
      ],
      "execution_count": 0,
      "outputs": []
    },
    {
      "cell_type": "markdown",
      "metadata": {
        "id": "AosjUe811UD5",
        "colab_type": "text"
      },
      "source": [
        "# **WhiteSpace Formattting**"
      ]
    },
    {
      "cell_type": "code",
      "metadata": {
        "id": "wRjMQewuL44N",
        "colab_type": "code",
        "colab": {}
      },
      "source": [
        "# indentation - space is used\n",
        "a = 2 +\\\n",
        "3   # backslash means continue to next line like ... in matlab\n",
        "print(a)"
      ],
      "execution_count": 0,
      "outputs": []
    },
    {
      "cell_type": "markdown",
      "metadata": {
        "id": "7gTBuw1hZO8L",
        "colab_type": "text"
      },
      "source": [
        "# **Modules**"
      ]
    },
    {
      "cell_type": "code",
      "metadata": {
        "id": "kYXgq3vaXeJb",
        "colab_type": "code",
        "colab": {}
      },
      "source": [
        "import re\n",
        "my_regex = re.compile(\"[0-9]+\", re.I)\n",
        "print(my_regex)\n",
        "\n",
        "import matplotlib.pyplot as plt\n",
        "\n",
        "#If you need a few specific values from a module, you can import them explicitly and use them without qualification:\n",
        "from collections import defaultdict, Counter\n",
        "lookup = defaultdict(int)\n",
        "my_counter = Counter()"
      ],
      "execution_count": 0,
      "outputs": []
    },
    {
      "cell_type": "markdown",
      "metadata": {
        "id": "mmtvYHCt1Ge7",
        "colab_type": "text"
      },
      "source": [
        "#**Arithmetic**\n"
      ]
    },
    {
      "cell_type": "code",
      "metadata": {
        "id": "2708X6pHXe7p",
        "colab_type": "code",
        "colab": {}
      },
      "source": [
        "#Python 2.7 uses integer division by default, so that 5 / 2 equals 2. Almost always this is not what we want, so we will always start our files with:\n",
        "from __future__ import division\n",
        "print(5/2)\n",
        "print(5//2)  # works like floor function of matlab"
      ],
      "execution_count": 0,
      "outputs": []
    },
    {
      "cell_type": "markdown",
      "metadata": {
        "id": "fMnplf4E1nTr",
        "colab_type": "text"
      },
      "source": [
        "#**Functions**\n"
      ]
    },
    {
      "cell_type": "code",
      "metadata": {
        "id": "87akLuf0y0hq",
        "colab_type": "code",
        "colab": {}
      },
      "source": [
        "#A function is a rule for taking zero or more inputs and returning a corresponding output. In Python, we typically define functions using def:\n",
        "def double(x):\n",
        " \"\"\"this is where you put an optional docstring\n",
        "   that explains what the function does.\n",
        "   for example, this function multiplies its input by 2\"\"\"\n",
        " return x * 2\n",
        "\n",
        "print (double(3))"
      ],
      "execution_count": 0,
      "outputs": []
    },
    {
      "cell_type": "markdown",
      "metadata": {
        "id": "LOb2aArO7Szv",
        "colab_type": "text"
      },
      "source": [
        "##### **Functions are first-class** , which means that we can assign them to variables and pass them into functions just like any other arguments:"
      ]
    },
    {
      "cell_type": "code",
      "metadata": {
        "id": "5CcQw4g37Pgf",
        "colab_type": "code",
        "colab": {}
      },
      "source": [
        "def nested_func(f):    #calls function f with 10 as its argument\n",
        "  return f(10)\n",
        "\n",
        "print(nested_func(double))   # double function created in above cell - run that first"
      ],
      "execution_count": 0,
      "outputs": []
    },
    {
      "cell_type": "markdown",
      "metadata": {
        "id": "vo8quQES7gq3",
        "colab_type": "text"
      },
      "source": [
        "#### Anonymous functions, or lambdas:\n"
      ]
    },
    {
      "cell_type": "code",
      "metadata": {
        "id": "X7_f7gV37eSa",
        "colab_type": "code",
        "colab": {}
      },
      "source": [
        "y = nested_func(lambda x: x+9)     ##lambda is anonymous function here\n",
        "print(y)"
      ],
      "execution_count": 0,
      "outputs": []
    },
    {
      "cell_type": "markdown",
      "metadata": {
        "id": "7X4il0hY8IpX",
        "colab_type": "text"
      },
      "source": [
        "#### Lambdas to variables\n"
      ]
    },
    {
      "cell_type": "code",
      "metadata": {
        "id": "ly4jjzfn8N2O",
        "colab_type": "code",
        "colab": {}
      },
      "source": [
        "another_double = lambda x: 2*x + 3   # dont do this use def instead as shown in next cell\n",
        "\n",
        "print(another_double(4))"
      ],
      "execution_count": 0,
      "outputs": []
    },
    {
      "cell_type": "markdown",
      "metadata": {
        "id": "cQAVxoM88mOJ",
        "colab_type": "text"
      },
      "source": [
        "#### def to define function"
      ]
    },
    {
      "cell_type": "code",
      "metadata": {
        "id": "vr6klLCb8pFO",
        "colab_type": "code",
        "colab": {}
      },
      "source": [
        "def another_double(x): return 2*x + 3 \n",
        "print(another_double(4))"
      ],
      "execution_count": 0,
      "outputs": []
    },
    {
      "cell_type": "markdown",
      "metadata": {
        "id": "IHQFasrp9BzD",
        "colab_type": "text"
      },
      "source": [
        "#### Deafult input to function parameters"
      ]
    },
    {
      "cell_type": "code",
      "metadata": {
        "id": "5zLrLE368Wl3",
        "colab_type": "code",
        "colab": {}
      },
      "source": [
        "def default_fucntion(x=10):  #default values to function is 10 now\n",
        "  return x*2\n",
        "\n",
        "print(default_fucntion(4))    # with input    = 4 * 2 = 8\n",
        "print(default_fucntion())    # with no input  = 10 * 2 = 20\n"
      ],
      "execution_count": 0,
      "outputs": []
    },
    {
      "cell_type": "markdown",
      "metadata": {
        "id": "gcKp1HBi9wuN",
        "colab_type": "text"
      },
      "source": [
        "#### Calling functions with variable names and default values  "
      ]
    },
    {
      "cell_type": "code",
      "metadata": {
        "id": "1Q8bZoZz9UGg",
        "colab_type": "code",
        "colab": {}
      },
      "source": [
        "def substract(a=10,b=3):      # default values \n",
        "    return a-b\n",
        "  \n",
        "print(substract(5))         # a = 5 ,          b = 3 (default)\n",
        "print(substract(5,2))       # a = 5 ,          b = 2\n",
        "print(substract(b=5))       # a = 10(default)  b = 5\n",
        "print(substract(a=15,b=4))  # a = 15 ,         b = 4"
      ],
      "execution_count": 0,
      "outputs": []
    },
    {
      "cell_type": "markdown",
      "metadata": {
        "id": "9DaA2P6T8Har",
        "colab_type": "text"
      },
      "source": [
        "#**Strings**"
      ]
    },
    {
      "cell_type": "code",
      "metadata": {
        "id": "P9JSR2jBEHhw",
        "colab_type": "code",
        "colab": {}
      },
      "source": [
        "#Strings can be delimited by single or double quotation marks (but the quotes have to match):\n",
        "\n",
        "a = 'apple'\n",
        "b = \"red\"\n",
        "print(a)\n",
        "print(b)"
      ],
      "execution_count": 0,
      "outputs": []
    },
    {
      "cell_type": "markdown",
      "metadata": {
        "id": "9YURrPyG_L6P",
        "colab_type": "text"
      },
      "source": [
        "#### Special Characters - backslash \\"
      ]
    },
    {
      "cell_type": "code",
      "metadata": {
        "id": "E_6-Ozey_Jiv",
        "colab_type": "code",
        "colab": {}
      },
      "source": [
        "#Python uses backslashes to encode special characters. For example:\n",
        "c = \" my\\tapple\"     # \\t is tab - 2 size space\n",
        "print(c)\n",
        "print(len(c))"
      ],
      "execution_count": 0,
      "outputs": []
    },
    {
      "cell_type": "markdown",
      "metadata": {
        "id": "7Z0eN0TG_lsO",
        "colab_type": "text"
      },
      "source": [
        "#### Raw strings r\" \""
      ]
    },
    {
      "cell_type": "code",
      "metadata": {
        "id": "3IDPjldy_KMZ",
        "colab_type": "code",
        "colab": {}
      },
      "source": [
        "#If you want backslashes as backslashes (which you might in Windows directory names or in regular expressions), you can create raw strings using r\"\":\n",
        "\n",
        "not_tab_string = r\"\\t\"          # represents the characters '\\' and 't'\n",
        "print(not_tab_string)\n",
        "print(len(not_tab_string)) # is 2"
      ],
      "execution_count": 0,
      "outputs": []
    },
    {
      "cell_type": "markdown",
      "metadata": {
        "id": "N7SY9kIK_2C3",
        "colab_type": "text"
      },
      "source": [
        "#### Multi line string  - Use 3 quotes \"\"\""
      ]
    },
    {
      "cell_type": "code",
      "metadata": {
        "id": "7J-N5qtT_Kbo",
        "colab_type": "code",
        "colab": {}
      },
      "source": [
        "#You can create multiline strings using triple-[double-]-quotes:\n",
        "multi_line_string = \"\"\"This is the first line.\n",
        "and this is the second line\n",
        "and this is the third line\"\"\"\n",
        "print(multi_line_string)"
      ],
      "execution_count": 0,
      "outputs": []
    },
    {
      "cell_type": "markdown",
      "metadata": {
        "id": "dsuYvsQRSYxA",
        "colab_type": "text"
      },
      "source": [
        "#**Exception - Try Catch**\n",
        "---"
      ]
    },
    {
      "cell_type": "code",
      "metadata": {
        "id": "DpltajKmSdlj",
        "colab_type": "code",
        "colab": {}
      },
      "source": [
        "#When something goes wrong, Python raises an exception. Unhandled, these will cause your program to crash. You can handle them using try and except:\n",
        "\n",
        "try:\n",
        " print (0 / 0)\n",
        "except ZeroDivisionError:\n",
        " print (\"cannot divide by zero\")"
      ],
      "execution_count": 0,
      "outputs": []
    },
    {
      "cell_type": "markdown",
      "metadata": {
        "id": "YUSrF7Itb_F7",
        "colab_type": "text"
      },
      "source": [
        "# **Data Types**\n",
        "---"
      ]
    },
    {
      "cell_type": "markdown",
      "metadata": {
        "id": "UUCyaeWMSxJT",
        "colab_type": "text"
      },
      "source": [
        "### **Lists** [1,2,3]  or [1,\"dushyant\", True]   like an array"
      ]
    },
    {
      "cell_type": "code",
      "metadata": {
        "id": "L1v3A6TQS0fj",
        "colab_type": "code",
        "colab": {}
      },
      "source": [
        "# list is simply an ordered collection . like an array , but with added functionality\n",
        "\n",
        "int_list          = [1 ,2,3]\n",
        "heterogenous_list = [\"string\" , 0.1, True]\n",
        "list_of_lists     = [int_list, heterogenous_list, []]\n",
        "\n",
        "print( len(int_list))\n",
        "print(sum(int_list))"
      ],
      "execution_count": 0,
      "outputs": []
    },
    {
      "cell_type": "markdown",
      "metadata": {
        "id": "0eRPnfmRCxRK",
        "colab_type": "text"
      },
      "source": [
        "### **Indexing lists**"
      ]
    },
    {
      "cell_type": "code",
      "metadata": {
        "colab_type": "code",
        "id": "p0ZYKeJICCvi",
        "colab": {}
      },
      "source": [
        "# You can get or set the nth element of a list with square brackets:\n",
        "\n",
        "x = range(10)  ## is the list  from 0 to 9 not 10  [0,1,2,3,4,5,6,7,8,9]\n",
        "print(len(x))\n",
        "\n",
        "print(x[0])   # first element\n",
        "print(x[1])   # second element\n",
        "\n",
        "print(x[-1])   # indexing from end using -number - -1 means the last number and 0 means the first number\n",
        "print(x[4:])   # print from 5th index till end\n",
        "print(x[4:6])   # print from 5th to 7th index \n",
        "print(x[1:-1])  ## except first"
      ],
      "execution_count": 0,
      "outputs": []
    },
    {
      "cell_type": "markdown",
      "metadata": {
        "id": "UBUX0ukgCDY4",
        "colab_type": "text"
      },
      "source": [
        "#### 'in' operator check"
      ]
    },
    {
      "cell_type": "code",
      "metadata": {
        "id": "PRx8-jY9Bxdn",
        "colab_type": "code",
        "colab": {}
      },
      "source": [
        "# Python has an 'in'  operator to check for list membership:\n",
        "x = [1,2,3,4,5,6,7,8,9]\n",
        "print(1 in x)  #true \n",
        "print(20 in x) #false"
      ],
      "execution_count": 0,
      "outputs": []
    },
    {
      "cell_type": "markdown",
      "metadata": {
        "id": "dcjafrVTB9fH",
        "colab_type": "text"
      },
      "source": [
        "#### Extending lists or appending lists"
      ]
    },
    {
      "cell_type": "code",
      "metadata": {
        "id": "wOVukAM0Bzbv",
        "colab_type": "code",
        "colab": {}
      },
      "source": [
        "y  =     [1,4]\n",
        "y.extend([11])\n",
        "print(y)             # [1, 4, 11]\n",
        "\n",
        "# If you don’t want to modify y you can use list addition:\n",
        "y1 = [1,5]\n",
        "z = y1 + y      # [1, 5, 1, 4, 11]\n",
        "print(z)"
      ],
      "execution_count": 0,
      "outputs": []
    },
    {
      "cell_type": "markdown",
      "metadata": {
        "id": "sGctblcgOHxz",
        "colab_type": "text"
      },
      "source": [
        "### append list"
      ]
    },
    {
      "cell_type": "code",
      "metadata": {
        "id": "T1LdoehiOOwR",
        "colab_type": "code",
        "outputId": "f7e1d1a1-83f0-40c9-d828-8714c710d3f7",
        "colab": {
          "base_uri": "https://localhost:8080/",
          "height": 85
        }
      },
      "source": [
        "z = [1,2,3]\n",
        "print(z)     # [1,2,3]\n",
        "z.append(8)\n",
        "print(z)           # [ 1,2,3,8]\n",
        "print(z.append(9))  # None\n",
        "print(z) "
      ],
      "execution_count": 0,
      "outputs": [
        {
          "output_type": "stream",
          "text": [
            "[1, 2, 3]\n",
            "[1, 2, 3, 8]\n",
            "None\n",
            "[1, 2, 3, 8, 9]\n"
          ],
          "name": "stdout"
        }
      ]
    },
    {
      "cell_type": "markdown",
      "metadata": {
        "id": "EcqvVo61B513",
        "colab_type": "text"
      },
      "source": [
        "#### Unpacking List"
      ]
    },
    {
      "cell_type": "code",
      "metadata": {
        "id": "PB9K1-kiB4_v",
        "colab_type": "code",
        "colab": {}
      },
      "source": [
        "# unpacking list\n",
        "x,y = [1,2]   ### you will get ValueError if you dont have the same number of elements on both sides\n",
        "print(x,y)\n",
        "\n",
        "_,y = [3,4]  #It’s common to use an underscore for a value you’re going to throw away:\n",
        "print(y)"
      ],
      "execution_count": 0,
      "outputs": []
    },
    {
      "cell_type": "markdown",
      "metadata": {
        "id": "KkyrXcldKgVx",
        "colab_type": "text"
      },
      "source": [
        "### **Tuples  (1,2) or 1,2** like an array and cannot be modified"
      ]
    },
    {
      "cell_type": "code",
      "metadata": {
        "id": "UmFJNb3vObuv",
        "colab_type": "code",
        "colab": {}
      },
      "source": [
        "#Tuples are lists’ immutable cousins. Pretty much anything you can do to a list that doesn’t\n",
        "#involve modifying it, you can do to a tuple. You specify a tuple by using parentheses (or\n",
        "#nothing) instead of square brackets:'''\n",
        "\n",
        "alist = [1,2,3]\n",
        "atuple = (1,2)\n",
        "a1tuple = 1,2\n",
        "print(alist)\n",
        "#list can be changed but tuple cannot be changed\n",
        "alist[2] = 4\n",
        "print(alist)\n",
        "\n",
        "try:\n",
        " a1tuple[1] = 3\n",
        "except TypeError:\n",
        " print (\"cannot modify a tuple\")"
      ],
      "execution_count": 0,
      "outputs": []
    },
    {
      "cell_type": "code",
      "metadata": {
        "id": "qeo5CgTFuZX1",
        "colab_type": "code",
        "colab": {}
      },
      "source": [
        "#Tuples are a convenient way to return multiple values from functions:\n",
        "\n",
        "def sum_and_product(x,y):\n",
        " return x+y,x*y\n",
        "\n",
        "sp = sum_and_product(5,2)   # (7,10)\n",
        "print(sp)\n",
        "s,p = sum_and_product(5,2)   # 7 10\n",
        "print(s,p)"
      ],
      "execution_count": 0,
      "outputs": []
    },
    {
      "cell_type": "markdown",
      "metadata": {
        "id": "iDqLiotoTgJD",
        "colab_type": "text"
      },
      "source": [
        "###**Dictionaries {} or dict()**  - used for mapping key item with value from Collections - like structure\n",
        "---"
      ]
    },
    {
      "cell_type": "code",
      "metadata": {
        "id": "cn3gF8c8Tlm2",
        "colab_type": "code",
        "colab": {}
      },
      "source": [
        "#Another fundamental data structure is a dictionary, which associates values with keys and\n",
        "#  allows you to quickly retrieve the value corresponding to a given key:\n",
        "\n",
        "empty_dict = {}      #pythonic\n",
        "empty_dict2 = dict() # less pythonic\n",
        "\n",
        "grades = {\"Joel\":80,\"Tim\":95}\n",
        "print(grades)\n",
        "print(\"Joel\" in grades)   # True"
      ],
      "execution_count": 0,
      "outputs": []
    },
    {
      "cell_type": "markdown",
      "metadata": {
        "id": "6Csoshee0_O4",
        "colab_type": "text"
      },
      "source": [
        "#### **add new key and value - [ ] Square brackets**"
      ]
    },
    {
      "cell_type": "code",
      "metadata": {
        "id": "WtQubQ7i1GC4",
        "colab_type": "code",
        "colab": {}
      },
      "source": [
        "grades = {\"Joel\":80,\"Tim\":95}\n",
        "\n",
        "# You assign key-value pairs using the same square brackets:\n",
        "grades[\"dushyant\"] = 90\n",
        "print(grades)               #{'Joel': 80, 'Tim': 95, 'dushyant': 90}"
      ],
      "execution_count": 0,
      "outputs": []
    },
    {
      "cell_type": "markdown",
      "metadata": {
        "id": "uC_WIgDYVYcG",
        "colab_type": "text"
      },
      "source": [
        "#### **lookup for key value - [ ]** Square brackets"
      ]
    },
    {
      "cell_type": "code",
      "metadata": {
        "id": "TYhqKecSVcl2",
        "colab_type": "code",
        "colab": {}
      },
      "source": [
        "# you can look up the value for a key using square brackets:\n",
        "grades = {\"Joel\":80,\"Tim\":95}\n",
        "print( grades[\"Joel\"])"
      ],
      "execution_count": 0,
      "outputs": []
    },
    {
      "cell_type": "markdown",
      "metadata": {
        "id": "ulcNMCYU0Sd2",
        "colab_type": "text"
      },
      "source": [
        "### **Check key existence**"
      ]
    },
    {
      "cell_type": "markdown",
      "metadata": {
        "id": "vbWo5ltjz255",
        "colab_type": "text"
      },
      "source": [
        "##### **Using try catch method & KeyError**"
      ]
    },
    {
      "cell_type": "code",
      "metadata": {
        "id": "hYaji1GfdVwm",
        "colab_type": "code",
        "colab": {}
      },
      "source": [
        "grades = {\"Joel\":80,\"Tim\":95}\n",
        "try:\n",
        "  kates_grade = grades[\"kate\"]\n",
        "except KeyError:\n",
        "  print('Kate is not a key')"
      ],
      "execution_count": 0,
      "outputs": []
    },
    {
      "cell_type": "markdown",
      "metadata": {
        "id": "4Jo__qFhVtLG",
        "colab_type": "text"
      },
      "source": [
        "#### **Using 'in' operator**\n"
      ]
    },
    {
      "cell_type": "code",
      "metadata": {
        "id": "woEWmZ1g0BKs",
        "colab_type": "code",
        "colab": {}
      },
      "source": [
        "grades = {\"Joel\":80,\"Tim\":95}\n",
        "print( \"Joel\" in grades)  #true\n",
        "print(\"Kate\" in grades)  #false"
      ],
      "execution_count": 0,
      "outputs": []
    },
    {
      "cell_type": "markdown",
      "metadata": {
        "id": "tFLOS4xh0yss",
        "colab_type": "text"
      },
      "source": [
        "#### **look up for all keys**"
      ]
    },
    {
      "cell_type": "code",
      "metadata": {
        "id": "F2oYizTmdZ5P",
        "colab_type": "code",
        "colab": {}
      },
      "source": [
        "grades = {\"Joel\":80,\"Tim\":95}\n",
        "\n",
        "#Besides looking for specific keys we can look at all of them:\n",
        "grades_keys   = grades.keys()      # key (item name)\n",
        "grades_values = grades.values()  # value of item\n",
        "grades_items  = grades.items()    # pairs of items and values \n",
        "\n",
        "print(grades.keys())   # [('Joel', 80), ('Tim', 95)] # list of tuples\n",
        "print(grades.items())  # [80, 95]      #list\n",
        "print(grades.values())    #['Joel', 'Tim']   #list"
      ],
      "execution_count": 0,
      "outputs": []
    },
    {
      "cell_type": "code",
      "metadata": {
        "id": "_QKEKxa5dh3D",
        "colab_type": "code",
        "colab": {}
      },
      "source": [
        "grades = {\"Joel\":80,\"Tim\":95}\n",
        "\n",
        "print(\"Joel\" in grades_keys)  # True, but uses a slow list in\n",
        "print(\"Joel\" in grades)                  # more Pythonic, uses faster dict in"
      ],
      "execution_count": 0,
      "outputs": []
    },
    {
      "cell_type": "markdown",
      "metadata": {
        "id": "z7Vu7qptxyY7",
        "colab_type": "text"
      },
      "source": [
        "### **defaultdict**  - creates new key if key is not found -> import them from collections: \n",
        "---\n",
        "\n"
      ]
    },
    {
      "cell_type": "markdown",
      "metadata": {
        "id": "NMxW7Fqbzc1V",
        "colab_type": "text"
      },
      "source": [
        "#### defaultdict is like a regular dictionary, except that when you try to look up a key it doesn’t contain, it first adds a value for it using a zero-argument function you provided when you created it. \n"
      ]
    },
    {
      "cell_type": "code",
      "metadata": {
        "colab_type": "code",
        "id": "m-lZvUSpzbye",
        "colab": {}
      },
      "source": [
        "#In order to use defaultdicts, you have to import them from collections:\n",
        "\n",
        "\n",
        "document = [\"the\",\"apple\",\"red\", \"the\" ,\"red\"]\n",
        "from collections import defaultdict\n",
        "\n",
        "word_counts = defaultdict(int) # int() produces 0 \n",
        "for word in document:\n",
        "  word_counts[word] += 1   # same as  word_counts[word] =   word_counts[word] + 10  \n",
        "print(word_counts)"
      ],
      "execution_count": 0,
      "outputs": []
    },
    {
      "cell_type": "markdown",
      "metadata": {
        "id": "jxomQjAtu01S",
        "colab_type": "text"
      },
      "source": [
        "#### using list or dict or own functions with defaultdict()"
      ]
    },
    {
      "cell_type": "code",
      "metadata": {
        "id": "O-3Asa-eeJC-",
        "colab_type": "code",
        "colab": {}
      },
      "source": [
        "#They can also be useful with list or dict or even your own functions:\n",
        "from collections import defaultdict\n",
        "dd_list = defaultdict(list)\n",
        "dd_list[\"dus\"].append(\"klm\")    # {'dus': ['klm'] } - dus is key and klm is added as list \n",
        "print(dd_list)\n",
        "\n",
        "dd_dict = defaultdict(dict)    # dict() produces an empty dict\n",
        "dd_dict[\"Joel\"][\"city\"] = \"Seattle\"     #defaultdict(<class 'dict'>, {'Joel': {'city': 'Seattle'}})\n",
        "print(dd_dict)"
      ],
      "execution_count": 0,
      "outputs": []
    },
    {
      "cell_type": "markdown",
      "metadata": {
        "id": "Vbanex5Kuu0O",
        "colab_type": "text"
      },
      "source": [
        "#### default values with defaultdict()"
      ]
    },
    {
      "cell_type": "code",
      "metadata": {
        "id": "BlHraWiAeN3I",
        "colab_type": "code",
        "colab": {}
      },
      "source": [
        "from collections import defaultdict\n",
        "dd_pair = defaultdict(lambda: [0,2])\n",
        "dd_pair[\"dus1\"]     = [0,0 ,1]                   # {'dus1': [0, 0, 1]}  overwriting the whole key dus1\n",
        "print(dd_pair)\n",
        "\n",
        "dd_pair[\"dus2\"][1]  = 5                   # {'dus1': [0, 0, 1], 'dus2': [0, 5]}         redefine 2nd value from 2 to 5\n",
        "print(dd_pair)"
      ],
      "execution_count": 0,
      "outputs": []
    },
    {
      "cell_type": "markdown",
      "metadata": {
        "id": "HZObER7syQY3",
        "colab_type": "text"
      },
      "source": [
        "###**Counter   -   module name - Collections**"
      ]
    },
    {
      "cell_type": "code",
      "metadata": {
        "id": "wcbOk52fKftM",
        "colab_type": "code",
        "colab": {}
      },
      "source": [
        "# A Counter turns a sequence of values into a defaultdict(int)-like object mapping keys to counts. \n",
        "# We will primarily use it to create histograms:\n",
        "\n",
        "from collections import Counter\n",
        "c = Counter([0,1,2,3,0,2,4,5,2,3])\n",
        "print(c)"
      ],
      "execution_count": 0,
      "outputs": []
    },
    {
      "cell_type": "markdown",
      "metadata": {
        "id": "vp8LBCD3VCV_",
        "colab_type": "text"
      },
      "source": [
        "#### **most_common** method"
      ]
    },
    {
      "cell_type": "code",
      "metadata": {
        "id": "Luhao-Ureo9Y",
        "colab_type": "code",
        "outputId": "02433622-3098-4467-ce64-85ba12b441ba",
        "colab": {
          "base_uri": "https://localhost:8080/",
          "height": 51
        }
      },
      "source": [
        "from collections import Counter\n",
        "document = [\"red\",\"orange\",\"red\",\"yellow\",\"black\",\"orange\",\"red\"]\n",
        "word_count = Counter(document)\n",
        "\n",
        "# A Counter instance has a most_common method that is frequently useful:\n",
        "\n",
        "for word,count in word_count.most_common(1):  # most repeating terms\n",
        "  print(word,\" is repeating \",count,\" times \")\n",
        "  print(word_count.most_common(1))"
      ],
      "execution_count": 0,
      "outputs": [
        {
          "output_type": "stream",
          "text": [
            "red  is repeating  3  times \n",
            "[('red', 3)]\n"
          ],
          "name": "stdout"
        }
      ]
    },
    {
      "cell_type": "markdown",
      "metadata": {
        "id": "EgAkGWsELSbn",
        "colab_type": "text"
      },
      "source": [
        "###**Sets**  - distinct element set -- \"in\" is a very fast operation on sets. better than list"
      ]
    },
    {
      "cell_type": "code",
      "metadata": {
        "id": "QQXR1CqxLTzQ",
        "colab_type": "code",
        "colab": {}
      },
      "source": [
        "# Another data structure is set, which represents a collection of DISTINCT elements:\n",
        "\n",
        "s = set() \n",
        "s.add(1)\n",
        "s.add(2)\n",
        "print(s)  #{1,2}"
      ],
      "execution_count": 0,
      "outputs": []
    },
    {
      "cell_type": "markdown",
      "metadata": {
        "id": "vrW82bW14Jd4",
        "colab_type": "text"
      },
      "source": [
        "### **We’ll use sets for two main reasons**\n",
        "\n"
      ]
    },
    {
      "cell_type": "markdown",
      "metadata": {
        "id": "eDNCfBXwqO38",
        "colab_type": "text"
      },
      "source": [
        "#### 1) 'in' operation is very fast in sets than list\n",
        "\n"
      ]
    },
    {
      "cell_type": "code",
      "metadata": {
        "id": "-uvBl5iuqqY8",
        "colab_type": "code",
        "colab": {}
      },
      "source": [
        "#If we have a large collection of items that we want to use for a membership test, a set is more appropriate than a list\n",
        "\n",
        "stopwords_list = [\"a\", \"an\" ,\"at\"] + [\"yet\", \"you\"]    #list \n",
        "print(stopwords_list)       #['a', 'an', 'at', 'yet', 'you']\n",
        "print(\"zip\" in stopwords_list)    #false\n",
        "\n",
        "stopwords_set = set(stopwords_list)\n",
        "print(stopwords_set)       #{'an', 'a', 'at', 'yet', 'you'}\n",
        "print(\"zip\" in stopwords_set)    #false"
      ],
      "execution_count": 0,
      "outputs": []
    },
    {
      "cell_type": "markdown",
      "metadata": {
        "id": "MvAyEDh7qarr",
        "colab_type": "text"
      },
      "source": [
        "#### 2) Distinct Elemetns in collection only - (unique)"
      ]
    },
    {
      "cell_type": "code",
      "metadata": {
        "id": "_bI73tJOqtF3",
        "colab_type": "code",
        "colab": {}
      },
      "source": [
        "item_list = [1,2,3,1,2,3]    # example of list\n",
        "print(len(item_list) ) # 6\n",
        "\n",
        "item_set = set(item_list) #{1, 2, 3}   convert list to set  \n",
        "print(item_set)  \n",
        "print(len(item_set) )  # 3\n",
        "\n",
        "distinct_item_list = list(item_set) # [1, 2, 3]  # convert set to list\n",
        "print(distinct_item_list)\n",
        "#We’ll use sets much less frequently than dicts and lists."
      ],
      "execution_count": 0,
      "outputs": []
    },
    {
      "cell_type": "markdown",
      "metadata": {
        "id": "7Km0Pk5Wq2qP",
        "colab_type": "text"
      },
      "source": [
        "#**Control Flow**"
      ]
    },
    {
      "cell_type": "markdown",
      "metadata": {
        "id": "UL5lTxsX9U0B",
        "colab_type": "text"
      },
      "source": [
        "### **If else logic**"
      ]
    },
    {
      "cell_type": "code",
      "metadata": {
        "id": "VoHvwrLI4XBG",
        "colab_type": "code",
        "colab": {}
      },
      "source": [
        "# As in most programming languages, you can perform an action conditionally using if:\n",
        "x=2\n",
        "\n",
        "if  x<2:\n",
        "  print(\" x is less than 2\")\n",
        "elif x > 2:\n",
        " print(\" x is greater than 2\")\n",
        "else:\n",
        "  print(\"x is 2\")"
      ],
      "execution_count": 0,
      "outputs": []
    },
    {
      "cell_type": "markdown",
      "metadata": {
        "id": "6QdV4wnf5a3V",
        "colab_type": "text"
      },
      "source": [
        "### if-then-else on one line , "
      ]
    },
    {
      "cell_type": "code",
      "metadata": {
        "id": "epYxT6yF5q3k",
        "colab_type": "code",
        "colab": {}
      },
      "source": [
        "parity =\"even\" if x % 2 == 0 else \"odd\"\n",
        "print(\"x value is \",x, \"which is \",parity)"
      ],
      "execution_count": 0,
      "outputs": []
    },
    {
      "cell_type": "markdown",
      "metadata": {
        "id": "pXKjBllQ75_5",
        "colab_type": "text"
      },
      "source": [
        "###**while Loop**"
      ]
    },
    {
      "cell_type": "code",
      "metadata": {
        "id": "xF0dN6oM9ZFX",
        "colab_type": "code",
        "colab": {}
      },
      "source": [
        "x=1\n",
        "while x<10:\n",
        "  print(x)\n",
        "  x += 1"
      ],
      "execution_count": 0,
      "outputs": []
    },
    {
      "cell_type": "markdown",
      "metadata": {
        "id": "nIUswtJd9lsw",
        "colab_type": "text"
      },
      "source": [
        "### **using 'for' and 'in'**"
      ]
    },
    {
      "cell_type": "code",
      "metadata": {
        "id": "V6sEppBw9u__",
        "colab_type": "code",
        "colab": {}
      },
      "source": [
        "for x in range(10):\n",
        " print(x,\"is less than 10\")"
      ],
      "execution_count": 0,
      "outputs": []
    },
    {
      "cell_type": "markdown",
      "metadata": {
        "id": "VSeGJWy-92d5",
        "colab_type": "text"
      },
      "source": [
        "### **continue and break**"
      ]
    },
    {
      "cell_type": "code",
      "metadata": {
        "id": "cbPq6Dou-eFY",
        "colab_type": "code",
        "colab": {}
      },
      "source": [
        "for x in range(10):\n",
        " if x == 3:\n",
        "    continue   # go to next iteration\n",
        " if x== 6:\n",
        "  break\n",
        " print(x)"
      ],
      "execution_count": 0,
      "outputs": []
    },
    {
      "cell_type": "markdown",
      "metadata": {
        "id": "TJ05sfy_-vrh",
        "colab_type": "text"
      },
      "source": [
        "# **Truthiness**"
      ]
    },
    {
      "cell_type": "code",
      "metadata": {
        "id": "OHOPrhMa-5Jp",
        "colab_type": "code",
        "colab": {}
      },
      "source": [
        "# Booleans in Python work as in most other languages, except that they’re capitalized:\n",
        "check_condition = 1>2    #false\n",
        "print(check_condition)\n"
      ],
      "execution_count": 0,
      "outputs": []
    },
    {
      "cell_type": "code",
      "metadata": {
        "id": "K0WdUxJO_cXS",
        "colab_type": "code",
        "colab": {}
      },
      "source": [
        "#Python uses the value none to indicae a non existent value. It is similar to other languages - null :\n",
        "x = None\n",
        "print(x)   #None\n",
        "print(x==5)   #false\n",
        "print(x == None)  # true prints true but is not pythonic\n",
        "print(x is None)   # true prints true and is Pythonic"
      ],
      "execution_count": 0,
      "outputs": []
    },
    {
      "cell_type": "code",
      "metadata": {
        "id": "7djczIIN_pZC",
        "colab_type": "code",
        "colab": {}
      },
      "source": [
        "\"\"\"\n",
        "Python lets you use any value where it expects a boolean. The folowing are all 'Falsy'\n",
        "False\n",
        "None\n",
        "[] (an empty list)\n",
        "{} (an empty dict)\n",
        "\"\"  (an empty strig)\n",
        "set()  (empty set)\n",
        "0\n",
        "0.0  \n",
        "\"\"\""
      ],
      "execution_count": 0,
      "outputs": []
    },
    {
      "cell_type": "markdown",
      "metadata": {
        "id": "eE7xmUqb3yOy",
        "colab_type": "text"
      },
      "source": [
        "#### check truthiness in empty string"
      ]
    },
    {
      "cell_type": "code",
      "metadata": {
        "colab_type": "code",
        "id": "ky2fdW_kR7fq",
        "colab": {}
      },
      "source": [
        "s = \"\"\n",
        "if s:\n",
        "  print(\"not empty\")\n",
        "else:\n",
        "  print(\"string is empty\")"
      ],
      "execution_count": 0,
      "outputs": []
    },
    {
      "cell_type": "markdown",
      "metadata": {
        "id": "RDdFZ8xXR785",
        "colab_type": "text"
      },
      "source": [
        "#### Simpler way of doing above"
      ]
    },
    {
      "cell_type": "code",
      "metadata": {
        "id": "5ee6Cena3-w5",
        "colab_type": "code",
        "colab": {}
      },
      "source": [
        "s = \"AAdsf\"\n",
        "first_char = s and s[0]\n",
        "print(first_char)\n",
        "#since and returns its second value when the first is “truthy,” \n",
        "#the first value when it’s not.\n",
        "#Similarly, if x is either a number or possibly None:\n",
        "  \n",
        "x=None  \n",
        "y=5\n",
        "safe_x = x or 10  \n",
        "safe_y = y or 20\n",
        "print(safe_x)   # 10\n",
        "print(safe_y)   # 5"
      ],
      "execution_count": 0,
      "outputs": []
    },
    {
      "cell_type": "markdown",
      "metadata": {
        "id": "vHYdwUgY4qbH",
        "colab_type": "text"
      },
      "source": [
        "### **all any** function"
      ]
    },
    {
      "cell_type": "code",
      "metadata": {
        "id": "GIR3O4e55UIq",
        "colab_type": "code",
        "colab": {}
      },
      "source": [
        "#takes list input and returns true if all element are truth\n",
        "xx = [True , 1 ,{3}]     #true\n",
        "yy = [True,0,{3}]        #false\n",
        "print(all(xx))  #true\n",
        "print(all(yy))  #false\n",
        "\n",
        "print(any(xx))  #true\n",
        "print(any(yy))  #true\n",
        "print(any([])) #false"
      ],
      "execution_count": 0,
      "outputs": []
    },
    {
      "cell_type": "markdown",
      "metadata": {
        "id": "2vQW-uB_6wBc",
        "colab_type": "text"
      },
      "source": [
        "## **The Not - So - Basics**"
      ]
    },
    {
      "cell_type": "markdown",
      "metadata": {
        "id": "A_-d8TEB6zys",
        "colab_type": "text"
      },
      "source": [
        "## **Sorting - sorted(x) or x.sort()**"
      ]
    },
    {
      "cell_type": "code",
      "metadata": {
        "id": "ZfaqD8_H68X0",
        "colab_type": "code",
        "colab": {}
      },
      "source": [
        "x = [4,1,2,3]\n",
        "print(x)\n",
        "y = sorted(x)    # y is new list with sorted order of x\n",
        "print(y)\n",
        "x.sort()  # x is sorted now\n",
        "print(x)"
      ],
      "execution_count": 0,
      "outputs": []
    },
    {
      "cell_type": "markdown",
      "metadata": {
        "id": "jaPqguKd8uoS",
        "colab_type": "text"
      },
      "source": [
        "#### Sorting in reverse order with another function"
      ]
    },
    {
      "cell_type": "code",
      "metadata": {
        "id": "qDmw4FIXQeo6",
        "colab_type": "code",
        "colab": {}
      },
      "source": [
        "x = sorted([4,7,2,5,3,8,1],reverse=True)\n",
        "print(x)    # [8, 7, 5, 4, 3, 2, 1]"
      ],
      "execution_count": 0,
      "outputs": []
    },
    {
      "cell_type": "markdown",
      "metadata": {
        "id": "KNJk6JFgQlIU",
        "colab_type": "text"
      },
      "source": [
        "#### Sorting in reverse order with another function"
      ]
    },
    {
      "cell_type": "code",
      "metadata": {
        "id": "Vm4DqHl480Eb",
        "colab_type": "code",
        "colab": {}
      },
      "source": [
        "# sort the list based on abs value from largest to smallest \n",
        "x = sorted([1,-4,5,-3],key =abs, reverse=True)\n",
        "print(x)   #[5, -4, -3, 1]\n",
        "\n",
        "\n",
        "from collections import Counter\n",
        "document = [\"red\",\"orange\",\"red\",\"yellow\",\"black\",\"orange\",\"red\"]\n",
        "word_count = Counter(document)\n",
        "print(word_count.items())\n",
        "\n",
        "# sort the words and counts from highest count to lowest\n",
        "wc = sorted(word_count.items(), key=lambda word: word[0], reverse = True)\n",
        "print(wc) # [('yellow', 1), ('red', 3), ('orange', 2), ('black', 1)] sort based on color name\n",
        "\n",
        "wc = sorted(word_count.items(), key=lambda word: word[1], reverse = True)\n",
        "print(wc) # [('red', 3), ('orange', 2), ('yellow', 1), ('black', 1)] sort based on count"
      ],
      "execution_count": 0,
      "outputs": []
    },
    {
      "cell_type": "markdown",
      "metadata": {
        "id": "ayr8xe4OQXHc",
        "colab_type": "text"
      },
      "source": [
        "## **List Comprehensions**"
      ]
    },
    {
      "cell_type": "code",
      "metadata": {
        "id": "zrM0sv4iVQyp",
        "colab_type": "code",
        "colab": {}
      },
      "source": [
        "# Frequently you'll want to transform the list into another list by choosing only certain elements \n",
        "#or by transforming elements, or both. \n",
        "# The pythonic way of doing this is List Comprehensions\n",
        "\n",
        "even_numbers = [x for x in range(10) if x%2==0]\n",
        "print(even_numbers) # [0, 2, 4, 6, 8]\n",
        "\n",
        "squares = [x*x for x in range(10)]\n",
        "print(squares) # [0, 1, 4, 9, 16, 25, 36, 49, 64, 81]\n",
        "\n",
        "even_squares = [x*x for x in even_numbers]\n",
        "print(even_squares) #[0, 4, 16, 36, 64]\n",
        "\n",
        "even_squares = [x*x for x in [y for y in range(10) if y%2==0]] # merge two list comprehensions\n",
        "print(even_squares) #[0, 4, 16, 36, 64]"
      ],
      "execution_count": 0,
      "outputs": []
    },
    {
      "cell_type": "markdown",
      "metadata": {
        "id": "K1UIVOWXXOOR",
        "colab_type": "text"
      },
      "source": [
        "#### **List to Dictionaries or Sets**"
      ]
    },
    {
      "cell_type": "code",
      "metadata": {
        "id": "vM_ns1MPYJQ4",
        "colab_type": "code",
        "colab": {}
      },
      "source": [
        "square_dict = {x :x*x for x in range(10)}\n",
        "print(square_dict) # {0: 0, 1: 1, 2: 4, 3: 9, 4: 16, 5: 25, 6: 36, 7: 49, 8: 64, 9: 81}\n",
        "\n",
        "square_set = { x*x for x in range (10)}\n",
        "print(square_set)  # {0, 1, 64, 4, 36, 9, 16, 49, 81, 25}"
      ],
      "execution_count": 0,
      "outputs": []
    },
    {
      "cell_type": "markdown",
      "metadata": {
        "id": "rW6aAVT5YRrU",
        "colab_type": "text"
      },
      "source": [
        "#### **Use underscore _** if you dont want to use value from the list "
      ]
    },
    {
      "cell_type": "code",
      "metadata": {
        "id": "ukP5AhLZY7Hh",
        "colab_type": "code",
        "colab": {}
      },
      "source": [
        "zeroes = [0 for _ in range(10)]\n",
        "print(zeroes)   # [0, 0, 0, 0, 0, 0, 0, 0, 0, 0]"
      ],
      "execution_count": 0,
      "outputs": []
    },
    {
      "cell_type": "markdown",
      "metadata": {
        "id": "YJgg1lYgZC3D",
        "colab_type": "text"
      },
      "source": [
        "#### **Multiple fors - nested fors**"
      ]
    },
    {
      "cell_type": "code",
      "metadata": {
        "id": "wk-vZRo3jUaN",
        "colab_type": "code",
        "colab": {}
      },
      "source": [
        "# A list coprehension can have multiple fors \n",
        "\n",
        "pairs = [(x,y) for x in range(5)  for y in range(5)]\n",
        "print(pairs)  # 25 pairs [(0, 0), (0, 1), (0, 2), (0, 3), (0, 4), (1, 0), (1, 1), (1, 2), (1, 3), (1, 4), (2, 0)....\n",
        "\n",
        "# later FORS can use results of earlier ones:- \n",
        "increasing_pairs = [(x,y) for x in range(5)  for y in range(x+1,5)]\n",
        "print(increasing_pairs)  # 25 pairs [(0, 0), (0, 1), (0, 2), (0, 3), (0, 4), (1, 0), (1, 1), (1, 2), (1, 3), (1, 4), (2, 0)....\n"
      ],
      "execution_count": 0,
      "outputs": []
    },
    {
      "cell_type": "markdown",
      "metadata": {
        "id": "N4O0TfHGjiZ1",
        "colab_type": "text"
      },
      "source": [
        "## **Generators and Iterators**"
      ]
    },
    {
      "cell_type": "code",
      "metadata": {
        "id": "dZlFdFCDNSYM",
        "colab_type": "code",
        "colab": {}
      },
      "source": [
        "\"\"\"Lists can easily grow very big . range(1000000) creates and actual list of 1 million elements\n",
        "if you want to deal with only one at a time it can be a great inefficiency (or runnin gout of menory )\n",
        "\n",
        "A generator is something that you can iterate over (for us, usuall yusing for) but whose values \n",
        "are produced only as needed (lazily) \"\"\"\n",
        "\n",
        "def lazy_range(n):\n",
        "  \"\"\" a lazy version of range\"\"\"\n",
        "  i = 0\n",
        "  while i < n:\n",
        "    yield i\n",
        "    i +=1\n",
        "\n",
        "# The following loop will consume the yielded values one at a time until none are left:\n",
        "for i in lazy_range(10):\n",
        "  print(i) # 0 1 2 3 4 5 6 7 8 9 \n",
        "\n",
        "a = lazy_range(5)\n",
        "print(a)    # <generator object lazy_range at 0x7fe9eb525fc0>"
      ],
      "execution_count": 0,
      "outputs": []
    },
    {
      "cell_type": "markdown",
      "metadata": {
        "id": "E-l6qy1TRS0u",
        "colab_type": "text"
      },
      "source": [
        "#### **xrange** ( lazy_range function in python)"
      ]
    },
    {
      "cell_type": "code",
      "metadata": {
        "id": "gbxbeoXtSZsZ",
        "colab_type": "code",
        "colab": {}
      },
      "source": [
        "# python actually comes with a lazy_range function called xrange. \n",
        "# In python 3 , range is itself lazy. This means you can create an infinite sequence\n",
        "\n",
        "def natural_numbers():\n",
        "  n = 1\n",
        "  while True:\n",
        "    yield n\n",
        "    n += 1\n",
        "\n",
        "# Although you should not iterate over it without using some kind of break logic\n",
        "b = natural_numbers()\n",
        "print(b)    # <generator object natural_numbers at 0x7fe9eab07f68>"
      ],
      "execution_count": 0,
      "outputs": []
    },
    {
      "cell_type": "code",
      "metadata": {
        "id": "yviAzrfUS-h2",
        "colab_type": "code",
        "colab": {}
      },
      "source": [
        "#  Tip\n",
        "# The flip side of laziness is that you can only iterate through a genrator once.\n",
        "# If you need to iterate through something multiple times, you'll need to\n",
        "# either recreate the generator each time or use a list"
      ],
      "execution_count": 0,
      "outputs": []
    },
    {
      "cell_type": "code",
      "metadata": {
        "id": "DpCu5WTeT7Md",
        "colab_type": "code",
        "colab": {}
      },
      "source": [
        "#  A second way tp create generators is by using for comprehensions wrapped in PARENTHESES :\n",
        "lazy_evens_below_20    = (i for i in lazy_range(20) if i%2==0)\n",
        "evens_below_20         = [i for i in lazy_range(20) if i%2==0]\n",
        "\n",
        "print(lazy_evens_below_20)  # <generator object <genexpr> at 0x7fe9eabdaf68>\n",
        "print(evens_below_20)        # [0, 2, 4, 6, 8, 10, 12, 14, 16, 18]"
      ],
      "execution_count": 0,
      "outputs": []
    },
    {
      "cell_type": "code",
      "metadata": {
        "id": "ONif2ko6UX8k",
        "colab_type": "code",
        "colab": {}
      },
      "source": [
        "\"\"\"Recall also that every dict has an items() method that returns a list of its key-value pairs.\n",
        "More frequently we’ll use the iteritems() method, which lazily yields the key-value\n",
        "pairs one at a time as we iterate over it.\"\"\"\n",
        "\n",
        "grades = {'Joel':80,'Dushyant':95,'Tom':98}\n",
        "print(grades.items())\n",
        "# d = grades.iteritems()  #doesnot work with python 3 .use dict.items() only\n"
      ],
      "execution_count": 0,
      "outputs": []
    },
    {
      "cell_type": "markdown",
      "metadata": {
        "id": "KCFG715nZKez",
        "colab_type": "text"
      },
      "source": [
        "### **Randomness**"
      ]
    },
    {
      "cell_type": "markdown",
      "metadata": {
        "id": "-oulMA_3aXIq",
        "colab_type": "text"
      },
      "source": [
        "### **random.random()**\n"
      ]
    },
    {
      "cell_type": "code",
      "metadata": {
        "id": "WKkzTvjXb9l4",
        "colab_type": "code",
        "colab": {}
      },
      "source": [
        "# As we learn data science, we will frequently need to generate random numbers, which we\n",
        "# can do with the random module:\n",
        "import random\n",
        "print(random.random()) # 0.5887234480115902\n",
        "\n",
        "four_uniform_randoms = [random.random() for _ in range(4)]\n",
        "print(four_uniform_randoms) # [0.696014280925932, 0.4382604724163701, 0.89926368895905, 0.7628508664838336]"
      ],
      "execution_count": 0,
      "outputs": []
    },
    {
      "cell_type": "markdown",
      "metadata": {
        "colab_type": "text",
        "id": "SqqBmBadcEU3"
      },
      "source": [
        "### **random.seed()**"
      ]
    },
    {
      "cell_type": "code",
      "metadata": {
        "id": "KuG-X2_pabOq",
        "colab_type": "code",
        "colab": {}
      },
      "source": [
        "\"\"\"The random module actually produces pseudorandom (that is, deterministic) numbers\n",
        "based on an internal state that you can set with random.seed if you want to get\n",
        "reproducible results:\"\"\"\n",
        "\n",
        "import random\n",
        "random.seed(10)\n",
        "print(random.random())   # 0.5714025946899135 always for seed 10\n"
      ],
      "execution_count": 0,
      "outputs": []
    },
    {
      "cell_type": "markdown",
      "metadata": {
        "id": "WWbfogtqbmM5",
        "colab_type": "text"
      },
      "source": [
        "### **random.randrange()**"
      ]
    },
    {
      "cell_type": "code",
      "metadata": {
        "id": "iGPFE89Qc31N",
        "colab_type": "code",
        "colab": {}
      },
      "source": [
        "import random\n",
        "print(random.randrange(10)) #  choose randomly from range(10) = [0, 1, ..., 9]\n",
        "print(random.randrange(3,6)) #  choose randomly from range(3, 6) = [3, 4, 5]"
      ],
      "execution_count": 0,
      "outputs": []
    },
    {
      "cell_type": "markdown",
      "metadata": {
        "id": "eTcX3jyXc-AC",
        "colab_type": "text"
      },
      "source": [
        "### **random.shuffle()**"
      ]
    },
    {
      "cell_type": "code",
      "metadata": {
        "id": "m2o9NgoedSIj",
        "colab_type": "code",
        "colab": {}
      },
      "source": [
        "random.shuffle\n",
        "# randomly reorders the elements of a list:\n",
        "up_to_tens = range(10)\n",
        "print(up_to_tens) # range(0, 10)\n",
        "\n",
        "# random.shuffle(up_to_tens)   # error as range is lazy_range and it does not support item assignemnt\n",
        "\n",
        "# convert to list before using random shuffle\n",
        "up_to_tens = [x for x in range(10)]   # range to list\n",
        "print(up_to_tens)      # [0, 1, 2, 3, 4, 5, 6, 7, 8, 9]\n",
        "\n",
        "random.shuffle(up_to_tens) \n",
        "print(up_to_tens)     # [3, 6, 0, 8, 2, 5, 1, 7, 9, 4]"
      ],
      "execution_count": 0,
      "outputs": []
    },
    {
      "cell_type": "markdown",
      "metadata": {
        "id": "_NosnSurdYuE",
        "colab_type": "text"
      },
      "source": [
        "### **random.choice()**"
      ]
    },
    {
      "cell_type": "code",
      "metadata": {
        "id": "axSsfRPgfHmx",
        "colab_type": "code",
        "colab": {}
      },
      "source": [
        "# to randomly choose a sample of elements without replacement (i.e., with\n",
        "# no DUPLICATES), you can use random.sample:\n",
        "\n",
        "lottery_number = range(60)\n",
        "winning_numbers = random.sample(lottery_number,4) # [39, 24, 2, 37] picked 4 samples from lottery_number\n",
        "print(winning_numbers)\n",
        "\n",
        "# To choose a sample of elements with replacement (i.e., allowing duplicates), you can just\n",
        "# make multiple calls to random.choice:\n",
        "\n",
        "four_with_replacement = [random.choice(lottery_number) for _ in range(4)]\n",
        "print(four_with_replacement)  #[38, 42, 4, 34]\n",
        "\n",
        "four_with_replacement = [random.sample(lottery_number,1) for _ in range(4)]\n",
        "print(four_with_replacement)   # [[59], [54], [5], [9]]\n"
      ],
      "execution_count": 0,
      "outputs": []
    },
    {
      "cell_type": "markdown",
      "metadata": {
        "id": "9q39Ygh5fUl9",
        "colab_type": "text"
      },
      "source": [
        "## **Regular Experessions -  re**"
      ]
    },
    {
      "cell_type": "code",
      "metadata": {
        "id": "pbOwOQAPggA3",
        "colab_type": "code",
        "colab": {}
      },
      "source": [
        " \"\"\"Regular expressions provide a way of searching text. They are incredibly useful but also\n",
        "fairly complicated, so much so that there are entire books written about them. We will\n",
        "explain their details the few times we encounter them; here are a few examples of how to\n",
        "use them in Python: \"\"\"\n",
        "\n",
        "import re"
      ],
      "execution_count": 0,
      "outputs": []
    },
    {
      "cell_type": "markdown",
      "metadata": {
        "id": "BRe_4yXw_-eO",
        "colab_type": "text"
      },
      "source": [
        "#### **re.match** - compare and match 2 strings from start"
      ]
    },
    {
      "cell_type": "code",
      "metadata": {
        "id": "zfR0jbhcAIm_",
        "colab_type": "code",
        "colab": {}
      },
      "source": [
        "import re\n",
        "print(re.match(\"a\",\"cat\"))  # none\n",
        "print(re.match(\"a\",\"abcat\")) # <_sre.SRE_Match object; span=(0, 1), match='a'>\n",
        "print(re.match(\"abc\",\"abcat\")) #<_sre.SRE_Match object; span=(0, 3), match='abc'>\n"
      ],
      "execution_count": 0,
      "outputs": []
    },
    {
      "cell_type": "markdown",
      "metadata": {
        "id": "E_6FK9AIAMgS",
        "colab_type": "text"
      },
      "source": [
        "#### **re.search** - search for a pattern in whole string"
      ]
    },
    {
      "cell_type": "code",
      "metadata": {
        "id": "8qNXpoEwAlrq",
        "colab_type": "code",
        "colab": {}
      },
      "source": [
        "import re\n",
        "print(re.search(\"c\",\"dog\")) # none\n",
        "print(re.search(\"app\",\"apple\")) #<_sre.SRE_Match object; span=(0, 3), match='app'>\n",
        "print(re.search(\"app\",\"cap\")) # None\n",
        "print(re.search(\"app\",\"capple\")) #<_sre.SRE_Match object; span=(1, 4), match='app'>\n"
      ],
      "execution_count": 0,
      "outputs": []
    },
    {
      "cell_type": "markdown",
      "metadata": {
        "id": "gnsYb-nmAqxc",
        "colab_type": "text"
      },
      "source": [
        "#### **re.split** - split the strings as per instruction"
      ]
    },
    {
      "cell_type": "code",
      "metadata": {
        "id": "4f7TzOljBFQv",
        "colab_type": "code",
        "colab": {}
      },
      "source": [
        "# re.split splits word whenever find input pattern\n",
        "#  [] means all treat for any single character\n",
        "\n",
        "import re\n",
        "print(re.split(\"[ab]\",\"carboarbed\"))  # ['c', 'r', 'o', 'r', 'ed'] splits @ a and b\n",
        "print(re.split(\"ab\",\"carboarbed\"))    # ['carboarbed']\n",
        "print(re.split(\"ab\",\"cabby\"))       # ['c', 'by']\n",
        "print(re.split(\"[ab23]\",\"carbo3arbed\"))  # ['c', 'r', 'o', '', 'r', 'ed']\n",
        "print(re.split(\"ab[23]\",\"cab2xyzab3xyz\"))  # ['c', 'xyz', 'xyz']\n"
      ],
      "execution_count": 0,
      "outputs": []
    },
    {
      "cell_type": "markdown",
      "metadata": {
        "id": "pHqYPyzFBWIx",
        "colab_type": "text"
      },
      "source": [
        "#### **re.sub** - replace or substitute "
      ]
    },
    {
      "cell_type": "code",
      "metadata": {
        "id": "Q9aHO2xfDDWg",
        "colab_type": "code",
        "colab": {}
      },
      "source": [
        "import re\n",
        "print(re.sub(\"[0-9]\",\"-\",\"a1p1p3l5e7\")) # a-p-p-l-e- replace numbers with -"
      ],
      "execution_count": 0,
      "outputs": []
    },
    {
      "cell_type": "markdown",
      "metadata": {
        "id": "S91V2eJ7Pgyt",
        "colab_type": "text"
      },
      "source": [
        "## **Object Oriented Programming**"
      ]
    },
    {
      "cell_type": "code",
      "metadata": {
        "id": "qBa6trLnP37o",
        "colab_type": "code",
        "colab": {}
      },
      "source": [
        "\"\"\"Like many languages, Python allows you to define classes that encapsulate data and the\n",
        "functions that operate on them. We’ll use them sometimes to make our code cleaner and\n",
        "simpler \"\"\"\n",
        "\n",
        "# example to create class set like in python \n",
        "\n",
        "class Set: # by convention we give classes PascalCase names\n",
        "\n",
        "# these are member functions\n",
        "# everyone takes a first parameter \"self\" (another convention)\n",
        "# that refers to the particular set object being used\n",
        "\n",
        " def __init__(self,values=None):  # it is 2 underscores\n",
        "     \"\"\"This is the constructor . It ges called when you create a new set.\n",
        "     #  you would use it like \n",
        "     s1 = Set()    # empty set\n",
        "     s2 = Set([1,2,3,4,5]) # initialize with values \"\"\"\n",
        "\n",
        "     self.dict = {} #each  instance of set has its own dict property which \n",
        "                     #is what we'll use to track memberships\n",
        "     if values is not None:\n",
        "      for value in values:\n",
        "       self.add(value)\n",
        "\n",
        " def __repr__(self):    # it is 2 underscores\n",
        "     \"\"\" This is the string representation of a set object \n",
        "     if you type it at hr Python prompt or pass it to str()\"\"\"\n",
        "     return \"Set made by DK: \" + str(self.dict.keys())\n",
        "\n",
        "# we'll represent membership by being a key in self.dict with value True\n",
        " def add(self,value):\n",
        "    self.dict[value] = True\n",
        "\n",
        "# value is in the Set if it's a key in the dictionary\n",
        " def contains(self, value):\n",
        "   return value in self.dict\n",
        "\n",
        " def remove(self,value):\n",
        "     del self.dict[value]\n",
        "\n",
        "\n",
        "a = Set([1,2,3,4])\n",
        "print(a)\n",
        "\n",
        "print(a.contains(3))  # True\n",
        "a.add(5)\n",
        "print(a.contains(5))  # True\n",
        "print(a)\n",
        "print(a.remove(5))   #  delete 5 from the entry\n",
        "print(a)\n",
        "print(a.contains(5))   # false"
      ],
      "execution_count": 0,
      "outputs": []
    },
    {
      "cell_type": "code",
      "metadata": {
        "id": "bBUQwBDGS8vb",
        "colab_type": "code",
        "colab": {}
      },
      "source": [
        "class Struct:\n",
        "\n",
        "  def __init__(self,values=None):\n",
        "   self.dict = {}\n",
        "\n",
        "   if values is not None:\n",
        "    for value in values:\n",
        "     self.addfield(value)    # call the below add function and assign true as dict values\n",
        "  \n",
        "  def __repr__(self):\n",
        "\n",
        "   if self.dict:   # Check if struct is empty or not by checking dictionary\n",
        "     return \"Structure with fields : \" + str(self.dict.keys())\n",
        "   else:\n",
        "     return \"Structure with no fields\"\n",
        "     \n",
        "  def addfield(self,value):\n",
        "   self.dict[value] = True\n",
        " \n",
        "  def contains(self,value):\n",
        "   return value in self.dict\n",
        "\n",
        "  def remove(self,value):\n",
        "   del self.dict[value]\n",
        "\n",
        "a = Struct([1,2,3,4])\n",
        "print(a)\n",
        "print(a.contains(2)) # True\n",
        "print(Struct())   # Structure with no fields"
      ],
      "execution_count": 0,
      "outputs": []
    },
    {
      "cell_type": "markdown",
      "metadata": {
        "id": "JK_MLRpJ09R5",
        "colab_type": "text"
      },
      "source": [
        "## **Function Tools**"
      ]
    },
    {
      "cell_type": "code",
      "metadata": {
        "id": "raKC1F5dikWL",
        "colab_type": "code",
        "colab": {}
      },
      "source": [
        "def exp(base,power):\n",
        "  return base** power\n",
        "\n",
        "def two_to_the_power(power):\n",
        "  return exp(2,power)\n",
        "\n",
        "print(two_to_the_power(3)) # 8"
      ],
      "execution_count": 0,
      "outputs": []
    },
    {
      "cell_type": "markdown",
      "metadata": {
        "id": "CMcDBmsyi8Lo",
        "colab_type": "text"
      },
      "source": [
        "## **partial** from module **functools**\n",
        "\n"
      ]
    },
    {
      "cell_type": "code",
      "metadata": {
        "id": "LoPl-FpjjDuO",
        "colab_type": "code",
        "colab": {}
      },
      "source": [
        "def exp(base,power):\n",
        "  return base** power\n",
        "\n",
        "from functools import partial\n",
        "two_to_the_power_new = partial(exp,2)\n",
        "\n",
        "print(two_to_the_power_new(3))  #8\n",
        "\n",
        "# You can also use partial to fill in later arguments if you specify their names :-\n",
        "\n",
        "sqaure_of = partial(exp, power=2)\n",
        "print(sqaure_of(5))   # power is by default 2 not base\n"
      ],
      "execution_count": 0,
      "outputs": []
    },
    {
      "cell_type": "markdown",
      "metadata": {
        "id": "SbIM-mEMvxpE",
        "colab_type": "text"
      },
      "source": [
        "## **map, reduce and filter** - provide functional alternatives to list comprehensions:"
      ]
    },
    {
      "cell_type": "code",
      "metadata": {
        "id": "PqWgV4Qmv3TQ",
        "colab_type": "code",
        "outputId": "50e1be11-661d-4849-9e64-35340a5c2ac6",
        "colab": {
          "base_uri": "https://localhost:8080/",
          "height": 85
        }
      },
      "source": [
        "#  use ocassionally map, reduce, and filter, which provide functional alternatives to list comprehensions:\n",
        "def double(x):\n",
        "  return x*2\n",
        "\n",
        "xs = [1 ,2, 3, 4]\n",
        "twice_xs = [double(x) for x in xs]   # using list comprehension\n",
        "print(twice_xs)    # [2,4,6,8]\n",
        "\n",
        "twice_xs = map(double,xs)            # using MAP\n",
        "print(twice_xs)    #<map object at 0x7fb0d27acac8>\n",
        "\n",
        "from functools import partial\n",
        "list_doubler = partial(map,double)\n",
        "print(list_doubler)\n",
        "\n",
        "# you can give multiple input argument to map \n",
        "def multiply(x,y): return x*y\n",
        "products = map(multiply,[1,4],[3,7])\n",
        "print(products)\n"
      ],
      "execution_count": 0,
      "outputs": [
        {
          "output_type": "stream",
          "text": [
            "[2, 4, 6, 8]\n",
            "<map object at 0x7f90838b9ef0>\n",
            "functools.partial(<class 'map'>, <function double at 0x7f90837b5c80>)\n",
            "<map object at 0x7f90838b9160>\n"
          ],
          "name": "stdout"
        }
      ]
    },
    {
      "cell_type": "markdown",
      "metadata": {
        "id": "bZEyJl2l00U8",
        "colab_type": "text"
      },
      "source": [
        "## FIlter"
      ]
    },
    {
      "cell_type": "code",
      "metadata": {
        "id": "hrPPN0HF02Qa",
        "colab_type": "code",
        "colab": {}
      },
      "source": [
        "\n",
        "# Similarly, filter does the work of a list-comprehension if:\n",
        "\n",
        "\n",
        "def is_even(x):\n",
        "  # True if x is even else false\n",
        "  return x%2 ==0\n",
        "xs = [1 ,2, 3, 4]\n",
        "\n",
        "x_evens = [x for x in xs if is_even(x)]\n",
        "print(x_evens)     # [2,4 ]\n",
        "\n",
        "print( filter(is_even, xs) )    # <filter object at 0x7f90838af0f0>  [2, 4 ]\n",
        "\n",
        "list_evener = partial(filter,is_even)    # function that filters a list\n",
        "x_evens = list_evener(xs)\n",
        "print(x_evens)    # <filter object at 0x7f908374f978>"
      ],
      "execution_count": 0,
      "outputs": []
    },
    {
      "cell_type": "markdown",
      "metadata": {
        "id": "Pgg4aED32Ky1",
        "colab_type": "text"
      },
      "source": [
        "## reduce"
      ]
    },
    {
      "cell_type": "code",
      "metadata": {
        "id": "ugeroYLC2M6z",
        "colab_type": "code",
        "outputId": "41cd2d50-1486-442f-fc57-62b22c44c9ab",
        "colab": {
          "base_uri": "https://localhost:8080/",
          "height": 51
        }
      },
      "source": [
        "# And reduce combines the first two elements of a list, then that result with the third, that\n",
        "# result with the fourth, and so on, producing a single result:\n",
        "\n",
        "xs = [1 ,2, 3, 4]\n",
        "\n",
        "def multiply(x,y) :\n",
        "  return x*y\n",
        "\n",
        "from functools import reduce\n",
        "x_product  = reduce(multiply,xs)\n",
        "print(x_product)   # 1 *2 *3 * 4 = 24 \n",
        "\n",
        "x_product = partial(reduce, multiply)\n",
        "print( x_product(xs))   # 24"
      ],
      "execution_count": 0,
      "outputs": [
        {
          "output_type": "stream",
          "text": [
            "24\n",
            "24\n"
          ],
          "name": "stdout"
        }
      ]
    },
    {
      "cell_type": "markdown",
      "metadata": {
        "id": "nTiXoiNf3qDt",
        "colab_type": "text"
      },
      "source": [
        "## **enumerate** -  iterate over a list and use both its elements and their indexes:"
      ]
    },
    {
      "cell_type": "code",
      "metadata": {
        "id": "46awe9fi326X",
        "colab_type": "code",
        "colab": {}
      },
      "source": [
        "# multiply indices with elements \n",
        "\n",
        "xs = [2,6,3,4,1]\n",
        "print(xs)\n",
        "\n",
        "y = xs # PS:- y = xs links variable y to xs means if y changes xs also changes\n",
        "print(y)\n",
        "\n",
        "for i in range(len(xs)):\n",
        "#  y[i] = xs[i] * i\n",
        " y[i] = i * i\n",
        "\n",
        "print(y)\n",
        "print(xs)\n",
        "\n",
        "y[2] = 40\n",
        "print(y)\n",
        "print(xs)"
      ],
      "execution_count": 0,
      "outputs": []
    },
    {
      "cell_type": "code",
      "metadata": {
        "id": "uUsRNBga7Rw4",
        "colab_type": "code",
        "outputId": "8383f566-bf70-443d-cbb9-bea035656002",
        "colab": {
          "base_uri": "https://localhost:8080/",
          "height": 68
        }
      },
      "source": [
        "# pythonic solution is enumerate which produces tuples(indeex, element):\n",
        "xs = [2,6,3,4,1]\n",
        "yy = [x for x in  range(len(xs))]\n",
        "\n",
        "for i, xi in enumerate(xs):\n",
        " yy[i] = xi * i\n",
        "\n",
        "print(yy) #[0, 6, 6, 12, 4]\n",
        "print(xs) # [2, 6, 3, 4, 1]\n",
        "\n",
        "# if you just want indices then\n",
        "for i,_ in enumerate(xs):\n",
        "  yy[i] = i\n",
        "print(yy) #[0, 1, 2, 3, 4]\n"
      ],
      "execution_count": 0,
      "outputs": [
        {
          "output_type": "stream",
          "text": [
            "[0, 6, 6, 12, 4]\n",
            "[2, 6, 3, 4, 1]\n",
            "[0, 1, 2, 3, 4]\n"
          ],
          "name": "stdout"
        }
      ]
    },
    {
      "cell_type": "markdown",
      "metadata": {
        "id": "_fRNYj79KCy5",
        "colab_type": "text"
      },
      "source": [
        "## **zip and argument unpacking**"
      ]
    },
    {
      "cell_type": "code",
      "metadata": {
        "id": "kce53GLkKFmk",
        "colab_type": "code",
        "outputId": "99f64281-f569-40f6-fb81-0a986cc67106",
        "colab": {
          "base_uri": "https://localhost:8080/",
          "height": 34
        }
      },
      "source": [
        "# zip transforms multiple lists into a single  list of tuples of corresponding elements \n",
        "\n",
        "list1 = ['a','b','c']\n",
        "list2 = [1,2,3]\n",
        "list3 = zip(list1,list2)\n",
        "print(list3)\n",
        "# if lists are of different lengths, zip stops as soon as the first list ends"
      ],
      "execution_count": 0,
      "outputs": [
        {
          "output_type": "stream",
          "text": [
            "<zip object at 0x7f62718602c8>\n"
          ],
          "name": "stdout"
        }
      ]
    },
    {
      "cell_type": "markdown",
      "metadata": {
        "id": "hV2zWSIgKs6j",
        "colab_type": "text"
      },
      "source": [
        "##  **zip(*pair)** - argument unpacking"
      ]
    },
    {
      "cell_type": "code",
      "metadata": {
        "id": "rcN1fFhyK15J",
        "colab_type": "code",
        "colab": {}
      },
      "source": [
        "pair = [('a',1),('b',2),('c',3)]\n",
        "letters, numbers = zip(*pair)   # The asterisk performs argument unpacking, which uses the elements of pairs as individual arguments to zip.\n",
        "print(letters) #('a', 'b', 'c')\n",
        "print(numbers) #(1, 2, 3)\n",
        "\n",
        "L,N = zip(('a', 1), ('b', 2), ('c', 3))\n",
        "print(L) #('a', 'b', 'c')\n",
        "print(N) #(1, 2, 3)\n"
      ],
      "execution_count": 0,
      "outputs": []
    },
    {
      "cell_type": "code",
      "metadata": {
        "id": "k7C7ghB6TlB1",
        "colab_type": "code",
        "colab": {}
      },
      "source": [
        "# you can use argument unpacking with any function as well\n",
        "def add(a,b): return a+b\n",
        "\n",
        "print(add(2,3)) # 5\n",
        "print(add(*[2,3]))   # 5 \n",
        "print(add([2,3]))  # typo error - lists needs to be unpacked \n"
      ],
      "execution_count": 0,
      "outputs": []
    },
    {
      "cell_type": "markdown",
      "metadata": {
        "id": "q6lztT4m1_zJ",
        "colab_type": "text"
      },
      "source": [
        "## **args and kwargs**  to define functions that takes arbitary values"
      ]
    },
    {
      "cell_type": "code",
      "metadata": {
        "id": "7_-IVdML2Cyh",
        "colab_type": "code",
        "colab": {}
      },
      "source": [
        "  # function can take random inputs which are not defined used args and kwargs as below \n",
        "  #Let’s say we want to create a higher-order function that takes as input some function f and  returns a new function that for any input returns twice the value of f:\n",
        "def doubler(f):\n",
        " def g(x):\n",
        "   return 2 * f(x)\n",
        " return g\n",
        "\n",
        "def f1(x):\n",
        " return x+1\n",
        "\n",
        "z = doubler(f1)\n",
        "z(3)   # 2 * (3+1)\n",
        "# but here Z cannot take more than one arguments as g() takes 1 positional argument but 2 were given\n",
        "\n",
        "def f2(x,y):\n",
        "  return x+y\n",
        "\n",
        "z1 = doubler(f2)\n",
        "# z1(3,2) # TypeError: g() takes 1 positional argument but 2 were given"
      ],
      "execution_count": 0,
      "outputs": []
    },
    {
      "cell_type": "code",
      "metadata": {
        "id": "WaCBrw415wNl",
        "colab_type": "code",
        "colab": {
          "base_uri": "https://localhost:8080/",
          "height": 51
        },
        "outputId": "c239c654-f186-4b09-f24b-4322f95bf06d"
      },
      "source": [
        "# We need a way to specify the function that takes arbitary arguments\n",
        "# args is a tuple of its unnamed arguments and  kwargs is a dict of its named arguments\n",
        "\n",
        "def magic(*args,**kwargs):\n",
        "  print(['Unamed arguments',args],sep='    ')\n",
        "  print(['keyword arguments',kwargs],sep= '   ')\n",
        "\n",
        "magic(2,3,4,5,rollno =3)"
      ],
      "execution_count": 7,
      "outputs": [
        {
          "output_type": "stream",
          "text": [
            "['Unamed arguments', (2, 3, 4, 5)]\n",
            "['keyword arguments', {'rollno': 3}]\n"
          ],
          "name": "stdout"
        }
      ]
    },
    {
      "cell_type": "code",
      "metadata": {
        "id": "dhwRy3mW6AAj",
        "colab_type": "code",
        "colab": {
          "base_uri": "https://localhost:8080/",
          "height": 34
        },
        "outputId": "2b5ffd1a-2a28-49c6-a24e-5371fb4370b8"
      },
      "source": [
        "# It works the other way too, if you want to use a list (or tuple) and dict to supply arguments to a function:\n",
        "\n",
        "def other_Way_magic(x,y,z):\n",
        "  return x+y+z\n",
        "\n",
        "x _y_list = [1,2]\n",
        "z_dict = {\"z\" :50}     ## it has to be z only same as name of variable in function definition\n",
        "print (other_Way_magic(*x_y_list,**z_dict))"
      ],
      "execution_count": 17,
      "outputs": [
        {
          "output_type": "stream",
          "text": [
            "53\n"
          ],
          "name": "stdout"
        }
      ]
    },
    {
      "cell_type": "code",
      "metadata": {
        "id": "M2a8t9kor88r",
        "colab_type": "code",
        "colab": {
          "base_uri": "https://localhost:8080/",
          "height": 34
        },
        "outputId": "6900c37e-8d41-4818-ca46-b477161fe50c"
      },
      "source": [
        "# use it to produce higherorder functions whose inputs can accept arbitrary arguments:\n",
        "def doubler_correct(f):\n",
        "  def g(*args, **kwargs):\n",
        "    return 2 * f(*args)  # pass only args \n",
        "  return g\n",
        "\n",
        "def f2(x,y):\n",
        "  return x+y\n",
        "\n",
        "z = doubler_correct(f2)\n",
        "z(3,4,dus = 5)"
      ],
      "execution_count": 27,
      "outputs": [
        {
          "output_type": "execute_result",
          "data": {
            "text/plain": [
              "14"
            ]
          },
          "metadata": {
            "tags": []
          },
          "execution_count": 27
        }
      ]
    }
  ]
}