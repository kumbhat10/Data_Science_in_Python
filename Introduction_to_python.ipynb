{
  "nbformat": 4,
  "nbformat_minor": 0,
  "metadata": {
    "kernelspec": {
      "display_name": "Python 3",
      "language": "python",
      "name": "python3"
    },
    "language_info": {
      "codemirror_mode": {
        "name": "ipython",
        "version": 3
      },
      "file_extension": ".py",
      "mimetype": "text/x-python",
      "name": "python",
      "nbconvert_exporter": "python",
      "pygments_lexer": "ipython3",
      "version": "3.7.4"
    },
    "colab": {
      "name": "Introduction_to_python.ipynb",
      "provenance": [],
      "include_colab_link": true
    }
  },
  "cells": [
    {
      "cell_type": "markdown",
      "metadata": {
        "id": "view-in-github",
        "colab_type": "text"
      },
      "source": [
        "<a href=\"https://colab.research.google.com/github/kumbhat10/Learning_Python/blob/master/Introduction_to_python.ipynb\" target=\"_parent\"><img src=\"https://colab.research.google.com/assets/colab-badge.svg\" alt=\"Open In Colab\"/></a>"
      ]
    },
    {
      "cell_type": "code",
      "metadata": {
        "scrolled": true,
        "id": "eB5ij9K1L438",
        "colab_type": "code",
        "colab": {},
        "outputId": "e0fbf667-6ede-4f2c-cc68-8a064a144fd6"
      },
      "source": [
        "#introduction\n",
        "\n",
        "x= \"Hello, world\"\n",
        "y=5\n",
        "print(x + \"   \" + x)\n",
        "print(y*10)\n"
      ],
      "execution_count": 0,
      "outputs": [
        {
          "output_type": "stream",
          "text": [
            "Hello, world   Hello, world\n",
            "50\n"
          ],
          "name": "stdout"
        }
      ]
    },
    {
      "cell_type": "code",
      "metadata": {
        "id": "s9EeejI1L44C",
        "colab_type": "code",
        "colab": {},
        "outputId": "695a993f-7921-4af2-ea3b-db9592d32103"
      },
      "source": [
        "# global variable inside function\n",
        "x=10\n",
        "print(x)\n",
        "def myfunc():\n",
        "    global x\n",
        "    x=5\n",
        "    print(x)\n",
        "\n",
        "myfunc()\n",
        "print(x)"
      ],
      "execution_count": 0,
      "outputs": [
        {
          "output_type": "stream",
          "text": [
            "10\n",
            "5\n",
            "5\n"
          ],
          "name": "stdout"
        }
      ]
    },
    {
      "cell_type": "code",
      "metadata": {
        "id": "Bl8iZaG1L44F",
        "colab_type": "code",
        "colab": {},
        "outputId": "653b7a05-f17c-49de-c386-0670e69a72ad"
      },
      "source": [
        "# data types\n",
        "x=5\n",
        "y = \"hello\"\n",
        "\n",
        "print(type(x))\n",
        "print(type(y))\n",
        "\n",
        "type(1j)\n",
        "\n",
        "x = range(6)\n",
        "print(x)\n",
        "\n",
        "x = [\"apple\", \"banana\", \"cherry\"]   #list\n",
        "print(x[1])\n",
        "x[1] = \"red\"\n",
        "\n",
        "x= (\"apple\",\"banana\",\"cherry\")   #tuple\n",
        "print(x[2])\n"
      ],
      "execution_count": 0,
      "outputs": [
        {
          "output_type": "stream",
          "text": [
            "<class 'int'>\n",
            "<class 'str'>\n",
            "range(0, 6)\n",
            "banana\n",
            "cherry\n"
          ],
          "name": "stdout"
        }
      ]
    },
    {
      "cell_type": "code",
      "metadata": {
        "id": "ju2Yl4aLL44I",
        "colab_type": "code",
        "colab": {}
      },
      "source": [
        "\n",
        "\n",
        "\n",
        "\n"
      ],
      "execution_count": 0,
      "outputs": []
    },
    {
      "cell_type": "code",
      "metadata": {
        "id": "4r6mqWETL44L",
        "colab_type": "code",
        "colab": {}
      },
      "source": [
        "\n",
        "\n",
        "\n",
        "\n"
      ],
      "execution_count": 0,
      "outputs": []
    },
    {
      "cell_type": "code",
      "metadata": {
        "id": "wRjMQewuL44N",
        "colab_type": "code",
        "colab": {}
      },
      "source": [
        "\n",
        "\n",
        "\n"
      ],
      "execution_count": 0,
      "outputs": []
    }
  ]
}