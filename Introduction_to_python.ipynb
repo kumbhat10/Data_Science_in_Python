{
  "nbformat": 4,
  "nbformat_minor": 0,
  "metadata": {
    "kernelspec": {
      "display_name": "Python 3",
      "language": "python",
      "name": "python3"
    },
    "language_info": {
      "codemirror_mode": {
        "name": "ipython",
        "version": 3
      },
      "file_extension": ".py",
      "mimetype": "text/x-python",
      "name": "python",
      "nbconvert_exporter": "python",
      "pygments_lexer": "ipython3",
      "version": "3.7.4"
    },
    "colab": {
      "name": "Introduction_to_python.ipynb",
      "provenance": [],
      "collapsed_sections": [],
      "include_colab_link": true
    }
  },
  "cells": [
    {
      "cell_type": "markdown",
      "metadata": {
        "id": "view-in-github",
        "colab_type": "text"
      },
      "source": [
        "<a href=\"https://colab.research.google.com/github/kumbhat10/Learning_Python/blob/master/Introduction_to_python.ipynb\" target=\"_parent\"><img src=\"https://colab.research.google.com/assets/colab-badge.svg\" alt=\"Open In Colab\"/></a>"
      ]
    },
    {
      "cell_type": "code",
      "metadata": {
        "id": "7WCA7qZ1Z3O_",
        "colab_type": "code",
        "outputId": "8218f677-c707-4a23-d288-af9fedc30ff4",
        "colab": {
          "base_uri": "https://localhost:8080/",
          "height": 122
        }
      },
      "source": [
        "\n",
        "# This cell is not required to be executed (i.e. ignore any error) if Notebook is run locally or in Binder\n",
        "# Authorise and mount google drive to access code and data files\n",
        "# https://www.w3schools.com/python/default.asp\n",
        "\n",
        "project_folder = '/content/drive/My Drive/Colab Notebooks/'\n",
        "\n",
        "import os\n",
        "\n",
        "if os.path.isdir('/content'):\n",
        "    from google.colab import drive\n",
        "    drive.mount('/content/drive')\n",
        "\n",
        "    if not(os.path.isdir(project_folder)):\n",
        "      os.makedirs(project_folder)\n",
        "      print(\"new project folder created\")\n",
        "\n",
        "    os.chdir(project_folder)\n",
        "\n",
        "\n",
        "\n"
      ],
      "execution_count": 0,
      "outputs": [
        {
          "output_type": "stream",
          "text": [
            "Go to this URL in a browser: https://accounts.google.com/o/oauth2/auth?client_id=947318989803-6bn6qk8qdgf4n4g3pfee6491hc0brc4i.apps.googleusercontent.com&redirect_uri=urn%3aietf%3awg%3aoauth%3a2.0%3aoob&response_type=code&scope=email%20https%3a%2f%2fwww.googleapis.com%2fauth%2fdocs.test%20https%3a%2f%2fwww.googleapis.com%2fauth%2fdrive%20https%3a%2f%2fwww.googleapis.com%2fauth%2fdrive.photos.readonly%20https%3a%2f%2fwww.googleapis.com%2fauth%2fpeopleapi.readonly\n",
            "\n",
            "Enter your authorization code:\n",
            "··········\n",
            "Mounted at /content/drive\n"
          ],
          "name": "stdout"
        }
      ]
    },
    {
      "cell_type": "code",
      "metadata": {
        "id": "mbCE84hnac5Q",
        "colab_type": "code",
        "colab": {}
      },
      "source": [
        "from google.colab import drive\n",
        "drive.mount('/content/drive')"
      ],
      "execution_count": 0,
      "outputs": []
    },
    {
      "cell_type": "code",
      "metadata": {
        "scrolled": true,
        "id": "eB5ij9K1L438",
        "colab_type": "code",
        "outputId": "21b78ebb-aab8-4f7b-8b2e-abaf803c735f",
        "colab": {
          "base_uri": "https://localhost:8080/",
          "height": 51
        }
      },
      "source": [
        "#introduction\n",
        "\n",
        "x= \"Hello, world\"\n",
        "y=5\n",
        "print(x + \"   \" + x)\n",
        "print(y*10)\n"
      ],
      "execution_count": 0,
      "outputs": [
        {
          "output_type": "stream",
          "text": [
            "Hello, world   Hello, world\n",
            "50\n"
          ],
          "name": "stdout"
        }
      ]
    },
    {
      "cell_type": "code",
      "metadata": {
        "id": "s9EeejI1L44C",
        "colab_type": "code",
        "outputId": "695a993f-7921-4af2-ea3b-db9592d32103",
        "colab": {}
      },
      "source": [
        "# global variable inside function\n",
        "x=10\n",
        "print(x)\n",
        "def myfunc():\n",
        "    global x\n",
        "    x=5\n",
        "    print(x)\n",
        "\n",
        "myfunc()\n",
        "print(x)"
      ],
      "execution_count": 0,
      "outputs": [
        {
          "output_type": "stream",
          "text": [
            "10\n",
            "5\n",
            "5\n"
          ],
          "name": "stdout"
        }
      ]
    },
    {
      "cell_type": "code",
      "metadata": {
        "id": "Bl8iZaG1L44F",
        "colab_type": "code",
        "outputId": "b69c2a1d-2710-4f03-c120-12d7b83d569e",
        "colab": {
          "base_uri": "https://localhost:8080/",
          "height": 68
        }
      },
      "source": [
        "# data types\n",
        "# use type() to check the data tyoe\n",
        "x=5 #int\n",
        "\n",
        "y = \"hello\"   #str\n",
        "\n",
        "z = 1j #complex\n",
        "\n",
        "x = 20.56 #float \n",
        "\n",
        "x = range(6) #range\n",
        "\n",
        "x = {\"name\": \"john\",\"age\" :36} #dict\n",
        "\n",
        "x = [\"apple\", \"banana\", \"cherry\"]   #list\n",
        "\n",
        "x= (\"apple\",\"banana\",\"cherry\")   #tuple\n",
        "\n",
        "x = {\"apple\",\"cherry\",\"banana\"} # set\n",
        "\n",
        "x = frozenset(x)\n",
        "\n",
        "x = True #bool \n",
        "\n",
        "x= b\"hello\" #bytes\n",
        "\n",
        "x = bytearray(5)\n",
        "\n",
        "x = memoryview(bytes(5))\n",
        "\n",
        "print(x)\n",
        "print(type(x))\n",
        "\n",
        "x = {\"name\":\"Dushyant\",\"cds\":\"dkumbhat\"} #dict\n",
        "print(x)"
      ],
      "execution_count": 14,
      "outputs": [
        {
          "output_type": "stream",
          "text": [
            "<memory at 0x7fa22afb7288>\n",
            "<class 'memoryview'>\n",
            "{'name': 'Dushyant', 'cds': 'dkumbhat'}\n"
          ],
          "name": "stdout"
        }
      ]
    },
    {
      "cell_type": "markdown",
      "metadata": {
        "id": "PR1ZIud-YGIt",
        "colab_type": "text"
      },
      "source": [
        "#Zen of python\n",
        "\n"
      ]
    },
    {
      "cell_type": "code",
      "metadata": {
        "id": "ju2Yl4aLL44I",
        "colab_type": "code",
        "colab": {
          "base_uri": "https://localhost:8080/",
          "height": 34
        },
        "outputId": "878031e2-cac3-4d30-b11c-7efe88ae5bda"
      },
      "source": [
        "import numpy\n",
        "import this\n",
        "print(this)"
      ],
      "execution_count": 15,
      "outputs": [
        {
          "output_type": "stream",
          "text": [
            "<module 'this' from '/usr/lib/python3.6/this.py'>\n"
          ],
          "name": "stdout"
        }
      ]
    },
    {
      "cell_type": "markdown",
      "metadata": {
        "id": "AosjUe811UD5",
        "colab_type": "text"
      },
      "source": [
        "# WhiteSpace Formattting"
      ]
    },
    {
      "cell_type": "code",
      "metadata": {
        "id": "wRjMQewuL44N",
        "colab_type": "code",
        "colab": {
          "base_uri": "https://localhost:8080/",
          "height": 34
        },
        "outputId": "e7b16df0-7979-4c6d-d212-79f39f34a99b"
      },
      "source": [
        "# indentation - space is used\n",
        "a = 2 +\\\n",
        "3   # backslash means continue to next line like ... in matlab\n",
        "print(a)\n",
        "\n"
      ],
      "execution_count": 16,
      "outputs": [
        {
          "output_type": "stream",
          "text": [
            "5\n"
          ],
          "name": "stdout"
        }
      ]
    },
    {
      "cell_type": "code",
      "metadata": {
        "id": "jRnTNgHM1b_I",
        "colab_type": "code",
        "colab": {}
      },
      "source": [
        ""
      ],
      "execution_count": 0,
      "outputs": []
    },
    {
      "cell_type": "code",
      "metadata": {
        "id": "kYXgq3vaXeJb",
        "colab_type": "code",
        "colab": {}
      },
      "source": [
        "\n"
      ],
      "execution_count": 0,
      "outputs": []
    },
    {
      "cell_type": "code",
      "metadata": {
        "id": "2708X6pHXe7p",
        "colab_type": "code",
        "colab": {}
      },
      "source": [
        ""
      ],
      "execution_count": 0,
      "outputs": []
    }
  ]
}