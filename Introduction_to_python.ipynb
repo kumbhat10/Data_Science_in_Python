{
  "nbformat": 4,
  "nbformat_minor": 0,
  "metadata": {
    "kernelspec": {
      "display_name": "Python 3",
      "language": "python",
      "name": "python3"
    },
    "language_info": {
      "codemirror_mode": {
        "name": "ipython",
        "version": 3
      },
      "file_extension": ".py",
      "mimetype": "text/x-python",
      "name": "python",
      "nbconvert_exporter": "python",
      "pygments_lexer": "ipython3",
      "version": "3.7.4"
    },
    "colab": {
      "name": "Introduction_to_python.ipynb",
      "provenance": [],
      "collapsed_sections": [],
      "include_colab_link": true
    }
  },
  "cells": [
    {
      "cell_type": "markdown",
      "metadata": {
        "id": "view-in-github",
        "colab_type": "text"
      },
      "source": [
        "<a href=\"https://colab.research.google.com/github/kumbhat10/Learning_Python/blob/master/Introduction_to_python.ipynb\" target=\"_parent\"><img src=\"https://colab.research.google.com/assets/colab-badge.svg\" alt=\"Open In Colab\"/></a>"
      ]
    },
    {
      "cell_type": "markdown",
      "metadata": {
        "id": "ySs5Jg1S6SBf",
        "colab_type": "text"
      },
      "source": [
        "#**Mount Google Drive**"
      ]
    },
    {
      "cell_type": "code",
      "metadata": {
        "id": "7WCA7qZ1Z3O_",
        "colab_type": "code",
        "colab": {}
      },
      "source": [
        "\n",
        "# This cell is not required to be executed (i.e. ignore any error) if Notebook is run locally or in Binder\n",
        "# Authorise and mount google drive to access code and data files\n",
        "# https://www.w3schools.com/python/default.asp\n",
        "\n",
        "project_folder = '/content/drive/My Drive/Colab Notebooks/'\n",
        "\n",
        "import os\n",
        "\n",
        "if os.path.isdir('/content'):\n",
        "    from google.colab import drive\n",
        "    drive.mount('/content/drive')\n",
        "\n",
        "    if not(os.path.isdir(project_folder)):\n",
        "      os.makedirs(project_folder)\n",
        "      print(\"new project folder created\")\n",
        "\n",
        "    os.chdir(project_folder)"
      ],
      "execution_count": 0,
      "outputs": []
    },
    {
      "cell_type": "markdown",
      "metadata": {
        "id": "PR1ZIud-YGIt",
        "colab_type": "text"
      },
      "source": [
        "#**Zen of python**\n",
        "\n"
      ]
    },
    {
      "cell_type": "code",
      "metadata": {
        "id": "ju2Yl4aLL44I",
        "colab_type": "code",
        "colab": {
          "base_uri": "https://localhost:8080/",
          "height": 374
        },
        "outputId": "3ba063b3-6203-4215-a422-f45237bd64be"
      },
      "source": [
        "#import this\n",
        "#del this\n",
        "import this\n",
        "#this?"
      ],
      "execution_count": 24,
      "outputs": [
        {
          "output_type": "stream",
          "text": [
            "The Zen of Python, by Tim Peters\n",
            "\n",
            "Beautiful is better than ugly.\n",
            "Explicit is better than implicit.\n",
            "Simple is better than complex.\n",
            "Complex is better than complicated.\n",
            "Flat is better than nested.\n",
            "Sparse is better than dense.\n",
            "Readability counts.\n",
            "Special cases aren't special enough to break the rules.\n",
            "Although practicality beats purity.\n",
            "Errors should never pass silently.\n",
            "Unless explicitly silenced.\n",
            "In the face of ambiguity, refuse the temptation to guess.\n",
            "There should be one-- and preferably only one --obvious way to do it.\n",
            "Although that way may not be obvious at first unless you're Dutch.\n",
            "Now is better than never.\n",
            "Although never is often better than *right* now.\n",
            "If the implementation is hard to explain, it's a bad idea.\n",
            "If the implementation is easy to explain, it may be a good idea.\n",
            "Namespaces are one honking great idea -- let's do more of those!\n"
          ],
          "name": "stdout"
        }
      ]
    },
    {
      "cell_type": "markdown",
      "metadata": {
        "id": "UcIwKhFL6kdW",
        "colab_type": "text"
      },
      "source": [
        "# **Introduction**"
      ]
    },
    {
      "cell_type": "code",
      "metadata": {
        "scrolled": true,
        "id": "eB5ij9K1L438",
        "colab_type": "code",
        "colab": {}
      },
      "source": [
        "x= \"Hello, world\"       #string\n",
        "y=5   \n",
        "print(x + \"   \" + x)      # add strings ( concatenate)\n",
        "print(y*10)"
      ],
      "execution_count": 0,
      "outputs": []
    },
    {
      "cell_type": "markdown",
      "metadata": {
        "id": "XrR7uQ1i4Nxr",
        "colab_type": "text"
      },
      "source": [
        "# **Clear output cell**"
      ]
    },
    {
      "cell_type": "code",
      "metadata": {
        "id": "i4YbLmTF4VeQ",
        "colab_type": "code",
        "colab": {}
      },
      "source": [
        "print(\"This is output cell to be cleared after clear output call\")\n",
        "from IPython.display import clear_output\n",
        "clear_output()"
      ],
      "execution_count": 0,
      "outputs": []
    },
    {
      "cell_type": "markdown",
      "metadata": {
        "id": "_kMsbpUI6ic2",
        "colab_type": "text"
      },
      "source": [
        "# **Global Variable declaration**"
      ]
    },
    {
      "cell_type": "code",
      "metadata": {
        "id": "s9EeejI1L44C",
        "colab_type": "code",
        "colab": {}
      },
      "source": [
        "# global variable inside function\n",
        "x=10\n",
        "print(x)\n",
        "def myfunc():\n",
        "    global x\n",
        "    x=5\n",
        "    print(x)\n",
        "\n",
        "myfunc()\n",
        "print(x)"
      ],
      "execution_count": 0,
      "outputs": []
    },
    {
      "cell_type": "markdown",
      "metadata": {
        "id": "qGrwCDOi7AJf",
        "colab_type": "text"
      },
      "source": [
        "# **Data types**"
      ]
    },
    {
      "cell_type": "code",
      "metadata": {
        "id": "Bl8iZaG1L44F",
        "colab_type": "code",
        "colab": {}
      },
      "source": [
        "# data types\n",
        "# use type() to check the data tyoe\n",
        "x=5 #int\n",
        "\n",
        "y = \"hello\"  #str\n",
        "z = 1j       #complex\n",
        "x = 20.56    #float \n",
        "x = range(6) #range\n",
        "x = {\"name\": \"john\",\"age\" :36} #dict\n",
        "x = [\"apple\", \"banana\"]   #list\n",
        "x = (\"apple\",\"banana\")   #tuple\n",
        "x = {\"apple\",\"cherry\"} # set\n",
        "x = frozenset(x)\n",
        "x = True        #bool \n",
        "x = b\"hello\"    #bytes\n",
        "x = bytearray(5)\n",
        "x = memoryview(bytes(5))\n",
        "print(x)\n",
        "print(type(x))"
      ],
      "execution_count": 0,
      "outputs": []
    },
    {
      "cell_type": "markdown",
      "metadata": {
        "id": "AosjUe811UD5",
        "colab_type": "text"
      },
      "source": [
        "## **WhiteSpace Formattting**"
      ]
    },
    {
      "cell_type": "code",
      "metadata": {
        "id": "wRjMQewuL44N",
        "colab_type": "code",
        "colab": {}
      },
      "source": [
        "# indentation - space is used\n",
        "a = 2 +\\\n",
        "3   # backslash means continue to next line like ... in matlab\n",
        "print(a)"
      ],
      "execution_count": 0,
      "outputs": []
    },
    {
      "cell_type": "markdown",
      "metadata": {
        "id": "7gTBuw1hZO8L",
        "colab_type": "text"
      },
      "source": [
        "# **Modules**"
      ]
    },
    {
      "cell_type": "code",
      "metadata": {
        "id": "kYXgq3vaXeJb",
        "colab_type": "code",
        "colab": {}
      },
      "source": [
        "import re\n",
        "my_regex = re.compile(\"[0-9]+\", re.I)\n",
        "print(my_regex)\n",
        "\n",
        "import matplotlib.pyplot as plt\n",
        "\n",
        "#If you need a few specific values from a module, you can import them explicitly and use them without qualification:\n",
        "from collections import defaultdict, Counter\n",
        "lookup = defaultdict(int)\n",
        "my_counter = Counter()"
      ],
      "execution_count": 0,
      "outputs": []
    },
    {
      "cell_type": "markdown",
      "metadata": {
        "id": "mmtvYHCt1Ge7",
        "colab_type": "text"
      },
      "source": [
        "#**Arithmetic**\n"
      ]
    },
    {
      "cell_type": "code",
      "metadata": {
        "id": "2708X6pHXe7p",
        "colab_type": "code",
        "colab": {}
      },
      "source": [
        "#Python 2.7 uses integer division by default, so that 5 / 2 equals 2. Almost always this is not what we want, so we will always start our files with:\n",
        "from __future__ import division\n",
        "print(5/2)\n",
        "print(5//2)  # works like floor function of matlab"
      ],
      "execution_count": 0,
      "outputs": []
    },
    {
      "cell_type": "markdown",
      "metadata": {
        "id": "fMnplf4E1nTr",
        "colab_type": "text"
      },
      "source": [
        "#**Functions**\n"
      ]
    },
    {
      "cell_type": "code",
      "metadata": {
        "id": "87akLuf0y0hq",
        "colab_type": "code",
        "colab": {}
      },
      "source": [
        "#A function is a rule for taking zero or more inputs and returning a corresponding output. In Python, we typically define functions using def:\n",
        "def double(x):\n",
        " \"\"\"this is where you put an optional docstring\n",
        "   that explains what the function does.\n",
        "   for example, this function multiplies its input by 2\"\"\"\n",
        " return x * 2\n",
        "\n",
        "print (double(3))"
      ],
      "execution_count": 0,
      "outputs": []
    },
    {
      "cell_type": "markdown",
      "metadata": {
        "id": "LOb2aArO7Szv",
        "colab_type": "text"
      },
      "source": [
        "##### **Functions are first-class** , which means that we can assign them to variables and pass them into functions just like any other arguments:"
      ]
    },
    {
      "cell_type": "code",
      "metadata": {
        "id": "5CcQw4g37Pgf",
        "colab_type": "code",
        "colab": {}
      },
      "source": [
        "def nested_func(f):    #calls function f with 10 as its argument\n",
        "  return f(10)\n",
        "\n",
        "print(nested_func(double))   # double function created in above cell - run that first"
      ],
      "execution_count": 0,
      "outputs": []
    },
    {
      "cell_type": "markdown",
      "metadata": {
        "id": "vo8quQES7gq3",
        "colab_type": "text"
      },
      "source": [
        "#### Anonymous functions, or lambdas:\n"
      ]
    },
    {
      "cell_type": "code",
      "metadata": {
        "id": "X7_f7gV37eSa",
        "colab_type": "code",
        "colab": {}
      },
      "source": [
        "y = nested_func(lambda x: x+9)     ##lambda is anonymous function here\n",
        "print(y)"
      ],
      "execution_count": 0,
      "outputs": []
    },
    {
      "cell_type": "markdown",
      "metadata": {
        "id": "7X4il0hY8IpX",
        "colab_type": "text"
      },
      "source": [
        "#### Lambdas to variables\n"
      ]
    },
    {
      "cell_type": "code",
      "metadata": {
        "id": "ly4jjzfn8N2O",
        "colab_type": "code",
        "colab": {}
      },
      "source": [
        "another_double = lambda x: 2*x + 3   # dont do this use def instead as shown in next cell\n",
        "\n",
        "print(another_double(4))"
      ],
      "execution_count": 0,
      "outputs": []
    },
    {
      "cell_type": "markdown",
      "metadata": {
        "id": "cQAVxoM88mOJ",
        "colab_type": "text"
      },
      "source": [
        "#### def to define function"
      ]
    },
    {
      "cell_type": "code",
      "metadata": {
        "id": "vr6klLCb8pFO",
        "colab_type": "code",
        "colab": {}
      },
      "source": [
        "def another_double(x): return 2*x + 3 \n",
        "print(another_double(4))"
      ],
      "execution_count": 0,
      "outputs": []
    },
    {
      "cell_type": "markdown",
      "metadata": {
        "id": "IHQFasrp9BzD",
        "colab_type": "text"
      },
      "source": [
        "#### Deafult input to function parameters"
      ]
    },
    {
      "cell_type": "code",
      "metadata": {
        "id": "5zLrLE368Wl3",
        "colab_type": "code",
        "colab": {}
      },
      "source": [
        "def default_fucntion(x=10):  #default values to function is 10 now\n",
        "  return x*2\n",
        "\n",
        "print(default_fucntion(4))    # with input    = 4 * 2 = 8\n",
        "print(default_fucntion())    # with no input  = 10 * 2 = 20\n"
      ],
      "execution_count": 0,
      "outputs": []
    },
    {
      "cell_type": "markdown",
      "metadata": {
        "id": "gcKp1HBi9wuN",
        "colab_type": "text"
      },
      "source": [
        "#### Calling functions with variable names and default values  "
      ]
    },
    {
      "cell_type": "code",
      "metadata": {
        "id": "1Q8bZoZz9UGg",
        "colab_type": "code",
        "colab": {}
      },
      "source": [
        "def substract(a=10,b=3):      # default values \n",
        "    return a-b\n",
        "  \n",
        "print(substract(5))         # a = 5 ,          b = 3 (default)\n",
        "print(substract(5,2))       # a = 5 ,          b = 2\n",
        "print(substract(b=5))       # a = 10(default)  b = 5\n",
        "print(substract(a=15,b=4))  # a = 15 ,         b = 4"
      ],
      "execution_count": 0,
      "outputs": []
    },
    {
      "cell_type": "markdown",
      "metadata": {
        "id": "9DaA2P6T8Har",
        "colab_type": "text"
      },
      "source": [
        "#**Strings**"
      ]
    },
    {
      "cell_type": "code",
      "metadata": {
        "id": "P9JSR2jBEHhw",
        "colab_type": "code",
        "colab": {}
      },
      "source": [
        "#Strings can be delimited by single or double quotation marks (but the quotes have to match):\n",
        "\n",
        "a = 'apple'\n",
        "b = \"red\"\n",
        "print(a)\n",
        "print(b)"
      ],
      "execution_count": 0,
      "outputs": []
    },
    {
      "cell_type": "markdown",
      "metadata": {
        "id": "9YURrPyG_L6P",
        "colab_type": "text"
      },
      "source": [
        "#### Special Characters - backslash \\"
      ]
    },
    {
      "cell_type": "code",
      "metadata": {
        "id": "E_6-Ozey_Jiv",
        "colab_type": "code",
        "colab": {}
      },
      "source": [
        "#Python uses backslashes to encode special characters. For example:\n",
        "c = \" my\\tapple\"     # \\t is tab - 2 size space\n",
        "print(c)\n",
        "print(len(c))"
      ],
      "execution_count": 0,
      "outputs": []
    },
    {
      "cell_type": "markdown",
      "metadata": {
        "id": "7Z0eN0TG_lsO",
        "colab_type": "text"
      },
      "source": [
        "#### Raw strings r\" \""
      ]
    },
    {
      "cell_type": "code",
      "metadata": {
        "id": "3IDPjldy_KMZ",
        "colab_type": "code",
        "colab": {}
      },
      "source": [
        "#If you want backslashes as backslashes (which you might in Windows directory names or in regular expressions), you can create raw strings using r\"\":\n",
        "\n",
        "not_tab_string = r\"\\t\"          # represents the characters '\\' and 't'\n",
        "print(not_tab_string)\n",
        "print(len(not_tab_string)) # is 2"
      ],
      "execution_count": 0,
      "outputs": []
    },
    {
      "cell_type": "markdown",
      "metadata": {
        "id": "N7SY9kIK_2C3",
        "colab_type": "text"
      },
      "source": [
        "#### Multi line string  - Use 3 quotes \"\"\""
      ]
    },
    {
      "cell_type": "code",
      "metadata": {
        "id": "7J-N5qtT_Kbo",
        "colab_type": "code",
        "colab": {
          "base_uri": "https://localhost:8080/",
          "height": 68
        },
        "outputId": "cae7f62a-cfe1-47c1-a08e-5e73bc48ac85"
      },
      "source": [
        "#You can create multiline strings using triple-[double-]-quotes:\n",
        "multi_line_string = \"\"\"This is the first line.\n",
        "and this is the second line\n",
        "and this is the third line\"\"\"\n",
        "print(multi_line_string)"
      ],
      "execution_count": 42,
      "outputs": [
        {
          "output_type": "stream",
          "text": [
            "This is the first line.\n",
            "and this is the second line\n",
            "and this is the third line\n"
          ],
          "name": "stdout"
        }
      ]
    },
    {
      "cell_type": "markdown",
      "metadata": {
        "id": "dsuYvsQRSYxA",
        "colab_type": "text"
      },
      "source": [
        "#**Exception - Try Catch**"
      ]
    },
    {
      "cell_type": "code",
      "metadata": {
        "id": "DpltajKmSdlj",
        "colab_type": "code",
        "colab": {}
      },
      "source": [
        "#When something goes wrong, Python raises an exception. Unhandled, these will cause your program to crash. You can handle them using try and except:\n",
        "\n",
        "try:\n",
        " print (0 / 0)\n",
        "except ZeroDivisionError:\n",
        " print (\"cannot divide by zero\")"
      ],
      "execution_count": 0,
      "outputs": []
    },
    {
      "cell_type": "markdown",
      "metadata": {
        "id": "YUSrF7Itb_F7",
        "colab_type": "text"
      },
      "source": [
        "# **Data Types**"
      ]
    },
    {
      "cell_type": "markdown",
      "metadata": {
        "id": "UUCyaeWMSxJT",
        "colab_type": "text"
      },
      "source": [
        "### **Lists** [1,2,3]  or [1,\"dushyant\", True]   like an array"
      ]
    },
    {
      "cell_type": "code",
      "metadata": {
        "id": "L1v3A6TQS0fj",
        "colab_type": "code",
        "colab": {}
      },
      "source": [
        "# list is simply an ordered collection . like an array , but with added functionality\n",
        "\n",
        "int_list          = [1 ,2,3]\n",
        "heterogenous_list = [\"string\" , 0.1, True]\n",
        "list_of_lists     = [int_list, heterogenous_list, []]\n",
        "\n",
        "print( len(int_list))\n",
        "print(sum(int_list))"
      ],
      "execution_count": 0,
      "outputs": []
    },
    {
      "cell_type": "markdown",
      "metadata": {
        "id": "0eRPnfmRCxRK",
        "colab_type": "text"
      },
      "source": [
        "#### Indexing lists"
      ]
    },
    {
      "cell_type": "code",
      "metadata": {
        "colab_type": "code",
        "id": "p0ZYKeJICCvi",
        "colab": {}
      },
      "source": [
        "# You can get or set the nth element of a list with square brackets:\n",
        "\n",
        "x = range(10)  ## is the list  from 0 to 9 not 10  [0,1,2,3,4,5,6,7,8,9]\n",
        "print(len(x))\n",
        "\n",
        "print(x[0])   # first element\n",
        "print(x[1])   # second element\n",
        "\n",
        "print(x[-1])   # indexing from end using -number - -1 means the last number and 0 means the first number\n",
        "print(x[4:])   # print from 5th index till end\n",
        "print(x[4:6])   # print from 5th to 7th index \n",
        "print(x[1:-1])  ## except first"
      ],
      "execution_count": 0,
      "outputs": []
    },
    {
      "cell_type": "markdown",
      "metadata": {
        "id": "UBUX0ukgCDY4",
        "colab_type": "text"
      },
      "source": [
        "#### 'in' operator check"
      ]
    },
    {
      "cell_type": "code",
      "metadata": {
        "id": "PRx8-jY9Bxdn",
        "colab_type": "code",
        "colab": {}
      },
      "source": [
        "# Python has an 'in'  operator to check for list membership:\n",
        "x = [1,2,3,4,5,6,7,8,9]\n",
        "print(1 in x)  #true \n",
        "print(20 in x) #false"
      ],
      "execution_count": 0,
      "outputs": []
    },
    {
      "cell_type": "markdown",
      "metadata": {
        "id": "dcjafrVTB9fH",
        "colab_type": "text"
      },
      "source": [
        "#### Extending lists or appending lists"
      ]
    },
    {
      "cell_type": "code",
      "metadata": {
        "id": "wOVukAM0Bzbv",
        "colab_type": "code",
        "colab": {}
      },
      "source": [
        "y  =     [1,4]\n",
        "y.extend([11])\n",
        "print(y)             # [1, 4, 11]\n",
        "\n",
        "# If you don’t want to modify y you can use list addition:\n",
        "y1 = [1,5]\n",
        "z = y1 + y      # [1, 5, 1, 4, 11]\n",
        "print(z)\n",
        "\n",
        "#appending one by one\n",
        "z.append(9)    #[1, 5, 1, 4, 11, 9]\n",
        "print(z)"
      ],
      "execution_count": 0,
      "outputs": []
    },
    {
      "cell_type": "markdown",
      "metadata": {
        "id": "EcqvVo61B513",
        "colab_type": "text"
      },
      "source": [
        "#### Unpacking List"
      ]
    },
    {
      "cell_type": "code",
      "metadata": {
        "id": "PB9K1-kiB4_v",
        "colab_type": "code",
        "colab": {}
      },
      "source": [
        "# unpacking list\n",
        "x,y = [1,2]   ### you will get ValueError if you dont have the same number of elements on both sides\n",
        "print(x,y)\n",
        "\n",
        "_,y = [3,4]  #It’s common to use an underscore for a value you’re going to throw away:\n",
        "print(y)"
      ],
      "execution_count": 0,
      "outputs": []
    },
    {
      "cell_type": "markdown",
      "metadata": {
        "id": "KkyrXcldKgVx",
        "colab_type": "text"
      },
      "source": [
        "### **Tuples  (1,2) or 1,2** and cannot be modified"
      ]
    },
    {
      "cell_type": "code",
      "metadata": {
        "id": "UmFJNb3vObuv",
        "colab_type": "code",
        "colab": {}
      },
      "source": [
        "#Tuples are lists’ immutable cousins. Pretty much anything you can do to a list that doesn’t\n",
        "#involve modifying it, you can do to a tuple. You specify a tuple by using parentheses (or\n",
        "#nothing) instead of square brackets:'''\n",
        "\n",
        "alist = [1,2,3]\n",
        "atuple = (1,2)\n",
        "a1tuple = 1,2\n",
        "print(alist)\n",
        "#list can be changed but tuple cannot be changed\n",
        "alist[2] = 4\n",
        "print(alist)\n",
        "\n",
        "try:\n",
        " a1tuple[1] = 3\n",
        "except TypeError:\n",
        " print (\"cannot modify a tuple\")\n",
        "\n",
        "#Tuples are a convenient way to return multiple values from functions:\n",
        "\n",
        "def sum_and_product(x,y):\n",
        " return x+y,x*y\n",
        "\n",
        "sp = sum_and_product(5,2)\n",
        "print(sp)\n",
        "s,p = sum_and_product(5,2)\n",
        "print(s,p)"
      ],
      "execution_count": 0,
      "outputs": []
    },
    {
      "cell_type": "markdown",
      "metadata": {
        "id": "iDqLiotoTgJD",
        "colab_type": "text"
      },
      "source": [
        "###**Dictionaries {} or dict()**  - used for mapping key item with value from Collections"
      ]
    },
    {
      "cell_type": "code",
      "metadata": {
        "id": "cn3gF8c8Tlm2",
        "colab_type": "code",
        "colab": {}
      },
      "source": [
        "#Another fundamental data structure is a dictionary, which associates values with keys and allows you to quickly retrieve the value corresponding to a given key:\n",
        "\n",
        "empty_dict = {}      #pythonic\n",
        "empty_dict2 = dict() # less pythonic\n",
        "\n",
        "grades = {\"Joel\":80,\"Tim\":95}\n",
        "print(grades)"
      ],
      "execution_count": 0,
      "outputs": []
    },
    {
      "cell_type": "markdown",
      "metadata": {
        "id": "uC_WIgDYVYcG",
        "colab_type": "text"
      },
      "source": [
        "#### lookup for value for a given key"
      ]
    },
    {
      "cell_type": "code",
      "metadata": {
        "id": "TYhqKecSVcl2",
        "colab_type": "code",
        "colab": {}
      },
      "source": [
        "# you can look up the value for a key using square brackets:\n",
        "grades = {\"Joel\":80,\"Tim\":95}\n",
        "print( grades[\"Joel\"])"
      ],
      "execution_count": 0,
      "outputs": []
    },
    {
      "cell_type": "markdown",
      "metadata": {
        "id": "4Jo__qFhVtLG",
        "colab_type": "text"
      },
      "source": [
        "#### 'in' operator --> check if key exists or not in dictionary\n"
      ]
    },
    {
      "cell_type": "code",
      "metadata": {
        "id": "hYaji1GfdVwm",
        "colab_type": "code",
        "colab": {}
      },
      "source": [
        "grades = {\"Joel\":80,\"Tim\":95}\n",
        "\n",
        "#  1) try catch method\n",
        "try:\n",
        "  kates_grade = grades[\"kate\"]\n",
        "except KeyError:\n",
        "  print('Kate is not a key')\n",
        "\n",
        "# 2)using 'in' operator\n",
        "a = \"Joel\" in grades  #true\n",
        "print(a) \n",
        "a = \"Kate\" in grades  #false\n",
        "print(a)"
      ],
      "execution_count": 0,
      "outputs": []
    },
    {
      "cell_type": "code",
      "metadata": {
        "id": "F2oYizTmdZ5P",
        "colab_type": "code",
        "colab": {}
      },
      "source": [
        "grades = {\"Joel\":80,\"Tim\":95}\n",
        "# You assign key-value pairs using the same square brackets:\n",
        "\n",
        "grades[\"dushyant\"] = 90\n",
        "print(grades)\n",
        "num_students = len(grades)\n",
        "print(num_students)\n",
        "\n",
        "#Besides looking for specific keys we can look at all of them:\n",
        "grades_keys = grades.keys()      # key (item name)\n",
        "grades_values = grades.values()  # value of item\n",
        "grades_items = grades.items()    # pairs of items and values \n",
        "\n",
        "print(grades_items)\n",
        "print(grades_values)\n",
        "print(grades_keys)"
      ],
      "execution_count": 0,
      "outputs": []
    },
    {
      "cell_type": "code",
      "metadata": {
        "id": "_QKEKxa5dh3D",
        "colab_type": "code",
        "colab": {}
      },
      "source": [
        "grades = {\"Joel\":80,\"Tim\":95}\n",
        "\n",
        "print(\"Joel\" in grades_keys)  # True, but uses a slow list in\n",
        "\"Joel\" in grades                  # more Pythonic, uses faster dict in\n",
        "\n",
        "stu = {\"id\":20,\"name\":\"dk\"}\n",
        "print(stu)\n",
        "print(\"id\" in stu)\n",
        "stu[\"grades\"]= 100\n",
        "print(stu)"
      ],
      "execution_count": 0,
      "outputs": []
    },
    {
      "cell_type": "markdown",
      "metadata": {
        "id": "z7Vu7qptxyY7",
        "colab_type": "text"
      },
      "source": [
        "### **defaultdict**  - regular dictionary with added feature - no error if a key not found - it creates one"
      ]
    },
    {
      "cell_type": "code",
      "metadata": {
        "id": "ltbcrQb4yFav",
        "colab_type": "code",
        "colab": {}
      },
      "source": [
        "# defaultdict is like a regular dictionary, except that when you try to look up a key it doesn’t contain, \n",
        "#it first adds a value for it using a zero-argument function you provided when you created it. \n",
        "\n",
        "#In order to use defaultdicts, you have to import them from collections:\n",
        "\n",
        "\n",
        "document = [\"the\",\"apple\",\"red\", \"the\" ,\"red\"]\n",
        "\n",
        "from collections import defaultdict\n",
        "\n",
        "word_counts = defaultdict(int) # int() produces 0 \n",
        "for word in document:\n",
        "  word_counts[word] += 1\n",
        "print(word_counts)"
      ],
      "execution_count": 0,
      "outputs": []
    },
    {
      "cell_type": "code",
      "metadata": {
        "id": "O-3Asa-eeJC-",
        "colab_type": "code",
        "colab": {}
      },
      "source": [
        "#They can also be useful with list or dict or even your own functions:\n",
        "\n",
        "dd_list = defaultdict(list)\n",
        "dd_list[\"dus\"].append(\"klm\")\n",
        "print(dd_list)\n",
        "\n",
        "dd_dict = defaultdict(dict)    # dict() produces an empty dict\n",
        "dd_dict[\"Joel\"][\"city\"] = \"Seattle\"     #defaultdict(<class 'dict'>, {'Joel': {'city': 'Seattle'}})\n",
        "print(dd_dict)"
      ],
      "execution_count": 0,
      "outputs": []
    },
    {
      "cell_type": "code",
      "metadata": {
        "id": "BlHraWiAeN3I",
        "colab_type": "code",
        "colab": {}
      },
      "source": [
        "\n",
        "dd_pair = defaultdict(lambda: [0,0])\n",
        "dd_pair[\"dus1\"]     = [0,0 ,1]                   # {'dd': [0, 5]})  overwriting the whole key dus1\n",
        "dd_pair[\"dus2\"][1]  = 5                   # {'dd': [0, 5]})         redefine value from zero to 5\n",
        "\n",
        "print(dd_pair)\n",
        "\n",
        "a = [0,1,2]\n",
        "print(a)\n",
        "a.append(10)\n",
        "print(a)\n",
        "#%whos\n",
        "#from IPython.display import clear_output\n",
        "#clear_output()"
      ],
      "execution_count": 0,
      "outputs": []
    },
    {
      "cell_type": "markdown",
      "metadata": {
        "id": "HZObER7syQY3",
        "colab_type": "text"
      },
      "source": [
        "###**Counter   -   module name - Collections**"
      ]
    },
    {
      "cell_type": "code",
      "metadata": {
        "id": "wcbOk52fKftM",
        "colab_type": "code",
        "colab": {}
      },
      "source": [
        "# A Counter turns a sequence of values into a defaultdict(int)-like object mapping keys to counts. \n",
        "# We will primarily use it to create histograms:\n",
        "\n",
        "from collections import Counter\n",
        "c = Counter([0,1,2,3,0,2,4,5,2,3])\n",
        "print(c)"
      ],
      "execution_count": 0,
      "outputs": []
    },
    {
      "cell_type": "markdown",
      "metadata": {
        "id": "vp8LBCD3VCV_",
        "colab_type": "text"
      },
      "source": [
        "#### most_common method"
      ]
    },
    {
      "cell_type": "code",
      "metadata": {
        "id": "Luhao-Ureo9Y",
        "colab_type": "code",
        "colab": {}
      },
      "source": [
        "from collections import Counter\n",
        "document = [\"red\",\"orange\",\"red\",\"yellow\",\"black\",\"orange\"]\n",
        "word_count = Counter(document)\n",
        "\n",
        "# A Counter instance has a most_common method that is frequently useful:\n",
        "\n",
        "for word,count in word_count.most_common(1):  # most repeating terms\n",
        "  print(word,\" is repeating \",count,\" times \")"
      ],
      "execution_count": 0,
      "outputs": []
    },
    {
      "cell_type": "markdown",
      "metadata": {
        "id": "EgAkGWsELSbn",
        "colab_type": "text"
      },
      "source": [
        "###**Sets    -   DISTINCT ELEMENTS SET** -- \"in\" is a very fast operation on sets. better than list"
      ]
    },
    {
      "cell_type": "code",
      "metadata": {
        "id": "QQXR1CqxLTzQ",
        "colab_type": "code",
        "colab": {}
      },
      "source": [
        "# Another data structure is set, which represents a collection of DISTINCT elements:\n",
        "\n",
        "s = set()\n",
        "s.add(1)\n",
        "s.add(2)\n",
        "s.add(3)\n",
        "print(s)"
      ],
      "execution_count": 0,
      "outputs": []
    },
    {
      "cell_type": "markdown",
      "metadata": {
        "id": "vrW82bW14Jd4",
        "colab_type": "text"
      },
      "source": [
        "### We’ll use sets for two main reasons. \n",
        "\n"
      ]
    },
    {
      "cell_type": "code",
      "metadata": {
        "id": "-uvBl5iuqqY8",
        "colab_type": "code",
        "colab": {}
      },
      "source": [
        "#  1) The first is that in is a very fast operation on sets.\n",
        "#If we have a large collection of items that we want to use for a membership test, a set is more appropriate than a list\n",
        "\n",
        "stopwords_list = [\"a\", \"an\" ,\"at\"] + [\"yet\", \"you\"]\n",
        "print(stopwords_list)\n",
        "print(\"zip\" in stopwords_list)\n",
        "\n",
        "stopwords_set = set(stopwords_list)\n",
        "print(\"zip\" in stopwords_set)"
      ],
      "execution_count": 0,
      "outputs": []
    },
    {
      "cell_type": "code",
      "metadata": {
        "id": "_bI73tJOqtF3",
        "colab_type": "code",
        "colab": {}
      },
      "source": [
        "#2) find distict elements in collection - unique in matlab\n",
        "\n",
        "item_list = [1,2,3,1,2,3]\n",
        "print(len(item_list) ) # 6\n",
        "\n",
        "\n",
        "item_set = set(item_list) #{1, 2, 3}   convert list to set  \n",
        "\n",
        "print(item_set)  \n",
        "print(len(item_set) )  # 3\n",
        "\n",
        "distinct_item_list = list(item_set) # [1, 2, 3]  # convert set to list\n",
        "print(distinct_item_list)\n",
        "#We’ll use sets much less frequently than dicts and lists."
      ],
      "execution_count": 0,
      "outputs": []
    },
    {
      "cell_type": "markdown",
      "metadata": {
        "id": "7Km0Pk5Wq2qP",
        "colab_type": "text"
      },
      "source": [
        "#Control Flow"
      ]
    },
    {
      "cell_type": "code",
      "metadata": {
        "id": "VoHvwrLI4XBG",
        "colab_type": "code",
        "colab": {
          "base_uri": "https://localhost:8080/",
          "height": 34
        },
        "outputId": "99b7be41-ecfe-4e39-d458-e7bd1d65bd5c"
      },
      "source": [
        "# As in most programming languages, you can perform an action conditionally using if:\n",
        "x=2\n",
        "\n",
        "if  x<2:\n",
        "  print(\" x is less than 2\")\n",
        "elif x > 2:\n",
        " print(\" x is greater than 2\")\n",
        "else:\n",
        "  print(\"x is 2\")"
      ],
      "execution_count": 55,
      "outputs": [
        {
          "output_type": "stream",
          "text": [
            "x is 2\n"
          ],
          "name": "stdout"
        }
      ]
    },
    {
      "cell_type": "markdown",
      "metadata": {
        "id": "6QdV4wnf5a3V",
        "colab_type": "text"
      },
      "source": [
        "### if-then-else on one line , "
      ]
    },
    {
      "cell_type": "code",
      "metadata": {
        "id": "epYxT6yF5q3k",
        "colab_type": "code",
        "colab": {}
      },
      "source": [
        ""
      ],
      "execution_count": 0,
      "outputs": []
    }
  ]
}