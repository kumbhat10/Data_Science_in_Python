{
  "nbformat": 4,
  "nbformat_minor": 0,
  "metadata": {
    "kernelspec": {
      "display_name": "Python 3",
      "language": "python",
      "name": "python3"
    },
    "language_info": {
      "codemirror_mode": {
        "name": "ipython",
        "version": 3
      },
      "file_extension": ".py",
      "mimetype": "text/x-python",
      "name": "python",
      "nbconvert_exporter": "python",
      "pygments_lexer": "ipython3",
      "version": "3.7.4"
    },
    "colab": {
      "name": "Introduction_to_python.ipynb",
      "provenance": [],
      "collapsed_sections": [],
      "include_colab_link": true
    }
  },
  "cells": [
    {
      "cell_type": "markdown",
      "metadata": {
        "id": "view-in-github",
        "colab_type": "text"
      },
      "source": [
        "<a href=\"https://colab.research.google.com/github/kumbhat10/Learning_Python/blob/master/Introduction_to_python.ipynb\" target=\"_parent\"><img src=\"https://colab.research.google.com/assets/colab-badge.svg\" alt=\"Open In Colab\"/></a>"
      ]
    },
    {
      "cell_type": "markdown",
      "metadata": {
        "id": "ySs5Jg1S6SBf",
        "colab_type": "text"
      },
      "source": [
        "#**Mount Google Drive**"
      ]
    },
    {
      "cell_type": "code",
      "metadata": {
        "id": "7WCA7qZ1Z3O_",
        "colab_type": "code",
        "outputId": "ae2493de-4886-4471-cc08-5d25bf229c6c",
        "colab": {
          "base_uri": "https://localhost:8080/",
          "height": 34
        }
      },
      "source": [
        "\n",
        "# This cell is not required to be executed (i.e. ignore any error) if Notebook is run locally or in Binder\n",
        "# Authorise and mount google drive to access code and data files\n",
        "# https://www.w3schools.com/python/default.asp\n",
        "\n",
        "project_folder = '/content/drive/My Drive/Colab Notebooks/'\n",
        "\n",
        "import os\n",
        "\n",
        "if os.path.isdir('/content'):\n",
        "    from google.colab import drive\n",
        "    drive.mount('/content/drive')\n",
        "\n",
        "    if not(os.path.isdir(project_folder)):\n",
        "      os.makedirs(project_folder)\n",
        "      print(\"new project folder created\")\n",
        "\n",
        "    os.chdir(project_folder)"
      ],
      "execution_count": 43,
      "outputs": [
        {
          "output_type": "stream",
          "text": [
            "Drive already mounted at /content/drive; to attempt to forcibly remount, call drive.mount(\"/content/drive\", force_remount=True).\n"
          ],
          "name": "stdout"
        }
      ]
    },
    {
      "cell_type": "markdown",
      "metadata": {
        "id": "PR1ZIud-YGIt",
        "colab_type": "text"
      },
      "source": [
        "#**Zen of python**\n",
        "\n"
      ]
    },
    {
      "cell_type": "code",
      "metadata": {
        "id": "ju2Yl4aLL44I",
        "colab_type": "code",
        "outputId": "3ba063b3-6203-4215-a422-f45237bd64be",
        "colab": {
          "base_uri": "https://localhost:8080/",
          "height": 374
        }
      },
      "source": [
        "#import this\n",
        "#del this\n",
        "import this\n",
        "#this?"
      ],
      "execution_count": 0,
      "outputs": [
        {
          "output_type": "stream",
          "text": [
            "The Zen of Python, by Tim Peters\n",
            "\n",
            "Beautiful is better than ugly.\n",
            "Explicit is better than implicit.\n",
            "Simple is better than complex.\n",
            "Complex is better than complicated.\n",
            "Flat is better than nested.\n",
            "Sparse is better than dense.\n",
            "Readability counts.\n",
            "Special cases aren't special enough to break the rules.\n",
            "Although practicality beats purity.\n",
            "Errors should never pass silently.\n",
            "Unless explicitly silenced.\n",
            "In the face of ambiguity, refuse the temptation to guess.\n",
            "There should be one-- and preferably only one --obvious way to do it.\n",
            "Although that way may not be obvious at first unless you're Dutch.\n",
            "Now is better than never.\n",
            "Although never is often better than *right* now.\n",
            "If the implementation is hard to explain, it's a bad idea.\n",
            "If the implementation is easy to explain, it may be a good idea.\n",
            "Namespaces are one honking great idea -- let's do more of those!\n"
          ],
          "name": "stdout"
        }
      ]
    },
    {
      "cell_type": "markdown",
      "metadata": {
        "id": "UcIwKhFL6kdW",
        "colab_type": "text"
      },
      "source": [
        "# **Introduction**"
      ]
    },
    {
      "cell_type": "code",
      "metadata": {
        "scrolled": true,
        "id": "eB5ij9K1L438",
        "colab_type": "code",
        "colab": {}
      },
      "source": [
        "x= \"Hello, world\"       #string\n",
        "y=5   \n",
        "print(x + \"   \" + x)      # add strings ( concatenate)\n",
        "print(y*10)"
      ],
      "execution_count": 0,
      "outputs": []
    },
    {
      "cell_type": "markdown",
      "metadata": {
        "id": "XrR7uQ1i4Nxr",
        "colab_type": "text"
      },
      "source": [
        "# **Clear output cell**"
      ]
    },
    {
      "cell_type": "code",
      "metadata": {
        "id": "i4YbLmTF4VeQ",
        "colab_type": "code",
        "colab": {}
      },
      "source": [
        "print(\"This is output cell to be cleared after clear output call\")\n",
        "from IPython.display import clear_output\n",
        "clear_output()"
      ],
      "execution_count": 0,
      "outputs": []
    },
    {
      "cell_type": "markdown",
      "metadata": {
        "id": "_kMsbpUI6ic2",
        "colab_type": "text"
      },
      "source": [
        "# **Global Variable declaration**"
      ]
    },
    {
      "cell_type": "code",
      "metadata": {
        "id": "s9EeejI1L44C",
        "colab_type": "code",
        "colab": {}
      },
      "source": [
        "# global variable inside function\n",
        "x=10\n",
        "print(x)\n",
        "def myfunc():\n",
        "    global x\n",
        "    x=5\n",
        "    print(x)\n",
        "\n",
        "myfunc()\n",
        "print(x)"
      ],
      "execution_count": 0,
      "outputs": []
    },
    {
      "cell_type": "markdown",
      "metadata": {
        "id": "qGrwCDOi7AJf",
        "colab_type": "text"
      },
      "source": [
        "# **Data types**"
      ]
    },
    {
      "cell_type": "code",
      "metadata": {
        "id": "Bl8iZaG1L44F",
        "colab_type": "code",
        "colab": {}
      },
      "source": [
        "# data types\n",
        "# use type() to check the data tyoe\n",
        "x=5 #int\n",
        "\n",
        "y = \"hello\"  #str\n",
        "z = 1j       #complex\n",
        "x = 20.56    #float \n",
        "x = range(6) #range\n",
        "x = {\"name\": \"john\",\"age\" :36} #dict\n",
        "x = [\"apple\", \"banana\"]   #list\n",
        "x = (\"apple\",\"banana\")   #tuple\n",
        "x = {\"apple\",\"cherry\"} # set\n",
        "x = frozenset(x)\n",
        "x = True        #bool \n",
        "x = b\"hello\"    #bytes\n",
        "x = bytearray(5)\n",
        "x = memoryview(bytes(5))\n",
        "print(x)\n",
        "print(type(x))"
      ],
      "execution_count": 0,
      "outputs": []
    },
    {
      "cell_type": "markdown",
      "metadata": {
        "id": "AosjUe811UD5",
        "colab_type": "text"
      },
      "source": [
        "# **WhiteSpace Formattting**"
      ]
    },
    {
      "cell_type": "code",
      "metadata": {
        "id": "wRjMQewuL44N",
        "colab_type": "code",
        "colab": {}
      },
      "source": [
        "# indentation - space is used\n",
        "a = 2 +\\\n",
        "3   # backslash means continue to next line like ... in matlab\n",
        "print(a)"
      ],
      "execution_count": 0,
      "outputs": []
    },
    {
      "cell_type": "markdown",
      "metadata": {
        "id": "7gTBuw1hZO8L",
        "colab_type": "text"
      },
      "source": [
        "# **Modules**"
      ]
    },
    {
      "cell_type": "code",
      "metadata": {
        "id": "kYXgq3vaXeJb",
        "colab_type": "code",
        "colab": {}
      },
      "source": [
        "import re\n",
        "my_regex = re.compile(\"[0-9]+\", re.I)\n",
        "print(my_regex)\n",
        "\n",
        "import matplotlib.pyplot as plt\n",
        "\n",
        "#If you need a few specific values from a module, you can import them explicitly and use them without qualification:\n",
        "from collections import defaultdict, Counter\n",
        "lookup = defaultdict(int)\n",
        "my_counter = Counter()"
      ],
      "execution_count": 0,
      "outputs": []
    },
    {
      "cell_type": "markdown",
      "metadata": {
        "id": "mmtvYHCt1Ge7",
        "colab_type": "text"
      },
      "source": [
        "#**Arithmetic**\n"
      ]
    },
    {
      "cell_type": "code",
      "metadata": {
        "id": "2708X6pHXe7p",
        "colab_type": "code",
        "colab": {}
      },
      "source": [
        "#Python 2.7 uses integer division by default, so that 5 / 2 equals 2. Almost always this is not what we want, so we will always start our files with:\n",
        "from __future__ import division\n",
        "print(5/2)\n",
        "print(5//2)  # works like floor function of matlab"
      ],
      "execution_count": 0,
      "outputs": []
    },
    {
      "cell_type": "markdown",
      "metadata": {
        "id": "fMnplf4E1nTr",
        "colab_type": "text"
      },
      "source": [
        "#**Functions**\n"
      ]
    },
    {
      "cell_type": "code",
      "metadata": {
        "id": "87akLuf0y0hq",
        "colab_type": "code",
        "colab": {}
      },
      "source": [
        "#A function is a rule for taking zero or more inputs and returning a corresponding output. In Python, we typically define functions using def:\n",
        "def double(x):\n",
        " \"\"\"this is where you put an optional docstring\n",
        "   that explains what the function does.\n",
        "   for example, this function multiplies its input by 2\"\"\"\n",
        " return x * 2\n",
        "\n",
        "print (double(3))"
      ],
      "execution_count": 0,
      "outputs": []
    },
    {
      "cell_type": "markdown",
      "metadata": {
        "id": "LOb2aArO7Szv",
        "colab_type": "text"
      },
      "source": [
        "##### **Functions are first-class** , which means that we can assign them to variables and pass them into functions just like any other arguments:"
      ]
    },
    {
      "cell_type": "code",
      "metadata": {
        "id": "5CcQw4g37Pgf",
        "colab_type": "code",
        "colab": {}
      },
      "source": [
        "def nested_func(f):    #calls function f with 10 as its argument\n",
        "  return f(10)\n",
        "\n",
        "print(nested_func(double))   # double function created in above cell - run that first"
      ],
      "execution_count": 0,
      "outputs": []
    },
    {
      "cell_type": "markdown",
      "metadata": {
        "id": "vo8quQES7gq3",
        "colab_type": "text"
      },
      "source": [
        "#### Anonymous functions, or lambdas:\n"
      ]
    },
    {
      "cell_type": "code",
      "metadata": {
        "id": "X7_f7gV37eSa",
        "colab_type": "code",
        "colab": {}
      },
      "source": [
        "y = nested_func(lambda x: x+9)     ##lambda is anonymous function here\n",
        "print(y)"
      ],
      "execution_count": 0,
      "outputs": []
    },
    {
      "cell_type": "markdown",
      "metadata": {
        "id": "7X4il0hY8IpX",
        "colab_type": "text"
      },
      "source": [
        "#### Lambdas to variables\n"
      ]
    },
    {
      "cell_type": "code",
      "metadata": {
        "id": "ly4jjzfn8N2O",
        "colab_type": "code",
        "colab": {}
      },
      "source": [
        "another_double = lambda x: 2*x + 3   # dont do this use def instead as shown in next cell\n",
        "\n",
        "print(another_double(4))"
      ],
      "execution_count": 0,
      "outputs": []
    },
    {
      "cell_type": "markdown",
      "metadata": {
        "id": "cQAVxoM88mOJ",
        "colab_type": "text"
      },
      "source": [
        "#### def to define function"
      ]
    },
    {
      "cell_type": "code",
      "metadata": {
        "id": "vr6klLCb8pFO",
        "colab_type": "code",
        "colab": {}
      },
      "source": [
        "def another_double(x): return 2*x + 3 \n",
        "print(another_double(4))"
      ],
      "execution_count": 0,
      "outputs": []
    },
    {
      "cell_type": "markdown",
      "metadata": {
        "id": "IHQFasrp9BzD",
        "colab_type": "text"
      },
      "source": [
        "#### Deafult input to function parameters"
      ]
    },
    {
      "cell_type": "code",
      "metadata": {
        "id": "5zLrLE368Wl3",
        "colab_type": "code",
        "colab": {}
      },
      "source": [
        "def default_fucntion(x=10):  #default values to function is 10 now\n",
        "  return x*2\n",
        "\n",
        "print(default_fucntion(4))    # with input    = 4 * 2 = 8\n",
        "print(default_fucntion())    # with no input  = 10 * 2 = 20\n"
      ],
      "execution_count": 0,
      "outputs": []
    },
    {
      "cell_type": "markdown",
      "metadata": {
        "id": "gcKp1HBi9wuN",
        "colab_type": "text"
      },
      "source": [
        "#### Calling functions with variable names and default values  "
      ]
    },
    {
      "cell_type": "code",
      "metadata": {
        "id": "1Q8bZoZz9UGg",
        "colab_type": "code",
        "colab": {}
      },
      "source": [
        "def substract(a=10,b=3):      # default values \n",
        "    return a-b\n",
        "  \n",
        "print(substract(5))         # a = 5 ,          b = 3 (default)\n",
        "print(substract(5,2))       # a = 5 ,          b = 2\n",
        "print(substract(b=5))       # a = 10(default)  b = 5\n",
        "print(substract(a=15,b=4))  # a = 15 ,         b = 4"
      ],
      "execution_count": 0,
      "outputs": []
    },
    {
      "cell_type": "markdown",
      "metadata": {
        "id": "9DaA2P6T8Har",
        "colab_type": "text"
      },
      "source": [
        "#**Strings**"
      ]
    },
    {
      "cell_type": "code",
      "metadata": {
        "id": "P9JSR2jBEHhw",
        "colab_type": "code",
        "colab": {}
      },
      "source": [
        "#Strings can be delimited by single or double quotation marks (but the quotes have to match):\n",
        "\n",
        "a = 'apple'\n",
        "b = \"red\"\n",
        "print(a)\n",
        "print(b)"
      ],
      "execution_count": 0,
      "outputs": []
    },
    {
      "cell_type": "markdown",
      "metadata": {
        "id": "9YURrPyG_L6P",
        "colab_type": "text"
      },
      "source": [
        "#### Special Characters - backslash \\"
      ]
    },
    {
      "cell_type": "code",
      "metadata": {
        "id": "E_6-Ozey_Jiv",
        "colab_type": "code",
        "colab": {}
      },
      "source": [
        "#Python uses backslashes to encode special characters. For example:\n",
        "c = \" my\\tapple\"     # \\t is tab - 2 size space\n",
        "print(c)\n",
        "print(len(c))"
      ],
      "execution_count": 0,
      "outputs": []
    },
    {
      "cell_type": "markdown",
      "metadata": {
        "id": "7Z0eN0TG_lsO",
        "colab_type": "text"
      },
      "source": [
        "#### Raw strings r\" \""
      ]
    },
    {
      "cell_type": "code",
      "metadata": {
        "id": "3IDPjldy_KMZ",
        "colab_type": "code",
        "colab": {}
      },
      "source": [
        "#If you want backslashes as backslashes (which you might in Windows directory names or in regular expressions), you can create raw strings using r\"\":\n",
        "\n",
        "not_tab_string = r\"\\t\"          # represents the characters '\\' and 't'\n",
        "print(not_tab_string)\n",
        "print(len(not_tab_string)) # is 2"
      ],
      "execution_count": 0,
      "outputs": []
    },
    {
      "cell_type": "markdown",
      "metadata": {
        "id": "N7SY9kIK_2C3",
        "colab_type": "text"
      },
      "source": [
        "#### Multi line string  - Use 3 quotes \"\"\""
      ]
    },
    {
      "cell_type": "code",
      "metadata": {
        "id": "7J-N5qtT_Kbo",
        "colab_type": "code",
        "colab": {}
      },
      "source": [
        "#You can create multiline strings using triple-[double-]-quotes:\n",
        "multi_line_string = \"\"\"This is the first line.\n",
        "and this is the second line\n",
        "and this is the third line\"\"\"\n",
        "print(multi_line_string)"
      ],
      "execution_count": 0,
      "outputs": []
    },
    {
      "cell_type": "markdown",
      "metadata": {
        "id": "dsuYvsQRSYxA",
        "colab_type": "text"
      },
      "source": [
        "#**Exception - Try Catch**\n",
        "---"
      ]
    },
    {
      "cell_type": "code",
      "metadata": {
        "id": "DpltajKmSdlj",
        "colab_type": "code",
        "colab": {}
      },
      "source": [
        "#When something goes wrong, Python raises an exception. Unhandled, these will cause your program to crash. You can handle them using try and except:\n",
        "\n",
        "try:\n",
        " print (0 / 0)\n",
        "except ZeroDivisionError:\n",
        " print (\"cannot divide by zero\")"
      ],
      "execution_count": 0,
      "outputs": []
    },
    {
      "cell_type": "markdown",
      "metadata": {
        "id": "YUSrF7Itb_F7",
        "colab_type": "text"
      },
      "source": [
        "# **Data Types**\n",
        "---"
      ]
    },
    {
      "cell_type": "markdown",
      "metadata": {
        "id": "UUCyaeWMSxJT",
        "colab_type": "text"
      },
      "source": [
        "### **Lists** [1,2,3]  or [1,\"dushyant\", True]   like an array"
      ]
    },
    {
      "cell_type": "code",
      "metadata": {
        "id": "L1v3A6TQS0fj",
        "colab_type": "code",
        "colab": {}
      },
      "source": [
        "# list is simply an ordered collection . like an array , but with added functionality\n",
        "\n",
        "int_list          = [1 ,2,3]\n",
        "heterogenous_list = [\"string\" , 0.1, True]\n",
        "list_of_lists     = [int_list, heterogenous_list, []]\n",
        "\n",
        "print( len(int_list))\n",
        "print(sum(int_list))"
      ],
      "execution_count": 0,
      "outputs": []
    },
    {
      "cell_type": "markdown",
      "metadata": {
        "id": "0eRPnfmRCxRK",
        "colab_type": "text"
      },
      "source": [
        "#### Indexing lists"
      ]
    },
    {
      "cell_type": "code",
      "metadata": {
        "colab_type": "code",
        "id": "p0ZYKeJICCvi",
        "colab": {}
      },
      "source": [
        "# You can get or set the nth element of a list with square brackets:\n",
        "\n",
        "x = range(10)  ## is the list  from 0 to 9 not 10  [0,1,2,3,4,5,6,7,8,9]\n",
        "print(len(x))\n",
        "\n",
        "print(x[0])   # first element\n",
        "print(x[1])   # second element\n",
        "\n",
        "print(x[-1])   # indexing from end using -number - -1 means the last number and 0 means the first number\n",
        "print(x[4:])   # print from 5th index till end\n",
        "print(x[4:6])   # print from 5th to 7th index \n",
        "print(x[1:-1])  ## except first"
      ],
      "execution_count": 0,
      "outputs": []
    },
    {
      "cell_type": "markdown",
      "metadata": {
        "id": "UBUX0ukgCDY4",
        "colab_type": "text"
      },
      "source": [
        "#### 'in' operator check"
      ]
    },
    {
      "cell_type": "code",
      "metadata": {
        "id": "PRx8-jY9Bxdn",
        "colab_type": "code",
        "colab": {}
      },
      "source": [
        "# Python has an 'in'  operator to check for list membership:\n",
        "x = [1,2,3,4,5,6,7,8,9]\n",
        "print(1 in x)  #true \n",
        "print(20 in x) #false"
      ],
      "execution_count": 0,
      "outputs": []
    },
    {
      "cell_type": "markdown",
      "metadata": {
        "id": "dcjafrVTB9fH",
        "colab_type": "text"
      },
      "source": [
        "#### Extending lists or appending lists"
      ]
    },
    {
      "cell_type": "code",
      "metadata": {
        "id": "wOVukAM0Bzbv",
        "colab_type": "code",
        "colab": {}
      },
      "source": [
        "y  =     [1,4]\n",
        "y.extend([11])\n",
        "print(y)             # [1, 4, 11]\n",
        "\n",
        "# If you don’t want to modify y you can use list addition:\n",
        "y1 = [1,5]\n",
        "z = y1 + y      # [1, 5, 1, 4, 11]\n",
        "print(z)\n",
        "\n",
        "#appending one by one\n",
        "z.append(9)    #[1, 5, 1, 4, 11, 9]\n",
        "print(z)"
      ],
      "execution_count": 0,
      "outputs": []
    },
    {
      "cell_type": "markdown",
      "metadata": {
        "id": "EcqvVo61B513",
        "colab_type": "text"
      },
      "source": [
        "#### Unpacking List"
      ]
    },
    {
      "cell_type": "code",
      "metadata": {
        "id": "PB9K1-kiB4_v",
        "colab_type": "code",
        "colab": {}
      },
      "source": [
        "# unpacking list\n",
        "x,y = [1,2]   ### you will get ValueError if you dont have the same number of elements on both sides\n",
        "print(x,y)\n",
        "\n",
        "_,y = [3,4]  #It’s common to use an underscore for a value you’re going to throw away:\n",
        "print(y)"
      ],
      "execution_count": 0,
      "outputs": []
    },
    {
      "cell_type": "markdown",
      "metadata": {
        "id": "KkyrXcldKgVx",
        "colab_type": "text"
      },
      "source": [
        "### **Tuples  (1,2) or 1,2** and cannot be modified\n",
        "---"
      ]
    },
    {
      "cell_type": "code",
      "metadata": {
        "id": "UmFJNb3vObuv",
        "colab_type": "code",
        "colab": {}
      },
      "source": [
        "#Tuples are lists’ immutable cousins. Pretty much anything you can do to a list that doesn’t\n",
        "#involve modifying it, you can do to a tuple. You specify a tuple by using parentheses (or\n",
        "#nothing) instead of square brackets:'''\n",
        "\n",
        "alist = [1,2,3]\n",
        "atuple = (1,2)\n",
        "a1tuple = 1,2\n",
        "print(alist)\n",
        "#list can be changed but tuple cannot be changed\n",
        "alist[2] = 4\n",
        "print(alist)\n",
        "\n",
        "try:\n",
        " a1tuple[1] = 3\n",
        "except TypeError:\n",
        " print (\"cannot modify a tuple\")\n",
        "\n",
        "#Tuples are a convenient way to return multiple values from functions:\n",
        "\n",
        "def sum_and_product(x,y):\n",
        " return x+y,x*y\n",
        "\n",
        "sp = sum_and_product(5,2)\n",
        "print(sp)\n",
        "s,p = sum_and_product(5,2)\n",
        "print(s,p)"
      ],
      "execution_count": 0,
      "outputs": []
    },
    {
      "cell_type": "markdown",
      "metadata": {
        "id": "iDqLiotoTgJD",
        "colab_type": "text"
      },
      "source": [
        "###**Dictionaries {} or dict()**  - used for mapping key item with value from Collections\n",
        "---"
      ]
    },
    {
      "cell_type": "code",
      "metadata": {
        "id": "cn3gF8c8Tlm2",
        "colab_type": "code",
        "colab": {}
      },
      "source": [
        "#Another fundamental data structure is a dictionary, which associates values with keys and allows you to quickly retrieve the value corresponding to a given key:\n",
        "\n",
        "empty_dict = {}      #pythonic\n",
        "empty_dict2 = dict() # less pythonic\n",
        "\n",
        "grades = {\"Joel\":80,\"Tim\":95}\n",
        "print(grades)"
      ],
      "execution_count": 0,
      "outputs": []
    },
    {
      "cell_type": "markdown",
      "metadata": {
        "id": "6Csoshee0_O4",
        "colab_type": "text"
      },
      "source": [
        "#### add new key and value - [ ] Square brackets"
      ]
    },
    {
      "cell_type": "code",
      "metadata": {
        "id": "WtQubQ7i1GC4",
        "colab_type": "code",
        "colab": {}
      },
      "source": [
        "grades = {\"Joel\":80,\"Tim\":95}\n",
        "# You assign key-value pairs using the same square brackets:\n",
        "print(grades)\n",
        "grades[\"dushyant\"] = 90\n",
        "print(grades)"
      ],
      "execution_count": 0,
      "outputs": []
    },
    {
      "cell_type": "markdown",
      "metadata": {
        "id": "uC_WIgDYVYcG",
        "colab_type": "text"
      },
      "source": [
        "#### lookup for key value - [ ] Square brackets"
      ]
    },
    {
      "cell_type": "code",
      "metadata": {
        "id": "TYhqKecSVcl2",
        "colab_type": "code",
        "colab": {}
      },
      "source": [
        "# you can look up the value for a key using square brackets:\n",
        "grades = {\"Joel\":80,\"Tim\":95}\n",
        "print( grades[\"Joel\"])"
      ],
      "execution_count": 0,
      "outputs": []
    },
    {
      "cell_type": "markdown",
      "metadata": {
        "id": "ulcNMCYU0Sd2",
        "colab_type": "text"
      },
      "source": [
        "#### Check key existence"
      ]
    },
    {
      "cell_type": "markdown",
      "metadata": {
        "id": "vbWo5ltjz255",
        "colab_type": "text"
      },
      "source": [
        "###### Using try catch method & KeyError"
      ]
    },
    {
      "cell_type": "code",
      "metadata": {
        "id": "hYaji1GfdVwm",
        "colab_type": "code",
        "colab": {}
      },
      "source": [
        "grades = {\"Joel\":80,\"Tim\":95}\n",
        "try:\n",
        "  kates_grade = grades[\"kate\"]\n",
        "except KeyError:\n",
        "  print('Kate is not a key')"
      ],
      "execution_count": 0,
      "outputs": []
    },
    {
      "cell_type": "markdown",
      "metadata": {
        "id": "4Jo__qFhVtLG",
        "colab_type": "text"
      },
      "source": [
        "###### Using 'in' operator \n"
      ]
    },
    {
      "cell_type": "code",
      "metadata": {
        "id": "woEWmZ1g0BKs",
        "colab_type": "code",
        "colab": {}
      },
      "source": [
        "grades = {\"Joel\":80,\"Tim\":95}\n",
        "print( \"Joel\" in grades)  #true\n",
        "print(\"Kate\" in grades)  #false"
      ],
      "execution_count": 0,
      "outputs": []
    },
    {
      "cell_type": "markdown",
      "metadata": {
        "id": "tFLOS4xh0yss",
        "colab_type": "text"
      },
      "source": [
        "#### look up for all keys"
      ]
    },
    {
      "cell_type": "code",
      "metadata": {
        "id": "F2oYizTmdZ5P",
        "colab_type": "code",
        "colab": {}
      },
      "source": [
        "grades = {\"Joel\":80,\"Tim\":95}\n",
        "\n",
        "#Besides looking for specific keys we can look at all of them:\n",
        "grades_keys   = grades.keys()      # key (item name)\n",
        "grades_values = grades.values()  # value of item\n",
        "grades_items  = grades.items()    # pairs of items and values \n",
        "\n",
        "print(grades_items)   # [('Joel', 80), ('Tim', 95)] # list of tuples\n",
        "print(grades_values)  # [80, 95]      #list\n",
        "print(grades_keys)    #['Joel', 'Tim']   #list"
      ],
      "execution_count": 0,
      "outputs": []
    },
    {
      "cell_type": "code",
      "metadata": {
        "id": "_QKEKxa5dh3D",
        "colab_type": "code",
        "colab": {}
      },
      "source": [
        "grades = {\"Joel\":80,\"Tim\":95}\n",
        "\n",
        "print(\"Joel\" in grades_keys)  # True, but uses a slow list in\n",
        "print(\"Joel\" in grades)                  # more Pythonic, uses faster dict in"
      ],
      "execution_count": 0,
      "outputs": []
    },
    {
      "cell_type": "markdown",
      "metadata": {
        "id": "z7Vu7qptxyY7",
        "colab_type": "text"
      },
      "source": [
        "### **defaultdict**  - creates new key if key is not found -> import them from collections: \n",
        "---\n",
        "\n"
      ]
    },
    {
      "cell_type": "markdown",
      "metadata": {
        "id": "NMxW7Fqbzc1V",
        "colab_type": "text"
      },
      "source": [
        "#### defaultdict is like a regular dictionary, except that when you try to look up a key it doesn’t contain, it first adds a value for it using a zero-argument function you provided when you created it. \n"
      ]
    },
    {
      "cell_type": "code",
      "metadata": {
        "colab_type": "code",
        "id": "m-lZvUSpzbye",
        "colab": {}
      },
      "source": [
        "#In order to use defaultdicts, you have to import them from collections:\n",
        "\n",
        "\n",
        "document = [\"the\",\"apple\",\"red\", \"the\" ,\"red\"]\n",
        "from collections import defaultdict\n",
        "\n",
        "word_counts = defaultdict(int) # int() produces 0 \n",
        "for word in document:\n",
        "  word_counts[word] += 1   # same as  word_counts[word] =   word_counts[word] + 10  \n",
        "print(word_counts)"
      ],
      "execution_count": 0,
      "outputs": []
    },
    {
      "cell_type": "markdown",
      "metadata": {
        "id": "jxomQjAtu01S",
        "colab_type": "text"
      },
      "source": [
        "#### using list or dict or own functions with defaultdict()"
      ]
    },
    {
      "cell_type": "code",
      "metadata": {
        "id": "O-3Asa-eeJC-",
        "colab_type": "code",
        "colab": {}
      },
      "source": [
        "#They can also be useful with list or dict or even your own functions:\n",
        "\n",
        "dd_list = defaultdict(list)\n",
        "dd_list[\"dus\"].append(\"klm\")    # {'dus': ['klm'] } - dus is key and klm is added as list \n",
        "print(dd_list)\n",
        "\n",
        "dd_dict = defaultdict(dict)    # dict() produces an empty dict\n",
        "dd_dict[\"Joel\"][\"city\"] = \"Seattle\"     #defaultdict(<class 'dict'>, {'Joel': {'city': 'Seattle'}})\n",
        "print(dd_dict)"
      ],
      "execution_count": 0,
      "outputs": []
    },
    {
      "cell_type": "markdown",
      "metadata": {
        "id": "Vbanex5Kuu0O",
        "colab_type": "text"
      },
      "source": [
        "#### default values with defaultdict()"
      ]
    },
    {
      "cell_type": "code",
      "metadata": {
        "id": "BlHraWiAeN3I",
        "colab_type": "code",
        "colab": {}
      },
      "source": [
        "dd_pair = defaultdict(lambda: [0,2])\n",
        "dd_pair[\"dus1\"]     = [0,0 ,1]                   # {'dus1': [0, 0, 1]}  overwriting the whole key dus1\n",
        "print(dd_pair)\n",
        "\n",
        "dd_pair[\"dus2\"][1]  = 5                   # {'dus1': [0, 0, 1], 'dus2': [0, 5]}         redefine 2nd value from 2 to 5\n",
        "print(dd_pair)"
      ],
      "execution_count": 0,
      "outputs": []
    },
    {
      "cell_type": "markdown",
      "metadata": {
        "id": "HZObER7syQY3",
        "colab_type": "text"
      },
      "source": [
        "###**Counter   -   module name - Collections**"
      ]
    },
    {
      "cell_type": "code",
      "metadata": {
        "id": "wcbOk52fKftM",
        "colab_type": "code",
        "colab": {}
      },
      "source": [
        "# A Counter turns a sequence of values into a defaultdict(int)-like object mapping keys to counts. \n",
        "# We will primarily use it to create histograms:\n",
        "\n",
        "from collections import Counter\n",
        "c = Counter([0,1,2,3,0,2,4,5,2,3])\n",
        "print(c)"
      ],
      "execution_count": 0,
      "outputs": []
    },
    {
      "cell_type": "markdown",
      "metadata": {
        "id": "vp8LBCD3VCV_",
        "colab_type": "text"
      },
      "source": [
        "#### **most_common** method"
      ]
    },
    {
      "cell_type": "code",
      "metadata": {
        "id": "Luhao-Ureo9Y",
        "colab_type": "code",
        "colab": {}
      },
      "source": [
        "from collections import Counter\n",
        "document = [\"red\",\"orange\",\"red\",\"yellow\",\"black\",\"orange\",\"red\"]\n",
        "word_count = Counter(document)\n",
        "\n",
        "# A Counter instance has a most_common method that is frequently useful:\n",
        "\n",
        "for word,count in word_count.most_common(1):  # most repeating terms\n",
        "  print(word,\" is repeating \",count,\" times \")"
      ],
      "execution_count": 0,
      "outputs": []
    },
    {
      "cell_type": "markdown",
      "metadata": {
        "id": "EgAkGWsELSbn",
        "colab_type": "text"
      },
      "source": [
        "###**Sets**  - distinct element set -- \"in\" is a very fast operation on sets. better than list"
      ]
    },
    {
      "cell_type": "code",
      "metadata": {
        "id": "QQXR1CqxLTzQ",
        "colab_type": "code",
        "outputId": "96792b9d-28b2-4328-f037-7c318510fbc7",
        "colab": {
          "base_uri": "https://localhost:8080/",
          "height": 34
        }
      },
      "source": [
        "# Another data structure is set, which represents a collection of DISTINCT elements:\n",
        "\n",
        "s = set() \n",
        "s.add(1)\n",
        "s.add(2)\n",
        "print(s)  #{1,2}"
      ],
      "execution_count": 0,
      "outputs": [
        {
          "output_type": "stream",
          "text": [
            "{1, 2}\n"
          ],
          "name": "stdout"
        }
      ]
    },
    {
      "cell_type": "markdown",
      "metadata": {
        "id": "vrW82bW14Jd4",
        "colab_type": "text"
      },
      "source": [
        "### We’ll use sets for two main reasons. \n",
        "\n"
      ]
    },
    {
      "cell_type": "markdown",
      "metadata": {
        "id": "eDNCfBXwqO38",
        "colab_type": "text"
      },
      "source": [
        "#### 1) 'in' operation is very fast in sets than list\n",
        "\n"
      ]
    },
    {
      "cell_type": "code",
      "metadata": {
        "id": "-uvBl5iuqqY8",
        "colab_type": "code",
        "colab": {}
      },
      "source": [
        "#If we have a large collection of items that we want to use for a membership test, a set is more appropriate than a list\n",
        "\n",
        "stopwords_list = [\"a\", \"an\" ,\"at\"] + [\"yet\", \"you\"]    #list \n",
        "print(stopwords_list)       #['a', 'an', 'at', 'yet', 'you']\n",
        "print(\"zip\" in stopwords_list)    #false\n",
        "\n",
        "stopwords_set = set(stopwords_list)\n",
        "print(stopwords_set)       #{'an', 'a', 'at', 'yet', 'you'}\n",
        "print(\"zip\" in stopwords_set)    #false"
      ],
      "execution_count": 0,
      "outputs": []
    },
    {
      "cell_type": "markdown",
      "metadata": {
        "id": "MvAyEDh7qarr",
        "colab_type": "text"
      },
      "source": [
        "#### 2) Distinct Elemetns in collection only - (unique)"
      ]
    },
    {
      "cell_type": "code",
      "metadata": {
        "id": "_bI73tJOqtF3",
        "colab_type": "code",
        "colab": {}
      },
      "source": [
        "item_list = [1,2,3,1,2,3]    # example of list\n",
        "print(len(item_list) ) # 6\n",
        "\n",
        "item_set = set(item_list) #{1, 2, 3}   convert list to set  \n",
        "print(item_set)  \n",
        "print(len(item_set) )  # 3\n",
        "\n",
        "distinct_item_list = list(item_set) # [1, 2, 3]  # convert set to list\n",
        "print(distinct_item_list)\n",
        "#We’ll use sets much less frequently than dicts and lists."
      ],
      "execution_count": 0,
      "outputs": []
    },
    {
      "cell_type": "markdown",
      "metadata": {
        "id": "7Km0Pk5Wq2qP",
        "colab_type": "text"
      },
      "source": [
        "#**Control Flow**"
      ]
    },
    {
      "cell_type": "markdown",
      "metadata": {
        "id": "UL5lTxsX9U0B",
        "colab_type": "text"
      },
      "source": [
        "### If else logic"
      ]
    },
    {
      "cell_type": "code",
      "metadata": {
        "id": "VoHvwrLI4XBG",
        "colab_type": "code",
        "colab": {}
      },
      "source": [
        "# As in most programming languages, you can perform an action conditionally using if:\n",
        "x=2\n",
        "\n",
        "if  x<2:\n",
        "  print(\" x is less than 2\")\n",
        "elif x > 2:\n",
        " print(\" x is greater than 2\")\n",
        "else:\n",
        "  print(\"x is 2\")"
      ],
      "execution_count": 0,
      "outputs": []
    },
    {
      "cell_type": "markdown",
      "metadata": {
        "id": "6QdV4wnf5a3V",
        "colab_type": "text"
      },
      "source": [
        "### if-then-else on one line , "
      ]
    },
    {
      "cell_type": "code",
      "metadata": {
        "id": "epYxT6yF5q3k",
        "colab_type": "code",
        "colab": {}
      },
      "source": [
        "parity =\"even\" if x % 2 == 0 else \"odd\"\n",
        "print(\"x value is \",x, \"which is \",parity)"
      ],
      "execution_count": 0,
      "outputs": []
    },
    {
      "cell_type": "markdown",
      "metadata": {
        "id": "pXKjBllQ75_5",
        "colab_type": "text"
      },
      "source": [
        "### While Loop"
      ]
    },
    {
      "cell_type": "code",
      "metadata": {
        "id": "xF0dN6oM9ZFX",
        "colab_type": "code",
        "colab": {}
      },
      "source": [
        "x=1\n",
        "while x<10:\n",
        "  print(x)\n",
        "  x += 1"
      ],
      "execution_count": 0,
      "outputs": []
    },
    {
      "cell_type": "markdown",
      "metadata": {
        "id": "nIUswtJd9lsw",
        "colab_type": "text"
      },
      "source": [
        "### using 'for' and 'in'"
      ]
    },
    {
      "cell_type": "code",
      "metadata": {
        "id": "V6sEppBw9u__",
        "colab_type": "code",
        "colab": {}
      },
      "source": [
        "for x in range(10):\n",
        " print(x,\"is less than 10\")"
      ],
      "execution_count": 0,
      "outputs": []
    },
    {
      "cell_type": "markdown",
      "metadata": {
        "id": "VSeGJWy-92d5",
        "colab_type": "text"
      },
      "source": [
        "### continue and break"
      ]
    },
    {
      "cell_type": "code",
      "metadata": {
        "id": "cbPq6Dou-eFY",
        "colab_type": "code",
        "colab": {}
      },
      "source": [
        "for x in range(6):\n",
        " if x == 3:\n",
        "    continue   # go to next iteration\n",
        " if x== 6:\n",
        "  break\n",
        " print(x)"
      ],
      "execution_count": 0,
      "outputs": []
    },
    {
      "cell_type": "markdown",
      "metadata": {
        "id": "TJ05sfy_-vrh",
        "colab_type": "text"
      },
      "source": [
        "# **Truthiness**"
      ]
    },
    {
      "cell_type": "code",
      "metadata": {
        "id": "OHOPrhMa-5Jp",
        "colab_type": "code",
        "outputId": "37745427-39d0-4fa3-e60e-6e19529d2774",
        "colab": {
          "base_uri": "https://localhost:8080/",
          "height": 34
        }
      },
      "source": [
        "# Booleans in Python work as in most other languages, except that they’re capitalized:\n",
        "check_condition = 1>2    #false\n",
        "print(check_condition)\n"
      ],
      "execution_count": 0,
      "outputs": [
        {
          "output_type": "stream",
          "text": [
            "False\n"
          ],
          "name": "stdout"
        }
      ]
    },
    {
      "cell_type": "code",
      "metadata": {
        "id": "K0WdUxJO_cXS",
        "colab_type": "code",
        "colab": {}
      },
      "source": [
        "#Python uses the value none to indicae a non existent value. It is similar to other languages - null :\n",
        "x = None\n",
        "print(x)   #None\n",
        "print(x==5)   #false\n",
        "print(x == None)  # true prints true but is not pythonic\n",
        "print(x is None)   # true prints true and is Pythonic"
      ],
      "execution_count": 0,
      "outputs": []
    },
    {
      "cell_type": "code",
      "metadata": {
        "id": "7djczIIN_pZC",
        "colab_type": "code",
        "colab": {}
      },
      "source": [
        "\"\"\"\n",
        "Python lets you use any value where it expects a boolean. The folowing are all 'Falsy'\n",
        "False\n",
        "None\n",
        "[] (an empty list)\n",
        "{} (an empty dict)\n",
        "\"\"  (an empty strig)\n",
        "set()  (empty set)\n",
        "0\n",
        "0.0  \n",
        "\"\"\"\n",
        "\n"
      ],
      "execution_count": 0,
      "outputs": []
    },
    {
      "cell_type": "markdown",
      "metadata": {
        "id": "eE7xmUqb3yOy",
        "colab_type": "text"
      },
      "source": [
        "#### check truthiness in empty string"
      ]
    },
    {
      "cell_type": "code",
      "metadata": {
        "colab_type": "code",
        "id": "ky2fdW_kR7fq",
        "colab": {}
      },
      "source": [
        "s = \"\"\n",
        "if s:\n",
        "  print(\"not empty\")\n",
        "else:\n",
        "  print(\"string is empty\")"
      ],
      "execution_count": 0,
      "outputs": []
    },
    {
      "cell_type": "markdown",
      "metadata": {
        "id": "RDdFZ8xXR785",
        "colab_type": "text"
      },
      "source": [
        "#### Simpler way of doing above"
      ]
    },
    {
      "cell_type": "code",
      "metadata": {
        "id": "5ee6Cena3-w5",
        "colab_type": "code",
        "colab": {}
      },
      "source": [
        "s = \"AAdsf\"\n",
        "first_char = s and s[0]\n",
        "print(first_char)\n",
        "#since and returns its second value when the first is “truthy,” \n",
        "#the first value when it’s not.\n",
        "#Similarly, if x is either a number or possibly None:\n",
        "  \n",
        "x=None  \n",
        "y=5\n",
        "safe_x = x or 1  \n",
        "safe_y = y or 0\n",
        "print(safe_x)\n",
        "print(safe_y)"
      ],
      "execution_count": 0,
      "outputs": []
    },
    {
      "cell_type": "markdown",
      "metadata": {
        "id": "vHYdwUgY4qbH",
        "colab_type": "text"
      },
      "source": [
        "### all function"
      ]
    },
    {
      "cell_type": "code",
      "metadata": {
        "id": "GIR3O4e55UIq",
        "colab_type": "code",
        "outputId": "5e92702c-ad96-4673-c833-09e5f59a58cd",
        "colab": {
          "base_uri": "https://localhost:8080/",
          "height": 102
        }
      },
      "source": [
        "#takes list input and returns true if all element are truth\n",
        "xx = [True , 1 ,{3}]     #true\n",
        "yy = [True,0,{3}]        #false\n",
        "print(all(xx))  #true\n",
        "print(all(yy))  #false\n",
        "\n",
        "print(any(xx))  #true\n",
        "print(any(yy))  #true\n",
        "print(any([])) #false"
      ],
      "execution_count": 0,
      "outputs": [
        {
          "output_type": "stream",
          "text": [
            "True\n",
            "False\n",
            "True\n",
            "True\n",
            "False\n"
          ],
          "name": "stdout"
        }
      ]
    },
    {
      "cell_type": "markdown",
      "metadata": {
        "id": "2vQW-uB_6wBc",
        "colab_type": "text"
      },
      "source": [
        "## The Not - So - Basics"
      ]
    },
    {
      "cell_type": "markdown",
      "metadata": {
        "id": "A_-d8TEB6zys",
        "colab_type": "text"
      },
      "source": [
        "### Sorting"
      ]
    },
    {
      "cell_type": "code",
      "metadata": {
        "id": "ZfaqD8_H68X0",
        "colab_type": "code",
        "outputId": "c2aa6c9c-c67c-45ff-fb63-b6b4b5b7ae4b",
        "colab": {
          "base_uri": "https://localhost:8080/",
          "height": 68
        }
      },
      "source": [
        "x = [4,1,2,3]\n",
        "print(x)\n",
        "y = sorted(x)    #yis new list with sorted order of x\n",
        "print(y)\n",
        "x.sort()  # x is sorted now\n",
        "print(x)\n"
      ],
      "execution_count": 0,
      "outputs": [
        {
          "output_type": "stream",
          "text": [
            "[4, 1, 2, 3]\n",
            "[1, 2, 3, 4]\n",
            "[1, 2, 3, 4]\n"
          ],
          "name": "stdout"
        }
      ]
    },
    {
      "cell_type": "markdown",
      "metadata": {
        "id": "jaPqguKd8uoS",
        "colab_type": "text"
      },
      "source": [
        "#### Sorting in reverse order with another function"
      ]
    },
    {
      "cell_type": "code",
      "metadata": {
        "id": "Vm4DqHl480Eb",
        "colab_type": "code",
        "outputId": "67753f84-184f-48c5-85d7-2b1700ca8055",
        "colab": {
          "base_uri": "https://localhost:8080/",
          "height": 129
        }
      },
      "source": [
        "# sort the list based on abs value from largest to smallest \n",
        "\n",
        "x = sorted([1,-4,5,-3],key =abs, reverse=True)\n",
        "print(x)   #[5, -4, -3, 1]\n",
        "\n",
        "\n",
        "from collections import Counter\n",
        "document = [\"red\",\"orange\",\"red\",\"yellow\",\"black\",\"orange\",\"red\"]\n",
        "word_count = Counter(document)\n",
        "word_count.items()\n",
        "#sort the words and counts from highest count to lowest\n",
        "wc = sorted(word_count.items(), key=lambda (word, count): count, reverse = True)\n",
        "\n"
      ],
      "execution_count": 0,
      "outputs": [
        {
          "output_type": "error",
          "ename": "SyntaxError",
          "evalue": "ignored",
          "traceback": [
            "\u001b[0;36m  File \u001b[0;32m\"<ipython-input-42-e12dbe9eadf9>\"\u001b[0;36m, line \u001b[0;32m11\u001b[0m\n\u001b[0;31m    wc = sorted(word_count.items(), key=lambda (word, count): count, reverse = True)\u001b[0m\n\u001b[0m                                               ^\u001b[0m\n\u001b[0;31mSyntaxError\u001b[0m\u001b[0;31m:\u001b[0m invalid syntax\n"
          ]
        }
      ]
    }
  ]
}