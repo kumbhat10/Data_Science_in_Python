{
  "nbformat": 4,
  "nbformat_minor": 0,
  "metadata": {
    "kernelspec": {
      "display_name": "Python 3",
      "language": "python",
      "name": "python3"
    },
    "language_info": {
      "codemirror_mode": {
        "name": "ipython",
        "version": 3
      },
      "file_extension": ".py",
      "mimetype": "text/x-python",
      "name": "python",
      "nbconvert_exporter": "python",
      "pygments_lexer": "ipython3",
      "version": "3.7.4"
    },
    "colab": {
      "name": "Introduction_to_python.ipynb",
      "provenance": [],
      "collapsed_sections": [],
      "toc_visible": true,
      "include_colab_link": true
    }
  },
  "cells": [
    {
      "cell_type": "markdown",
      "metadata": {
        "id": "view-in-github",
        "colab_type": "text"
      },
      "source": [
        "<a href=\"https://colab.research.google.com/github/kumbhat10/Learning_Python/blob/master/Introduction_to_python.ipynb\" target=\"_parent\"><img src=\"https://colab.research.google.com/assets/colab-badge.svg\" alt=\"Open In Colab\"/></a>"
      ]
    },
    {
      "cell_type": "code",
      "metadata": {
        "id": "7WCA7qZ1Z3O_",
        "colab_type": "code",
        "colab": {}
      },
      "source": [
        "\n",
        "# This cell is not required to be executed (i.e. ignore any error) if Notebook is run locally or in Binder\n",
        "# Authorise and mount google drive to access code and data files\n",
        "# https://www.w3schools.com/python/default.asp\n",
        "\n",
        "project_folder = '/content/drive/My Drive/Colab Notebooks/'\n",
        "\n",
        "import os\n",
        "\n",
        "if os.path.isdir('/content'):\n",
        "    from google.colab import drive\n",
        "    drive.mount('/content/drive')\n",
        "\n",
        "    if not(os.path.isdir(project_folder)):\n",
        "      os.makedirs(project_folder)\n",
        "      print(\"new project folder created\")\n",
        "\n",
        "    os.chdir(project_folder)\n",
        "\n",
        "\n",
        "\n"
      ],
      "execution_count": 0,
      "outputs": []
    },
    {
      "cell_type": "code",
      "metadata": {
        "id": "mbCE84hnac5Q",
        "colab_type": "code",
        "colab": {}
      },
      "source": [
        "from google.colab import drive\n",
        "drive.mount('/content/drive')"
      ],
      "execution_count": 0,
      "outputs": []
    },
    {
      "cell_type": "code",
      "metadata": {
        "scrolled": true,
        "id": "eB5ij9K1L438",
        "colab_type": "code",
        "colab": {}
      },
      "source": [
        "#introduction\n",
        "\n",
        "x= \"Hello, world\"\n",
        "y=5\n",
        "print(x + \"   \" + x)\n",
        "print(y*10)\n"
      ],
      "execution_count": 0,
      "outputs": []
    },
    {
      "cell_type": "code",
      "metadata": {
        "id": "s9EeejI1L44C",
        "colab_type": "code",
        "colab": {}
      },
      "source": [
        "# global variable inside function\n",
        "x=10\n",
        "print(x)\n",
        "def myfunc():\n",
        "    global x\n",
        "    x=5\n",
        "    print(x)\n",
        "\n",
        "myfunc()\n",
        "print(x)"
      ],
      "execution_count": 0,
      "outputs": []
    },
    {
      "cell_type": "code",
      "metadata": {
        "id": "Bl8iZaG1L44F",
        "colab_type": "code",
        "colab": {}
      },
      "source": [
        "# data types\n",
        "# use type() to check the data tyoe\n",
        "x=5 #int\n",
        "\n",
        "y = \"hello\"   #str\n",
        "\n",
        "z = 1j #complex\n",
        "\n",
        "x = 20.56 #float \n",
        "\n",
        "x = range(6) #range\n",
        "\n",
        "x = {\"name\": \"john\",\"age\" :36} #dict\n",
        "\n",
        "x = [\"apple\", \"banana\", \"cherry\"]   #list\n",
        "\n",
        "x= (\"apple\",\"banana\",\"cherry\")   #tuple\n",
        "\n",
        "x = {\"apple\",\"cherry\",\"banana\"} # set\n",
        "\n",
        "x = frozenset(x)\n",
        "\n",
        "x = True #bool \n",
        "\n",
        "x= b\"hello\" #bytes\n",
        "\n",
        "x = bytearray(5)\n",
        "\n",
        "x = memoryview(bytes(5))\n",
        "\n",
        "print(x)\n",
        "print(type(x))\n",
        "\n",
        "x = {\"name\":\"Dushyant\",\"cds\":\"dkumbhat\"} #dict\n",
        "print(x)"
      ],
      "execution_count": 0,
      "outputs": []
    },
    {
      "cell_type": "markdown",
      "metadata": {
        "id": "PR1ZIud-YGIt",
        "colab_type": "text"
      },
      "source": [
        "#Zen of python\n",
        "\n"
      ]
    },
    {
      "cell_type": "code",
      "metadata": {
        "id": "ju2Yl4aLL44I",
        "colab_type": "code",
        "colab": {}
      },
      "source": [
        "#import this\n",
        "#del this\n",
        "import this\n",
        "this?"
      ],
      "execution_count": 0,
      "outputs": []
    },
    {
      "cell_type": "markdown",
      "metadata": {
        "id": "AosjUe811UD5",
        "colab_type": "text"
      },
      "source": [
        "# WhiteSpace Formattting"
      ]
    },
    {
      "cell_type": "code",
      "metadata": {
        "id": "wRjMQewuL44N",
        "colab_type": "code",
        "colab": {}
      },
      "source": [
        "# indentation - space is used\n",
        "a = 2 +\\\n",
        "3   # backslash means continue to next line like ... in matlab\n",
        "print(a)\n"
      ],
      "execution_count": 0,
      "outputs": []
    },
    {
      "cell_type": "markdown",
      "metadata": {
        "id": "7gTBuw1hZO8L",
        "colab_type": "text"
      },
      "source": [
        "# Modules"
      ]
    },
    {
      "cell_type": "code",
      "metadata": {
        "id": "kYXgq3vaXeJb",
        "colab_type": "code",
        "colab": {}
      },
      "source": [
        "import re\n",
        "my_regex = re.compile(\"[0-9]+\", re.I)\n",
        "print(my_regex)\n",
        "\n",
        "import matplotlib.pyplot as plt\n",
        "\n",
        "#If you need a few specific values from a module, you can import them explicitly and use them without qualification:\n",
        "from collections import defaultdict, Counter\n",
        "lookup = defaultdict(int)\n",
        "my_counter = Counter()\n"
      ],
      "execution_count": 0,
      "outputs": []
    },
    {
      "cell_type": "markdown",
      "metadata": {
        "id": "mmtvYHCt1Ge7",
        "colab_type": "text"
      },
      "source": [
        "#Arithmetic\n"
      ]
    },
    {
      "cell_type": "code",
      "metadata": {
        "id": "2708X6pHXe7p",
        "colab_type": "code",
        "colab": {}
      },
      "source": [
        "#Python 2.7 uses integer division by default, so that 5 / 2 equals 2. Almost always this is not what we want, so we will always start our files with:\n",
        "from __future__ import division\n",
        "print(5/2)\n",
        "print(5//2)  # works like floor function of matlab\n"
      ],
      "execution_count": 0,
      "outputs": []
    },
    {
      "cell_type": "markdown",
      "metadata": {
        "id": "fMnplf4E1nTr",
        "colab_type": "text"
      },
      "source": [
        "#Functions\n"
      ]
    },
    {
      "cell_type": "code",
      "metadata": {
        "id": "87akLuf0y0hq",
        "colab_type": "code",
        "colab": {
          "base_uri": "https://localhost:8080/",
          "height": 170
        },
        "outputId": "ca774ec1-278a-44bb-e2b5-00f9b9df4b16"
      },
      "source": [
        "#A function is a rule for taking zero or more inputs and returning a corresponding output. In Python, we typically define functions using def:\n",
        "def double(x):\n",
        " \"\"\"this is where you put an optional docstring\n",
        "   that explains what the function does.\n",
        "   for example, this function multiplies its input by 2\"\"\"\n",
        " return x * 2\n",
        "\n",
        "print (double(3))\n",
        "\n",
        "#Python functions are first-class, which means that we can assign them to variables and pass them into functions just like any other arguments:\n",
        "def nested_func(f):\n",
        " #calls function f with 10 as its argument\n",
        "  return f(10)\n",
        "\n",
        "print(nested_func(double))\n",
        "\n",
        "#It is also easy to create short anonymous functions, or lambdas:\n",
        "\n",
        "y = nested_func(lambda x: x+9)\n",
        "print(y)\n",
        "\n",
        "def square(x):\n",
        "  return x*x\n",
        "\n",
        "z = square(5)\n",
        "print(z)\n",
        "\n",
        "\n",
        "#default values to functions\n",
        "def default_fucntion(x=10):\n",
        "  return x*2\n",
        "\n",
        "print(default_fucntion(5))\n",
        "\n",
        "#calling functions with variable names and values  \n",
        "def substract(a=0,b=0):\n",
        "    return a-b\n",
        "  \n",
        "print(substract(5))\n",
        "print(substract(5,2))\n",
        "print(substract(b=2))\n",
        "print(substract(a=15,b=2))\n"
      ],
      "execution_count": 65,
      "outputs": [
        {
          "output_type": "stream",
          "text": [
            "6\n",
            "20\n",
            "19\n",
            "25\n",
            "10\n",
            "5\n",
            "3\n",
            "-2\n",
            "13\n"
          ],
          "name": "stdout"
        }
      ]
    },
    {
      "cell_type": "markdown",
      "metadata": {
        "id": "9DaA2P6T8Har",
        "colab_type": "text"
      },
      "source": [
        "#Strings"
      ]
    },
    {
      "cell_type": "code",
      "metadata": {
        "id": "P9JSR2jBEHhw",
        "colab_type": "code",
        "colab": {
          "base_uri": "https://localhost:8080/",
          "height": 68
        },
        "outputId": "08e9295e-85cb-4d94-b54c-e32946ea940f"
      },
      "source": [
        "#Strings can be delimited by single or double quotation marks (but the quotes have to match):\n",
        "\n",
        "a = 'apple'\n",
        "b= \"red\"\n",
        "#Python uses backslashes to encode special characters. For example:\n",
        "c = \"\\t\"\n",
        "print(len(c))\n",
        "\n",
        "#If you want backslashes as backslashes (which you might in Windows directory names or in regular expressions), you can create raw strings using r\"\":\n",
        "\n",
        "not_tab_string = r\"\\t\"          # represents the characters '\\' and 't'\n",
        "print(len(not_tab_string)) # is 2\n",
        "\n",
        "\n",
        "#You can create multiline strings using triple-[double-]-quotes:\n",
        "\n",
        "multi_line_string = \"\"\"This is the first line.\n",
        "and this is the second line\n",
        "and this is the third line\"\"\"\n",
        "multi_line_string"
      ],
      "execution_count": 78,
      "outputs": [
        {
          "output_type": "stream",
          "text": [
            "1\n",
            "2\n"
          ],
          "name": "stdout"
        },
        {
          "output_type": "execute_result",
          "data": {
            "text/plain": [
              "'This is the first line.\\nand this is the second line\\nand this is the third line'"
            ]
          },
          "metadata": {
            "tags": []
          },
          "execution_count": 78
        }
      ]
    },
    {
      "cell_type": "markdown",
      "metadata": {
        "id": "dsuYvsQRSYxA",
        "colab_type": "text"
      },
      "source": [
        "#Exception - Try catch "
      ]
    },
    {
      "cell_type": "code",
      "metadata": {
        "id": "DpltajKmSdlj",
        "colab_type": "code",
        "colab": {
          "base_uri": "https://localhost:8080/",
          "height": 51
        },
        "outputId": "50ae9d95-bde2-4290-c7c4-d1ba00c5d0a1"
      },
      "source": [
        "#When something goes wrong, Python raises an exception. Unhandled, these will cause your program to crash. You can handle them using try and except:\n",
        "\n",
        "try:\n",
        " print (0 / 0)\n",
        "except ZeroDivisionError:\n",
        " print (\"cannot divide by zero\")\n",
        "ZeroDivisionError"
      ],
      "execution_count": 84,
      "outputs": [
        {
          "output_type": "stream",
          "text": [
            "cannot divide by zero\n"
          ],
          "name": "stdout"
        },
        {
          "output_type": "execute_result",
          "data": {
            "text/plain": [
              "ZeroDivisionError"
            ]
          },
          "metadata": {
            "tags": []
          },
          "execution_count": 84
        }
      ]
    },
    {
      "cell_type": "markdown",
      "metadata": {
        "id": "UUCyaeWMSxJT",
        "colab_type": "text"
      },
      "source": [
        "#Lists"
      ]
    },
    {
      "cell_type": "code",
      "metadata": {
        "id": "L1v3A6TQS0fj",
        "colab_type": "code",
        "colab": {
          "base_uri": "https://localhost:8080/",
          "height": 221
        },
        "outputId": "ba7ba978-380d-429f-b7c8-fd736ca28ac0"
      },
      "source": [
        "# list is simply an ordered collection . like an array , but with added functionality\n",
        "\n",
        "int_list = [1 ,2,3]\n",
        "heterogenous_list = [\"string\" , 0.1, True]\n",
        "list_of_lists = [int_list, heterogenous_list, []]\n",
        "\n",
        "list_length  = len(int_list)\n",
        "list_sum = sum(int_list)\n",
        "print(list_sum)\n",
        "print(list_length)\n",
        "\n",
        "# You can get or set the nth element of a list with square brackets:\n",
        "\n",
        "x = range(10)  ## is the list [0,1,2,3,4,5,6,7,8,9,10]\n",
        "print(x)\n",
        "\n",
        "print(x[0])\n",
        "print(x[1])\n",
        "\n",
        "print(x[-1])   # indexing from end using -number - -1 means the last number and 0 means the first number\n",
        "print(x[4:])   # print from 5th index till end\n",
        "print(x[4:6])   # print from 4th to 6th index \n",
        "print(x[1:-1])  ## except first and last \n",
        "\n",
        "\n",
        "# Python has an 'in'  operator to check for list membership:\n",
        "\n",
        "print(1 in x)\n",
        "print(20 in x)\n",
        "\n",
        "# extending lists or appending lists\n",
        "\n",
        "y  = [1,4,7]\n",
        "y.extend([11,12,13])\n",
        "y"
      ],
      "execution_count": 105,
      "outputs": [
        {
          "output_type": "stream",
          "text": [
            "6\n",
            "3\n",
            "range(0, 10)\n",
            "0\n",
            "1\n",
            "9\n",
            "range(4, 10)\n",
            "range(4, 6)\n",
            "range(1, 9)\n",
            "True\n",
            "False\n"
          ],
          "name": "stdout"
        },
        {
          "output_type": "execute_result",
          "data": {
            "text/plain": [
              "[1, 4, 7, 11, 12, 13]"
            ]
          },
          "metadata": {
            "tags": []
          },
          "execution_count": 105
        }
      ]
    }
  ]
}