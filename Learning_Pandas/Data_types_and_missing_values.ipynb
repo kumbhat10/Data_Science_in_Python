{
  "nbformat": 4,
  "nbformat_minor": 0,
  "metadata": {
    "colab": {
      "name": "Data_types_and_missing_values.ipynb",
      "provenance": [],
      "collapsed_sections": [],
      "mount_file_id": "1Copy7kIl34XOJREyk3-ewhE8i1HhTBti",
      "authorship_tag": "ABX9TyM1C/eHAhxUSpXg+r/Vro9c",
      "include_colab_link": true
    },
    "kernelspec": {
      "name": "python3",
      "display_name": "Python 3"
    }
  },
  "cells": [
    {
      "cell_type": "markdown",
      "metadata": {
        "id": "view-in-github",
        "colab_type": "text"
      },
      "source": [
        "<a href=\"https://colab.research.google.com/github/kumbhat10/Data_Science_in_Python/blob/master/Learning_Pandas/Data_types_and_missing_values.ipynb\" target=\"_parent\"><img src=\"https://colab.research.google.com/assets/colab-badge.svg\" alt=\"Open In Colab\"/></a>"
      ]
    },
    {
      "cell_type": "code",
      "metadata": {
        "id": "00TZOGhkUd78",
        "colab_type": "code",
        "colab": {}
      },
      "source": [
        "import pandas as pd"
      ],
      "execution_count": 0,
      "outputs": []
    },
    {
      "cell_type": "code",
      "metadata": {
        "id": "rICE6ypvUjOJ",
        "colab_type": "code",
        "colab": {
          "base_uri": "https://localhost:8080/",
          "height": 649
        },
        "outputId": "116197ec-405d-4b45-d8c6-f8838f55023a"
      },
      "source": [
        "reviews = pd.read_csv('/content/drive/My Drive/Colab Notebooks/Sample_data/winemag-data-130k-v2.csv')\n",
        "reviews.head(5)"
      ],
      "execution_count": 3,
      "outputs": [
        {
          "output_type": "execute_result",
          "data": {
            "text/html": [
              "<div>\n",
              "<style scoped>\n",
              "    .dataframe tbody tr th:only-of-type {\n",
              "        vertical-align: middle;\n",
              "    }\n",
              "\n",
              "    .dataframe tbody tr th {\n",
              "        vertical-align: top;\n",
              "    }\n",
              "\n",
              "    .dataframe thead th {\n",
              "        text-align: right;\n",
              "    }\n",
              "</style>\n",
              "<table border=\"1\" class=\"dataframe\">\n",
              "  <thead>\n",
              "    <tr style=\"text-align: right;\">\n",
              "      <th></th>\n",
              "      <th>Unnamed: 0</th>\n",
              "      <th>country</th>\n",
              "      <th>description</th>\n",
              "      <th>designation</th>\n",
              "      <th>points</th>\n",
              "      <th>price</th>\n",
              "      <th>province</th>\n",
              "      <th>region_1</th>\n",
              "      <th>region_2</th>\n",
              "      <th>taster_name</th>\n",
              "      <th>taster_twitter_handle</th>\n",
              "      <th>title</th>\n",
              "      <th>variety</th>\n",
              "      <th>winery</th>\n",
              "    </tr>\n",
              "  </thead>\n",
              "  <tbody>\n",
              "    <tr>\n",
              "      <th>0</th>\n",
              "      <td>0</td>\n",
              "      <td>Italy</td>\n",
              "      <td>Aromas include tropical fruit, broom, brimston...</td>\n",
              "      <td>Vulkà Bianco</td>\n",
              "      <td>87</td>\n",
              "      <td>NaN</td>\n",
              "      <td>Sicily &amp; Sardinia</td>\n",
              "      <td>Etna</td>\n",
              "      <td>NaN</td>\n",
              "      <td>Kerin O’Keefe</td>\n",
              "      <td>@kerinokeefe</td>\n",
              "      <td>Nicosia 2013 Vulkà Bianco  (Etna)</td>\n",
              "      <td>White Blend</td>\n",
              "      <td>Nicosia</td>\n",
              "    </tr>\n",
              "    <tr>\n",
              "      <th>1</th>\n",
              "      <td>1</td>\n",
              "      <td>Portugal</td>\n",
              "      <td>This is ripe and fruity, a wine that is smooth...</td>\n",
              "      <td>Avidagos</td>\n",
              "      <td>87</td>\n",
              "      <td>15.0</td>\n",
              "      <td>Douro</td>\n",
              "      <td>NaN</td>\n",
              "      <td>NaN</td>\n",
              "      <td>Roger Voss</td>\n",
              "      <td>@vossroger</td>\n",
              "      <td>Quinta dos Avidagos 2011 Avidagos Red (Douro)</td>\n",
              "      <td>Portuguese Red</td>\n",
              "      <td>Quinta dos Avidagos</td>\n",
              "    </tr>\n",
              "    <tr>\n",
              "      <th>2</th>\n",
              "      <td>2</td>\n",
              "      <td>US</td>\n",
              "      <td>Tart and snappy, the flavors of lime flesh and...</td>\n",
              "      <td>NaN</td>\n",
              "      <td>87</td>\n",
              "      <td>14.0</td>\n",
              "      <td>Oregon</td>\n",
              "      <td>Willamette Valley</td>\n",
              "      <td>Willamette Valley</td>\n",
              "      <td>Paul Gregutt</td>\n",
              "      <td>@paulgwine</td>\n",
              "      <td>Rainstorm 2013 Pinot Gris (Willamette Valley)</td>\n",
              "      <td>Pinot Gris</td>\n",
              "      <td>Rainstorm</td>\n",
              "    </tr>\n",
              "    <tr>\n",
              "      <th>3</th>\n",
              "      <td>3</td>\n",
              "      <td>US</td>\n",
              "      <td>Pineapple rind, lemon pith and orange blossom ...</td>\n",
              "      <td>Reserve Late Harvest</td>\n",
              "      <td>87</td>\n",
              "      <td>13.0</td>\n",
              "      <td>Michigan</td>\n",
              "      <td>Lake Michigan Shore</td>\n",
              "      <td>NaN</td>\n",
              "      <td>Alexander Peartree</td>\n",
              "      <td>NaN</td>\n",
              "      <td>St. Julian 2013 Reserve Late Harvest Riesling ...</td>\n",
              "      <td>Riesling</td>\n",
              "      <td>St. Julian</td>\n",
              "    </tr>\n",
              "    <tr>\n",
              "      <th>4</th>\n",
              "      <td>4</td>\n",
              "      <td>US</td>\n",
              "      <td>Much like the regular bottling from 2012, this...</td>\n",
              "      <td>Vintner's Reserve Wild Child Block</td>\n",
              "      <td>87</td>\n",
              "      <td>65.0</td>\n",
              "      <td>Oregon</td>\n",
              "      <td>Willamette Valley</td>\n",
              "      <td>Willamette Valley</td>\n",
              "      <td>Paul Gregutt</td>\n",
              "      <td>@paulgwine</td>\n",
              "      <td>Sweet Cheeks 2012 Vintner's Reserve Wild Child...</td>\n",
              "      <td>Pinot Noir</td>\n",
              "      <td>Sweet Cheeks</td>\n",
              "    </tr>\n",
              "  </tbody>\n",
              "</table>\n",
              "</div>"
            ],
            "text/plain": [
              "   Unnamed: 0   country  ...         variety               winery\n",
              "0           0     Italy  ...     White Blend              Nicosia\n",
              "1           1  Portugal  ...  Portuguese Red  Quinta dos Avidagos\n",
              "2           2        US  ...      Pinot Gris            Rainstorm\n",
              "3           3        US  ...        Riesling           St. Julian\n",
              "4           4        US  ...      Pinot Noir         Sweet Cheeks\n",
              "\n",
              "[5 rows x 14 columns]"
            ]
          },
          "metadata": {
            "tags": []
          },
          "execution_count": 3
        }
      ]
    },
    {
      "cell_type": "markdown",
      "metadata": {
        "id": "MtwGiZpKU2VF",
        "colab_type": "text"
      },
      "source": [
        "# Dtypes"
      ]
    },
    {
      "cell_type": "markdown",
      "metadata": {
        "id": "wWWAGzoIVEbn",
        "colab_type": "text"
      },
      "source": [
        "## The data types for a column in a DataFrame or a series is known as the dtype \n",
        "\n",
        "You can use the dtype property to grab the type of specific column.\n",
        "For instance, we can get the dtype of the price column in the reviews dataframe"
      ]
    },
    {
      "cell_type": "code",
      "metadata": {
        "id": "MN6HW7MLVXcR",
        "colab_type": "code",
        "colab": {
          "base_uri": "https://localhost:8080/",
          "height": 34
        },
        "outputId": "1c02a977-acf0-4005-a7d5-fab718d685ac"
      },
      "source": [
        "reviews.price.dtype"
      ],
      "execution_count": 6,
      "outputs": [
        {
          "output_type": "execute_result",
          "data": {
            "text/plain": [
              "dtype('float64')"
            ]
          },
          "metadata": {
            "tags": []
          },
          "execution_count": 6
        }
      ]
    },
    {
      "cell_type": "markdown",
      "metadata": {
        "id": "BIQ2QpaEVjoM",
        "colab_type": "text"
      },
      "source": [
        "## dtypes"
      ]
    },
    {
      "cell_type": "markdown",
      "metadata": {
        "id": "nRaRe_weVoKA",
        "colab_type": "text"
      },
      "source": [
        "alternatively dtypes returns dtype of every column in the dataframe"
      ]
    },
    {
      "cell_type": "code",
      "metadata": {
        "id": "w9ZyChFkVZn5",
        "colab_type": "code",
        "colab": {
          "base_uri": "https://localhost:8080/",
          "height": 272
        },
        "outputId": "d8f041dd-48cc-4796-cc07-5a5633df8392"
      },
      "source": [
        "reviews.dtypes"
      ],
      "execution_count": 8,
      "outputs": [
        {
          "output_type": "execute_result",
          "data": {
            "text/plain": [
              "Unnamed: 0                 int64\n",
              "country                   object\n",
              "description               object\n",
              "designation               object\n",
              "points                     int64\n",
              "price                    float64\n",
              "province                  object\n",
              "region_1                  object\n",
              "region_2                  object\n",
              "taster_name               object\n",
              "taster_twitter_handle     object\n",
              "title                     object\n",
              "variety                   object\n",
              "winery                    object\n",
              "dtype: object"
            ]
          },
          "metadata": {
            "tags": []
          },
          "execution_count": 8
        }
      ]
    },
    {
      "cell_type": "markdown",
      "metadata": {
        "id": "_7y881KSVyww",
        "colab_type": "text"
      },
      "source": [
        "Data types tell us something about how pandas is storing the data internally. float64 means that it's using a 64-bit floating point number; int64 means a similarly sized integer instead, and so on.\n",
        "\n",
        "One peculiarity to keep in mind (and on display very clearly here) is that columns consisting entirely of strings do not get their own type; they are instead given the object type.\n"
      ]
    },
    {
      "cell_type": "markdown",
      "metadata": {
        "id": "MhpqyE9nV0Rd",
        "colab_type": "text"
      },
      "source": [
        "# astype()"
      ]
    },
    {
      "cell_type": "markdown",
      "metadata": {
        "id": "kcngLlONV7B5",
        "colab_type": "text"
      },
      "source": [
        "\n",
        "It's possible to convert a column of one type into another wherever such a conversion makes sense by using the astype() function. For example, we may transform the points column from its existing int64 data type into a float64 data type:"
      ]
    },
    {
      "cell_type": "code",
      "metadata": {
        "id": "qNdiIg1RV8CL",
        "colab_type": "code",
        "colab": {
          "base_uri": "https://localhost:8080/",
          "height": 221
        },
        "outputId": "fc96df6e-f2ed-41a0-8355-c59151878479"
      },
      "source": [
        "reviews.points.astype('float64')"
      ],
      "execution_count": 9,
      "outputs": [
        {
          "output_type": "execute_result",
          "data": {
            "text/plain": [
              "0         87.0\n",
              "1         87.0\n",
              "2         87.0\n",
              "3         87.0\n",
              "4         87.0\n",
              "          ... \n",
              "129966    90.0\n",
              "129967    90.0\n",
              "129968    90.0\n",
              "129969    90.0\n",
              "129970    90.0\n",
              "Name: points, Length: 129971, dtype: float64"
            ]
          },
          "metadata": {
            "tags": []
          },
          "execution_count": 9
        }
      ]
    },
    {
      "cell_type": "markdown",
      "metadata": {
        "id": "QFspcQQ0WCPr",
        "colab_type": "text"
      },
      "source": [
        "a DataFrame or series index has its own dtype too"
      ]
    },
    {
      "cell_type": "code",
      "metadata": {
        "id": "G0ktrAfTWJHh",
        "colab_type": "code",
        "colab": {
          "base_uri": "https://localhost:8080/",
          "height": 34
        },
        "outputId": "94104205-d49e-4666-a209-ae2f26810b48"
      },
      "source": [
        "reviews.index.dtype"
      ],
      "execution_count": 16,
      "outputs": [
        {
          "output_type": "execute_result",
          "data": {
            "text/plain": [
              "dtype('int64')"
            ]
          },
          "metadata": {
            "tags": []
          },
          "execution_count": 16
        }
      ]
    },
    {
      "cell_type": "code",
      "metadata": {
        "id": "uKhMzaQIWNlc",
        "colab_type": "code",
        "colab": {
          "base_uri": "https://localhost:8080/",
          "height": 34
        },
        "outputId": "8b9c4994-5674-425e-dad1-8d6a10afd241"
      },
      "source": [
        "reviews.groupby('country').points.max().index.dtype ##  data frame with strings as index"
      ],
      "execution_count": 13,
      "outputs": [
        {
          "output_type": "execute_result",
          "data": {
            "text/plain": [
              "dtype('O')"
            ]
          },
          "metadata": {
            "tags": []
          },
          "execution_count": 13
        }
      ]
    },
    {
      "cell_type": "markdown",
      "metadata": {
        "id": "qwPl5A58WS0-",
        "colab_type": "text"
      },
      "source": [
        "# Missing Data"
      ]
    },
    {
      "cell_type": "markdown",
      "metadata": {
        "id": "C9FbPKwxWf1c",
        "colab_type": "text"
      },
      "source": [
        "Entries missing values are given the value NaN, short for \"Not a number\". \n",
        "For technical reasons these NaN values are always of the float64 dtype\n",
        "\n",
        "Pandas provide some methods specific to missing data.\n",
        "\n",
        "To select NaN entries you can use pd.isnull() or pd.notnull()\n",
        "this is meant to be used thusly:"
      ]
    },
    {
      "cell_type": "markdown",
      "metadata": {
        "id": "9blgUuHtW7o_",
        "colab_type": "text"
      },
      "source": [
        "## isnull() or notnull()"
      ]
    },
    {
      "cell_type": "code",
      "metadata": {
        "id": "9iwOjNdLXATP",
        "colab_type": "code",
        "colab": {
          "base_uri": "https://localhost:8080/",
          "height": 383
        },
        "outputId": "0ebffbcb-59a5-465d-8b9f-60c31ef6664b"
      },
      "source": [
        "reviews[pd.isnull(reviews.country)].head(3)"
      ],
      "execution_count": 23,
      "outputs": [
        {
          "output_type": "execute_result",
          "data": {
            "text/html": [
              "<div>\n",
              "<style scoped>\n",
              "    .dataframe tbody tr th:only-of-type {\n",
              "        vertical-align: middle;\n",
              "    }\n",
              "\n",
              "    .dataframe tbody tr th {\n",
              "        vertical-align: top;\n",
              "    }\n",
              "\n",
              "    .dataframe thead th {\n",
              "        text-align: right;\n",
              "    }\n",
              "</style>\n",
              "<table border=\"1\" class=\"dataframe\">\n",
              "  <thead>\n",
              "    <tr style=\"text-align: right;\">\n",
              "      <th></th>\n",
              "      <th>Unnamed: 0</th>\n",
              "      <th>country</th>\n",
              "      <th>description</th>\n",
              "      <th>designation</th>\n",
              "      <th>points</th>\n",
              "      <th>price</th>\n",
              "      <th>province</th>\n",
              "      <th>region_1</th>\n",
              "      <th>region_2</th>\n",
              "      <th>taster_name</th>\n",
              "      <th>taster_twitter_handle</th>\n",
              "      <th>title</th>\n",
              "      <th>variety</th>\n",
              "      <th>winery</th>\n",
              "    </tr>\n",
              "  </thead>\n",
              "  <tbody>\n",
              "    <tr>\n",
              "      <th>913</th>\n",
              "      <td>913</td>\n",
              "      <td>NaN</td>\n",
              "      <td>Amber in color, this wine has aromas of peach ...</td>\n",
              "      <td>Asureti Valley</td>\n",
              "      <td>87</td>\n",
              "      <td>30.0</td>\n",
              "      <td>NaN</td>\n",
              "      <td>NaN</td>\n",
              "      <td>NaN</td>\n",
              "      <td>Mike DeSimone</td>\n",
              "      <td>@worldwineguys</td>\n",
              "      <td>Gotsa Family Wines 2014 Asureti Valley Chinuri</td>\n",
              "      <td>Chinuri</td>\n",
              "      <td>Gotsa Family Wines</td>\n",
              "    </tr>\n",
              "    <tr>\n",
              "      <th>3131</th>\n",
              "      <td>3131</td>\n",
              "      <td>NaN</td>\n",
              "      <td>Soft, fruity and juicy, this is a pleasant, si...</td>\n",
              "      <td>Partager</td>\n",
              "      <td>83</td>\n",
              "      <td>NaN</td>\n",
              "      <td>NaN</td>\n",
              "      <td>NaN</td>\n",
              "      <td>NaN</td>\n",
              "      <td>Roger Voss</td>\n",
              "      <td>@vossroger</td>\n",
              "      <td>Barton &amp; Guestier NV Partager Red</td>\n",
              "      <td>Red Blend</td>\n",
              "      <td>Barton &amp; Guestier</td>\n",
              "    </tr>\n",
              "    <tr>\n",
              "      <th>4243</th>\n",
              "      <td>4243</td>\n",
              "      <td>NaN</td>\n",
              "      <td>Violet-red in color, this semisweet wine has a...</td>\n",
              "      <td>Red Naturally Semi-Sweet</td>\n",
              "      <td>88</td>\n",
              "      <td>18.0</td>\n",
              "      <td>NaN</td>\n",
              "      <td>NaN</td>\n",
              "      <td>NaN</td>\n",
              "      <td>Mike DeSimone</td>\n",
              "      <td>@worldwineguys</td>\n",
              "      <td>Kakhetia Traditional Winemaking 2012 Red Natur...</td>\n",
              "      <td>Ojaleshi</td>\n",
              "      <td>Kakhetia Traditional Winemaking</td>\n",
              "    </tr>\n",
              "  </tbody>\n",
              "</table>\n",
              "</div>"
            ],
            "text/plain": [
              "      Unnamed: 0 country  ...    variety                           winery\n",
              "913          913     NaN  ...    Chinuri               Gotsa Family Wines\n",
              "3131        3131     NaN  ...  Red Blend                Barton & Guestier\n",
              "4243        4243     NaN  ...   Ojaleshi  Kakhetia Traditional Winemaking\n",
              "\n",
              "[3 rows x 14 columns]"
            ]
          },
          "metadata": {
            "tags": []
          },
          "execution_count": 23
        }
      ]
    },
    {
      "cell_type": "markdown",
      "metadata": {
        "id": "LKUDpHQukYlS",
        "colab_type": "text"
      },
      "source": [
        "# fillna() "
      ]
    },
    {
      "cell_type": "markdown",
      "metadata": {
        "id": "uGxjAT-6kgeL",
        "colab_type": "text"
      },
      "source": [
        "fillna() provides a few different strategies for mitigating such data. for ex:- NaN with and 'UNKNOWN'"
      ]
    },
    {
      "cell_type": "code",
      "metadata": {
        "id": "J04w4ZMlkqkO",
        "colab_type": "code",
        "colab": {
          "base_uri": "https://localhost:8080/",
          "height": 221
        },
        "outputId": "f3c3b304-8417-4761-ae18-e1f6b2aa40ae"
      },
      "source": [
        "reviews.region_2.fillna(\"Unknown\")"
      ],
      "execution_count": 24,
      "outputs": [
        {
          "output_type": "execute_result",
          "data": {
            "text/plain": [
              "0                   Unknown\n",
              "1                   Unknown\n",
              "2         Willamette Valley\n",
              "3                   Unknown\n",
              "4         Willamette Valley\n",
              "                ...        \n",
              "129966              Unknown\n",
              "129967         Oregon Other\n",
              "129968              Unknown\n",
              "129969              Unknown\n",
              "129970              Unknown\n",
              "Name: region_2, Length: 129971, dtype: object"
            ]
          },
          "metadata": {
            "tags": []
          },
          "execution_count": 24
        }
      ]
    },
    {
      "cell_type": "markdown",
      "metadata": {
        "id": "c2jJ0nwikxFU",
        "colab_type": "text"
      },
      "source": [
        "or we can fiil each missing value with the first non-value that appears sometime after the given record in database. This is known as backfill strategy"
      ]
    },
    {
      "cell_type": "code",
      "metadata": {
        "id": "ogs6Ct1YlEZU",
        "colab_type": "code",
        "colab": {
          "base_uri": "https://localhost:8080/",
          "height": 51
        },
        "outputId": "59a2381b-835a-4235-f98b-4a0702fc3f84"
      },
      "source": [
        "index_first_notnull = reviews.region_2.loc[reviews.region_2.notnull()].index[0]\n",
        "print(index_first_notnull) # 2\n",
        "print(reviews.region_2.iloc[index_first_notnull])\n",
        "# reviews.region_2.fillna(reviews.region_2.iloc[index_first_notnull])\n"
      ],
      "execution_count": 13,
      "outputs": [
        {
          "output_type": "stream",
          "text": [
            "2\n",
            "Willamette Valley\n"
          ],
          "name": "stdout"
        }
      ]
    },
    {
      "cell_type": "code",
      "metadata": {
        "id": "GuZAySa8oW7m",
        "colab_type": "code",
        "colab": {
          "base_uri": "https://localhost:8080/",
          "height": 221
        },
        "outputId": "c251f27c-7562-404d-f5f3-aa2640de0a4b"
      },
      "source": [
        "reviews.region_2.fillna(reviews.region_2.iloc[index_first_notnull])\n"
      ],
      "execution_count": 11,
      "outputs": [
        {
          "output_type": "execute_result",
          "data": {
            "text/plain": [
              "0         Willamette Valley\n",
              "1         Willamette Valley\n",
              "2         Willamette Valley\n",
              "3         Willamette Valley\n",
              "4         Willamette Valley\n",
              "                ...        \n",
              "129966    Willamette Valley\n",
              "129967         Oregon Other\n",
              "129968    Willamette Valley\n",
              "129969    Willamette Valley\n",
              "129970    Willamette Valley\n",
              "Name: region_2, Length: 129971, dtype: object"
            ]
          },
          "metadata": {
            "tags": []
          },
          "execution_count": 11
        }
      ]
    },
    {
      "cell_type": "markdown",
      "metadata": {
        "id": "0jE29q8wlA0Y",
        "colab_type": "text"
      },
      "source": [
        "Alternatively we may have a non-null value that we wouuld like to replace."
      ]
    },
    {
      "cell_type": "markdown",
      "metadata": {
        "id": "00n0OLJWlWuf",
        "colab_type": "text"
      },
      "source": [
        "# replace()"
      ]
    },
    {
      "cell_type": "code",
      "metadata": {
        "id": "wyEAkK8vlYya",
        "colab_type": "code",
        "colab": {
          "base_uri": "https://localhost:8080/",
          "height": 221
        },
        "outputId": "1f325473-be01-46dc-a6df-f137e34ae4aa"
      },
      "source": [
        "reviews.taster_twitter_handle.replace('@kerinokeefe','@kumbhat')"
      ],
      "execution_count": 14,
      "outputs": [
        {
          "output_type": "execute_result",
          "data": {
            "text/plain": [
              "0            @kumbhat\n",
              "1          @vossroger\n",
              "2         @paulgwine \n",
              "3                 NaN\n",
              "4         @paulgwine \n",
              "             ...     \n",
              "129966            NaN\n",
              "129967    @paulgwine \n",
              "129968     @vossroger\n",
              "129969     @vossroger\n",
              "129970     @vossroger\n",
              "Name: taster_twitter_handle, Length: 129971, dtype: object"
            ]
          },
          "metadata": {
            "tags": []
          },
          "execution_count": 14
        }
      ]
    },
    {
      "cell_type": "markdown",
      "metadata": {
        "id": "xx0HHAvyluV1",
        "colab_type": "text"
      },
      "source": [
        "# Exercises"
      ]
    },
    {
      "cell_type": "markdown",
      "metadata": {
        "id": "DxCNW72w4F8M",
        "colab_type": "text"
      },
      "source": [
        "#2.\n",
        "Create a Series from entries in the points column, but convert the entries to strings. Hint: strings are str in native Python."
      ]
    },
    {
      "cell_type": "code",
      "metadata": {
        "id": "tJDsTvIB4cIe",
        "colab_type": "code",
        "colab": {}
      },
      "source": [
        "point_strings = reviews.points.astype('str')"
      ],
      "execution_count": 0,
      "outputs": []
    },
    {
      "cell_type": "markdown",
      "metadata": {
        "id": "cVllysOG5FDR",
        "colab_type": "text"
      },
      "source": [
        "# 3.\n",
        "Sometimes the price column is null. How many reviews in the dataset are missing a price?"
      ]
    },
    {
      "cell_type": "code",
      "metadata": {
        "id": "hg_Ef6Ra5RgU",
        "colab_type": "code",
        "colab": {
          "base_uri": "https://localhost:8080/",
          "height": 34
        },
        "outputId": "8dc71426-cc40-4f40-874a-7b8299c650eb"
      },
      "source": [
        "n_missing_prices = reviews.price.isnull().sum()\n",
        "n_missing_prices"
      ],
      "execution_count": 21,
      "outputs": [
        {
          "output_type": "execute_result",
          "data": {
            "text/plain": [
              "8996"
            ]
          },
          "metadata": {
            "tags": []
          },
          "execution_count": 21
        }
      ]
    },
    {
      "cell_type": "markdown",
      "metadata": {
        "id": "cUGh-oE95ZJk",
        "colab_type": "text"
      },
      "source": [
        "#4.\n",
        "What are the most common wine-producing regions? Create a Series counting the number of times each value occurs in the region_1 field. This field is often missing data, so replace missing values with Unknown. Sort in descending order. Your output should look something like this:"
      ]
    },
    {
      "cell_type": "code",
      "metadata": {
        "id": "Rxcd_RTH9yRW",
        "colab_type": "code",
        "colab": {
          "base_uri": "https://localhost:8080/",
          "height": 221
        },
        "outputId": "d8d174d3-69f7-4654-cdf3-84be34eb0ab0"
      },
      "source": [
        "reviews.region_1.fillna('Unknown').value_counts().sort_values(ascending=False)"
      ],
      "execution_count": 59,
      "outputs": [
        {
          "output_type": "execute_result",
          "data": {
            "text/plain": [
              "Unknown                                 21247\n",
              "Napa Valley                              4480\n",
              "Columbia Valley (WA)                     4124\n",
              "Russian River Valley                     3091\n",
              "California                               2629\n",
              "                                        ...  \n",
              "Vin de Pays des Coteaux de Bessilles        1\n",
              "Australia-New Zealand                       1\n",
              "Benaco Bresciano                            1\n",
              "Vino de Calidad de Tierras de León          1\n",
              "Napa-Sonoma-Marin                           1\n",
              "Name: region_1, Length: 1230, dtype: int64"
            ]
          },
          "metadata": {
            "tags": []
          },
          "execution_count": 59
        }
      ]
    },
    {
      "cell_type": "code",
      "metadata": {
        "id": "6IAlz3cW5uKN",
        "colab_type": "code",
        "colab": {
          "base_uri": "https://localhost:8080/",
          "height": 238
        },
        "outputId": "41bdb9e7-4171-4520-8654-083e53f2896e"
      },
      "source": [
        "reviews.region_1 = reviews.region_1.fillna('Unknown')\n",
        "reviews_per_region = reviews.groupby('region_1').region_1.count().sort_values(ascending=False)\n",
        "reviews_per_region"
      ],
      "execution_count": 58,
      "outputs": [
        {
          "output_type": "execute_result",
          "data": {
            "text/plain": [
              "region_1\n",
              "Unknown                              21247\n",
              "Napa Valley                           4480\n",
              "Columbia Valley (WA)                  4124\n",
              "Russian River Valley                  3091\n",
              "California                            2629\n",
              "                                     ...  \n",
              "Mount Barker & Margaret River            1\n",
              "Murray-Darling                           1\n",
              "Muscat de Saint-Jean de Minervois        1\n",
              "Canada                                   1\n",
              "Massachusetts                            1\n",
              "Name: region_1, Length: 1230, dtype: int64"
            ]
          },
          "metadata": {
            "tags": []
          },
          "execution_count": 58
        }
      ]
    },
    {
      "cell_type": "code",
      "metadata": {
        "id": "e-JzXpSh6CFD",
        "colab_type": "code",
        "colab": {}
      },
      "source": [
        ""
      ],
      "execution_count": 0,
      "outputs": []
    }
  ]
}