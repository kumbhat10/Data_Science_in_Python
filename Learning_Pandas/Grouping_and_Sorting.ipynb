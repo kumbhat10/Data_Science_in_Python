{
  "nbformat": 4,
  "nbformat_minor": 0,
  "metadata": {
    "colab": {
      "name": "Grouping_and_Sorting.ipynb",
      "provenance": [],
      "collapsed_sections": [],
      "authorship_tag": "ABX9TyNWag9nSw9mQqlanbCaieig",
      "include_colab_link": true
    },
    "kernelspec": {
      "name": "python3",
      "display_name": "Python 3"
    }
  },
  "cells": [
    {
      "cell_type": "markdown",
      "metadata": {
        "id": "view-in-github",
        "colab_type": "text"
      },
      "source": [
        "<a href=\"https://colab.research.google.com/github/kumbhat10/Data_Science_in_Python/blob/master/Learning_Pandas/Grouping_and_Sorting.ipynb\" target=\"_parent\"><img src=\"https://colab.research.google.com/assets/colab-badge.svg\" alt=\"Open In Colab\"/></a>"
      ]
    },
    {
      "cell_type": "code",
      "metadata": {
        "id": "92GNR8ZstIuB",
        "colab_type": "code",
        "colab": {}
      },
      "source": [
        " import pandas as pd"
      ],
      "execution_count": 0,
      "outputs": []
    },
    {
      "cell_type": "markdown",
      "metadata": {
        "id": "OA_kZXTkuHZp",
        "colab_type": "text"
      },
      "source": [
        "## **Mount Google drive and import data to use**"
      ]
    },
    {
      "cell_type": "code",
      "metadata": {
        "id": "dJkNP824t9HF",
        "colab_type": "code",
        "outputId": "f596da98-4e1f-447f-88fd-ef4cf7aa8169",
        "colab": {
          "base_uri": "https://localhost:8080/",
          "height": 356
        }
      },
      "source": [
        "from google.colab import drive  # mount the google drive to access the wine reviews csv file\n",
        "drive.mount('/content/gdrive')\n",
        "reviews = pd.read_csv('/content/gdrive/My Drive/Colab Notebooks/Sample_data/winemag-data-130k-v2.csv')\n",
        "reviews.head(3) # show only first 3 results"
      ],
      "execution_count": 3,
      "outputs": [
        {
          "output_type": "stream",
          "text": [
            "Drive already mounted at /content/gdrive; to attempt to forcibly remount, call drive.mount(\"/content/gdrive\", force_remount=True).\n"
          ],
          "name": "stdout"
        },
        {
          "output_type": "execute_result",
          "data": {
            "text/html": [
              "<div>\n",
              "<style scoped>\n",
              "    .dataframe tbody tr th:only-of-type {\n",
              "        vertical-align: middle;\n",
              "    }\n",
              "\n",
              "    .dataframe tbody tr th {\n",
              "        vertical-align: top;\n",
              "    }\n",
              "\n",
              "    .dataframe thead th {\n",
              "        text-align: right;\n",
              "    }\n",
              "</style>\n",
              "<table border=\"1\" class=\"dataframe\">\n",
              "  <thead>\n",
              "    <tr style=\"text-align: right;\">\n",
              "      <th></th>\n",
              "      <th>Unnamed: 0</th>\n",
              "      <th>country</th>\n",
              "      <th>description</th>\n",
              "      <th>designation</th>\n",
              "      <th>points</th>\n",
              "      <th>price</th>\n",
              "      <th>province</th>\n",
              "      <th>region_1</th>\n",
              "      <th>region_2</th>\n",
              "      <th>taster_name</th>\n",
              "      <th>taster_twitter_handle</th>\n",
              "      <th>title</th>\n",
              "      <th>variety</th>\n",
              "      <th>winery</th>\n",
              "    </tr>\n",
              "  </thead>\n",
              "  <tbody>\n",
              "    <tr>\n",
              "      <th>0</th>\n",
              "      <td>0</td>\n",
              "      <td>Italy</td>\n",
              "      <td>Aromas include tropical fruit, broom, brimston...</td>\n",
              "      <td>Vulkà Bianco</td>\n",
              "      <td>87</td>\n",
              "      <td>NaN</td>\n",
              "      <td>Sicily &amp; Sardinia</td>\n",
              "      <td>Etna</td>\n",
              "      <td>NaN</td>\n",
              "      <td>Kerin O’Keefe</td>\n",
              "      <td>@kerinokeefe</td>\n",
              "      <td>Nicosia 2013 Vulkà Bianco  (Etna)</td>\n",
              "      <td>White Blend</td>\n",
              "      <td>Nicosia</td>\n",
              "    </tr>\n",
              "    <tr>\n",
              "      <th>1</th>\n",
              "      <td>1</td>\n",
              "      <td>Portugal</td>\n",
              "      <td>This is ripe and fruity, a wine that is smooth...</td>\n",
              "      <td>Avidagos</td>\n",
              "      <td>87</td>\n",
              "      <td>15.0</td>\n",
              "      <td>Douro</td>\n",
              "      <td>NaN</td>\n",
              "      <td>NaN</td>\n",
              "      <td>Roger Voss</td>\n",
              "      <td>@vossroger</td>\n",
              "      <td>Quinta dos Avidagos 2011 Avidagos Red (Douro)</td>\n",
              "      <td>Portuguese Red</td>\n",
              "      <td>Quinta dos Avidagos</td>\n",
              "    </tr>\n",
              "    <tr>\n",
              "      <th>2</th>\n",
              "      <td>2</td>\n",
              "      <td>US</td>\n",
              "      <td>Tart and snappy, the flavors of lime flesh and...</td>\n",
              "      <td>NaN</td>\n",
              "      <td>87</td>\n",
              "      <td>14.0</td>\n",
              "      <td>Oregon</td>\n",
              "      <td>Willamette Valley</td>\n",
              "      <td>Willamette Valley</td>\n",
              "      <td>Paul Gregutt</td>\n",
              "      <td>@paulgwine</td>\n",
              "      <td>Rainstorm 2013 Pinot Gris (Willamette Valley)</td>\n",
              "      <td>Pinot Gris</td>\n",
              "      <td>Rainstorm</td>\n",
              "    </tr>\n",
              "  </tbody>\n",
              "</table>\n",
              "</div>"
            ],
            "text/plain": [
              "   Unnamed: 0   country  ...         variety               winery\n",
              "0           0     Italy  ...     White Blend              Nicosia\n",
              "1           1  Portugal  ...  Portuguese Red  Quinta dos Avidagos\n",
              "2           2        US  ...      Pinot Gris            Rainstorm\n",
              "\n",
              "[3 rows x 14 columns]"
            ]
          },
          "metadata": {
            "tags": []
          },
          "execution_count": 3
        }
      ]
    },
    {
      "cell_type": "markdown",
      "metadata": {
        "id": "B4spEWPBtmpA",
        "colab_type": "text"
      },
      "source": [
        "# **Groupwise analysis**"
      ]
    },
    {
      "cell_type": "markdown",
      "metadata": {
        "id": "T83iiG0OtVEq",
        "colab_type": "text"
      },
      "source": [
        "Maps allow us to transform data in DatFrame or Series oen value at a time for an entire column.\n",
        "\n",
        "However, often we want to group our data, and then do something specific to the group the data is in."
      ]
    },
    {
      "cell_type": "markdown",
      "metadata": {
        "id": "K684peJDtrpu",
        "colab_type": "text"
      },
      "source": [
        "one function we've been using heavily is value_counts function\n",
        "\n",
        "It can be replicated by following"
      ]
    },
    {
      "cell_type": "code",
      "metadata": {
        "id": "XOpUSCoHt2Mh",
        "colab_type": "code",
        "outputId": "0d19a5d7-7928-4bbc-e03e-0c09e8d0a163",
        "colab": {
          "base_uri": "https://localhost:8080/",
          "height": 426
        }
      },
      "source": [
        "reviews.groupby('points').points.count()"
      ],
      "execution_count": 4,
      "outputs": [
        {
          "output_type": "execute_result",
          "data": {
            "text/plain": [
              "points\n",
              "80       397\n",
              "81       692\n",
              "82      1836\n",
              "83      3025\n",
              "84      6480\n",
              "85      9530\n",
              "86     12600\n",
              "87     16933\n",
              "88     17207\n",
              "89     12226\n",
              "90     15410\n",
              "91     11359\n",
              "92      9613\n",
              "93      6489\n",
              "94      3758\n",
              "95      1535\n",
              "96       523\n",
              "97       229\n",
              "98        77\n",
              "99        33\n",
              "100       19\n",
              "Name: points, dtype: int64"
            ]
          },
          "metadata": {
            "tags": []
          },
          "execution_count": 4
        }
      ]
    },
    {
      "cell_type": "markdown",
      "metadata": {
        "id": "dAHrSXiYumls",
        "colab_type": "text"
      },
      "source": [
        "groupby() created a group of reviews which alloted the same point values to the given wines.\n",
        "\n",
        "Then, for each of these groups, we grabbed the points() column and counted how many times it appeared."
      ]
    },
    {
      "cell_type": "markdown",
      "metadata": {
        "id": "dGa0dMdXu7lu",
        "colab_type": "text"
      },
      "source": [
        "To find the cheapest wines in each of the following groups"
      ]
    },
    {
      "cell_type": "code",
      "metadata": {
        "id": "kNspy9JRvw2v",
        "colab_type": "code",
        "outputId": "1132f8a3-fc53-4ff6-9f3a-fb7607bc5b04",
        "colab": {
          "base_uri": "https://localhost:8080/",
          "height": 426
        }
      },
      "source": [
        "reviews.groupby('points').price.min()"
      ],
      "execution_count": 5,
      "outputs": [
        {
          "output_type": "execute_result",
          "data": {
            "text/plain": [
              "points\n",
              "80      5.0\n",
              "81      5.0\n",
              "82      4.0\n",
              "83      4.0\n",
              "84      4.0\n",
              "85      4.0\n",
              "86      4.0\n",
              "87      5.0\n",
              "88      6.0\n",
              "89      7.0\n",
              "90      8.0\n",
              "91      7.0\n",
              "92     11.0\n",
              "93     12.0\n",
              "94     13.0\n",
              "95     20.0\n",
              "96     20.0\n",
              "97     35.0\n",
              "98     50.0\n",
              "99     44.0\n",
              "100    80.0\n",
              "Name: price, dtype: float64"
            ]
          },
          "metadata": {
            "tags": []
          },
          "execution_count": 5
        }
      ]
    },
    {
      "cell_type": "markdown",
      "metadata": {
        "id": "Wq9BVgeuv06T",
        "colab_type": "text"
      },
      "source": [
        "You can think of each group we generate as being a slice of our DataFrame containing only data with values that match. \n",
        "\n",
        "This DataFrame is accessible to us directly using the apply() method, and we can then manipulate the data in any way we see fit. \n",
        "\n",
        "For example, here's one way of selecting the name of the **first wine reviewed from each winery** in the dataset:"
      ]
    },
    {
      "cell_type": "code",
      "metadata": {
        "id": "uKzfv5XNwB67",
        "colab_type": "code",
        "outputId": "0bc8273d-9fbd-4c20-c8d0-b6a0a7d03eea",
        "colab": {
          "base_uri": "https://localhost:8080/",
          "height": 235
        }
      },
      "source": [
        "reviews.groupby('winery').apply(lambda daframe: daframe.title.iloc[0])"
      ],
      "execution_count": 0,
      "outputs": [
        {
          "output_type": "execute_result",
          "data": {
            "text/plain": [
              "winery\n",
              "1+1=3                                     1+1=3 NV Rosé Sparkling (Cava)\n",
              "10 Knots                            10 Knots 2010 Viognier (Paso Robles)\n",
              "100 Percent Wine              100 Percent Wine 2015 Moscato (California)\n",
              "1000 Stories           1000 Stories 2013 Bourbon Barrel Aged Zinfande...\n",
              "1070 Green                  1070 Green 2011 Sauvignon Blanc (Rutherford)\n",
              "                                             ...                        \n",
              "Órale                       Órale 2011 Cabronita Red (Santa Ynez Valley)\n",
              "Öko                    Öko 2013 Made With Organically Grown Grapes Ma...\n",
              "Ökonomierat Rebholz    Ökonomierat Rebholz 2007 Von Rotliegenden Spät...\n",
              "àMaurice               àMaurice 2013 Fred Estate Syrah (Walla Walla V...\n",
              "Štoka                                    Štoka 2009 Izbrani Teran (Kras)\n",
              "Length: 16757, dtype: object"
            ]
          },
          "metadata": {
            "tags": []
          },
          "execution_count": 16
        }
      ]
    },
    {
      "cell_type": "markdown",
      "metadata": {
        "id": "Ke2Zi8BSwYFa",
        "colab_type": "text"
      },
      "source": [
        "## **group by more than one column**"
      ]
    },
    {
      "cell_type": "markdown",
      "metadata": {
        "id": "U7eN_Y3bw0iL",
        "colab_type": "text"
      },
      "source": [
        "pick out the best wine by country and province:"
      ]
    },
    {
      "cell_type": "code",
      "metadata": {
        "id": "xK03m575wejE",
        "colab_type": "code",
        "outputId": "6fabd98a-1481-42d6-8036-3606b3f65219",
        "colab": {
          "base_uri": "https://localhost:8080/",
          "height": 585
        }
      },
      "source": [
        "a = reviews.groupby(['country','province']).apply(lambda df:df.loc[df.points.idxmax()])\n",
        "a.head(4) # show results of only 4"
      ],
      "execution_count": 6,
      "outputs": [
        {
          "output_type": "execute_result",
          "data": {
            "text/html": [
              "<div>\n",
              "<style scoped>\n",
              "    .dataframe tbody tr th:only-of-type {\n",
              "        vertical-align: middle;\n",
              "    }\n",
              "\n",
              "    .dataframe tbody tr th {\n",
              "        vertical-align: top;\n",
              "    }\n",
              "\n",
              "    .dataframe thead th {\n",
              "        text-align: right;\n",
              "    }\n",
              "</style>\n",
              "<table border=\"1\" class=\"dataframe\">\n",
              "  <thead>\n",
              "    <tr style=\"text-align: right;\">\n",
              "      <th></th>\n",
              "      <th></th>\n",
              "      <th>Unnamed: 0</th>\n",
              "      <th>country</th>\n",
              "      <th>description</th>\n",
              "      <th>designation</th>\n",
              "      <th>points</th>\n",
              "      <th>price</th>\n",
              "      <th>province</th>\n",
              "      <th>region_1</th>\n",
              "      <th>region_2</th>\n",
              "      <th>taster_name</th>\n",
              "      <th>taster_twitter_handle</th>\n",
              "      <th>title</th>\n",
              "      <th>variety</th>\n",
              "      <th>winery</th>\n",
              "    </tr>\n",
              "    <tr>\n",
              "      <th>country</th>\n",
              "      <th>province</th>\n",
              "      <th></th>\n",
              "      <th></th>\n",
              "      <th></th>\n",
              "      <th></th>\n",
              "      <th></th>\n",
              "      <th></th>\n",
              "      <th></th>\n",
              "      <th></th>\n",
              "      <th></th>\n",
              "      <th></th>\n",
              "      <th></th>\n",
              "      <th></th>\n",
              "      <th></th>\n",
              "      <th></th>\n",
              "    </tr>\n",
              "  </thead>\n",
              "  <tbody>\n",
              "    <tr>\n",
              "      <th rowspan=\"2\" valign=\"top\">Argentina</th>\n",
              "      <th>Mendoza Province</th>\n",
              "      <td>82754</td>\n",
              "      <td>Argentina</td>\n",
              "      <td>If the color doesn't tell the full story, the ...</td>\n",
              "      <td>Nicasia Vineyard</td>\n",
              "      <td>97</td>\n",
              "      <td>120.0</td>\n",
              "      <td>Mendoza Province</td>\n",
              "      <td>Mendoza</td>\n",
              "      <td>NaN</td>\n",
              "      <td>Michael Schachner</td>\n",
              "      <td>@wineschach</td>\n",
              "      <td>Bodega Catena Zapata 2006 Nicasia Vineyard Mal...</td>\n",
              "      <td>Malbec</td>\n",
              "      <td>Bodega Catena Zapata</td>\n",
              "    </tr>\n",
              "    <tr>\n",
              "      <th>Other</th>\n",
              "      <td>78303</td>\n",
              "      <td>Argentina</td>\n",
              "      <td>Take note, this could be the best wine Colomé ...</td>\n",
              "      <td>Reserva</td>\n",
              "      <td>95</td>\n",
              "      <td>90.0</td>\n",
              "      <td>Other</td>\n",
              "      <td>Salta</td>\n",
              "      <td>NaN</td>\n",
              "      <td>Michael Schachner</td>\n",
              "      <td>@wineschach</td>\n",
              "      <td>Colomé 2010 Reserva Malbec (Salta)</td>\n",
              "      <td>Malbec</td>\n",
              "      <td>Colomé</td>\n",
              "    </tr>\n",
              "    <tr>\n",
              "      <th>Armenia</th>\n",
              "      <th>Armenia</th>\n",
              "      <td>66146</td>\n",
              "      <td>Armenia</td>\n",
              "      <td>Deep salmon in color, this wine offers a bouqu...</td>\n",
              "      <td>Estate Bottled</td>\n",
              "      <td>88</td>\n",
              "      <td>15.0</td>\n",
              "      <td>Armenia</td>\n",
              "      <td>NaN</td>\n",
              "      <td>NaN</td>\n",
              "      <td>Mike DeSimone</td>\n",
              "      <td>@worldwineguys</td>\n",
              "      <td>Van Ardi 2015 Estate Bottled Rosé (Armenia)</td>\n",
              "      <td>Rosé</td>\n",
              "      <td>Van Ardi</td>\n",
              "    </tr>\n",
              "    <tr>\n",
              "      <th>Australia</th>\n",
              "      <th>Australia Other</th>\n",
              "      <td>37882</td>\n",
              "      <td>Australia</td>\n",
              "      <td>Writes the book on how to make a wine filled w...</td>\n",
              "      <td>Sarah's Blend</td>\n",
              "      <td>93</td>\n",
              "      <td>15.0</td>\n",
              "      <td>Australia Other</td>\n",
              "      <td>South Eastern Australia</td>\n",
              "      <td>NaN</td>\n",
              "      <td>NaN</td>\n",
              "      <td>NaN</td>\n",
              "      <td>Marquis Philips 2000 Sarah's Blend Red (South ...</td>\n",
              "      <td>Red Blend</td>\n",
              "      <td>Marquis Philips</td>\n",
              "    </tr>\n",
              "  </tbody>\n",
              "</table>\n",
              "</div>"
            ],
            "text/plain": [
              "                            Unnamed: 0  ...                winery\n",
              "country   province                      ...                      \n",
              "Argentina Mendoza Province       82754  ...  Bodega Catena Zapata\n",
              "          Other                  78303  ...                Colomé\n",
              "Armenia   Armenia                66146  ...              Van Ardi\n",
              "Australia Australia Other        37882  ...       Marquis Philips\n",
              "\n",
              "[4 rows x 14 columns]"
            ]
          },
          "metadata": {
            "tags": []
          },
          "execution_count": 6
        }
      ]
    },
    {
      "cell_type": "markdown",
      "metadata": {
        "id": "5GOptXiFwmh1",
        "colab_type": "text"
      },
      "source": [
        "## **agg()**  - groupby() Method - Multiple functions calling on group"
      ]
    },
    {
      "cell_type": "markdown",
      "metadata": {
        "id": "Nt79wpCCxQQ1",
        "colab_type": "text"
      },
      "source": [
        "agg() lets you run multiple different functions on your DataFrame simultaneously.\n",
        "\n",
        "For Exaxmple :- general simple statistical sumary of the dataset as follows"
      ]
    },
    {
      "cell_type": "code",
      "metadata": {
        "id": "UFDFyJvsxja-",
        "colab_type": "code",
        "outputId": "e7529674-c5cb-4637-c521-e80b9223dd8e",
        "colab": {
          "base_uri": "https://localhost:8080/",
          "height": 314
        }
      },
      "source": [
        "## runs len, min and max functions on wines of different countries\n",
        "a = reviews.groupby('country').price.agg([len,min,max])  \n",
        "a.head(8)  ## show only 3"
      ],
      "execution_count": 0,
      "outputs": [
        {
          "output_type": "execute_result",
          "data": {
            "text/html": [
              "<div>\n",
              "<style scoped>\n",
              "    .dataframe tbody tr th:only-of-type {\n",
              "        vertical-align: middle;\n",
              "    }\n",
              "\n",
              "    .dataframe tbody tr th {\n",
              "        vertical-align: top;\n",
              "    }\n",
              "\n",
              "    .dataframe thead th {\n",
              "        text-align: right;\n",
              "    }\n",
              "</style>\n",
              "<table border=\"1\" class=\"dataframe\">\n",
              "  <thead>\n",
              "    <tr style=\"text-align: right;\">\n",
              "      <th></th>\n",
              "      <th>len</th>\n",
              "      <th>min</th>\n",
              "      <th>max</th>\n",
              "    </tr>\n",
              "    <tr>\n",
              "      <th>country</th>\n",
              "      <th></th>\n",
              "      <th></th>\n",
              "      <th></th>\n",
              "    </tr>\n",
              "  </thead>\n",
              "  <tbody>\n",
              "    <tr>\n",
              "      <th>Argentina</th>\n",
              "      <td>3800.0</td>\n",
              "      <td>4.0</td>\n",
              "      <td>230.0</td>\n",
              "    </tr>\n",
              "    <tr>\n",
              "      <th>Armenia</th>\n",
              "      <td>2.0</td>\n",
              "      <td>14.0</td>\n",
              "      <td>15.0</td>\n",
              "    </tr>\n",
              "    <tr>\n",
              "      <th>Australia</th>\n",
              "      <td>2329.0</td>\n",
              "      <td>5.0</td>\n",
              "      <td>850.0</td>\n",
              "    </tr>\n",
              "    <tr>\n",
              "      <th>Austria</th>\n",
              "      <td>3345.0</td>\n",
              "      <td>7.0</td>\n",
              "      <td>1100.0</td>\n",
              "    </tr>\n",
              "    <tr>\n",
              "      <th>Bosnia and Herzegovina</th>\n",
              "      <td>2.0</td>\n",
              "      <td>12.0</td>\n",
              "      <td>13.0</td>\n",
              "    </tr>\n",
              "    <tr>\n",
              "      <th>Brazil</th>\n",
              "      <td>52.0</td>\n",
              "      <td>10.0</td>\n",
              "      <td>60.0</td>\n",
              "    </tr>\n",
              "    <tr>\n",
              "      <th>Bulgaria</th>\n",
              "      <td>141.0</td>\n",
              "      <td>8.0</td>\n",
              "      <td>100.0</td>\n",
              "    </tr>\n",
              "    <tr>\n",
              "      <th>Canada</th>\n",
              "      <td>257.0</td>\n",
              "      <td>12.0</td>\n",
              "      <td>120.0</td>\n",
              "    </tr>\n",
              "  </tbody>\n",
              "</table>\n",
              "</div>"
            ],
            "text/plain": [
              "                           len   min     max\n",
              "country                                     \n",
              "Argentina               3800.0   4.0   230.0\n",
              "Armenia                    2.0  14.0    15.0\n",
              "Australia               2329.0   5.0   850.0\n",
              "Austria                 3345.0   7.0  1100.0\n",
              "Bosnia and Herzegovina     2.0  12.0    13.0\n",
              "Brazil                    52.0  10.0    60.0\n",
              "Bulgaria                 141.0   8.0   100.0\n",
              "Canada                   257.0  12.0   120.0"
            ]
          },
          "metadata": {
            "tags": []
          },
          "execution_count": 5
        }
      ]
    },
    {
      "cell_type": "markdown",
      "metadata": {
        "id": "J2a89rSTxqPg",
        "colab_type": "text"
      },
      "source": [
        "# **Multi- indexes**"
      ]
    },
    {
      "cell_type": "markdown",
      "metadata": {
        "id": "jT7EWAqmyY2o",
        "colab_type": "text"
      },
      "source": [
        "groupby() is slightly different in the  fact that depending on the operation we run, it will sometimes result in what is called a Multi-index\n",
        "\n",
        "a multi-index differs from a regular index in that it has multiple levels"
      ]
    },
    {
      "cell_type": "code",
      "metadata": {
        "id": "8p2PAay0yrT1",
        "colab_type": "code",
        "outputId": "f550e193-fac2-41ef-eb3f-9f6cd16fa2cc",
        "colab": {
          "base_uri": "https://localhost:8080/",
          "height": 390
        }
      },
      "source": [
        "countries_reviewed = reviews.groupby(['country','province']).description.agg([len])\n",
        "countries_reviewed.head(10)"
      ],
      "execution_count": 0,
      "outputs": [
        {
          "output_type": "execute_result",
          "data": {
            "text/html": [
              "<div>\n",
              "<style scoped>\n",
              "    .dataframe tbody tr th:only-of-type {\n",
              "        vertical-align: middle;\n",
              "    }\n",
              "\n",
              "    .dataframe tbody tr th {\n",
              "        vertical-align: top;\n",
              "    }\n",
              "\n",
              "    .dataframe thead th {\n",
              "        text-align: right;\n",
              "    }\n",
              "</style>\n",
              "<table border=\"1\" class=\"dataframe\">\n",
              "  <thead>\n",
              "    <tr style=\"text-align: right;\">\n",
              "      <th></th>\n",
              "      <th></th>\n",
              "      <th>len</th>\n",
              "    </tr>\n",
              "    <tr>\n",
              "      <th>country</th>\n",
              "      <th>province</th>\n",
              "      <th></th>\n",
              "    </tr>\n",
              "  </thead>\n",
              "  <tbody>\n",
              "    <tr>\n",
              "      <th rowspan=\"2\" valign=\"top\">Argentina</th>\n",
              "      <th>Mendoza Province</th>\n",
              "      <td>3264</td>\n",
              "    </tr>\n",
              "    <tr>\n",
              "      <th>Other</th>\n",
              "      <td>536</td>\n",
              "    </tr>\n",
              "    <tr>\n",
              "      <th>Armenia</th>\n",
              "      <th>Armenia</th>\n",
              "      <td>2</td>\n",
              "    </tr>\n",
              "    <tr>\n",
              "      <th rowspan=\"6\" valign=\"top\">Australia</th>\n",
              "      <th>Australia Other</th>\n",
              "      <td>245</td>\n",
              "    </tr>\n",
              "    <tr>\n",
              "      <th>New South Wales</th>\n",
              "      <td>85</td>\n",
              "    </tr>\n",
              "    <tr>\n",
              "      <th>South Australia</th>\n",
              "      <td>1349</td>\n",
              "    </tr>\n",
              "    <tr>\n",
              "      <th>Tasmania</th>\n",
              "      <td>42</td>\n",
              "    </tr>\n",
              "    <tr>\n",
              "      <th>Victoria</th>\n",
              "      <td>322</td>\n",
              "    </tr>\n",
              "    <tr>\n",
              "      <th>Western Australia</th>\n",
              "      <td>286</td>\n",
              "    </tr>\n",
              "    <tr>\n",
              "      <th>Austria</th>\n",
              "      <th>Austria</th>\n",
              "      <td>26</td>\n",
              "    </tr>\n",
              "  </tbody>\n",
              "</table>\n",
              "</div>"
            ],
            "text/plain": [
              "                              len\n",
              "country   province               \n",
              "Argentina Mendoza Province   3264\n",
              "          Other               536\n",
              "Armenia   Armenia               2\n",
              "Australia Australia Other     245\n",
              "          New South Wales      85\n",
              "          South Australia    1349\n",
              "          Tasmania             42\n",
              "          Victoria            322\n",
              "          Western Australia   286\n",
              "Austria   Austria              26"
            ]
          },
          "metadata": {
            "tags": []
          },
          "execution_count": 29
        }
      ]
    },
    {
      "cell_type": "code",
      "metadata": {
        "id": "QzrqHfi6yzE0",
        "colab_type": "code",
        "outputId": "17b11812-d704-4076-d0a0-eed8950eefb5",
        "colab": {
          "base_uri": "https://localhost:8080/",
          "height": 34
        }
      },
      "source": [
        "type(countries_reviewed.index) # pandas.core.indexes.multi.MultiIndex"
      ],
      "execution_count": 0,
      "outputs": [
        {
          "output_type": "execute_result",
          "data": {
            "text/plain": [
              "pandas.core.indexes.multi.MultiIndex"
            ]
          },
          "metadata": {
            "tags": []
          },
          "execution_count": 30
        }
      ]
    },
    {
      "cell_type": "code",
      "metadata": {
        "id": "O2RnbLVUNHWU",
        "colab_type": "code",
        "outputId": "c1ab994c-b2d7-40a4-f4f5-e819df24d9f9",
        "colab": {
          "base_uri": "https://localhost:8080/",
          "height": 391
        }
      },
      "source": [
        "countries_reviewed.index"
      ],
      "execution_count": 0,
      "outputs": [
        {
          "output_type": "execute_result",
          "data": {
            "text/plain": [
              "MultiIndex([('Argentina',  'Mendoza Province'),\n",
              "            ('Argentina',             'Other'),\n",
              "            (  'Armenia',           'Armenia'),\n",
              "            ('Australia',   'Australia Other'),\n",
              "            ('Australia',   'New South Wales'),\n",
              "            ('Australia',   'South Australia'),\n",
              "            ('Australia',          'Tasmania'),\n",
              "            ('Australia',          'Victoria'),\n",
              "            ('Australia', 'Western Australia'),\n",
              "            (  'Austria',           'Austria'),\n",
              "            ...\n",
              "            (       'US',        'Washington'),\n",
              "            (       'US', 'Washington-Oregon'),\n",
              "            (  'Ukraine',           'Ukraine'),\n",
              "            (  'Uruguay',         'Atlantida'),\n",
              "            (  'Uruguay',         'Canelones'),\n",
              "            (  'Uruguay',           'Juanico'),\n",
              "            (  'Uruguay',        'Montevideo'),\n",
              "            (  'Uruguay',          'Progreso'),\n",
              "            (  'Uruguay',          'San Jose'),\n",
              "            (  'Uruguay',           'Uruguay')],\n",
              "           names=['country', 'province'], length=425)"
            ]
          },
          "metadata": {
            "tags": []
          },
          "execution_count": 41
        }
      ]
    },
    {
      "cell_type": "code",
      "metadata": {
        "id": "3Q7QCj1hN15Q",
        "colab_type": "code",
        "outputId": "f46d1a7e-27b8-4eed-b99f-8bcedfb5b1b9",
        "colab": {
          "base_uri": "https://localhost:8080/",
          "height": 51
        }
      },
      "source": [
        "countries_reviewed.loc['Argentina',  'Mendoza Province'] ## call using loc and this index"
      ],
      "execution_count": 0,
      "outputs": [
        {
          "output_type": "execute_result",
          "data": {
            "text/plain": [
              "len    3264\n",
              "Name: (Argentina, Mendoza Province), dtype: int64"
            ]
          },
          "metadata": {
            "tags": []
          },
          "execution_count": 40
        }
      ]
    },
    {
      "cell_type": "markdown",
      "metadata": {
        "id": "zMiD4X0izMAZ",
        "colab_type": "text"
      },
      "source": [
        "Multi-indices have several methods for dealing with their tiered structure which are absent for single-level indices\n",
        "\n",
        "They require 2 levels of labels to retrieve a value.\n",
        "\n",
        "The use cases for a multi index are detailed alongside instructions on using them in below link"
      ]
    },
    {
      "cell_type": "markdown",
      "metadata": {
        "id": "CH5L3IrVL8LT",
        "colab_type": "text"
      },
      "source": [
        "https://pandas.pydata.org/pandas-docs/stable/user_guide/advanced.html"
      ]
    },
    {
      "cell_type": "code",
      "metadata": {
        "id": "RlcxBRuJMLGb",
        "colab_type": "code",
        "outputId": "e72c8479-3651-4d18-d17b-063378b93d50",
        "colab": {
          "base_uri": "https://localhost:8080/",
          "height": 419
        }
      },
      "source": [
        "countries_reviewed.reset_index()   ## index resets to numbers from 0 to 424"
      ],
      "execution_count": 0,
      "outputs": [
        {
          "output_type": "execute_result",
          "data": {
            "text/html": [
              "<div>\n",
              "<style scoped>\n",
              "    .dataframe tbody tr th:only-of-type {\n",
              "        vertical-align: middle;\n",
              "    }\n",
              "\n",
              "    .dataframe tbody tr th {\n",
              "        vertical-align: top;\n",
              "    }\n",
              "\n",
              "    .dataframe thead th {\n",
              "        text-align: right;\n",
              "    }\n",
              "</style>\n",
              "<table border=\"1\" class=\"dataframe\">\n",
              "  <thead>\n",
              "    <tr style=\"text-align: right;\">\n",
              "      <th></th>\n",
              "      <th>country</th>\n",
              "      <th>province</th>\n",
              "      <th>len</th>\n",
              "    </tr>\n",
              "  </thead>\n",
              "  <tbody>\n",
              "    <tr>\n",
              "      <th>0</th>\n",
              "      <td>Argentina</td>\n",
              "      <td>Mendoza Province</td>\n",
              "      <td>3264</td>\n",
              "    </tr>\n",
              "    <tr>\n",
              "      <th>1</th>\n",
              "      <td>Argentina</td>\n",
              "      <td>Other</td>\n",
              "      <td>536</td>\n",
              "    </tr>\n",
              "    <tr>\n",
              "      <th>2</th>\n",
              "      <td>Armenia</td>\n",
              "      <td>Armenia</td>\n",
              "      <td>2</td>\n",
              "    </tr>\n",
              "    <tr>\n",
              "      <th>3</th>\n",
              "      <td>Australia</td>\n",
              "      <td>Australia Other</td>\n",
              "      <td>245</td>\n",
              "    </tr>\n",
              "    <tr>\n",
              "      <th>4</th>\n",
              "      <td>Australia</td>\n",
              "      <td>New South Wales</td>\n",
              "      <td>85</td>\n",
              "    </tr>\n",
              "    <tr>\n",
              "      <th>...</th>\n",
              "      <td>...</td>\n",
              "      <td>...</td>\n",
              "      <td>...</td>\n",
              "    </tr>\n",
              "    <tr>\n",
              "      <th>420</th>\n",
              "      <td>Uruguay</td>\n",
              "      <td>Juanico</td>\n",
              "      <td>12</td>\n",
              "    </tr>\n",
              "    <tr>\n",
              "      <th>421</th>\n",
              "      <td>Uruguay</td>\n",
              "      <td>Montevideo</td>\n",
              "      <td>11</td>\n",
              "    </tr>\n",
              "    <tr>\n",
              "      <th>422</th>\n",
              "      <td>Uruguay</td>\n",
              "      <td>Progreso</td>\n",
              "      <td>11</td>\n",
              "    </tr>\n",
              "    <tr>\n",
              "      <th>423</th>\n",
              "      <td>Uruguay</td>\n",
              "      <td>San Jose</td>\n",
              "      <td>3</td>\n",
              "    </tr>\n",
              "    <tr>\n",
              "      <th>424</th>\n",
              "      <td>Uruguay</td>\n",
              "      <td>Uruguay</td>\n",
              "      <td>24</td>\n",
              "    </tr>\n",
              "  </tbody>\n",
              "</table>\n",
              "<p>425 rows × 3 columns</p>\n",
              "</div>"
            ],
            "text/plain": [
              "       country          province   len\n",
              "0    Argentina  Mendoza Province  3264\n",
              "1    Argentina             Other   536\n",
              "2      Armenia           Armenia     2\n",
              "3    Australia   Australia Other   245\n",
              "4    Australia   New South Wales    85\n",
              "..         ...               ...   ...\n",
              "420    Uruguay           Juanico    12\n",
              "421    Uruguay        Montevideo    11\n",
              "422    Uruguay          Progreso    11\n",
              "423    Uruguay          San Jose     3\n",
              "424    Uruguay           Uruguay    24\n",
              "\n",
              "[425 rows x 3 columns]"
            ]
          },
          "metadata": {
            "tags": []
          },
          "execution_count": 31
        }
      ]
    },
    {
      "cell_type": "markdown",
      "metadata": {
        "id": "rOuR6X54NBfY",
        "colab_type": "text"
      },
      "source": [
        "# **Sorting**"
      ]
    },
    {
      "cell_type": "markdown",
      "metadata": {
        "id": "GoklfVbNPDkH",
        "colab_type": "text"
      },
      "source": [
        "Grouping by groupby() , gives results in index order not value order i.e order of the rows is dependent on the index values and not the data"
      ]
    },
    {
      "cell_type": "code",
      "metadata": {
        "id": "BN1myVrXOEHY",
        "colab_type": "code",
        "outputId": "74139f65-83cb-40bd-d630-7cbc3d8312e8",
        "colab": {
          "base_uri": "https://localhost:8080/",
          "height": 218
        }
      },
      "source": [
        "countries_reviewed = reviews.groupby('country').price.max()     ## costliest wines in every country\n",
        "countries_reviewed.head(10)\n",
        "# countries_reviewed = countries_reviewed.reset_index()"
      ],
      "execution_count": 0,
      "outputs": [
        {
          "output_type": "execute_result",
          "data": {
            "text/plain": [
              "country\n",
              "Argentina                  230.0\n",
              "Armenia                     15.0\n",
              "Australia                  850.0\n",
              "Austria                   1100.0\n",
              "Bosnia and Herzegovina      13.0\n",
              "Brazil                      60.0\n",
              "Bulgaria                   100.0\n",
              "Canada                     120.0\n",
              "Chile                      400.0\n",
              "China                       18.0\n",
              "Name: price, dtype: float64"
            ]
          },
          "metadata": {
            "tags": []
          },
          "execution_count": 3
        }
      ]
    },
    {
      "cell_type": "code",
      "metadata": {
        "id": "djvcUBHi1eMs",
        "colab_type": "code",
        "outputId": "c135b354-8107-455f-c1a9-d22dcdc2c39e",
        "colab": {
          "base_uri": "https://localhost:8080/",
          "height": 218
        }
      },
      "source": [
        "countries_reviewed = reviews.groupby('country').price\n",
        "countries_reviewed.head(5)"
      ],
      "execution_count": 0,
      "outputs": [
        {
          "output_type": "execute_result",
          "data": {
            "text/plain": [
              "0           NaN\n",
              "1          15.0\n",
              "2          14.0\n",
              "3          13.0\n",
              "4          65.0\n",
              "          ...  \n",
              "81814     160.0\n",
              "83622      10.0\n",
              "96759      12.0\n",
              "109989     18.0\n",
              "110246      NaN\n",
              "Name: price, Length: 202, dtype: float64"
            ]
          },
          "metadata": {
            "tags": []
          },
          "execution_count": 8
        }
      ]
    },
    {
      "cell_type": "code",
      "metadata": {
        "id": "jE8LFmuEOPen",
        "colab_type": "code",
        "outputId": "64cfa88c-b632-4bb7-ad0b-232b32edb6cc",
        "colab": {
          "base_uri": "https://localhost:8080/",
          "height": 419
        }
      },
      "source": [
        "countries_reviewed.sort_values(by='len') ## sort the results by len"
      ],
      "execution_count": 0,
      "outputs": [
        {
          "output_type": "execute_result",
          "data": {
            "text/html": [
              "<div>\n",
              "<style scoped>\n",
              "    .dataframe tbody tr th:only-of-type {\n",
              "        vertical-align: middle;\n",
              "    }\n",
              "\n",
              "    .dataframe tbody tr th {\n",
              "        vertical-align: top;\n",
              "    }\n",
              "\n",
              "    .dataframe thead th {\n",
              "        text-align: right;\n",
              "    }\n",
              "</style>\n",
              "<table border=\"1\" class=\"dataframe\">\n",
              "  <thead>\n",
              "    <tr style=\"text-align: right;\">\n",
              "      <th></th>\n",
              "      <th>country</th>\n",
              "      <th>province</th>\n",
              "      <th>len</th>\n",
              "    </tr>\n",
              "  </thead>\n",
              "  <tbody>\n",
              "    <tr>\n",
              "      <th>179</th>\n",
              "      <td>Greece</td>\n",
              "      <td>Muscat of Kefallonian</td>\n",
              "      <td>1</td>\n",
              "    </tr>\n",
              "    <tr>\n",
              "      <th>192</th>\n",
              "      <td>Greece</td>\n",
              "      <td>Sterea Ellada</td>\n",
              "      <td>1</td>\n",
              "    </tr>\n",
              "    <tr>\n",
              "      <th>194</th>\n",
              "      <td>Greece</td>\n",
              "      <td>Thraki</td>\n",
              "      <td>1</td>\n",
              "    </tr>\n",
              "    <tr>\n",
              "      <th>354</th>\n",
              "      <td>South Africa</td>\n",
              "      <td>Paardeberg</td>\n",
              "      <td>1</td>\n",
              "    </tr>\n",
              "    <tr>\n",
              "      <th>40</th>\n",
              "      <td>Brazil</td>\n",
              "      <td>Serra do Sudeste</td>\n",
              "      <td>1</td>\n",
              "    </tr>\n",
              "    <tr>\n",
              "      <th>...</th>\n",
              "      <td>...</td>\n",
              "      <td>...</td>\n",
              "      <td>...</td>\n",
              "    </tr>\n",
              "    <tr>\n",
              "      <th>409</th>\n",
              "      <td>US</td>\n",
              "      <td>Oregon</td>\n",
              "      <td>5373</td>\n",
              "    </tr>\n",
              "    <tr>\n",
              "      <th>227</th>\n",
              "      <td>Italy</td>\n",
              "      <td>Tuscany</td>\n",
              "      <td>5897</td>\n",
              "    </tr>\n",
              "    <tr>\n",
              "      <th>118</th>\n",
              "      <td>France</td>\n",
              "      <td>Bordeaux</td>\n",
              "      <td>5941</td>\n",
              "    </tr>\n",
              "    <tr>\n",
              "      <th>415</th>\n",
              "      <td>US</td>\n",
              "      <td>Washington</td>\n",
              "      <td>8639</td>\n",
              "    </tr>\n",
              "    <tr>\n",
              "      <th>392</th>\n",
              "      <td>US</td>\n",
              "      <td>California</td>\n",
              "      <td>36247</td>\n",
              "    </tr>\n",
              "  </tbody>\n",
              "</table>\n",
              "<p>425 rows × 3 columns</p>\n",
              "</div>"
            ],
            "text/plain": [
              "          country               province    len\n",
              "179        Greece  Muscat of Kefallonian      1\n",
              "192        Greece          Sterea Ellada      1\n",
              "194        Greece                 Thraki      1\n",
              "354  South Africa             Paardeberg      1\n",
              "40         Brazil       Serra do Sudeste      1\n",
              "..            ...                    ...    ...\n",
              "409            US                 Oregon   5373\n",
              "227         Italy                Tuscany   5897\n",
              "118        France               Bordeaux   5941\n",
              "415            US             Washington   8639\n",
              "392            US             California  36247\n",
              "\n",
              "[425 rows x 3 columns]"
            ]
          },
          "metadata": {
            "tags": []
          },
          "execution_count": 48
        }
      ]
    },
    {
      "cell_type": "code",
      "metadata": {
        "id": "6WwYNDA8OoAg",
        "colab_type": "code",
        "outputId": "201ab754-9521-4a29-cf4a-e269d601afd0",
        "colab": {
          "base_uri": "https://localhost:8080/",
          "height": 419
        }
      },
      "source": [
        "countries_reviewed.sort_values(by='len',ascending=False) ## sort in descending order"
      ],
      "execution_count": 0,
      "outputs": [
        {
          "output_type": "execute_result",
          "data": {
            "text/html": [
              "<div>\n",
              "<style scoped>\n",
              "    .dataframe tbody tr th:only-of-type {\n",
              "        vertical-align: middle;\n",
              "    }\n",
              "\n",
              "    .dataframe tbody tr th {\n",
              "        vertical-align: top;\n",
              "    }\n",
              "\n",
              "    .dataframe thead th {\n",
              "        text-align: right;\n",
              "    }\n",
              "</style>\n",
              "<table border=\"1\" class=\"dataframe\">\n",
              "  <thead>\n",
              "    <tr style=\"text-align: right;\">\n",
              "      <th></th>\n",
              "      <th>country</th>\n",
              "      <th>province</th>\n",
              "      <th>len</th>\n",
              "    </tr>\n",
              "  </thead>\n",
              "  <tbody>\n",
              "    <tr>\n",
              "      <th>392</th>\n",
              "      <td>US</td>\n",
              "      <td>California</td>\n",
              "      <td>36247</td>\n",
              "    </tr>\n",
              "    <tr>\n",
              "      <th>415</th>\n",
              "      <td>US</td>\n",
              "      <td>Washington</td>\n",
              "      <td>8639</td>\n",
              "    </tr>\n",
              "    <tr>\n",
              "      <th>118</th>\n",
              "      <td>France</td>\n",
              "      <td>Bordeaux</td>\n",
              "      <td>5941</td>\n",
              "    </tr>\n",
              "    <tr>\n",
              "      <th>227</th>\n",
              "      <td>Italy</td>\n",
              "      <td>Tuscany</td>\n",
              "      <td>5897</td>\n",
              "    </tr>\n",
              "    <tr>\n",
              "      <th>409</th>\n",
              "      <td>US</td>\n",
              "      <td>Oregon</td>\n",
              "      <td>5373</td>\n",
              "    </tr>\n",
              "    <tr>\n",
              "      <th>...</th>\n",
              "      <td>...</td>\n",
              "      <td>...</td>\n",
              "      <td>...</td>\n",
              "    </tr>\n",
              "    <tr>\n",
              "      <th>101</th>\n",
              "      <td>Croatia</td>\n",
              "      <td>Krk</td>\n",
              "      <td>1</td>\n",
              "    </tr>\n",
              "    <tr>\n",
              "      <th>247</th>\n",
              "      <td>New Zealand</td>\n",
              "      <td>Gladstone</td>\n",
              "      <td>1</td>\n",
              "    </tr>\n",
              "    <tr>\n",
              "      <th>357</th>\n",
              "      <td>South Africa</td>\n",
              "      <td>Piekenierskloof</td>\n",
              "      <td>1</td>\n",
              "    </tr>\n",
              "    <tr>\n",
              "      <th>63</th>\n",
              "      <td>Chile</td>\n",
              "      <td>Coelemu</td>\n",
              "      <td>1</td>\n",
              "    </tr>\n",
              "    <tr>\n",
              "      <th>149</th>\n",
              "      <td>Greece</td>\n",
              "      <td>Beotia</td>\n",
              "      <td>1</td>\n",
              "    </tr>\n",
              "  </tbody>\n",
              "</table>\n",
              "<p>425 rows × 3 columns</p>\n",
              "</div>"
            ],
            "text/plain": [
              "          country         province    len\n",
              "392            US       California  36247\n",
              "415            US       Washington   8639\n",
              "118        France         Bordeaux   5941\n",
              "227         Italy          Tuscany   5897\n",
              "409            US           Oregon   5373\n",
              "..            ...              ...    ...\n",
              "101       Croatia              Krk      1\n",
              "247   New Zealand        Gladstone      1\n",
              "357  South Africa  Piekenierskloof      1\n",
              "63          Chile          Coelemu      1\n",
              "149        Greece           Beotia      1\n",
              "\n",
              "[425 rows x 3 columns]"
            ]
          },
          "metadata": {
            "tags": []
          },
          "execution_count": 51
        }
      ]
    },
    {
      "cell_type": "code",
      "metadata": {
        "id": "zomPoyxgPehP",
        "colab_type": "code",
        "outputId": "d341c820-3d4b-47c2-8ec8-a791ad94c656",
        "colab": {
          "base_uri": "https://localhost:8080/",
          "height": 419
        }
      },
      "source": [
        "countries_reviewed.sort_index()"
      ],
      "execution_count": 0,
      "outputs": [
        {
          "output_type": "execute_result",
          "data": {
            "text/html": [
              "<div>\n",
              "<style scoped>\n",
              "    .dataframe tbody tr th:only-of-type {\n",
              "        vertical-align: middle;\n",
              "    }\n",
              "\n",
              "    .dataframe tbody tr th {\n",
              "        vertical-align: top;\n",
              "    }\n",
              "\n",
              "    .dataframe thead th {\n",
              "        text-align: right;\n",
              "    }\n",
              "</style>\n",
              "<table border=\"1\" class=\"dataframe\">\n",
              "  <thead>\n",
              "    <tr style=\"text-align: right;\">\n",
              "      <th></th>\n",
              "      <th>country</th>\n",
              "      <th>province</th>\n",
              "      <th>len</th>\n",
              "    </tr>\n",
              "  </thead>\n",
              "  <tbody>\n",
              "    <tr>\n",
              "      <th>0</th>\n",
              "      <td>Argentina</td>\n",
              "      <td>Mendoza Province</td>\n",
              "      <td>3264</td>\n",
              "    </tr>\n",
              "    <tr>\n",
              "      <th>1</th>\n",
              "      <td>Argentina</td>\n",
              "      <td>Other</td>\n",
              "      <td>536</td>\n",
              "    </tr>\n",
              "    <tr>\n",
              "      <th>2</th>\n",
              "      <td>Armenia</td>\n",
              "      <td>Armenia</td>\n",
              "      <td>2</td>\n",
              "    </tr>\n",
              "    <tr>\n",
              "      <th>3</th>\n",
              "      <td>Australia</td>\n",
              "      <td>Australia Other</td>\n",
              "      <td>245</td>\n",
              "    </tr>\n",
              "    <tr>\n",
              "      <th>4</th>\n",
              "      <td>Australia</td>\n",
              "      <td>New South Wales</td>\n",
              "      <td>85</td>\n",
              "    </tr>\n",
              "    <tr>\n",
              "      <th>...</th>\n",
              "      <td>...</td>\n",
              "      <td>...</td>\n",
              "      <td>...</td>\n",
              "    </tr>\n",
              "    <tr>\n",
              "      <th>420</th>\n",
              "      <td>Uruguay</td>\n",
              "      <td>Juanico</td>\n",
              "      <td>12</td>\n",
              "    </tr>\n",
              "    <tr>\n",
              "      <th>421</th>\n",
              "      <td>Uruguay</td>\n",
              "      <td>Montevideo</td>\n",
              "      <td>11</td>\n",
              "    </tr>\n",
              "    <tr>\n",
              "      <th>422</th>\n",
              "      <td>Uruguay</td>\n",
              "      <td>Progreso</td>\n",
              "      <td>11</td>\n",
              "    </tr>\n",
              "    <tr>\n",
              "      <th>423</th>\n",
              "      <td>Uruguay</td>\n",
              "      <td>San Jose</td>\n",
              "      <td>3</td>\n",
              "    </tr>\n",
              "    <tr>\n",
              "      <th>424</th>\n",
              "      <td>Uruguay</td>\n",
              "      <td>Uruguay</td>\n",
              "      <td>24</td>\n",
              "    </tr>\n",
              "  </tbody>\n",
              "</table>\n",
              "<p>425 rows × 3 columns</p>\n",
              "</div>"
            ],
            "text/plain": [
              "       country          province   len\n",
              "0    Argentina  Mendoza Province  3264\n",
              "1    Argentina             Other   536\n",
              "2      Armenia           Armenia     2\n",
              "3    Australia   Australia Other   245\n",
              "4    Australia   New South Wales    85\n",
              "..         ...               ...   ...\n",
              "420    Uruguay           Juanico    12\n",
              "421    Uruguay        Montevideo    11\n",
              "422    Uruguay          Progreso    11\n",
              "423    Uruguay          San Jose     3\n",
              "424    Uruguay           Uruguay    24\n",
              "\n",
              "[425 rows x 3 columns]"
            ]
          },
          "metadata": {
            "tags": []
          },
          "execution_count": 52
        }
      ]
    },
    {
      "cell_type": "markdown",
      "metadata": {
        "id": "FHs62nNtPnzC",
        "colab_type": "text"
      },
      "source": [
        "## Sort by more than 1 column at a time"
      ]
    },
    {
      "cell_type": "code",
      "metadata": {
        "id": "-oKYKEUWPu0a",
        "colab_type": "code",
        "outputId": "c0adac78-6366-4906-c4c5-e12a59f58ec0",
        "colab": {
          "base_uri": "https://localhost:8080/",
          "height": 419
        }
      },
      "source": [
        "countries_reviewed.sort_values(by= ['country','len'])"
      ],
      "execution_count": 0,
      "outputs": [
        {
          "output_type": "execute_result",
          "data": {
            "text/html": [
              "<div>\n",
              "<style scoped>\n",
              "    .dataframe tbody tr th:only-of-type {\n",
              "        vertical-align: middle;\n",
              "    }\n",
              "\n",
              "    .dataframe tbody tr th {\n",
              "        vertical-align: top;\n",
              "    }\n",
              "\n",
              "    .dataframe thead th {\n",
              "        text-align: right;\n",
              "    }\n",
              "</style>\n",
              "<table border=\"1\" class=\"dataframe\">\n",
              "  <thead>\n",
              "    <tr style=\"text-align: right;\">\n",
              "      <th></th>\n",
              "      <th>country</th>\n",
              "      <th>province</th>\n",
              "      <th>len</th>\n",
              "    </tr>\n",
              "  </thead>\n",
              "  <tbody>\n",
              "    <tr>\n",
              "      <th>1</th>\n",
              "      <td>Argentina</td>\n",
              "      <td>Other</td>\n",
              "      <td>536</td>\n",
              "    </tr>\n",
              "    <tr>\n",
              "      <th>0</th>\n",
              "      <td>Argentina</td>\n",
              "      <td>Mendoza Province</td>\n",
              "      <td>3264</td>\n",
              "    </tr>\n",
              "    <tr>\n",
              "      <th>2</th>\n",
              "      <td>Armenia</td>\n",
              "      <td>Armenia</td>\n",
              "      <td>2</td>\n",
              "    </tr>\n",
              "    <tr>\n",
              "      <th>6</th>\n",
              "      <td>Australia</td>\n",
              "      <td>Tasmania</td>\n",
              "      <td>42</td>\n",
              "    </tr>\n",
              "    <tr>\n",
              "      <th>4</th>\n",
              "      <td>Australia</td>\n",
              "      <td>New South Wales</td>\n",
              "      <td>85</td>\n",
              "    </tr>\n",
              "    <tr>\n",
              "      <th>...</th>\n",
              "      <td>...</td>\n",
              "      <td>...</td>\n",
              "      <td>...</td>\n",
              "    </tr>\n",
              "    <tr>\n",
              "      <th>421</th>\n",
              "      <td>Uruguay</td>\n",
              "      <td>Montevideo</td>\n",
              "      <td>11</td>\n",
              "    </tr>\n",
              "    <tr>\n",
              "      <th>422</th>\n",
              "      <td>Uruguay</td>\n",
              "      <td>Progreso</td>\n",
              "      <td>11</td>\n",
              "    </tr>\n",
              "    <tr>\n",
              "      <th>420</th>\n",
              "      <td>Uruguay</td>\n",
              "      <td>Juanico</td>\n",
              "      <td>12</td>\n",
              "    </tr>\n",
              "    <tr>\n",
              "      <th>424</th>\n",
              "      <td>Uruguay</td>\n",
              "      <td>Uruguay</td>\n",
              "      <td>24</td>\n",
              "    </tr>\n",
              "    <tr>\n",
              "      <th>419</th>\n",
              "      <td>Uruguay</td>\n",
              "      <td>Canelones</td>\n",
              "      <td>43</td>\n",
              "    </tr>\n",
              "  </tbody>\n",
              "</table>\n",
              "<p>425 rows × 3 columns</p>\n",
              "</div>"
            ],
            "text/plain": [
              "       country          province   len\n",
              "1    Argentina             Other   536\n",
              "0    Argentina  Mendoza Province  3264\n",
              "2      Armenia           Armenia     2\n",
              "6    Australia          Tasmania    42\n",
              "4    Australia   New South Wales    85\n",
              "..         ...               ...   ...\n",
              "421    Uruguay        Montevideo    11\n",
              "422    Uruguay          Progreso    11\n",
              "420    Uruguay           Juanico    12\n",
              "424    Uruguay           Uruguay    24\n",
              "419    Uruguay         Canelones    43\n",
              "\n",
              "[425 rows x 3 columns]"
            ]
          },
          "metadata": {
            "tags": []
          },
          "execution_count": 53
        }
      ]
    },
    {
      "cell_type": "markdown",
      "metadata": {
        "id": "pEyxLny8PzQ9",
        "colab_type": "text"
      },
      "source": [
        "# **Exercise for Practice**"
      ]
    },
    {
      "cell_type": "code",
      "metadata": {
        "id": "15e6JFsVP7GR",
        "colab_type": "code",
        "outputId": "f2a7d00b-ed3e-4177-d425-d634f6d50d6c",
        "colab": {
          "base_uri": "https://localhost:8080/",
          "height": 185
        }
      },
      "source": [
        "reviews.head(1)"
      ],
      "execution_count": 0,
      "outputs": [
        {
          "output_type": "execute_result",
          "data": {
            "text/html": [
              "<div>\n",
              "<style scoped>\n",
              "    .dataframe tbody tr th:only-of-type {\n",
              "        vertical-align: middle;\n",
              "    }\n",
              "\n",
              "    .dataframe tbody tr th {\n",
              "        vertical-align: top;\n",
              "    }\n",
              "\n",
              "    .dataframe thead th {\n",
              "        text-align: right;\n",
              "    }\n",
              "</style>\n",
              "<table border=\"1\" class=\"dataframe\">\n",
              "  <thead>\n",
              "    <tr style=\"text-align: right;\">\n",
              "      <th></th>\n",
              "      <th>Unnamed: 0</th>\n",
              "      <th>country</th>\n",
              "      <th>description</th>\n",
              "      <th>designation</th>\n",
              "      <th>points</th>\n",
              "      <th>price</th>\n",
              "      <th>province</th>\n",
              "      <th>region_1</th>\n",
              "      <th>region_2</th>\n",
              "      <th>taster_name</th>\n",
              "      <th>taster_twitter_handle</th>\n",
              "      <th>title</th>\n",
              "      <th>variety</th>\n",
              "      <th>winery</th>\n",
              "    </tr>\n",
              "  </thead>\n",
              "  <tbody>\n",
              "    <tr>\n",
              "      <th>0</th>\n",
              "      <td>0</td>\n",
              "      <td>Italy</td>\n",
              "      <td>Aromas include tropical fruit, broom, brimston...</td>\n",
              "      <td>Vulkà Bianco</td>\n",
              "      <td>87</td>\n",
              "      <td>NaN</td>\n",
              "      <td>Sicily &amp; Sardinia</td>\n",
              "      <td>Etna</td>\n",
              "      <td>NaN</td>\n",
              "      <td>Kerin O’Keefe</td>\n",
              "      <td>@kerinokeefe</td>\n",
              "      <td>Nicosia 2013 Vulkà Bianco  (Etna)</td>\n",
              "      <td>White Blend</td>\n",
              "      <td>Nicosia</td>\n",
              "    </tr>\n",
              "  </tbody>\n",
              "</table>\n",
              "</div>"
            ],
            "text/plain": [
              "   Unnamed: 0 country  ...      variety   winery\n",
              "0           0   Italy  ...  White Blend  Nicosia\n",
              "\n",
              "[1 rows x 14 columns]"
            ]
          },
          "metadata": {
            "tags": []
          },
          "execution_count": 71
        }
      ]
    },
    {
      "cell_type": "markdown",
      "metadata": {
        "id": "Fu4unCB2SE7k",
        "colab_type": "text"
      },
      "source": [
        "## 1.\n",
        "Who are the most common wine reviewers in the dataset? Create a `Series` whose index is the `taster_twitter_handle` category from the dataset, and whose values count how many reviews each person wrote."
      ]
    },
    {
      "cell_type": "code",
      "metadata": {
        "id": "yVJsAj51QJnX",
        "colab_type": "code",
        "outputId": "f3baae1f-ec07-4b07-a77c-db86eb89c771",
        "colab": {
          "base_uri": "https://localhost:8080/",
          "height": 178
        }
      },
      "source": [
        "reviews.groupby('taster_twitter_handle').taster_twitter_handle.count()\n",
        "# reviews.groupby('taster_twitter_handle').size() ## other way of doing above"
      ],
      "execution_count": 0,
      "outputs": [
        {
          "output_type": "error",
          "ename": "NameError",
          "evalue": "ignored",
          "traceback": [
            "\u001b[0;31m---------------------------------------------------------------------------\u001b[0m",
            "\u001b[0;31mNameError\u001b[0m                                 Traceback (most recent call last)",
            "\u001b[0;32m<ipython-input-1-09237bd6c9e1>\u001b[0m in \u001b[0;36m<module>\u001b[0;34m()\u001b[0m\n\u001b[0;32m----> 1\u001b[0;31m \u001b[0mreviews\u001b[0m\u001b[0;34m.\u001b[0m\u001b[0mgroupby\u001b[0m\u001b[0;34m(\u001b[0m\u001b[0;34m'taster_twitter_handle'\u001b[0m\u001b[0;34m)\u001b[0m\u001b[0;34m.\u001b[0m\u001b[0mtaster_twitter_handle\u001b[0m\u001b[0;34m.\u001b[0m\u001b[0mcount\u001b[0m\u001b[0;34m(\u001b[0m\u001b[0;34m)\u001b[0m\u001b[0;34m\u001b[0m\u001b[0;34m\u001b[0m\u001b[0m\n\u001b[0m\u001b[1;32m      2\u001b[0m \u001b[0;31m# reviews.groupby('taster_twitter_handle').size() ## other way of doing above\u001b[0m\u001b[0;34m\u001b[0m\u001b[0;34m\u001b[0m\u001b[0;34m\u001b[0m\u001b[0m\n",
            "\u001b[0;31mNameError\u001b[0m: name 'reviews' is not defined"
          ]
        }
      ]
    },
    {
      "cell_type": "code",
      "metadata": {
        "id": "Hc31Tt3xRDZI",
        "colab_type": "code",
        "outputId": "8455a531-9aae-4c22-f299-2e8e2bc445ed",
        "colab": {
          "base_uri": "https://localhost:8080/",
          "height": 238
        }
      },
      "source": [
        "reviews.groupby('price').points.apply(max)\n",
        "# best_rating_per_price = reviews.groupby('price')['points'].max().sort_index() ## or this way can be done"
      ],
      "execution_count": 0,
      "outputs": [
        {
          "output_type": "execute_result",
          "data": {
            "text/plain": [
              "price\n",
              "4.0       86\n",
              "5.0       87\n",
              "6.0       88\n",
              "7.0       91\n",
              "8.0       91\n",
              "          ..\n",
              "1900.0    98\n",
              "2000.0    97\n",
              "2013.0    91\n",
              "2500.0    96\n",
              "3300.0    88\n",
              "Name: points, Length: 390, dtype: int64"
            ]
          },
          "metadata": {
            "tags": []
          },
          "execution_count": 85
        }
      ]
    },
    {
      "cell_type": "code",
      "metadata": {
        "id": "YMxljQV3Zy_2",
        "colab_type": "code",
        "outputId": "dc6c2e18-28cd-4056-98f6-abb2a17aa2f5",
        "colab": {
          "base_uri": "https://localhost:8080/",
          "height": 35
        }
      },
      "source": [
        "a = 2\n",
        "a**3"
      ],
      "execution_count": 0,
      "outputs": [
        {
          "output_type": "execute_result",
          "data": {
            "text/plain": [
              "8"
            ]
          },
          "metadata": {
            "tags": []
          },
          "execution_count": 9
        }
      ]
    },
    {
      "cell_type": "code",
      "metadata": {
        "id": "M5uAOIZZTB_K",
        "colab_type": "code",
        "colab": {}
      },
      "source": [
        "import random\n",
        "from time import time\n",
        "import numpy as np\n",
        "import pandas as pd\n",
        "\n",
        "# Initilize Random\n",
        "random.seed(time())\n",
        "\n",
        "#### List Tests ####\n",
        "\n",
        "# How many test passes to run\n",
        "num_tests = 5\n",
        "\n",
        "# Create a dict for which to store tests\n",
        "data = {'length':[], 'listComprehension': [], 'append': [], 'preAllocate': [], 'while': []}\n",
        "\n",
        "for i in range(0, num_tests):\n",
        "    # Randomize list length\n",
        "    end = random.randint(100_000, 10_000_000)\n",
        "\n",
        "    startTime = time()\n",
        "    listComprehension = [i for i in range(0, end)]\n",
        "    endTime = time()\n",
        "    \n",
        "    # Add timed entry\n",
        "    startTime_lc = time()\n",
        "    data['listComprehension'].append(endTime - startTime)\n",
        "    endTime_lc = time()\n",
        "    data['append'].append(endTime_lc - startTime_lc)\n",
        "\n",
        "\n",
        "# Get the median for all the rows\n",
        "# df = pd.DataFrame(data)\n",
        "# print(df.describe())"
      ],
      "execution_count": 0,
      "outputs": []
    },
    {
      "cell_type": "code",
      "metadata": {
        "id": "MQvgvRysRVNG",
        "colab_type": "code",
        "outputId": "44d1b005-eaed-402b-f310-7333fe71b704",
        "colab": {
          "base_uri": "https://localhost:8080/",
          "height": 177
        }
      },
      "source": [
        "data\n",
        "df = pd.DataFrame(data['listComprehension'])\n",
        "print(df.describe())"
      ],
      "execution_count": 0,
      "outputs": [
        {
          "output_type": "stream",
          "text": [
            "               0\n",
            "count  25.000000\n",
            "mean    0.268664\n",
            "std     0.201008\n",
            "min     0.013572\n",
            "25%     0.124808\n",
            "50%     0.175290\n",
            "75%     0.428827\n",
            "max     0.722972\n"
          ],
          "name": "stdout"
        }
      ]
    },
    {
      "cell_type": "code",
      "metadata": {
        "id": "zlIurOmoRdl3",
        "colab_type": "code",
        "outputId": "58dfdfee-6f2e-400f-825c-efe8351c0cb2",
        "colab": {
          "base_uri": "https://localhost:8080/",
          "height": 52
        }
      },
      "source": [
        "print(data['append'])\n",
        "print(data['listComprehension'])"
      ],
      "execution_count": 0,
      "outputs": [
        {
          "output_type": "stream",
          "text": [
            "[7.3909759521484375e-06, 6.67572021484375e-06, 7.152557373046875e-06, 7.3909759521484375e-06, 8.344650268554688e-06]\n",
            "[0.4670538902282715, 0.6486907005310059, 0.5237936973571777, 0.10710740089416504, 0.30466485023498535]\n"
          ],
          "name": "stdout"
        }
      ]
    }
  ]
}