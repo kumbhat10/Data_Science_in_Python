{
  "nbformat": 4,
  "nbformat_minor": 0,
  "metadata": {
    "colab": {
      "name": "Grouping_and_Sorting.ipynb",
      "provenance": [],
      "collapsed_sections": [],
      "authorship_tag": "ABX9TyORBmZXls0YZ5Q2OTz509JJ",
      "include_colab_link": true
    },
    "kernelspec": {
      "name": "python3",
      "display_name": "Python 3"
    }
  },
  "cells": [
    {
      "cell_type": "markdown",
      "metadata": {
        "id": "view-in-github",
        "colab_type": "text"
      },
      "source": [
        "<a href=\"https://colab.research.google.com/github/kumbhat10/Data_Science_in_Python/blob/master/Learning_Pandas/Grouping_and_Sorting.ipynb\" target=\"_parent\"><img src=\"https://colab.research.google.com/assets/colab-badge.svg\" alt=\"Open In Colab\"/></a>"
      ]
    },
    {
      "cell_type": "code",
      "metadata": {
        "id": "92GNR8ZstIuB",
        "colab_type": "code",
        "colab": {}
      },
      "source": [
        "import pandas as pd"
      ],
      "execution_count": 0,
      "outputs": []
    },
    {
      "cell_type": "markdown",
      "metadata": {
        "id": "OA_kZXTkuHZp",
        "colab_type": "text"
      },
      "source": [
        "## **Mount Google drive and import data to use**"
      ]
    },
    {
      "cell_type": "code",
      "metadata": {
        "id": "dJkNP824t9HF",
        "colab_type": "code",
        "colab": {
          "base_uri": "https://localhost:8080/",
          "height": 417
        },
        "outputId": "6de5f35c-49e3-44e0-92bd-d80e43438892"
      },
      "source": [
        "from google.colab import drive  # mount the google drive to access the wine reviews csv file\n",
        "drive.mount('/content/gdrive')\n",
        "reviews = pd.read_csv('/content/gdrive/My Drive/Colab Notebooks/Sample_data/winemag-data-130k-v2.csv')\n",
        "reviews.head(3) # show only first 3 results"
      ],
      "execution_count": 5,
      "outputs": [
        {
          "output_type": "stream",
          "text": [
            "Drive already mounted at /content/gdrive; to attempt to forcibly remount, call drive.mount(\"/content/gdrive\", force_remount=True).\n"
          ],
          "name": "stdout"
        },
        {
          "output_type": "execute_result",
          "data": {
            "text/html": [
              "<div>\n",
              "<style scoped>\n",
              "    .dataframe tbody tr th:only-of-type {\n",
              "        vertical-align: middle;\n",
              "    }\n",
              "\n",
              "    .dataframe tbody tr th {\n",
              "        vertical-align: top;\n",
              "    }\n",
              "\n",
              "    .dataframe thead th {\n",
              "        text-align: right;\n",
              "    }\n",
              "</style>\n",
              "<table border=\"1\" class=\"dataframe\">\n",
              "  <thead>\n",
              "    <tr style=\"text-align: right;\">\n",
              "      <th></th>\n",
              "      <th>Unnamed: 0</th>\n",
              "      <th>country</th>\n",
              "      <th>description</th>\n",
              "      <th>designation</th>\n",
              "      <th>points</th>\n",
              "      <th>price</th>\n",
              "      <th>province</th>\n",
              "      <th>region_1</th>\n",
              "      <th>region_2</th>\n",
              "      <th>taster_name</th>\n",
              "      <th>taster_twitter_handle</th>\n",
              "      <th>title</th>\n",
              "      <th>variety</th>\n",
              "      <th>winery</th>\n",
              "    </tr>\n",
              "  </thead>\n",
              "  <tbody>\n",
              "    <tr>\n",
              "      <th>0</th>\n",
              "      <td>0</td>\n",
              "      <td>Italy</td>\n",
              "      <td>Aromas include tropical fruit, broom, brimston...</td>\n",
              "      <td>Vulkà Bianco</td>\n",
              "      <td>87</td>\n",
              "      <td>NaN</td>\n",
              "      <td>Sicily &amp; Sardinia</td>\n",
              "      <td>Etna</td>\n",
              "      <td>NaN</td>\n",
              "      <td>Kerin O’Keefe</td>\n",
              "      <td>@kerinokeefe</td>\n",
              "      <td>Nicosia 2013 Vulkà Bianco  (Etna)</td>\n",
              "      <td>White Blend</td>\n",
              "      <td>Nicosia</td>\n",
              "    </tr>\n",
              "    <tr>\n",
              "      <th>1</th>\n",
              "      <td>1</td>\n",
              "      <td>Portugal</td>\n",
              "      <td>This is ripe and fruity, a wine that is smooth...</td>\n",
              "      <td>Avidagos</td>\n",
              "      <td>87</td>\n",
              "      <td>15.0</td>\n",
              "      <td>Douro</td>\n",
              "      <td>NaN</td>\n",
              "      <td>NaN</td>\n",
              "      <td>Roger Voss</td>\n",
              "      <td>@vossroger</td>\n",
              "      <td>Quinta dos Avidagos 2011 Avidagos Red (Douro)</td>\n",
              "      <td>Portuguese Red</td>\n",
              "      <td>Quinta dos Avidagos</td>\n",
              "    </tr>\n",
              "    <tr>\n",
              "      <th>2</th>\n",
              "      <td>2</td>\n",
              "      <td>US</td>\n",
              "      <td>Tart and snappy, the flavors of lime flesh and...</td>\n",
              "      <td>NaN</td>\n",
              "      <td>87</td>\n",
              "      <td>14.0</td>\n",
              "      <td>Oregon</td>\n",
              "      <td>Willamette Valley</td>\n",
              "      <td>Willamette Valley</td>\n",
              "      <td>Paul Gregutt</td>\n",
              "      <td>@paulgwine</td>\n",
              "      <td>Rainstorm 2013 Pinot Gris (Willamette Valley)</td>\n",
              "      <td>Pinot Gris</td>\n",
              "      <td>Rainstorm</td>\n",
              "    </tr>\n",
              "  </tbody>\n",
              "</table>\n",
              "</div>"
            ],
            "text/plain": [
              "   Unnamed: 0   country  ...         variety               winery\n",
              "0           0     Italy  ...     White Blend              Nicosia\n",
              "1           1  Portugal  ...  Portuguese Red  Quinta dos Avidagos\n",
              "2           2        US  ...      Pinot Gris            Rainstorm\n",
              "\n",
              "[3 rows x 14 columns]"
            ]
          },
          "metadata": {
            "tags": []
          },
          "execution_count": 5
        }
      ]
    },
    {
      "cell_type": "markdown",
      "metadata": {
        "id": "B4spEWPBtmpA",
        "colab_type": "text"
      },
      "source": [
        "# **Groupwise analysis**"
      ]
    },
    {
      "cell_type": "markdown",
      "metadata": {
        "id": "T83iiG0OtVEq",
        "colab_type": "text"
      },
      "source": [
        "Maps allow us to transform data in DatFrame or Series oen value at a time for an entire column.\n",
        "\n",
        "However, often we want to group our data, and then do something specific to the group the data is in."
      ]
    },
    {
      "cell_type": "markdown",
      "metadata": {
        "id": "K684peJDtrpu",
        "colab_type": "text"
      },
      "source": [
        "one function we've been using heavily is value_counts function\n",
        "\n",
        "It can be replicated by following"
      ]
    },
    {
      "cell_type": "code",
      "metadata": {
        "id": "XOpUSCoHt2Mh",
        "colab_type": "code",
        "colab": {
          "base_uri": "https://localhost:8080/",
          "height": 408
        },
        "outputId": "ca353f53-b98d-40cd-aca4-b10179e7d2e3"
      },
      "source": [
        "reviews.groupby('points').points.count()"
      ],
      "execution_count": 6,
      "outputs": [
        {
          "output_type": "execute_result",
          "data": {
            "text/plain": [
              "points\n",
              "80       397\n",
              "81       692\n",
              "82      1836\n",
              "83      3025\n",
              "84      6480\n",
              "85      9530\n",
              "86     12600\n",
              "87     16933\n",
              "88     17207\n",
              "89     12226\n",
              "90     15410\n",
              "91     11359\n",
              "92      9613\n",
              "93      6489\n",
              "94      3758\n",
              "95      1535\n",
              "96       523\n",
              "97       229\n",
              "98        77\n",
              "99        33\n",
              "100       19\n",
              "Name: points, dtype: int64"
            ]
          },
          "metadata": {
            "tags": []
          },
          "execution_count": 6
        }
      ]
    },
    {
      "cell_type": "markdown",
      "metadata": {
        "id": "dAHrSXiYumls",
        "colab_type": "text"
      },
      "source": [
        "groupby() created a group of reviews which alloted the same point values to the given wines.\n",
        "\n",
        "Then, for each of these groups, we grabbed the points() column and counted how many times it appeared."
      ]
    },
    {
      "cell_type": "markdown",
      "metadata": {
        "id": "dGa0dMdXu7lu",
        "colab_type": "text"
      },
      "source": [
        "To find the cheapest wines in each of the following groups"
      ]
    },
    {
      "cell_type": "code",
      "metadata": {
        "id": "kNspy9JRvw2v",
        "colab_type": "code",
        "colab": {
          "base_uri": "https://localhost:8080/",
          "height": 408
        },
        "outputId": "1f10ff8e-9ed4-44a3-913b-265064f95c04"
      },
      "source": [
        "reviews.groupby('points').price.min()"
      ],
      "execution_count": 12,
      "outputs": [
        {
          "output_type": "execute_result",
          "data": {
            "text/plain": [
              "points\n",
              "80      5.0\n",
              "81      5.0\n",
              "82      4.0\n",
              "83      4.0\n",
              "84      4.0\n",
              "85      4.0\n",
              "86      4.0\n",
              "87      5.0\n",
              "88      6.0\n",
              "89      7.0\n",
              "90      8.0\n",
              "91      7.0\n",
              "92     11.0\n",
              "93     12.0\n",
              "94     13.0\n",
              "95     20.0\n",
              "96     20.0\n",
              "97     35.0\n",
              "98     50.0\n",
              "99     44.0\n",
              "100    80.0\n",
              "Name: price, dtype: float64"
            ]
          },
          "metadata": {
            "tags": []
          },
          "execution_count": 12
        }
      ]
    },
    {
      "cell_type": "markdown",
      "metadata": {
        "id": "Wq9BVgeuv06T",
        "colab_type": "text"
      },
      "source": [
        "You can think of each group we generate as being a slice of our DataFrame containing only data with values that match. \n",
        "\n",
        "This DataFrame is accessible to us directly using the apply() method, and we can then manipulate the data in any way we see fit. \n",
        "\n",
        "For example, here's one way of selecting the name of the **first wine reviewed from each winery** in the dataset:"
      ]
    },
    {
      "cell_type": "code",
      "metadata": {
        "id": "uKzfv5XNwB67",
        "colab_type": "code",
        "colab": {
          "base_uri": "https://localhost:8080/",
          "height": 238
        },
        "outputId": "ad4a02a6-8e7d-4844-e6b8-d483a64aeb6f"
      },
      "source": [
        "reviews.groupby('winery').apply(lambda daframe: daframe.title.iloc[0])"
      ],
      "execution_count": 13,
      "outputs": [
        {
          "output_type": "execute_result",
          "data": {
            "text/plain": [
              "winery\n",
              "1+1=3                                     1+1=3 NV Rosé Sparkling (Cava)\n",
              "10 Knots                            10 Knots 2010 Viognier (Paso Robles)\n",
              "100 Percent Wine              100 Percent Wine 2015 Moscato (California)\n",
              "1000 Stories           1000 Stories 2013 Bourbon Barrel Aged Zinfande...\n",
              "1070 Green                  1070 Green 2011 Sauvignon Blanc (Rutherford)\n",
              "                                             ...                        \n",
              "Órale                       Órale 2011 Cabronita Red (Santa Ynez Valley)\n",
              "Öko                    Öko 2013 Made With Organically Grown Grapes Ma...\n",
              "Ökonomierat Rebholz    Ökonomierat Rebholz 2007 Von Rotliegenden Spät...\n",
              "àMaurice               àMaurice 2013 Fred Estate Syrah (Walla Walla V...\n",
              "Štoka                                    Štoka 2009 Izbrani Teran (Kras)\n",
              "Length: 16757, dtype: object"
            ]
          },
          "metadata": {
            "tags": []
          },
          "execution_count": 13
        }
      ]
    },
    {
      "cell_type": "markdown",
      "metadata": {
        "id": "Ke2Zi8BSwYFa",
        "colab_type": "text"
      },
      "source": [
        "## **group by more than one column**"
      ]
    },
    {
      "cell_type": "markdown",
      "metadata": {
        "id": "U7eN_Y3bw0iL",
        "colab_type": "text"
      },
      "source": [
        "pick out the best wine by country and province:"
      ]
    },
    {
      "cell_type": "code",
      "metadata": {
        "id": "xK03m575wejE",
        "colab_type": "code",
        "colab": {
          "base_uri": "https://localhost:8080/",
          "height": 598
        },
        "outputId": "6e698329-82d5-464b-a898-ea8a80f338ce"
      },
      "source": [
        "a = reviews.groupby(['country','province']).apply(lambda df:df.loc[df.points.idxmax()])\n",
        "a.head(4) # show results of only 4"
      ],
      "execution_count": 23,
      "outputs": [
        {
          "output_type": "execute_result",
          "data": {
            "text/html": [
              "<div>\n",
              "<style scoped>\n",
              "    .dataframe tbody tr th:only-of-type {\n",
              "        vertical-align: middle;\n",
              "    }\n",
              "\n",
              "    .dataframe tbody tr th {\n",
              "        vertical-align: top;\n",
              "    }\n",
              "\n",
              "    .dataframe thead th {\n",
              "        text-align: right;\n",
              "    }\n",
              "</style>\n",
              "<table border=\"1\" class=\"dataframe\">\n",
              "  <thead>\n",
              "    <tr style=\"text-align: right;\">\n",
              "      <th></th>\n",
              "      <th></th>\n",
              "      <th>Unnamed: 0</th>\n",
              "      <th>country</th>\n",
              "      <th>description</th>\n",
              "      <th>designation</th>\n",
              "      <th>points</th>\n",
              "      <th>price</th>\n",
              "      <th>province</th>\n",
              "      <th>region_1</th>\n",
              "      <th>region_2</th>\n",
              "      <th>taster_name</th>\n",
              "      <th>taster_twitter_handle</th>\n",
              "      <th>title</th>\n",
              "      <th>variety</th>\n",
              "      <th>winery</th>\n",
              "    </tr>\n",
              "    <tr>\n",
              "      <th>country</th>\n",
              "      <th>province</th>\n",
              "      <th></th>\n",
              "      <th></th>\n",
              "      <th></th>\n",
              "      <th></th>\n",
              "      <th></th>\n",
              "      <th></th>\n",
              "      <th></th>\n",
              "      <th></th>\n",
              "      <th></th>\n",
              "      <th></th>\n",
              "      <th></th>\n",
              "      <th></th>\n",
              "      <th></th>\n",
              "      <th></th>\n",
              "    </tr>\n",
              "  </thead>\n",
              "  <tbody>\n",
              "    <tr>\n",
              "      <th rowspan=\"2\" valign=\"top\">Argentina</th>\n",
              "      <th>Mendoza Province</th>\n",
              "      <td>82754</td>\n",
              "      <td>Argentina</td>\n",
              "      <td>If the color doesn't tell the full story, the ...</td>\n",
              "      <td>Nicasia Vineyard</td>\n",
              "      <td>97</td>\n",
              "      <td>120.0</td>\n",
              "      <td>Mendoza Province</td>\n",
              "      <td>Mendoza</td>\n",
              "      <td>NaN</td>\n",
              "      <td>Michael Schachner</td>\n",
              "      <td>@wineschach</td>\n",
              "      <td>Bodega Catena Zapata 2006 Nicasia Vineyard Mal...</td>\n",
              "      <td>Malbec</td>\n",
              "      <td>Bodega Catena Zapata</td>\n",
              "    </tr>\n",
              "    <tr>\n",
              "      <th>Other</th>\n",
              "      <td>78303</td>\n",
              "      <td>Argentina</td>\n",
              "      <td>Take note, this could be the best wine Colomé ...</td>\n",
              "      <td>Reserva</td>\n",
              "      <td>95</td>\n",
              "      <td>90.0</td>\n",
              "      <td>Other</td>\n",
              "      <td>Salta</td>\n",
              "      <td>NaN</td>\n",
              "      <td>Michael Schachner</td>\n",
              "      <td>@wineschach</td>\n",
              "      <td>Colomé 2010 Reserva Malbec (Salta)</td>\n",
              "      <td>Malbec</td>\n",
              "      <td>Colomé</td>\n",
              "    </tr>\n",
              "    <tr>\n",
              "      <th>Armenia</th>\n",
              "      <th>Armenia</th>\n",
              "      <td>66146</td>\n",
              "      <td>Armenia</td>\n",
              "      <td>Deep salmon in color, this wine offers a bouqu...</td>\n",
              "      <td>Estate Bottled</td>\n",
              "      <td>88</td>\n",
              "      <td>15.0</td>\n",
              "      <td>Armenia</td>\n",
              "      <td>NaN</td>\n",
              "      <td>NaN</td>\n",
              "      <td>Mike DeSimone</td>\n",
              "      <td>@worldwineguys</td>\n",
              "      <td>Van Ardi 2015 Estate Bottled Rosé (Armenia)</td>\n",
              "      <td>Rosé</td>\n",
              "      <td>Van Ardi</td>\n",
              "    </tr>\n",
              "    <tr>\n",
              "      <th>Australia</th>\n",
              "      <th>Australia Other</th>\n",
              "      <td>37882</td>\n",
              "      <td>Australia</td>\n",
              "      <td>Writes the book on how to make a wine filled w...</td>\n",
              "      <td>Sarah's Blend</td>\n",
              "      <td>93</td>\n",
              "      <td>15.0</td>\n",
              "      <td>Australia Other</td>\n",
              "      <td>South Eastern Australia</td>\n",
              "      <td>NaN</td>\n",
              "      <td>NaN</td>\n",
              "      <td>NaN</td>\n",
              "      <td>Marquis Philips 2000 Sarah's Blend Red (South ...</td>\n",
              "      <td>Red Blend</td>\n",
              "      <td>Marquis Philips</td>\n",
              "    </tr>\n",
              "  </tbody>\n",
              "</table>\n",
              "</div>"
            ],
            "text/plain": [
              "                            Unnamed: 0  ...                winery\n",
              "country   province                      ...                      \n",
              "Argentina Mendoza Province       82754  ...  Bodega Catena Zapata\n",
              "          Other                  78303  ...                Colomé\n",
              "Armenia   Armenia                66146  ...              Van Ardi\n",
              "Australia Australia Other        37882  ...       Marquis Philips\n",
              "\n",
              "[4 rows x 14 columns]"
            ]
          },
          "metadata": {
            "tags": []
          },
          "execution_count": 23
        }
      ]
    },
    {
      "cell_type": "markdown",
      "metadata": {
        "id": "5GOptXiFwmh1",
        "colab_type": "text"
      },
      "source": [
        "## **agg()**  - groupby() Method - Multiple functions calling on group"
      ]
    },
    {
      "cell_type": "markdown",
      "metadata": {
        "id": "Nt79wpCCxQQ1",
        "colab_type": "text"
      },
      "source": [
        "agg() lets you run multiple different functions on your DataFrame simultaneously.\n",
        "\n",
        "For Exaxmple :- general simple statistical sumary of the dataset as follows"
      ]
    },
    {
      "cell_type": "code",
      "metadata": {
        "id": "UFDFyJvsxja-",
        "colab_type": "code",
        "colab": {
          "base_uri": "https://localhost:8080/",
          "height": 328
        },
        "outputId": "2b930b14-08a6-4f32-920c-c780754a50da"
      },
      "source": [
        "## runs len, min and max functions on wines of different countries\n",
        "a = reviews.groupby('country').price.agg([len,min,max])  \n",
        "a.head(8)  ## show only 3"
      ],
      "execution_count": 20,
      "outputs": [
        {
          "output_type": "execute_result",
          "data": {
            "text/html": [
              "<div>\n",
              "<style scoped>\n",
              "    .dataframe tbody tr th:only-of-type {\n",
              "        vertical-align: middle;\n",
              "    }\n",
              "\n",
              "    .dataframe tbody tr th {\n",
              "        vertical-align: top;\n",
              "    }\n",
              "\n",
              "    .dataframe thead th {\n",
              "        text-align: right;\n",
              "    }\n",
              "</style>\n",
              "<table border=\"1\" class=\"dataframe\">\n",
              "  <thead>\n",
              "    <tr style=\"text-align: right;\">\n",
              "      <th></th>\n",
              "      <th>len</th>\n",
              "      <th>min</th>\n",
              "      <th>max</th>\n",
              "    </tr>\n",
              "    <tr>\n",
              "      <th>country</th>\n",
              "      <th></th>\n",
              "      <th></th>\n",
              "      <th></th>\n",
              "    </tr>\n",
              "  </thead>\n",
              "  <tbody>\n",
              "    <tr>\n",
              "      <th>Argentina</th>\n",
              "      <td>3800.0</td>\n",
              "      <td>4.0</td>\n",
              "      <td>230.0</td>\n",
              "    </tr>\n",
              "    <tr>\n",
              "      <th>Armenia</th>\n",
              "      <td>2.0</td>\n",
              "      <td>14.0</td>\n",
              "      <td>15.0</td>\n",
              "    </tr>\n",
              "    <tr>\n",
              "      <th>Australia</th>\n",
              "      <td>2329.0</td>\n",
              "      <td>5.0</td>\n",
              "      <td>850.0</td>\n",
              "    </tr>\n",
              "    <tr>\n",
              "      <th>Austria</th>\n",
              "      <td>3345.0</td>\n",
              "      <td>7.0</td>\n",
              "      <td>1100.0</td>\n",
              "    </tr>\n",
              "    <tr>\n",
              "      <th>Bosnia and Herzegovina</th>\n",
              "      <td>2.0</td>\n",
              "      <td>12.0</td>\n",
              "      <td>13.0</td>\n",
              "    </tr>\n",
              "    <tr>\n",
              "      <th>Brazil</th>\n",
              "      <td>52.0</td>\n",
              "      <td>10.0</td>\n",
              "      <td>60.0</td>\n",
              "    </tr>\n",
              "    <tr>\n",
              "      <th>Bulgaria</th>\n",
              "      <td>141.0</td>\n",
              "      <td>8.0</td>\n",
              "      <td>100.0</td>\n",
              "    </tr>\n",
              "    <tr>\n",
              "      <th>Canada</th>\n",
              "      <td>257.0</td>\n",
              "      <td>12.0</td>\n",
              "      <td>120.0</td>\n",
              "    </tr>\n",
              "  </tbody>\n",
              "</table>\n",
              "</div>"
            ],
            "text/plain": [
              "                           len   min     max\n",
              "country                                     \n",
              "Argentina               3800.0   4.0   230.0\n",
              "Armenia                    2.0  14.0    15.0\n",
              "Australia               2329.0   5.0   850.0\n",
              "Austria                 3345.0   7.0  1100.0\n",
              "Bosnia and Herzegovina     2.0  12.0    13.0\n",
              "Brazil                    52.0  10.0    60.0\n",
              "Bulgaria                 141.0   8.0   100.0\n",
              "Canada                   257.0  12.0   120.0"
            ]
          },
          "metadata": {
            "tags": []
          },
          "execution_count": 20
        }
      ]
    },
    {
      "cell_type": "markdown",
      "metadata": {
        "id": "J2a89rSTxqPg",
        "colab_type": "text"
      },
      "source": [
        "# **Multi- indexes**"
      ]
    },
    {
      "cell_type": "markdown",
      "metadata": {
        "id": "jT7EWAqmyY2o",
        "colab_type": "text"
      },
      "source": [
        "groupby() is slightly different in the  fact that depending on the operation we run, it will sometimes result in what is called a Multi-index\n",
        "\n",
        "a multi-index differs from a regular index in that it has multiple levels"
      ]
    },
    {
      "cell_type": "code",
      "metadata": {
        "id": "8p2PAay0yrT1",
        "colab_type": "code",
        "colab": {
          "base_uri": "https://localhost:8080/",
          "height": 390
        },
        "outputId": "f550e193-fac2-41ef-eb3f-9f6cd16fa2cc"
      },
      "source": [
        "countries_reviewed = reviews.groupby(['country','province']).description.agg([len])\n",
        "countries_reviewed.head(10)"
      ],
      "execution_count": 29,
      "outputs": [
        {
          "output_type": "execute_result",
          "data": {
            "text/html": [
              "<div>\n",
              "<style scoped>\n",
              "    .dataframe tbody tr th:only-of-type {\n",
              "        vertical-align: middle;\n",
              "    }\n",
              "\n",
              "    .dataframe tbody tr th {\n",
              "        vertical-align: top;\n",
              "    }\n",
              "\n",
              "    .dataframe thead th {\n",
              "        text-align: right;\n",
              "    }\n",
              "</style>\n",
              "<table border=\"1\" class=\"dataframe\">\n",
              "  <thead>\n",
              "    <tr style=\"text-align: right;\">\n",
              "      <th></th>\n",
              "      <th></th>\n",
              "      <th>len</th>\n",
              "    </tr>\n",
              "    <tr>\n",
              "      <th>country</th>\n",
              "      <th>province</th>\n",
              "      <th></th>\n",
              "    </tr>\n",
              "  </thead>\n",
              "  <tbody>\n",
              "    <tr>\n",
              "      <th rowspan=\"2\" valign=\"top\">Argentina</th>\n",
              "      <th>Mendoza Province</th>\n",
              "      <td>3264</td>\n",
              "    </tr>\n",
              "    <tr>\n",
              "      <th>Other</th>\n",
              "      <td>536</td>\n",
              "    </tr>\n",
              "    <tr>\n",
              "      <th>Armenia</th>\n",
              "      <th>Armenia</th>\n",
              "      <td>2</td>\n",
              "    </tr>\n",
              "    <tr>\n",
              "      <th rowspan=\"6\" valign=\"top\">Australia</th>\n",
              "      <th>Australia Other</th>\n",
              "      <td>245</td>\n",
              "    </tr>\n",
              "    <tr>\n",
              "      <th>New South Wales</th>\n",
              "      <td>85</td>\n",
              "    </tr>\n",
              "    <tr>\n",
              "      <th>South Australia</th>\n",
              "      <td>1349</td>\n",
              "    </tr>\n",
              "    <tr>\n",
              "      <th>Tasmania</th>\n",
              "      <td>42</td>\n",
              "    </tr>\n",
              "    <tr>\n",
              "      <th>Victoria</th>\n",
              "      <td>322</td>\n",
              "    </tr>\n",
              "    <tr>\n",
              "      <th>Western Australia</th>\n",
              "      <td>286</td>\n",
              "    </tr>\n",
              "    <tr>\n",
              "      <th>Austria</th>\n",
              "      <th>Austria</th>\n",
              "      <td>26</td>\n",
              "    </tr>\n",
              "  </tbody>\n",
              "</table>\n",
              "</div>"
            ],
            "text/plain": [
              "                              len\n",
              "country   province               \n",
              "Argentina Mendoza Province   3264\n",
              "          Other               536\n",
              "Armenia   Armenia               2\n",
              "Australia Australia Other     245\n",
              "          New South Wales      85\n",
              "          South Australia    1349\n",
              "          Tasmania             42\n",
              "          Victoria            322\n",
              "          Western Australia   286\n",
              "Austria   Austria              26"
            ]
          },
          "metadata": {
            "tags": []
          },
          "execution_count": 29
        }
      ]
    },
    {
      "cell_type": "code",
      "metadata": {
        "id": "QzrqHfi6yzE0",
        "colab_type": "code",
        "colab": {
          "base_uri": "https://localhost:8080/",
          "height": 34
        },
        "outputId": "17b11812-d704-4076-d0a0-eed8950eefb5"
      },
      "source": [
        "type(countries_reviewed.index) # pandas.core.indexes.multi.MultiIndex"
      ],
      "execution_count": 30,
      "outputs": [
        {
          "output_type": "execute_result",
          "data": {
            "text/plain": [
              "pandas.core.indexes.multi.MultiIndex"
            ]
          },
          "metadata": {
            "tags": []
          },
          "execution_count": 30
        }
      ]
    },
    {
      "cell_type": "code",
      "metadata": {
        "id": "O2RnbLVUNHWU",
        "colab_type": "code",
        "colab": {
          "base_uri": "https://localhost:8080/",
          "height": 391
        },
        "outputId": "c1ab994c-b2d7-40a4-f4f5-e819df24d9f9"
      },
      "source": [
        "countries_reviewed.index"
      ],
      "execution_count": 41,
      "outputs": [
        {
          "output_type": "execute_result",
          "data": {
            "text/plain": [
              "MultiIndex([('Argentina',  'Mendoza Province'),\n",
              "            ('Argentina',             'Other'),\n",
              "            (  'Armenia',           'Armenia'),\n",
              "            ('Australia',   'Australia Other'),\n",
              "            ('Australia',   'New South Wales'),\n",
              "            ('Australia',   'South Australia'),\n",
              "            ('Australia',          'Tasmania'),\n",
              "            ('Australia',          'Victoria'),\n",
              "            ('Australia', 'Western Australia'),\n",
              "            (  'Austria',           'Austria'),\n",
              "            ...\n",
              "            (       'US',        'Washington'),\n",
              "            (       'US', 'Washington-Oregon'),\n",
              "            (  'Ukraine',           'Ukraine'),\n",
              "            (  'Uruguay',         'Atlantida'),\n",
              "            (  'Uruguay',         'Canelones'),\n",
              "            (  'Uruguay',           'Juanico'),\n",
              "            (  'Uruguay',        'Montevideo'),\n",
              "            (  'Uruguay',          'Progreso'),\n",
              "            (  'Uruguay',          'San Jose'),\n",
              "            (  'Uruguay',           'Uruguay')],\n",
              "           names=['country', 'province'], length=425)"
            ]
          },
          "metadata": {
            "tags": []
          },
          "execution_count": 41
        }
      ]
    },
    {
      "cell_type": "code",
      "metadata": {
        "id": "3Q7QCj1hN15Q",
        "colab_type": "code",
        "colab": {
          "base_uri": "https://localhost:8080/",
          "height": 51
        },
        "outputId": "f46d1a7e-27b8-4eed-b99f-8bcedfb5b1b9"
      },
      "source": [
        "countries_reviewed.loc['Argentina',  'Mendoza Province'] ## call using loc and this index"
      ],
      "execution_count": 40,
      "outputs": [
        {
          "output_type": "execute_result",
          "data": {
            "text/plain": [
              "len    3264\n",
              "Name: (Argentina, Mendoza Province), dtype: int64"
            ]
          },
          "metadata": {
            "tags": []
          },
          "execution_count": 40
        }
      ]
    },
    {
      "cell_type": "markdown",
      "metadata": {
        "id": "zMiD4X0izMAZ",
        "colab_type": "text"
      },
      "source": [
        "Multi-indices have several methods for dealing with their tiered structure which are absent for single-level indices\n",
        "\n",
        "They require 2 levels of labels to retrieve a value.\n",
        "\n",
        "The use cases for a multi index are detailed alongside instructions on using them in below link"
      ]
    },
    {
      "cell_type": "markdown",
      "metadata": {
        "id": "CH5L3IrVL8LT",
        "colab_type": "text"
      },
      "source": [
        "https://pandas.pydata.org/pandas-docs/stable/user_guide/advanced.html"
      ]
    },
    {
      "cell_type": "code",
      "metadata": {
        "id": "RlcxBRuJMLGb",
        "colab_type": "code",
        "colab": {
          "base_uri": "https://localhost:8080/",
          "height": 419
        },
        "outputId": "e72c8479-3651-4d18-d17b-063378b93d50"
      },
      "source": [
        "countries_reviewed.reset_index()   ## index resets to numbers from 0 to 424"
      ],
      "execution_count": 31,
      "outputs": [
        {
          "output_type": "execute_result",
          "data": {
            "text/html": [
              "<div>\n",
              "<style scoped>\n",
              "    .dataframe tbody tr th:only-of-type {\n",
              "        vertical-align: middle;\n",
              "    }\n",
              "\n",
              "    .dataframe tbody tr th {\n",
              "        vertical-align: top;\n",
              "    }\n",
              "\n",
              "    .dataframe thead th {\n",
              "        text-align: right;\n",
              "    }\n",
              "</style>\n",
              "<table border=\"1\" class=\"dataframe\">\n",
              "  <thead>\n",
              "    <tr style=\"text-align: right;\">\n",
              "      <th></th>\n",
              "      <th>country</th>\n",
              "      <th>province</th>\n",
              "      <th>len</th>\n",
              "    </tr>\n",
              "  </thead>\n",
              "  <tbody>\n",
              "    <tr>\n",
              "      <th>0</th>\n",
              "      <td>Argentina</td>\n",
              "      <td>Mendoza Province</td>\n",
              "      <td>3264</td>\n",
              "    </tr>\n",
              "    <tr>\n",
              "      <th>1</th>\n",
              "      <td>Argentina</td>\n",
              "      <td>Other</td>\n",
              "      <td>536</td>\n",
              "    </tr>\n",
              "    <tr>\n",
              "      <th>2</th>\n",
              "      <td>Armenia</td>\n",
              "      <td>Armenia</td>\n",
              "      <td>2</td>\n",
              "    </tr>\n",
              "    <tr>\n",
              "      <th>3</th>\n",
              "      <td>Australia</td>\n",
              "      <td>Australia Other</td>\n",
              "      <td>245</td>\n",
              "    </tr>\n",
              "    <tr>\n",
              "      <th>4</th>\n",
              "      <td>Australia</td>\n",
              "      <td>New South Wales</td>\n",
              "      <td>85</td>\n",
              "    </tr>\n",
              "    <tr>\n",
              "      <th>...</th>\n",
              "      <td>...</td>\n",
              "      <td>...</td>\n",
              "      <td>...</td>\n",
              "    </tr>\n",
              "    <tr>\n",
              "      <th>420</th>\n",
              "      <td>Uruguay</td>\n",
              "      <td>Juanico</td>\n",
              "      <td>12</td>\n",
              "    </tr>\n",
              "    <tr>\n",
              "      <th>421</th>\n",
              "      <td>Uruguay</td>\n",
              "      <td>Montevideo</td>\n",
              "      <td>11</td>\n",
              "    </tr>\n",
              "    <tr>\n",
              "      <th>422</th>\n",
              "      <td>Uruguay</td>\n",
              "      <td>Progreso</td>\n",
              "      <td>11</td>\n",
              "    </tr>\n",
              "    <tr>\n",
              "      <th>423</th>\n",
              "      <td>Uruguay</td>\n",
              "      <td>San Jose</td>\n",
              "      <td>3</td>\n",
              "    </tr>\n",
              "    <tr>\n",
              "      <th>424</th>\n",
              "      <td>Uruguay</td>\n",
              "      <td>Uruguay</td>\n",
              "      <td>24</td>\n",
              "    </tr>\n",
              "  </tbody>\n",
              "</table>\n",
              "<p>425 rows × 3 columns</p>\n",
              "</div>"
            ],
            "text/plain": [
              "       country          province   len\n",
              "0    Argentina  Mendoza Province  3264\n",
              "1    Argentina             Other   536\n",
              "2      Armenia           Armenia     2\n",
              "3    Australia   Australia Other   245\n",
              "4    Australia   New South Wales    85\n",
              "..         ...               ...   ...\n",
              "420    Uruguay           Juanico    12\n",
              "421    Uruguay        Montevideo    11\n",
              "422    Uruguay          Progreso    11\n",
              "423    Uruguay          San Jose     3\n",
              "424    Uruguay           Uruguay    24\n",
              "\n",
              "[425 rows x 3 columns]"
            ]
          },
          "metadata": {
            "tags": []
          },
          "execution_count": 31
        }
      ]
    },
    {
      "cell_type": "markdown",
      "metadata": {
        "id": "rOuR6X54NBfY",
        "colab_type": "text"
      },
      "source": [
        "# **Sorting**"
      ]
    },
    {
      "cell_type": "markdown",
      "metadata": {
        "id": "GoklfVbNPDkH",
        "colab_type": "text"
      },
      "source": [
        "Grouping by groupby() , gives results in index order not value order i.e order of the rows is dependent on the index values and not the data"
      ]
    },
    {
      "cell_type": "code",
      "metadata": {
        "id": "BN1myVrXOEHY",
        "colab_type": "code",
        "colab": {}
      },
      "source": [
        "countries_reviewed = countries_reviewed.reset_index()"
      ],
      "execution_count": 0,
      "outputs": []
    },
    {
      "cell_type": "code",
      "metadata": {
        "id": "jE8LFmuEOPen",
        "colab_type": "code",
        "colab": {
          "base_uri": "https://localhost:8080/",
          "height": 419
        },
        "outputId": "64cfa88c-b632-4bb7-ad0b-232b32edb6cc"
      },
      "source": [
        "countries_reviewed.sort_values(by='len') ## sort the results by len"
      ],
      "execution_count": 48,
      "outputs": [
        {
          "output_type": "execute_result",
          "data": {
            "text/html": [
              "<div>\n",
              "<style scoped>\n",
              "    .dataframe tbody tr th:only-of-type {\n",
              "        vertical-align: middle;\n",
              "    }\n",
              "\n",
              "    .dataframe tbody tr th {\n",
              "        vertical-align: top;\n",
              "    }\n",
              "\n",
              "    .dataframe thead th {\n",
              "        text-align: right;\n",
              "    }\n",
              "</style>\n",
              "<table border=\"1\" class=\"dataframe\">\n",
              "  <thead>\n",
              "    <tr style=\"text-align: right;\">\n",
              "      <th></th>\n",
              "      <th>country</th>\n",
              "      <th>province</th>\n",
              "      <th>len</th>\n",
              "    </tr>\n",
              "  </thead>\n",
              "  <tbody>\n",
              "    <tr>\n",
              "      <th>179</th>\n",
              "      <td>Greece</td>\n",
              "      <td>Muscat of Kefallonian</td>\n",
              "      <td>1</td>\n",
              "    </tr>\n",
              "    <tr>\n",
              "      <th>192</th>\n",
              "      <td>Greece</td>\n",
              "      <td>Sterea Ellada</td>\n",
              "      <td>1</td>\n",
              "    </tr>\n",
              "    <tr>\n",
              "      <th>194</th>\n",
              "      <td>Greece</td>\n",
              "      <td>Thraki</td>\n",
              "      <td>1</td>\n",
              "    </tr>\n",
              "    <tr>\n",
              "      <th>354</th>\n",
              "      <td>South Africa</td>\n",
              "      <td>Paardeberg</td>\n",
              "      <td>1</td>\n",
              "    </tr>\n",
              "    <tr>\n",
              "      <th>40</th>\n",
              "      <td>Brazil</td>\n",
              "      <td>Serra do Sudeste</td>\n",
              "      <td>1</td>\n",
              "    </tr>\n",
              "    <tr>\n",
              "      <th>...</th>\n",
              "      <td>...</td>\n",
              "      <td>...</td>\n",
              "      <td>...</td>\n",
              "    </tr>\n",
              "    <tr>\n",
              "      <th>409</th>\n",
              "      <td>US</td>\n",
              "      <td>Oregon</td>\n",
              "      <td>5373</td>\n",
              "    </tr>\n",
              "    <tr>\n",
              "      <th>227</th>\n",
              "      <td>Italy</td>\n",
              "      <td>Tuscany</td>\n",
              "      <td>5897</td>\n",
              "    </tr>\n",
              "    <tr>\n",
              "      <th>118</th>\n",
              "      <td>France</td>\n",
              "      <td>Bordeaux</td>\n",
              "      <td>5941</td>\n",
              "    </tr>\n",
              "    <tr>\n",
              "      <th>415</th>\n",
              "      <td>US</td>\n",
              "      <td>Washington</td>\n",
              "      <td>8639</td>\n",
              "    </tr>\n",
              "    <tr>\n",
              "      <th>392</th>\n",
              "      <td>US</td>\n",
              "      <td>California</td>\n",
              "      <td>36247</td>\n",
              "    </tr>\n",
              "  </tbody>\n",
              "</table>\n",
              "<p>425 rows × 3 columns</p>\n",
              "</div>"
            ],
            "text/plain": [
              "          country               province    len\n",
              "179        Greece  Muscat of Kefallonian      1\n",
              "192        Greece          Sterea Ellada      1\n",
              "194        Greece                 Thraki      1\n",
              "354  South Africa             Paardeberg      1\n",
              "40         Brazil       Serra do Sudeste      1\n",
              "..            ...                    ...    ...\n",
              "409            US                 Oregon   5373\n",
              "227         Italy                Tuscany   5897\n",
              "118        France               Bordeaux   5941\n",
              "415            US             Washington   8639\n",
              "392            US             California  36247\n",
              "\n",
              "[425 rows x 3 columns]"
            ]
          },
          "metadata": {
            "tags": []
          },
          "execution_count": 48
        }
      ]
    },
    {
      "cell_type": "code",
      "metadata": {
        "id": "6WwYNDA8OoAg",
        "colab_type": "code",
        "colab": {
          "base_uri": "https://localhost:8080/",
          "height": 419
        },
        "outputId": "201ab754-9521-4a29-cf4a-e269d601afd0"
      },
      "source": [
        "countries_reviewed.sort_values(by='len',ascending=False) ## sort in descending order"
      ],
      "execution_count": 51,
      "outputs": [
        {
          "output_type": "execute_result",
          "data": {
            "text/html": [
              "<div>\n",
              "<style scoped>\n",
              "    .dataframe tbody tr th:only-of-type {\n",
              "        vertical-align: middle;\n",
              "    }\n",
              "\n",
              "    .dataframe tbody tr th {\n",
              "        vertical-align: top;\n",
              "    }\n",
              "\n",
              "    .dataframe thead th {\n",
              "        text-align: right;\n",
              "    }\n",
              "</style>\n",
              "<table border=\"1\" class=\"dataframe\">\n",
              "  <thead>\n",
              "    <tr style=\"text-align: right;\">\n",
              "      <th></th>\n",
              "      <th>country</th>\n",
              "      <th>province</th>\n",
              "      <th>len</th>\n",
              "    </tr>\n",
              "  </thead>\n",
              "  <tbody>\n",
              "    <tr>\n",
              "      <th>392</th>\n",
              "      <td>US</td>\n",
              "      <td>California</td>\n",
              "      <td>36247</td>\n",
              "    </tr>\n",
              "    <tr>\n",
              "      <th>415</th>\n",
              "      <td>US</td>\n",
              "      <td>Washington</td>\n",
              "      <td>8639</td>\n",
              "    </tr>\n",
              "    <tr>\n",
              "      <th>118</th>\n",
              "      <td>France</td>\n",
              "      <td>Bordeaux</td>\n",
              "      <td>5941</td>\n",
              "    </tr>\n",
              "    <tr>\n",
              "      <th>227</th>\n",
              "      <td>Italy</td>\n",
              "      <td>Tuscany</td>\n",
              "      <td>5897</td>\n",
              "    </tr>\n",
              "    <tr>\n",
              "      <th>409</th>\n",
              "      <td>US</td>\n",
              "      <td>Oregon</td>\n",
              "      <td>5373</td>\n",
              "    </tr>\n",
              "    <tr>\n",
              "      <th>...</th>\n",
              "      <td>...</td>\n",
              "      <td>...</td>\n",
              "      <td>...</td>\n",
              "    </tr>\n",
              "    <tr>\n",
              "      <th>101</th>\n",
              "      <td>Croatia</td>\n",
              "      <td>Krk</td>\n",
              "      <td>1</td>\n",
              "    </tr>\n",
              "    <tr>\n",
              "      <th>247</th>\n",
              "      <td>New Zealand</td>\n",
              "      <td>Gladstone</td>\n",
              "      <td>1</td>\n",
              "    </tr>\n",
              "    <tr>\n",
              "      <th>357</th>\n",
              "      <td>South Africa</td>\n",
              "      <td>Piekenierskloof</td>\n",
              "      <td>1</td>\n",
              "    </tr>\n",
              "    <tr>\n",
              "      <th>63</th>\n",
              "      <td>Chile</td>\n",
              "      <td>Coelemu</td>\n",
              "      <td>1</td>\n",
              "    </tr>\n",
              "    <tr>\n",
              "      <th>149</th>\n",
              "      <td>Greece</td>\n",
              "      <td>Beotia</td>\n",
              "      <td>1</td>\n",
              "    </tr>\n",
              "  </tbody>\n",
              "</table>\n",
              "<p>425 rows × 3 columns</p>\n",
              "</div>"
            ],
            "text/plain": [
              "          country         province    len\n",
              "392            US       California  36247\n",
              "415            US       Washington   8639\n",
              "118        France         Bordeaux   5941\n",
              "227         Italy          Tuscany   5897\n",
              "409            US           Oregon   5373\n",
              "..            ...              ...    ...\n",
              "101       Croatia              Krk      1\n",
              "247   New Zealand        Gladstone      1\n",
              "357  South Africa  Piekenierskloof      1\n",
              "63          Chile          Coelemu      1\n",
              "149        Greece           Beotia      1\n",
              "\n",
              "[425 rows x 3 columns]"
            ]
          },
          "metadata": {
            "tags": []
          },
          "execution_count": 51
        }
      ]
    },
    {
      "cell_type": "code",
      "metadata": {
        "id": "zomPoyxgPehP",
        "colab_type": "code",
        "colab": {
          "base_uri": "https://localhost:8080/",
          "height": 419
        },
        "outputId": "d341c820-3d4b-47c2-8ec8-a791ad94c656"
      },
      "source": [
        "countries_reviewed.sort_index()"
      ],
      "execution_count": 52,
      "outputs": [
        {
          "output_type": "execute_result",
          "data": {
            "text/html": [
              "<div>\n",
              "<style scoped>\n",
              "    .dataframe tbody tr th:only-of-type {\n",
              "        vertical-align: middle;\n",
              "    }\n",
              "\n",
              "    .dataframe tbody tr th {\n",
              "        vertical-align: top;\n",
              "    }\n",
              "\n",
              "    .dataframe thead th {\n",
              "        text-align: right;\n",
              "    }\n",
              "</style>\n",
              "<table border=\"1\" class=\"dataframe\">\n",
              "  <thead>\n",
              "    <tr style=\"text-align: right;\">\n",
              "      <th></th>\n",
              "      <th>country</th>\n",
              "      <th>province</th>\n",
              "      <th>len</th>\n",
              "    </tr>\n",
              "  </thead>\n",
              "  <tbody>\n",
              "    <tr>\n",
              "      <th>0</th>\n",
              "      <td>Argentina</td>\n",
              "      <td>Mendoza Province</td>\n",
              "      <td>3264</td>\n",
              "    </tr>\n",
              "    <tr>\n",
              "      <th>1</th>\n",
              "      <td>Argentina</td>\n",
              "      <td>Other</td>\n",
              "      <td>536</td>\n",
              "    </tr>\n",
              "    <tr>\n",
              "      <th>2</th>\n",
              "      <td>Armenia</td>\n",
              "      <td>Armenia</td>\n",
              "      <td>2</td>\n",
              "    </tr>\n",
              "    <tr>\n",
              "      <th>3</th>\n",
              "      <td>Australia</td>\n",
              "      <td>Australia Other</td>\n",
              "      <td>245</td>\n",
              "    </tr>\n",
              "    <tr>\n",
              "      <th>4</th>\n",
              "      <td>Australia</td>\n",
              "      <td>New South Wales</td>\n",
              "      <td>85</td>\n",
              "    </tr>\n",
              "    <tr>\n",
              "      <th>...</th>\n",
              "      <td>...</td>\n",
              "      <td>...</td>\n",
              "      <td>...</td>\n",
              "    </tr>\n",
              "    <tr>\n",
              "      <th>420</th>\n",
              "      <td>Uruguay</td>\n",
              "      <td>Juanico</td>\n",
              "      <td>12</td>\n",
              "    </tr>\n",
              "    <tr>\n",
              "      <th>421</th>\n",
              "      <td>Uruguay</td>\n",
              "      <td>Montevideo</td>\n",
              "      <td>11</td>\n",
              "    </tr>\n",
              "    <tr>\n",
              "      <th>422</th>\n",
              "      <td>Uruguay</td>\n",
              "      <td>Progreso</td>\n",
              "      <td>11</td>\n",
              "    </tr>\n",
              "    <tr>\n",
              "      <th>423</th>\n",
              "      <td>Uruguay</td>\n",
              "      <td>San Jose</td>\n",
              "      <td>3</td>\n",
              "    </tr>\n",
              "    <tr>\n",
              "      <th>424</th>\n",
              "      <td>Uruguay</td>\n",
              "      <td>Uruguay</td>\n",
              "      <td>24</td>\n",
              "    </tr>\n",
              "  </tbody>\n",
              "</table>\n",
              "<p>425 rows × 3 columns</p>\n",
              "</div>"
            ],
            "text/plain": [
              "       country          province   len\n",
              "0    Argentina  Mendoza Province  3264\n",
              "1    Argentina             Other   536\n",
              "2      Armenia           Armenia     2\n",
              "3    Australia   Australia Other   245\n",
              "4    Australia   New South Wales    85\n",
              "..         ...               ...   ...\n",
              "420    Uruguay           Juanico    12\n",
              "421    Uruguay        Montevideo    11\n",
              "422    Uruguay          Progreso    11\n",
              "423    Uruguay          San Jose     3\n",
              "424    Uruguay           Uruguay    24\n",
              "\n",
              "[425 rows x 3 columns]"
            ]
          },
          "metadata": {
            "tags": []
          },
          "execution_count": 52
        }
      ]
    },
    {
      "cell_type": "markdown",
      "metadata": {
        "id": "FHs62nNtPnzC",
        "colab_type": "text"
      },
      "source": [
        "## Sort by more than 1 column at a time"
      ]
    },
    {
      "cell_type": "code",
      "metadata": {
        "id": "-oKYKEUWPu0a",
        "colab_type": "code",
        "colab": {
          "base_uri": "https://localhost:8080/",
          "height": 419
        },
        "outputId": "c0adac78-6366-4906-c4c5-e12a59f58ec0"
      },
      "source": [
        "countries_reviewed.sort_values(by= ['country','len'])"
      ],
      "execution_count": 53,
      "outputs": [
        {
          "output_type": "execute_result",
          "data": {
            "text/html": [
              "<div>\n",
              "<style scoped>\n",
              "    .dataframe tbody tr th:only-of-type {\n",
              "        vertical-align: middle;\n",
              "    }\n",
              "\n",
              "    .dataframe tbody tr th {\n",
              "        vertical-align: top;\n",
              "    }\n",
              "\n",
              "    .dataframe thead th {\n",
              "        text-align: right;\n",
              "    }\n",
              "</style>\n",
              "<table border=\"1\" class=\"dataframe\">\n",
              "  <thead>\n",
              "    <tr style=\"text-align: right;\">\n",
              "      <th></th>\n",
              "      <th>country</th>\n",
              "      <th>province</th>\n",
              "      <th>len</th>\n",
              "    </tr>\n",
              "  </thead>\n",
              "  <tbody>\n",
              "    <tr>\n",
              "      <th>1</th>\n",
              "      <td>Argentina</td>\n",
              "      <td>Other</td>\n",
              "      <td>536</td>\n",
              "    </tr>\n",
              "    <tr>\n",
              "      <th>0</th>\n",
              "      <td>Argentina</td>\n",
              "      <td>Mendoza Province</td>\n",
              "      <td>3264</td>\n",
              "    </tr>\n",
              "    <tr>\n",
              "      <th>2</th>\n",
              "      <td>Armenia</td>\n",
              "      <td>Armenia</td>\n",
              "      <td>2</td>\n",
              "    </tr>\n",
              "    <tr>\n",
              "      <th>6</th>\n",
              "      <td>Australia</td>\n",
              "      <td>Tasmania</td>\n",
              "      <td>42</td>\n",
              "    </tr>\n",
              "    <tr>\n",
              "      <th>4</th>\n",
              "      <td>Australia</td>\n",
              "      <td>New South Wales</td>\n",
              "      <td>85</td>\n",
              "    </tr>\n",
              "    <tr>\n",
              "      <th>...</th>\n",
              "      <td>...</td>\n",
              "      <td>...</td>\n",
              "      <td>...</td>\n",
              "    </tr>\n",
              "    <tr>\n",
              "      <th>421</th>\n",
              "      <td>Uruguay</td>\n",
              "      <td>Montevideo</td>\n",
              "      <td>11</td>\n",
              "    </tr>\n",
              "    <tr>\n",
              "      <th>422</th>\n",
              "      <td>Uruguay</td>\n",
              "      <td>Progreso</td>\n",
              "      <td>11</td>\n",
              "    </tr>\n",
              "    <tr>\n",
              "      <th>420</th>\n",
              "      <td>Uruguay</td>\n",
              "      <td>Juanico</td>\n",
              "      <td>12</td>\n",
              "    </tr>\n",
              "    <tr>\n",
              "      <th>424</th>\n",
              "      <td>Uruguay</td>\n",
              "      <td>Uruguay</td>\n",
              "      <td>24</td>\n",
              "    </tr>\n",
              "    <tr>\n",
              "      <th>419</th>\n",
              "      <td>Uruguay</td>\n",
              "      <td>Canelones</td>\n",
              "      <td>43</td>\n",
              "    </tr>\n",
              "  </tbody>\n",
              "</table>\n",
              "<p>425 rows × 3 columns</p>\n",
              "</div>"
            ],
            "text/plain": [
              "       country          province   len\n",
              "1    Argentina             Other   536\n",
              "0    Argentina  Mendoza Province  3264\n",
              "2      Armenia           Armenia     2\n",
              "6    Australia          Tasmania    42\n",
              "4    Australia   New South Wales    85\n",
              "..         ...               ...   ...\n",
              "421    Uruguay        Montevideo    11\n",
              "422    Uruguay          Progreso    11\n",
              "420    Uruguay           Juanico    12\n",
              "424    Uruguay           Uruguay    24\n",
              "419    Uruguay         Canelones    43\n",
              "\n",
              "[425 rows x 3 columns]"
            ]
          },
          "metadata": {
            "tags": []
          },
          "execution_count": 53
        }
      ]
    },
    {
      "cell_type": "markdown",
      "metadata": {
        "id": "pEyxLny8PzQ9",
        "colab_type": "text"
      },
      "source": [
        "# **Exercise for Practice**"
      ]
    },
    {
      "cell_type": "code",
      "metadata": {
        "id": "15e6JFsVP7GR",
        "colab_type": "code",
        "colab": {
          "base_uri": "https://localhost:8080/",
          "height": 185
        },
        "outputId": "f2a7d00b-ed3e-4177-d425-d634f6d50d6c"
      },
      "source": [
        "reviews.head(1)"
      ],
      "execution_count": 71,
      "outputs": [
        {
          "output_type": "execute_result",
          "data": {
            "text/html": [
              "<div>\n",
              "<style scoped>\n",
              "    .dataframe tbody tr th:only-of-type {\n",
              "        vertical-align: middle;\n",
              "    }\n",
              "\n",
              "    .dataframe tbody tr th {\n",
              "        vertical-align: top;\n",
              "    }\n",
              "\n",
              "    .dataframe thead th {\n",
              "        text-align: right;\n",
              "    }\n",
              "</style>\n",
              "<table border=\"1\" class=\"dataframe\">\n",
              "  <thead>\n",
              "    <tr style=\"text-align: right;\">\n",
              "      <th></th>\n",
              "      <th>Unnamed: 0</th>\n",
              "      <th>country</th>\n",
              "      <th>description</th>\n",
              "      <th>designation</th>\n",
              "      <th>points</th>\n",
              "      <th>price</th>\n",
              "      <th>province</th>\n",
              "      <th>region_1</th>\n",
              "      <th>region_2</th>\n",
              "      <th>taster_name</th>\n",
              "      <th>taster_twitter_handle</th>\n",
              "      <th>title</th>\n",
              "      <th>variety</th>\n",
              "      <th>winery</th>\n",
              "    </tr>\n",
              "  </thead>\n",
              "  <tbody>\n",
              "    <tr>\n",
              "      <th>0</th>\n",
              "      <td>0</td>\n",
              "      <td>Italy</td>\n",
              "      <td>Aromas include tropical fruit, broom, brimston...</td>\n",
              "      <td>Vulkà Bianco</td>\n",
              "      <td>87</td>\n",
              "      <td>NaN</td>\n",
              "      <td>Sicily &amp; Sardinia</td>\n",
              "      <td>Etna</td>\n",
              "      <td>NaN</td>\n",
              "      <td>Kerin O’Keefe</td>\n",
              "      <td>@kerinokeefe</td>\n",
              "      <td>Nicosia 2013 Vulkà Bianco  (Etna)</td>\n",
              "      <td>White Blend</td>\n",
              "      <td>Nicosia</td>\n",
              "    </tr>\n",
              "  </tbody>\n",
              "</table>\n",
              "</div>"
            ],
            "text/plain": [
              "   Unnamed: 0 country  ...      variety   winery\n",
              "0           0   Italy  ...  White Blend  Nicosia\n",
              "\n",
              "[1 rows x 14 columns]"
            ]
          },
          "metadata": {
            "tags": []
          },
          "execution_count": 71
        }
      ]
    },
    {
      "cell_type": "markdown",
      "metadata": {
        "id": "Fu4unCB2SE7k",
        "colab_type": "text"
      },
      "source": [
        "## 1.\n",
        "Who are the most common wine reviewers in the dataset? Create a `Series` whose index is the `taster_twitter_handle` category from the dataset, and whose values count how many reviews each person wrote."
      ]
    },
    {
      "cell_type": "code",
      "metadata": {
        "id": "yVJsAj51QJnX",
        "colab_type": "code",
        "colab": {
          "base_uri": "https://localhost:8080/",
          "height": 306
        },
        "outputId": "628aecab-d972-4bf2-c8ab-1d37becda25e"
      },
      "source": [
        "reviews.groupby('taster_twitter_handle').taster_twitter_handle.count()\n",
        "# reviews.groupby('taster_twitter_handle').size() ## other way of doing above"
      ],
      "execution_count": 76,
      "outputs": [
        {
          "output_type": "execute_result",
          "data": {
            "text/plain": [
              "taster_twitter_handle\n",
              "@AnneInVino          3685\n",
              "@JoeCz               5147\n",
              "@bkfiona               27\n",
              "@gordone_cellars     4177\n",
              "@kerinokeefe        10776\n",
              "@laurbuzz            1835\n",
              "@mattkettmann        6332\n",
              "@paulgwine           9532\n",
              "@suskostrzewa        1085\n",
              "@vboone              9537\n",
              "@vossroger          25514\n",
              "@wawinereport        4966\n",
              "@wineschach         15134\n",
              "@winewchristina         6\n",
              "@worldwineguys       1005\n",
              "Name: taster_twitter_handle, dtype: int64"
            ]
          },
          "metadata": {
            "tags": []
          },
          "execution_count": 76
        }
      ]
    },
    {
      "cell_type": "code",
      "metadata": {
        "id": "Hc31Tt3xRDZI",
        "colab_type": "code",
        "colab": {
          "base_uri": "https://localhost:8080/",
          "height": 238
        },
        "outputId": "8455a531-9aae-4c22-f299-2e8e2bc445ed"
      },
      "source": [
        "reviews.groupby('price').points.apply(max)\n",
        "# best_rating_per_price = reviews.groupby('price')['points'].max().sort_index() ## or this way can be done"
      ],
      "execution_count": 85,
      "outputs": [
        {
          "output_type": "execute_result",
          "data": {
            "text/plain": [
              "price\n",
              "4.0       86\n",
              "5.0       87\n",
              "6.0       88\n",
              "7.0       91\n",
              "8.0       91\n",
              "          ..\n",
              "1900.0    98\n",
              "2000.0    97\n",
              "2013.0    91\n",
              "2500.0    96\n",
              "3300.0    88\n",
              "Name: points, Length: 390, dtype: int64"
            ]
          },
          "metadata": {
            "tags": []
          },
          "execution_count": 85
        }
      ]
    },
    {
      "cell_type": "code",
      "metadata": {
        "id": "YMxljQV3Zy_2",
        "colab_type": "code",
        "colab": {}
      },
      "source": [
        ""
      ],
      "execution_count": 0,
      "outputs": []
    }
  ]
}