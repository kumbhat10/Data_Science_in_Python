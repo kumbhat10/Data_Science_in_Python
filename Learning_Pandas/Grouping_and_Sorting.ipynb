{
  "nbformat": 4,
  "nbformat_minor": 0,
  "metadata": {
    "colab": {
      "name": "Grouping_and_Sorting.ipynb",
      "provenance": [],
      "collapsed_sections": [],
      "authorship_tag": "ABX9TyNrxc4+RI9erv7SGtD//Zt4",
      "include_colab_link": true
    },
    "kernelspec": {
      "name": "python3",
      "display_name": "Python 3"
    }
  },
  "cells": [
    {
      "cell_type": "markdown",
      "metadata": {
        "id": "view-in-github",
        "colab_type": "text"
      },
      "source": [
        "<a href=\"https://colab.research.google.com/github/kumbhat10/Data_Science_in_Python/blob/master/Learning_Pandas/Grouping_and_Sorting.ipynb\" target=\"_parent\"><img src=\"https://colab.research.google.com/assets/colab-badge.svg\" alt=\"Open In Colab\"/></a>"
      ]
    },
    {
      "cell_type": "code",
      "metadata": {
        "id": "92GNR8ZstIuB",
        "colab_type": "code",
        "colab": {}
      },
      "source": [
        " import pandas as pd"
      ],
      "execution_count": 0,
      "outputs": []
    },
    {
      "cell_type": "markdown",
      "metadata": {
        "id": "OA_kZXTkuHZp",
        "colab_type": "text"
      },
      "source": [
        "## **Mount Google drive and import data to use**"
      ]
    },
    {
      "cell_type": "code",
      "metadata": {
        "id": "dJkNP824t9HF",
        "colab_type": "code",
        "outputId": "8690e6ea-a8e4-4de2-e68c-dafd6aeeeba7",
        "colab": {
          "base_uri": "https://localhost:8080/",
          "height": 485
        }
      },
      "source": [
        "from google.colab import drive  # mount the google drive to access the wine reviews csv file\n",
        "drive.mount('/content/gdrive')\n",
        "reviews = pd.read_csv('/content/gdrive/My Drive/Colab Notebooks/Sample_data/winemag-data-130k-v2.csv')\n",
        "reviews.head(3) # show only first 3 results"
      ],
      "execution_count": 2,
      "outputs": [
        {
          "output_type": "stream",
          "text": [
            "Go to this URL in a browser: https://accounts.google.com/o/oauth2/auth?client_id=947318989803-6bn6qk8qdgf4n4g3pfee6491hc0brc4i.apps.googleusercontent.com&redirect_uri=urn%3aietf%3awg%3aoauth%3a2.0%3aoob&response_type=code&scope=email%20https%3a%2f%2fwww.googleapis.com%2fauth%2fdocs.test%20https%3a%2f%2fwww.googleapis.com%2fauth%2fdrive%20https%3a%2f%2fwww.googleapis.com%2fauth%2fdrive.photos.readonly%20https%3a%2f%2fwww.googleapis.com%2fauth%2fpeopleapi.readonly\n",
            "\n",
            "Enter your authorization code:\n",
            "··········\n",
            "Mounted at /content/gdrive\n"
          ],
          "name": "stdout"
        },
        {
          "output_type": "execute_result",
          "data": {
            "text/html": [
              "<div>\n",
              "<style scoped>\n",
              "    .dataframe tbody tr th:only-of-type {\n",
              "        vertical-align: middle;\n",
              "    }\n",
              "\n",
              "    .dataframe tbody tr th {\n",
              "        vertical-align: top;\n",
              "    }\n",
              "\n",
              "    .dataframe thead th {\n",
              "        text-align: right;\n",
              "    }\n",
              "</style>\n",
              "<table border=\"1\" class=\"dataframe\">\n",
              "  <thead>\n",
              "    <tr style=\"text-align: right;\">\n",
              "      <th></th>\n",
              "      <th>Unnamed: 0</th>\n",
              "      <th>country</th>\n",
              "      <th>description</th>\n",
              "      <th>designation</th>\n",
              "      <th>points</th>\n",
              "      <th>price</th>\n",
              "      <th>province</th>\n",
              "      <th>region_1</th>\n",
              "      <th>region_2</th>\n",
              "      <th>taster_name</th>\n",
              "      <th>taster_twitter_handle</th>\n",
              "      <th>title</th>\n",
              "      <th>variety</th>\n",
              "      <th>winery</th>\n",
              "    </tr>\n",
              "  </thead>\n",
              "  <tbody>\n",
              "    <tr>\n",
              "      <th>0</th>\n",
              "      <td>0</td>\n",
              "      <td>Italy</td>\n",
              "      <td>Aromas include tropical fruit, broom, brimston...</td>\n",
              "      <td>Vulkà Bianco</td>\n",
              "      <td>87</td>\n",
              "      <td>NaN</td>\n",
              "      <td>Sicily &amp; Sardinia</td>\n",
              "      <td>Etna</td>\n",
              "      <td>NaN</td>\n",
              "      <td>Kerin O’Keefe</td>\n",
              "      <td>@kerinokeefe</td>\n",
              "      <td>Nicosia 2013 Vulkà Bianco  (Etna)</td>\n",
              "      <td>White Blend</td>\n",
              "      <td>Nicosia</td>\n",
              "    </tr>\n",
              "    <tr>\n",
              "      <th>1</th>\n",
              "      <td>1</td>\n",
              "      <td>Portugal</td>\n",
              "      <td>This is ripe and fruity, a wine that is smooth...</td>\n",
              "      <td>Avidagos</td>\n",
              "      <td>87</td>\n",
              "      <td>15.0</td>\n",
              "      <td>Douro</td>\n",
              "      <td>NaN</td>\n",
              "      <td>NaN</td>\n",
              "      <td>Roger Voss</td>\n",
              "      <td>@vossroger</td>\n",
              "      <td>Quinta dos Avidagos 2011 Avidagos Red (Douro)</td>\n",
              "      <td>Portuguese Red</td>\n",
              "      <td>Quinta dos Avidagos</td>\n",
              "    </tr>\n",
              "    <tr>\n",
              "      <th>2</th>\n",
              "      <td>2</td>\n",
              "      <td>US</td>\n",
              "      <td>Tart and snappy, the flavors of lime flesh and...</td>\n",
              "      <td>NaN</td>\n",
              "      <td>87</td>\n",
              "      <td>14.0</td>\n",
              "      <td>Oregon</td>\n",
              "      <td>Willamette Valley</td>\n",
              "      <td>Willamette Valley</td>\n",
              "      <td>Paul Gregutt</td>\n",
              "      <td>@paulgwine</td>\n",
              "      <td>Rainstorm 2013 Pinot Gris (Willamette Valley)</td>\n",
              "      <td>Pinot Gris</td>\n",
              "      <td>Rainstorm</td>\n",
              "    </tr>\n",
              "  </tbody>\n",
              "</table>\n",
              "</div>"
            ],
            "text/plain": [
              "   Unnamed: 0   country  ...         variety               winery\n",
              "0           0     Italy  ...     White Blend              Nicosia\n",
              "1           1  Portugal  ...  Portuguese Red  Quinta dos Avidagos\n",
              "2           2        US  ...      Pinot Gris            Rainstorm\n",
              "\n",
              "[3 rows x 14 columns]"
            ]
          },
          "metadata": {
            "tags": []
          },
          "execution_count": 2
        }
      ]
    },
    {
      "cell_type": "markdown",
      "metadata": {
        "id": "B4spEWPBtmpA",
        "colab_type": "text"
      },
      "source": [
        "# **Groupwise analysis**"
      ]
    },
    {
      "cell_type": "markdown",
      "metadata": {
        "id": "T83iiG0OtVEq",
        "colab_type": "text"
      },
      "source": [
        "Maps allow us to transform data in DatFrame or Series one value at a time for an entire column.\n",
        "\n",
        "However, often we want to group our data, and then do something specific to the group the data is in."
      ]
    },
    {
      "cell_type": "markdown",
      "metadata": {
        "id": "K684peJDtrpu",
        "colab_type": "text"
      },
      "source": [
        "one function we've been using heavily is value_counts function\n",
        "\n",
        "It can be replicated by following"
      ]
    },
    {
      "cell_type": "code",
      "metadata": {
        "id": "XOpUSCoHt2Mh",
        "colab_type": "code",
        "outputId": "0d19a5d7-7928-4bbc-e03e-0c09e8d0a163",
        "colab": {
          "base_uri": "https://localhost:8080/",
          "height": 426
        }
      },
      "source": [
        "reviews.groupby('points').points.count()"
      ],
      "execution_count": 0,
      "outputs": [
        {
          "output_type": "execute_result",
          "data": {
            "text/plain": [
              "points\n",
              "80       397\n",
              "81       692\n",
              "82      1836\n",
              "83      3025\n",
              "84      6480\n",
              "85      9530\n",
              "86     12600\n",
              "87     16933\n",
              "88     17207\n",
              "89     12226\n",
              "90     15410\n",
              "91     11359\n",
              "92      9613\n",
              "93      6489\n",
              "94      3758\n",
              "95      1535\n",
              "96       523\n",
              "97       229\n",
              "98        77\n",
              "99        33\n",
              "100       19\n",
              "Name: points, dtype: int64"
            ]
          },
          "metadata": {
            "tags": []
          },
          "execution_count": 4
        }
      ]
    },
    {
      "cell_type": "markdown",
      "metadata": {
        "id": "dAHrSXiYumls",
        "colab_type": "text"
      },
      "source": [
        "groupby() created a group of reviews which alloted the same point values to the given wines.\n",
        "\n",
        "Then, for each of these groups, we grabbed the points() column and counted how many times it appeared."
      ]
    },
    {
      "cell_type": "markdown",
      "metadata": {
        "id": "dGa0dMdXu7lu",
        "colab_type": "text"
      },
      "source": [
        "To find the cheapest wines in each of the following groups"
      ]
    },
    {
      "cell_type": "code",
      "metadata": {
        "id": "kNspy9JRvw2v",
        "colab_type": "code",
        "outputId": "1132f8a3-fc53-4ff6-9f3a-fb7607bc5b04",
        "colab": {
          "base_uri": "https://localhost:8080/",
          "height": 426
        }
      },
      "source": [
        "reviews.groupby('points').price.min()"
      ],
      "execution_count": 0,
      "outputs": [
        {
          "output_type": "execute_result",
          "data": {
            "text/plain": [
              "points\n",
              "80      5.0\n",
              "81      5.0\n",
              "82      4.0\n",
              "83      4.0\n",
              "84      4.0\n",
              "85      4.0\n",
              "86      4.0\n",
              "87      5.0\n",
              "88      6.0\n",
              "89      7.0\n",
              "90      8.0\n",
              "91      7.0\n",
              "92     11.0\n",
              "93     12.0\n",
              "94     13.0\n",
              "95     20.0\n",
              "96     20.0\n",
              "97     35.0\n",
              "98     50.0\n",
              "99     44.0\n",
              "100    80.0\n",
              "Name: price, dtype: float64"
            ]
          },
          "metadata": {
            "tags": []
          },
          "execution_count": 5
        }
      ]
    },
    {
      "cell_type": "markdown",
      "metadata": {
        "id": "Wq9BVgeuv06T",
        "colab_type": "text"
      },
      "source": [
        "You can think of each group we generate as being a slice of our DataFrame containing only data with values that match. \n",
        "\n",
        "This DataFrame is accessible to us directly using the apply() method, and we can then manipulate the data in any way we see fit. \n",
        "\n",
        "For example, here's one way of selecting the name of the **first wine reviewed from each winery** in the dataset:"
      ]
    },
    {
      "cell_type": "markdown",
      "metadata": {
        "id": "ABt-2yNBDjj8",
        "colab_type": "text"
      },
      "source": [
        "##  **apply()**  method"
      ]
    },
    {
      "cell_type": "code",
      "metadata": {
        "id": "uKzfv5XNwB67",
        "colab_type": "code",
        "outputId": "4521dbe3-645a-4622-c881-2b145dbbc32f",
        "colab": {
          "base_uri": "https://localhost:8080/",
          "height": 498
        }
      },
      "source": [
        "a = reviews.groupby('winery').apply(lambda daframe: daframe.iloc[0] )\n",
        "a.head(4) # show results of only 4"
      ],
      "execution_count": 0,
      "outputs": [
        {
          "output_type": "execute_result",
          "data": {
            "text/html": [
              "<div>\n",
              "<style scoped>\n",
              "    .dataframe tbody tr th:only-of-type {\n",
              "        vertical-align: middle;\n",
              "    }\n",
              "\n",
              "    .dataframe tbody tr th {\n",
              "        vertical-align: top;\n",
              "    }\n",
              "\n",
              "    .dataframe thead th {\n",
              "        text-align: right;\n",
              "    }\n",
              "</style>\n",
              "<table border=\"1\" class=\"dataframe\">\n",
              "  <thead>\n",
              "    <tr style=\"text-align: right;\">\n",
              "      <th></th>\n",
              "      <th>Unnamed: 0</th>\n",
              "      <th>country</th>\n",
              "      <th>description</th>\n",
              "      <th>designation</th>\n",
              "      <th>points</th>\n",
              "      <th>price</th>\n",
              "      <th>province</th>\n",
              "      <th>region_1</th>\n",
              "      <th>region_2</th>\n",
              "      <th>taster_name</th>\n",
              "      <th>taster_twitter_handle</th>\n",
              "      <th>title</th>\n",
              "      <th>variety</th>\n",
              "      <th>winery</th>\n",
              "    </tr>\n",
              "    <tr>\n",
              "      <th>winery</th>\n",
              "      <th></th>\n",
              "      <th></th>\n",
              "      <th></th>\n",
              "      <th></th>\n",
              "      <th></th>\n",
              "      <th></th>\n",
              "      <th></th>\n",
              "      <th></th>\n",
              "      <th></th>\n",
              "      <th></th>\n",
              "      <th></th>\n",
              "      <th></th>\n",
              "      <th></th>\n",
              "      <th></th>\n",
              "    </tr>\n",
              "  </thead>\n",
              "  <tbody>\n",
              "    <tr>\n",
              "      <th>1+1=3</th>\n",
              "      <td>20319</td>\n",
              "      <td>Spain</td>\n",
              "      <td>A dusty, yeasty nose is simplistic but friendl...</td>\n",
              "      <td>Rosé</td>\n",
              "      <td>86</td>\n",
              "      <td>20.0</td>\n",
              "      <td>Catalonia</td>\n",
              "      <td>Cava</td>\n",
              "      <td>NaN</td>\n",
              "      <td>Michael Schachner</td>\n",
              "      <td>@wineschach</td>\n",
              "      <td>1+1=3 NV Rosé Sparkling (Cava)</td>\n",
              "      <td>Sparkling Blend</td>\n",
              "      <td>1+1=3</td>\n",
              "    </tr>\n",
              "    <tr>\n",
              "      <th>10 Knots</th>\n",
              "      <td>13150</td>\n",
              "      <td>US</td>\n",
              "      <td>A strongly flavored, sugary, unsubtle wine, le...</td>\n",
              "      <td>NaN</td>\n",
              "      <td>84</td>\n",
              "      <td>22.0</td>\n",
              "      <td>California</td>\n",
              "      <td>Paso Robles</td>\n",
              "      <td>Central Coast</td>\n",
              "      <td>NaN</td>\n",
              "      <td>NaN</td>\n",
              "      <td>10 Knots 2010 Viognier (Paso Robles)</td>\n",
              "      <td>Viognier</td>\n",
              "      <td>10 Knots</td>\n",
              "    </tr>\n",
              "    <tr>\n",
              "      <th>100 Percent Wine</th>\n",
              "      <td>29919</td>\n",
              "      <td>US</td>\n",
              "      <td>Sweet and light bodied, this wine has plenty o...</td>\n",
              "      <td>NaN</td>\n",
              "      <td>86</td>\n",
              "      <td>18.0</td>\n",
              "      <td>California</td>\n",
              "      <td>California</td>\n",
              "      <td>California Other</td>\n",
              "      <td>Jim Gordon</td>\n",
              "      <td>@gordone_cellars</td>\n",
              "      <td>100 Percent Wine 2015 Moscato (California)</td>\n",
              "      <td>Moscato</td>\n",
              "      <td>100 Percent Wine</td>\n",
              "    </tr>\n",
              "    <tr>\n",
              "      <th>1000 Stories</th>\n",
              "      <td>30001</td>\n",
              "      <td>US</td>\n",
              "      <td>This approachable wine from the Fetzer organiz...</td>\n",
              "      <td>Bourbon Barrel Aged</td>\n",
              "      <td>91</td>\n",
              "      <td>19.0</td>\n",
              "      <td>California</td>\n",
              "      <td>Mendocino</td>\n",
              "      <td>NaN</td>\n",
              "      <td>Jim Gordon</td>\n",
              "      <td>@gordone_cellars</td>\n",
              "      <td>1000 Stories 2013 Bourbon Barrel Aged Zinfande...</td>\n",
              "      <td>Zinfandel</td>\n",
              "      <td>1000 Stories</td>\n",
              "    </tr>\n",
              "  </tbody>\n",
              "</table>\n",
              "</div>"
            ],
            "text/plain": [
              "                  Unnamed: 0 country  ...          variety            winery\n",
              "winery                                ...                                   \n",
              "1+1=3                  20319   Spain  ...  Sparkling Blend             1+1=3\n",
              "10 Knots               13150      US  ...         Viognier          10 Knots\n",
              "100 Percent Wine       29919      US  ...          Moscato  100 Percent Wine\n",
              "1000 Stories           30001      US  ...        Zinfandel      1000 Stories\n",
              "\n",
              "[4 rows x 14 columns]"
            ]
          },
          "metadata": {
            "tags": []
          },
          "execution_count": 12
        }
      ]
    },
    {
      "cell_type": "markdown",
      "metadata": {
        "id": "Ke2Zi8BSwYFa",
        "colab_type": "text"
      },
      "source": [
        "## **group by more than one column**"
      ]
    },
    {
      "cell_type": "markdown",
      "metadata": {
        "id": "U7eN_Y3bw0iL",
        "colab_type": "text"
      },
      "source": [
        "pick out the best wine by country and province:"
      ]
    },
    {
      "cell_type": "code",
      "metadata": {
        "id": "xK03m575wejE",
        "colab_type": "code",
        "outputId": "fa48c23d-81f1-47d1-97f0-6ca912a52ef3",
        "colab": {
          "base_uri": "https://localhost:8080/",
          "height": 238
        }
      },
      "source": [
        "a = reviews.groupby(['country','province']).apply(lambda df:df.loc[df.points.idxmax()])\n",
        "print(a.head(4)) # show results of only 4)\n",
        "print(reviews.columns)\n",
        "print(type(reviews))"
      ],
      "execution_count": 58,
      "outputs": [
        {
          "output_type": "stream",
          "text": [
            "                            Unnamed: 0  ...                winery\n",
            "country   province                      ...                      \n",
            "Argentina Mendoza Province       82754  ...  Bodega Catena Zapata\n",
            "          Other                  78303  ...                Colomé\n",
            "Armenia   Armenia                66146  ...              Van Ardi\n",
            "Australia Australia Other        37882  ...       Marquis Philips\n",
            "\n",
            "[4 rows x 14 columns]\n",
            "Index(['Unnamed: 0', 'country', 'description', 'designation', 'points',\n",
            "       'price', 'province', 'region_1', 'region_2', 'taster_name',\n",
            "       'taster_twitter_handle', 'title', 'variety', 'winery'],\n",
            "      dtype='object')\n",
            "<class 'pandas.core.frame.DataFrame'>\n"
          ],
          "name": "stdout"
        }
      ]
    },
    {
      "cell_type": "markdown",
      "metadata": {
        "id": "5GOptXiFwmh1",
        "colab_type": "text"
      },
      "source": [
        "## **agg()**  - groupby() Method - Multiple functions calling on group\n",
        "Outputs dataframe and not series\n"
      ]
    },
    {
      "cell_type": "markdown",
      "metadata": {
        "id": "Nt79wpCCxQQ1",
        "colab_type": "text"
      },
      "source": [
        "agg() lets you run multiple different functions on your DataFrame simultaneously.\n",
        "\n",
        "For Exaxmple :- general simple statistical sumary of the dataset as follows"
      ]
    },
    {
      "cell_type": "code",
      "metadata": {
        "id": "UFDFyJvsxja-",
        "colab_type": "code",
        "outputId": "f3e9f88d-3af9-4856-a480-20c5f12064c2",
        "colab": {
          "base_uri": "https://localhost:8080/",
          "height": 328
        }
      },
      "source": [
        "## runs len, min and max functions on wines of different countries\n",
        "a = reviews.groupby('country').price.agg([len,min,max ])  \n",
        "a.head(8)  ## show only 3"
      ],
      "execution_count": 54,
      "outputs": [
        {
          "output_type": "execute_result",
          "data": {
            "text/html": [
              "<div>\n",
              "<style scoped>\n",
              "    .dataframe tbody tr th:only-of-type {\n",
              "        vertical-align: middle;\n",
              "    }\n",
              "\n",
              "    .dataframe tbody tr th {\n",
              "        vertical-align: top;\n",
              "    }\n",
              "\n",
              "    .dataframe thead th {\n",
              "        text-align: right;\n",
              "    }\n",
              "</style>\n",
              "<table border=\"1\" class=\"dataframe\">\n",
              "  <thead>\n",
              "    <tr style=\"text-align: right;\">\n",
              "      <th></th>\n",
              "      <th>len</th>\n",
              "      <th>min</th>\n",
              "      <th>max</th>\n",
              "    </tr>\n",
              "    <tr>\n",
              "      <th>country</th>\n",
              "      <th></th>\n",
              "      <th></th>\n",
              "      <th></th>\n",
              "    </tr>\n",
              "  </thead>\n",
              "  <tbody>\n",
              "    <tr>\n",
              "      <th>Argentina</th>\n",
              "      <td>3800.0</td>\n",
              "      <td>4.0</td>\n",
              "      <td>230.0</td>\n",
              "    </tr>\n",
              "    <tr>\n",
              "      <th>Armenia</th>\n",
              "      <td>2.0</td>\n",
              "      <td>14.0</td>\n",
              "      <td>15.0</td>\n",
              "    </tr>\n",
              "    <tr>\n",
              "      <th>Australia</th>\n",
              "      <td>2329.0</td>\n",
              "      <td>5.0</td>\n",
              "      <td>850.0</td>\n",
              "    </tr>\n",
              "    <tr>\n",
              "      <th>Austria</th>\n",
              "      <td>3345.0</td>\n",
              "      <td>7.0</td>\n",
              "      <td>1100.0</td>\n",
              "    </tr>\n",
              "    <tr>\n",
              "      <th>Bosnia and Herzegovina</th>\n",
              "      <td>2.0</td>\n",
              "      <td>12.0</td>\n",
              "      <td>13.0</td>\n",
              "    </tr>\n",
              "    <tr>\n",
              "      <th>Brazil</th>\n",
              "      <td>52.0</td>\n",
              "      <td>10.0</td>\n",
              "      <td>60.0</td>\n",
              "    </tr>\n",
              "    <tr>\n",
              "      <th>Bulgaria</th>\n",
              "      <td>141.0</td>\n",
              "      <td>8.0</td>\n",
              "      <td>100.0</td>\n",
              "    </tr>\n",
              "    <tr>\n",
              "      <th>Canada</th>\n",
              "      <td>257.0</td>\n",
              "      <td>12.0</td>\n",
              "      <td>120.0</td>\n",
              "    </tr>\n",
              "  </tbody>\n",
              "</table>\n",
              "</div>"
            ],
            "text/plain": [
              "                           len   min     max\n",
              "country                                     \n",
              "Argentina               3800.0   4.0   230.0\n",
              "Armenia                    2.0  14.0    15.0\n",
              "Australia               2329.0   5.0   850.0\n",
              "Austria                 3345.0   7.0  1100.0\n",
              "Bosnia and Herzegovina     2.0  12.0    13.0\n",
              "Brazil                    52.0  10.0    60.0\n",
              "Bulgaria                 141.0   8.0   100.0\n",
              "Canada                   257.0  12.0   120.0"
            ]
          },
          "metadata": {
            "tags": []
          },
          "execution_count": 54
        }
      ]
    },
    {
      "cell_type": "code",
      "metadata": {
        "id": "V9q9hJeXNItB",
        "colab_type": "code",
        "colab": {
          "base_uri": "https://localhost:8080/",
          "height": 779
        },
        "outputId": "a4e3c90f-180e-4000-c9c5-38827f212d53"
      },
      "source": [
        "a = reviews.groupby('country').agg([len,min,max ])  \n",
        "a.head(5)"
      ],
      "execution_count": 64,
      "outputs": [
        {
          "output_type": "execute_result",
          "data": {
            "text/html": [
              "<div>\n",
              "<style scoped>\n",
              "    .dataframe tbody tr th:only-of-type {\n",
              "        vertical-align: middle;\n",
              "    }\n",
              "\n",
              "    .dataframe tbody tr th {\n",
              "        vertical-align: top;\n",
              "    }\n",
              "\n",
              "    .dataframe thead tr th {\n",
              "        text-align: left;\n",
              "    }\n",
              "\n",
              "    .dataframe thead tr:last-of-type th {\n",
              "        text-align: right;\n",
              "    }\n",
              "</style>\n",
              "<table border=\"1\" class=\"dataframe\">\n",
              "  <thead>\n",
              "    <tr>\n",
              "      <th></th>\n",
              "      <th colspan=\"3\" halign=\"left\">Unnamed: 0</th>\n",
              "      <th colspan=\"3\" halign=\"left\">description</th>\n",
              "      <th colspan=\"3\" halign=\"left\">points</th>\n",
              "      <th colspan=\"3\" halign=\"left\">price</th>\n",
              "      <th colspan=\"3\" halign=\"left\">province</th>\n",
              "      <th colspan=\"3\" halign=\"left\">title</th>\n",
              "      <th colspan=\"3\" halign=\"left\">winery</th>\n",
              "    </tr>\n",
              "    <tr>\n",
              "      <th></th>\n",
              "      <th>len</th>\n",
              "      <th>min</th>\n",
              "      <th>max</th>\n",
              "      <th>len</th>\n",
              "      <th>min</th>\n",
              "      <th>max</th>\n",
              "      <th>len</th>\n",
              "      <th>min</th>\n",
              "      <th>max</th>\n",
              "      <th>len</th>\n",
              "      <th>min</th>\n",
              "      <th>max</th>\n",
              "      <th>len</th>\n",
              "      <th>min</th>\n",
              "      <th>max</th>\n",
              "      <th>len</th>\n",
              "      <th>min</th>\n",
              "      <th>max</th>\n",
              "      <th>len</th>\n",
              "      <th>min</th>\n",
              "      <th>max</th>\n",
              "    </tr>\n",
              "    <tr>\n",
              "      <th>country</th>\n",
              "      <th></th>\n",
              "      <th></th>\n",
              "      <th></th>\n",
              "      <th></th>\n",
              "      <th></th>\n",
              "      <th></th>\n",
              "      <th></th>\n",
              "      <th></th>\n",
              "      <th></th>\n",
              "      <th></th>\n",
              "      <th></th>\n",
              "      <th></th>\n",
              "      <th></th>\n",
              "      <th></th>\n",
              "      <th></th>\n",
              "      <th></th>\n",
              "      <th></th>\n",
              "      <th></th>\n",
              "      <th></th>\n",
              "      <th></th>\n",
              "      <th></th>\n",
              "    </tr>\n",
              "  </thead>\n",
              "  <tbody>\n",
              "    <tr>\n",
              "      <th>Argentina</th>\n",
              "      <td>3800</td>\n",
              "      <td>16</td>\n",
              "      <td>129948</td>\n",
              "      <td>3800</td>\n",
              "      <td>A baked, sweet, candied Malbec with a gritty, ...</td>\n",
              "      <td>“Cocina” means “the kitchen” in Spanish, and t...</td>\n",
              "      <td>3800</td>\n",
              "      <td>80</td>\n",
              "      <td>97</td>\n",
              "      <td>3800.0</td>\n",
              "      <td>4.0</td>\n",
              "      <td>230.0</td>\n",
              "      <td>3800</td>\n",
              "      <td>Mendoza Province</td>\n",
              "      <td>Other</td>\n",
              "      <td>3800</td>\n",
              "      <td>2 Copas 2009 Red (Mendoza)</td>\n",
              "      <td>Öko 2013 Made With Organically Grown Grapes Ma...</td>\n",
              "      <td>3800</td>\n",
              "      <td>2 Copas</td>\n",
              "      <td>Öko</td>\n",
              "    </tr>\n",
              "    <tr>\n",
              "      <th>Armenia</th>\n",
              "      <td>2</td>\n",
              "      <td>8170</td>\n",
              "      <td>66146</td>\n",
              "      <td>2</td>\n",
              "      <td>Deep salmon in color, this wine offers a bouqu...</td>\n",
              "      <td>Medium straw in the glass, this wine has a nos...</td>\n",
              "      <td>2</td>\n",
              "      <td>87</td>\n",
              "      <td>88</td>\n",
              "      <td>2.0</td>\n",
              "      <td>14.0</td>\n",
              "      <td>15.0</td>\n",
              "      <td>2</td>\n",
              "      <td>Armenia</td>\n",
              "      <td>Armenia</td>\n",
              "      <td>2</td>\n",
              "      <td>Van Ardi 2015 Estate Bottled Kangoun (Armenia)</td>\n",
              "      <td>Van Ardi 2015 Estate Bottled Rosé (Armenia)</td>\n",
              "      <td>2</td>\n",
              "      <td>Van Ardi</td>\n",
              "      <td>Van Ardi</td>\n",
              "    </tr>\n",
              "    <tr>\n",
              "      <th>Australia</th>\n",
              "      <td>2329</td>\n",
              "      <td>77</td>\n",
              "      <td>129726</td>\n",
              "      <td>2329</td>\n",
              "      <td>A 60-40 blend, this full-bodied, creamy textur...</td>\n",
              "      <td>this is a lovely effort and a great value from...</td>\n",
              "      <td>2329</td>\n",
              "      <td>80</td>\n",
              "      <td>100</td>\n",
              "      <td>2329.0</td>\n",
              "      <td>5.0</td>\n",
              "      <td>850.0</td>\n",
              "      <td>2329</td>\n",
              "      <td>Australia Other</td>\n",
              "      <td>Western Australia</td>\n",
              "      <td>2329</td>\n",
              "      <td>19 Crimes 2013 Red (South Eastern Australia)</td>\n",
              "      <td>Zonte's Footstep 2010 The Love Symbol Single S...</td>\n",
              "      <td>2329</td>\n",
              "      <td>19 Crimes</td>\n",
              "      <td>Zonte's Footstep</td>\n",
              "    </tr>\n",
              "    <tr>\n",
              "      <th>Austria</th>\n",
              "      <td>3345</td>\n",
              "      <td>93</td>\n",
              "      <td>129939</td>\n",
              "      <td>3345</td>\n",
              "      <td>\"Chremisa,\" the ancient name of Krems, is comm...</td>\n",
              "      <td>“Open, pour, drink” is the message behind Trie...</td>\n",
              "      <td>3345</td>\n",
              "      <td>82</td>\n",
              "      <td>98</td>\n",
              "      <td>3345.0</td>\n",
              "      <td>7.0</td>\n",
              "      <td>1100.0</td>\n",
              "      <td>3345</td>\n",
              "      <td>Austria</td>\n",
              "      <td>Österreichischer Sekt</td>\n",
              "      <td>3345</td>\n",
              "      <td>Aigner 2012 Privat Reserve Grüner Veltliner (K...</td>\n",
              "      <td>una.wine 2016 Rosé (Burgenland)</td>\n",
              "      <td>3345</td>\n",
              "      <td>Aigner</td>\n",
              "      <td>una.wine</td>\n",
              "    </tr>\n",
              "    <tr>\n",
              "      <th>Bosnia and Herzegovina</th>\n",
              "      <td>2</td>\n",
              "      <td>16467</td>\n",
              "      <td>96759</td>\n",
              "      <td>2</td>\n",
              "      <td>A mix of red and black fruits pervade on the n...</td>\n",
              "      <td>Toasted oak and cedar notes meld into lush, ri...</td>\n",
              "      <td>2</td>\n",
              "      <td>85</td>\n",
              "      <td>88</td>\n",
              "      <td>2.0</td>\n",
              "      <td>12.0</td>\n",
              "      <td>13.0</td>\n",
              "      <td>2</td>\n",
              "      <td>Mostar</td>\n",
              "      <td>Mostar</td>\n",
              "      <td>2</td>\n",
              "      <td>Winery Čitluk 2007 Vranac Vranec (Mostar)</td>\n",
              "      <td>Winery Čitluk 2011 Blatina (Mostar)</td>\n",
              "      <td>2</td>\n",
              "      <td>Winery Čitluk</td>\n",
              "      <td>Winery Čitluk</td>\n",
              "    </tr>\n",
              "  </tbody>\n",
              "</table>\n",
              "</div>"
            ],
            "text/plain": [
              "                       Unnamed: 0         ...         winery                  \n",
              "                              len    min  ...            min               max\n",
              "country                                   ...                                 \n",
              "Argentina                    3800     16  ...        2 Copas               Öko\n",
              "Armenia                         2   8170  ...       Van Ardi          Van Ardi\n",
              "Australia                    2329     77  ...      19 Crimes  Zonte's Footstep\n",
              "Austria                      3345     93  ...         Aigner          una.wine\n",
              "Bosnia and Herzegovina          2  16467  ...  Winery Čitluk     Winery Čitluk\n",
              "\n",
              "[5 rows x 21 columns]"
            ]
          },
          "metadata": {
            "tags": []
          },
          "execution_count": 64
        }
      ]
    },
    {
      "cell_type": "markdown",
      "metadata": {
        "id": "J2a89rSTxqPg",
        "colab_type": "text"
      },
      "source": [
        "# **Multi- indexes**"
      ]
    },
    {
      "cell_type": "markdown",
      "metadata": {
        "id": "jT7EWAqmyY2o",
        "colab_type": "text"
      },
      "source": [
        "groupby() is slightly different in the  fact that depending on the operation we run, it will sometimes result in what is called a Multi-index\n",
        "\n",
        "a multi-index differs from a regular index in that it has multiple levels"
      ]
    },
    {
      "cell_type": "code",
      "metadata": {
        "id": "8p2PAay0yrT1",
        "colab_type": "code",
        "outputId": "f550e193-fac2-41ef-eb3f-9f6cd16fa2cc",
        "colab": {
          "base_uri": "https://localhost:8080/",
          "height": 390
        }
      },
      "source": [
        "countries_reviewed = reviews.groupby(['country','province']).description.agg([len])\n",
        "countries_reviewed.head(10)"
      ],
      "execution_count": 0,
      "outputs": [
        {
          "output_type": "execute_result",
          "data": {
            "text/html": [
              "<div>\n",
              "<style scoped>\n",
              "    .dataframe tbody tr th:only-of-type {\n",
              "        vertical-align: middle;\n",
              "    }\n",
              "\n",
              "    .dataframe tbody tr th {\n",
              "        vertical-align: top;\n",
              "    }\n",
              "\n",
              "    .dataframe thead th {\n",
              "        text-align: right;\n",
              "    }\n",
              "</style>\n",
              "<table border=\"1\" class=\"dataframe\">\n",
              "  <thead>\n",
              "    <tr style=\"text-align: right;\">\n",
              "      <th></th>\n",
              "      <th></th>\n",
              "      <th>len</th>\n",
              "    </tr>\n",
              "    <tr>\n",
              "      <th>country</th>\n",
              "      <th>province</th>\n",
              "      <th></th>\n",
              "    </tr>\n",
              "  </thead>\n",
              "  <tbody>\n",
              "    <tr>\n",
              "      <th rowspan=\"2\" valign=\"top\">Argentina</th>\n",
              "      <th>Mendoza Province</th>\n",
              "      <td>3264</td>\n",
              "    </tr>\n",
              "    <tr>\n",
              "      <th>Other</th>\n",
              "      <td>536</td>\n",
              "    </tr>\n",
              "    <tr>\n",
              "      <th>Armenia</th>\n",
              "      <th>Armenia</th>\n",
              "      <td>2</td>\n",
              "    </tr>\n",
              "    <tr>\n",
              "      <th rowspan=\"6\" valign=\"top\">Australia</th>\n",
              "      <th>Australia Other</th>\n",
              "      <td>245</td>\n",
              "    </tr>\n",
              "    <tr>\n",
              "      <th>New South Wales</th>\n",
              "      <td>85</td>\n",
              "    </tr>\n",
              "    <tr>\n",
              "      <th>South Australia</th>\n",
              "      <td>1349</td>\n",
              "    </tr>\n",
              "    <tr>\n",
              "      <th>Tasmania</th>\n",
              "      <td>42</td>\n",
              "    </tr>\n",
              "    <tr>\n",
              "      <th>Victoria</th>\n",
              "      <td>322</td>\n",
              "    </tr>\n",
              "    <tr>\n",
              "      <th>Western Australia</th>\n",
              "      <td>286</td>\n",
              "    </tr>\n",
              "    <tr>\n",
              "      <th>Austria</th>\n",
              "      <th>Austria</th>\n",
              "      <td>26</td>\n",
              "    </tr>\n",
              "  </tbody>\n",
              "</table>\n",
              "</div>"
            ],
            "text/plain": [
              "                              len\n",
              "country   province               \n",
              "Argentina Mendoza Province   3264\n",
              "          Other               536\n",
              "Armenia   Armenia               2\n",
              "Australia Australia Other     245\n",
              "          New South Wales      85\n",
              "          South Australia    1349\n",
              "          Tasmania             42\n",
              "          Victoria            322\n",
              "          Western Australia   286\n",
              "Austria   Austria              26"
            ]
          },
          "metadata": {
            "tags": []
          },
          "execution_count": 29
        }
      ]
    },
    {
      "cell_type": "code",
      "metadata": {
        "id": "QzrqHfi6yzE0",
        "colab_type": "code",
        "outputId": "17b11812-d704-4076-d0a0-eed8950eefb5",
        "colab": {
          "base_uri": "https://localhost:8080/",
          "height": 34
        }
      },
      "source": [
        "type(countries_reviewed.index) # pandas.core.indexes.multi.MultiIndex"
      ],
      "execution_count": 0,
      "outputs": [
        {
          "output_type": "execute_result",
          "data": {
            "text/plain": [
              "pandas.core.indexes.multi.MultiIndex"
            ]
          },
          "metadata": {
            "tags": []
          },
          "execution_count": 30
        }
      ]
    },
    {
      "cell_type": "code",
      "metadata": {
        "id": "O2RnbLVUNHWU",
        "colab_type": "code",
        "outputId": "c1ab994c-b2d7-40a4-f4f5-e819df24d9f9",
        "colab": {
          "base_uri": "https://localhost:8080/",
          "height": 391
        }
      },
      "source": [
        "countries_reviewed.index"
      ],
      "execution_count": 0,
      "outputs": [
        {
          "output_type": "execute_result",
          "data": {
            "text/plain": [
              "MultiIndex([('Argentina',  'Mendoza Province'),\n",
              "            ('Argentina',             'Other'),\n",
              "            (  'Armenia',           'Armenia'),\n",
              "            ('Australia',   'Australia Other'),\n",
              "            ('Australia',   'New South Wales'),\n",
              "            ('Australia',   'South Australia'),\n",
              "            ('Australia',          'Tasmania'),\n",
              "            ('Australia',          'Victoria'),\n",
              "            ('Australia', 'Western Australia'),\n",
              "            (  'Austria',           'Austria'),\n",
              "            ...\n",
              "            (       'US',        'Washington'),\n",
              "            (       'US', 'Washington-Oregon'),\n",
              "            (  'Ukraine',           'Ukraine'),\n",
              "            (  'Uruguay',         'Atlantida'),\n",
              "            (  'Uruguay',         'Canelones'),\n",
              "            (  'Uruguay',           'Juanico'),\n",
              "            (  'Uruguay',        'Montevideo'),\n",
              "            (  'Uruguay',          'Progreso'),\n",
              "            (  'Uruguay',          'San Jose'),\n",
              "            (  'Uruguay',           'Uruguay')],\n",
              "           names=['country', 'province'], length=425)"
            ]
          },
          "metadata": {
            "tags": []
          },
          "execution_count": 41
        }
      ]
    },
    {
      "cell_type": "code",
      "metadata": {
        "id": "3Q7QCj1hN15Q",
        "colab_type": "code",
        "outputId": "f46d1a7e-27b8-4eed-b99f-8bcedfb5b1b9",
        "colab": {
          "base_uri": "https://localhost:8080/",
          "height": 51
        }
      },
      "source": [
        "countries_reviewed.loc['Argentina',  'Mendoza Province'] ## call using loc and this index"
      ],
      "execution_count": 0,
      "outputs": [
        {
          "output_type": "execute_result",
          "data": {
            "text/plain": [
              "len    3264\n",
              "Name: (Argentina, Mendoza Province), dtype: int64"
            ]
          },
          "metadata": {
            "tags": []
          },
          "execution_count": 40
        }
      ]
    },
    {
      "cell_type": "markdown",
      "metadata": {
        "id": "zMiD4X0izMAZ",
        "colab_type": "text"
      },
      "source": [
        "Multi-indices have several methods for dealing with their tiered structure which are absent for single-level indices\n",
        "\n",
        "They require 2 levels of labels to retrieve a value.\n",
        "\n",
        "The use cases for a multi index are detailed alongside instructions on using them in below link"
      ]
    },
    {
      "cell_type": "markdown",
      "metadata": {
        "id": "CH5L3IrVL8LT",
        "colab_type": "text"
      },
      "source": [
        "https://pandas.pydata.org/pandas-docs/stable/user_guide/advanced.html"
      ]
    },
    {
      "cell_type": "code",
      "metadata": {
        "id": "RlcxBRuJMLGb",
        "colab_type": "code",
        "colab": {}
      },
      "source": [
        "countries_reviewed.reset_index()   ## index resets to numbers from 0 to 424"
      ],
      "execution_count": 0,
      "outputs": []
    },
    {
      "cell_type": "markdown",
      "metadata": {
        "id": "rOuR6X54NBfY",
        "colab_type": "text"
      },
      "source": [
        "# **Sorting**"
      ]
    },
    {
      "cell_type": "markdown",
      "metadata": {
        "id": "GoklfVbNPDkH",
        "colab_type": "text"
      },
      "source": [
        "Grouping by groupby() , gives results in index order not value order i.e order of the rows is dependent on the index values and not the data"
      ]
    },
    {
      "cell_type": "code",
      "metadata": {
        "id": "BN1myVrXOEHY",
        "colab_type": "code",
        "outputId": "c3dffc04-0efa-4e82-836e-389b9ca89698",
        "colab": {
          "base_uri": "https://localhost:8080/",
          "height": 119
        }
      },
      "source": [
        "# countries_reviewed = reviews.groupby(['country','province']).price.max()     ## costliest wines in every country\n",
        "\n",
        "countries_reviewed = reviews.groupby(['country','province']).apply(lambda df: df.price.max())  # same as above\n",
        "countries_reviewed.name = 'max_price'\n",
        "print(type(countries_reviewed)) # series\n",
        "countries_reviewed.head(3)"
      ],
      "execution_count": 74,
      "outputs": [
        {
          "output_type": "stream",
          "text": [
            "<class 'pandas.core.series.Series'>\n"
          ],
          "name": "stdout"
        },
        {
          "output_type": "execute_result",
          "data": {
            "text/plain": [
              "country    province        \n",
              "Argentina  Mendoza Province    230.0\n",
              "           Other               150.0\n",
              "Armenia    Armenia              15.0\n",
              "Name: max_price, dtype: float64"
            ]
          },
          "metadata": {
            "tags": []
          },
          "execution_count": 74
        }
      ]
    },
    {
      "cell_type": "code",
      "metadata": {
        "id": "iUcLcapBg0AS",
        "colab_type": "code",
        "colab": {
          "base_uri": "https://localhost:8080/",
          "height": 190
        },
        "outputId": "d6a16324-f4fd-41b1-a386-9a0c5520a89c"
      },
      "source": [
        "countries_reviewed1 = reviews.groupby(['country','province']).price.agg([len,max,min])\n",
        "print(type(countries_reviewed1))   # data frame\n",
        "countries_reviewed1.head(3)"
      ],
      "execution_count": 82,
      "outputs": [
        {
          "output_type": "stream",
          "text": [
            "<class 'pandas.core.frame.DataFrame'>\n"
          ],
          "name": "stdout"
        },
        {
          "output_type": "execute_result",
          "data": {
            "text/html": [
              "<div>\n",
              "<style scoped>\n",
              "    .dataframe tbody tr th:only-of-type {\n",
              "        vertical-align: middle;\n",
              "    }\n",
              "\n",
              "    .dataframe tbody tr th {\n",
              "        vertical-align: top;\n",
              "    }\n",
              "\n",
              "    .dataframe thead th {\n",
              "        text-align: right;\n",
              "    }\n",
              "</style>\n",
              "<table border=\"1\" class=\"dataframe\">\n",
              "  <thead>\n",
              "    <tr style=\"text-align: right;\">\n",
              "      <th></th>\n",
              "      <th></th>\n",
              "      <th>len</th>\n",
              "      <th>max</th>\n",
              "      <th>min</th>\n",
              "    </tr>\n",
              "    <tr>\n",
              "      <th>country</th>\n",
              "      <th>province</th>\n",
              "      <th></th>\n",
              "      <th></th>\n",
              "      <th></th>\n",
              "    </tr>\n",
              "  </thead>\n",
              "  <tbody>\n",
              "    <tr>\n",
              "      <th rowspan=\"2\" valign=\"top\">Argentina</th>\n",
              "      <th>Mendoza Province</th>\n",
              "      <td>3264.0</td>\n",
              "      <td>230.0</td>\n",
              "      <td>4.0</td>\n",
              "    </tr>\n",
              "    <tr>\n",
              "      <th>Other</th>\n",
              "      <td>536.0</td>\n",
              "      <td>150.0</td>\n",
              "      <td>7.0</td>\n",
              "    </tr>\n",
              "    <tr>\n",
              "      <th>Armenia</th>\n",
              "      <th>Armenia</th>\n",
              "      <td>2.0</td>\n",
              "      <td>15.0</td>\n",
              "      <td>14.0</td>\n",
              "    </tr>\n",
              "  </tbody>\n",
              "</table>\n",
              "</div>"
            ],
            "text/plain": [
              "                               len    max   min\n",
              "country   province                             \n",
              "Argentina Mendoza Province  3264.0  230.0   4.0\n",
              "          Other              536.0  150.0   7.0\n",
              "Armenia   Armenia              2.0   15.0  14.0"
            ]
          },
          "metadata": {
            "tags": []
          },
          "execution_count": 82
        }
      ]
    },
    {
      "cell_type": "code",
      "metadata": {
        "id": "jE8LFmuEOPen",
        "colab_type": "code",
        "outputId": "a41142e0-1f5a-4ecf-c0e5-634e75b6a593",
        "colab": {
          "base_uri": "https://localhost:8080/",
          "height": 136
        }
      },
      "source": [
        "countries_reviewed.sort_values().head(5) ## sort the results by lowest price and display only 5 results"
      ],
      "execution_count": 75,
      "outputs": [
        {
          "output_type": "execute_result",
          "data": {
            "text/plain": [
              "country   province      \n",
              "Moldova   Cahul             8.0\n",
              "Romania   Viile Timis       8.0\n",
              "Portugal  Table wine        8.0\n",
              "Romania   Tarnave           8.0\n",
              "Greece    Central Greece    8.0\n",
              "Name: max_price, dtype: float64"
            ]
          },
          "metadata": {
            "tags": []
          },
          "execution_count": 75
        }
      ]
    },
    {
      "cell_type": "code",
      "metadata": {
        "id": "9chHJS0PHmCh",
        "colab_type": "code",
        "outputId": "7bfbbd09-610c-411a-af17-f61aa1808c25",
        "colab": {
          "base_uri": "https://localhost:8080/",
          "height": 136
        }
      },
      "source": [
        "countries_reviewed.sort_values(ascending=False).head(5) ## sort the results by highest price and top 5 results only \n"
      ],
      "execution_count": 76,
      "outputs": [
        {
          "output_type": "execute_result",
          "data": {
            "text/plain": [
              "country   province  \n",
              "France    Bordeaux      3300.0\n",
              "          Burgundy      2500.0\n",
              "US        California    2013.0\n",
              "Austria   Wachau        1100.0\n",
              "Portugal  Port          1000.0\n",
              "Name: max_price, dtype: float64"
            ]
          },
          "metadata": {
            "tags": []
          },
          "execution_count": 76
        }
      ]
    },
    {
      "cell_type": "markdown",
      "metadata": {
        "id": "baIsrvFsfoaV",
        "colab_type": "text"
      },
      "source": [
        "## **sort_index()** Sorting by Index"
      ]
    },
    {
      "cell_type": "code",
      "metadata": {
        "id": "zomPoyxgPehP",
        "colab_type": "code",
        "outputId": "e686880b-532f-429c-cc73-31612468b300",
        "colab": {
          "base_uri": "https://localhost:8080/",
          "height": 238
        }
      },
      "source": [
        "countries_reviewed.sort_index()"
      ],
      "execution_count": 77,
      "outputs": [
        {
          "output_type": "execute_result",
          "data": {
            "text/plain": [
              "country    province        \n",
              "Argentina  Mendoza Province    230.0\n",
              "           Other               150.0\n",
              "Armenia    Armenia              15.0\n",
              "Australia  Australia Other     130.0\n",
              "           New South Wales     125.0\n",
              "                               ...  \n",
              "Uruguay    Juanico             130.0\n",
              "           Montevideo           60.0\n",
              "           Progreso             46.0\n",
              "           San Jose             50.0\n",
              "           Uruguay              50.0\n",
              "Name: max_price, Length: 425, dtype: float64"
            ]
          },
          "metadata": {
            "tags": []
          },
          "execution_count": 77
        }
      ]
    },
    {
      "cell_type": "markdown",
      "metadata": {
        "id": "FHs62nNtPnzC",
        "colab_type": "text"
      },
      "source": [
        "## Sort by more than 1 column at a time"
      ]
    },
    {
      "cell_type": "code",
      "metadata": {
        "id": "-oKYKEUWPu0a",
        "colab_type": "code",
        "outputId": "bbfb4004-a561-42df-c56a-9028ad180ee4",
        "colab": {
          "base_uri": "https://localhost:8080/",
          "height": 289
        }
      },
      "source": [
        "countries_reviewed1.sort_index(by= ['country','province']).head(5)"
      ],
      "execution_count": 84,
      "outputs": [
        {
          "output_type": "stream",
          "text": [
            "/usr/local/lib/python3.6/dist-packages/ipykernel_launcher.py:1: FutureWarning: by argument to sort_index is deprecated, please use .sort_values(by=...)\n",
            "  \"\"\"Entry point for launching an IPython kernel.\n"
          ],
          "name": "stderr"
        },
        {
          "output_type": "execute_result",
          "data": {
            "text/html": [
              "<div>\n",
              "<style scoped>\n",
              "    .dataframe tbody tr th:only-of-type {\n",
              "        vertical-align: middle;\n",
              "    }\n",
              "\n",
              "    .dataframe tbody tr th {\n",
              "        vertical-align: top;\n",
              "    }\n",
              "\n",
              "    .dataframe thead th {\n",
              "        text-align: right;\n",
              "    }\n",
              "</style>\n",
              "<table border=\"1\" class=\"dataframe\">\n",
              "  <thead>\n",
              "    <tr style=\"text-align: right;\">\n",
              "      <th></th>\n",
              "      <th></th>\n",
              "      <th>len</th>\n",
              "      <th>max</th>\n",
              "      <th>min</th>\n",
              "    </tr>\n",
              "    <tr>\n",
              "      <th>country</th>\n",
              "      <th>province</th>\n",
              "      <th></th>\n",
              "      <th></th>\n",
              "      <th></th>\n",
              "    </tr>\n",
              "  </thead>\n",
              "  <tbody>\n",
              "    <tr>\n",
              "      <th rowspan=\"2\" valign=\"top\">Argentina</th>\n",
              "      <th>Mendoza Province</th>\n",
              "      <td>3264.0</td>\n",
              "      <td>230.0</td>\n",
              "      <td>4.0</td>\n",
              "    </tr>\n",
              "    <tr>\n",
              "      <th>Other</th>\n",
              "      <td>536.0</td>\n",
              "      <td>150.0</td>\n",
              "      <td>7.0</td>\n",
              "    </tr>\n",
              "    <tr>\n",
              "      <th>Armenia</th>\n",
              "      <th>Armenia</th>\n",
              "      <td>2.0</td>\n",
              "      <td>15.0</td>\n",
              "      <td>14.0</td>\n",
              "    </tr>\n",
              "    <tr>\n",
              "      <th rowspan=\"2\" valign=\"top\">Australia</th>\n",
              "      <th>Australia Other</th>\n",
              "      <td>245.0</td>\n",
              "      <td>130.0</td>\n",
              "      <td>5.0</td>\n",
              "    </tr>\n",
              "    <tr>\n",
              "      <th>New South Wales</th>\n",
              "      <td>85.0</td>\n",
              "      <td>125.0</td>\n",
              "      <td>8.0</td>\n",
              "    </tr>\n",
              "  </tbody>\n",
              "</table>\n",
              "</div>"
            ],
            "text/plain": [
              "                               len    max   min\n",
              "country   province                             \n",
              "Argentina Mendoza Province  3264.0  230.0   4.0\n",
              "          Other              536.0  150.0   7.0\n",
              "Armenia   Armenia              2.0   15.0  14.0\n",
              "Australia Australia Other    245.0  130.0   5.0\n",
              "          New South Wales     85.0  125.0   8.0"
            ]
          },
          "metadata": {
            "tags": []
          },
          "execution_count": 84
        }
      ]
    },
    {
      "cell_type": "markdown",
      "metadata": {
        "id": "pEyxLny8PzQ9",
        "colab_type": "text"
      },
      "source": [
        "# **Exercise for Practice**"
      ]
    },
    {
      "cell_type": "code",
      "metadata": {
        "id": "15e6JFsVP7GR",
        "colab_type": "code",
        "outputId": "72cbd892-a1e0-4dc3-8a36-5f813ebf17fe",
        "colab": {
          "base_uri": "https://localhost:8080/",
          "height": 318
        }
      },
      "source": [
        "reviews.head(2)"
      ],
      "execution_count": 87,
      "outputs": [
        {
          "output_type": "execute_result",
          "data": {
            "text/html": [
              "<div>\n",
              "<style scoped>\n",
              "    .dataframe tbody tr th:only-of-type {\n",
              "        vertical-align: middle;\n",
              "    }\n",
              "\n",
              "    .dataframe tbody tr th {\n",
              "        vertical-align: top;\n",
              "    }\n",
              "\n",
              "    .dataframe thead th {\n",
              "        text-align: right;\n",
              "    }\n",
              "</style>\n",
              "<table border=\"1\" class=\"dataframe\">\n",
              "  <thead>\n",
              "    <tr style=\"text-align: right;\">\n",
              "      <th></th>\n",
              "      <th>Unnamed: 0</th>\n",
              "      <th>country</th>\n",
              "      <th>description</th>\n",
              "      <th>designation</th>\n",
              "      <th>points</th>\n",
              "      <th>price</th>\n",
              "      <th>province</th>\n",
              "      <th>region_1</th>\n",
              "      <th>region_2</th>\n",
              "      <th>taster_name</th>\n",
              "      <th>taster_twitter_handle</th>\n",
              "      <th>title</th>\n",
              "      <th>variety</th>\n",
              "      <th>winery</th>\n",
              "    </tr>\n",
              "  </thead>\n",
              "  <tbody>\n",
              "    <tr>\n",
              "      <th>0</th>\n",
              "      <td>0</td>\n",
              "      <td>Italy</td>\n",
              "      <td>Aromas include tropical fruit, broom, brimston...</td>\n",
              "      <td>Vulkà Bianco</td>\n",
              "      <td>87</td>\n",
              "      <td>NaN</td>\n",
              "      <td>Sicily &amp; Sardinia</td>\n",
              "      <td>Etna</td>\n",
              "      <td>NaN</td>\n",
              "      <td>Kerin O’Keefe</td>\n",
              "      <td>@kerinokeefe</td>\n",
              "      <td>Nicosia 2013 Vulkà Bianco  (Etna)</td>\n",
              "      <td>White Blend</td>\n",
              "      <td>Nicosia</td>\n",
              "    </tr>\n",
              "    <tr>\n",
              "      <th>1</th>\n",
              "      <td>1</td>\n",
              "      <td>Portugal</td>\n",
              "      <td>This is ripe and fruity, a wine that is smooth...</td>\n",
              "      <td>Avidagos</td>\n",
              "      <td>87</td>\n",
              "      <td>15.0</td>\n",
              "      <td>Douro</td>\n",
              "      <td>NaN</td>\n",
              "      <td>NaN</td>\n",
              "      <td>Roger Voss</td>\n",
              "      <td>@vossroger</td>\n",
              "      <td>Quinta dos Avidagos 2011 Avidagos Red (Douro)</td>\n",
              "      <td>Portuguese Red</td>\n",
              "      <td>Quinta dos Avidagos</td>\n",
              "    </tr>\n",
              "  </tbody>\n",
              "</table>\n",
              "</div>"
            ],
            "text/plain": [
              "   Unnamed: 0   country  ...         variety               winery\n",
              "0           0     Italy  ...     White Blend              Nicosia\n",
              "1           1  Portugal  ...  Portuguese Red  Quinta dos Avidagos\n",
              "\n",
              "[2 rows x 14 columns]"
            ]
          },
          "metadata": {
            "tags": []
          },
          "execution_count": 87
        }
      ]
    },
    {
      "cell_type": "markdown",
      "metadata": {
        "id": "Fu4unCB2SE7k",
        "colab_type": "text"
      },
      "source": [
        "## 1.\n",
        "Who are the most common wine reviewers in the dataset? Create a `Series` whose index is the `taster_twitter_handle` category from the dataset, and whose values count how many reviews each person wrote."
      ]
    },
    {
      "cell_type": "code",
      "metadata": {
        "id": "yVJsAj51QJnX",
        "colab_type": "code",
        "outputId": "b7bc04a9-ca2d-44a4-95ab-995ff21777a6",
        "colab": {
          "base_uri": "https://localhost:8080/",
          "height": 306
        }
      },
      "source": [
        "reviews.groupby('taster_twitter_handle').taster_twitter_handle.count().sort_values(ascending=False)\n",
        "# reviews.groupby('taster_twitter_handle').size()     ## other way of doing above"
      ],
      "execution_count": 90,
      "outputs": [
        {
          "output_type": "execute_result",
          "data": {
            "text/plain": [
              "taster_twitter_handle\n",
              "@vossroger          25514\n",
              "@wineschach         15134\n",
              "@kerinokeefe        10776\n",
              "@vboone              9537\n",
              "@paulgwine           9532\n",
              "@mattkettmann        6332\n",
              "@JoeCz               5147\n",
              "@wawinereport        4966\n",
              "@gordone_cellars     4177\n",
              "@AnneInVino          3685\n",
              "@laurbuzz            1835\n",
              "@suskostrzewa        1085\n",
              "@worldwineguys       1005\n",
              "@bkfiona               27\n",
              "@winewchristina         6\n",
              "Name: taster_twitter_handle, dtype: int64"
            ]
          },
          "metadata": {
            "tags": []
          },
          "execution_count": 90
        }
      ]
    },
    {
      "cell_type": "markdown",
      "metadata": {
        "id": "f1PjO5V3px4s",
        "colab_type": "text"
      },
      "source": [
        "#2.\n",
        "What is the best wine I can buy for a given amount of money? Create a Series whose index is wine prices and whose values is the maximum number of points a wine costing that much was given in a review. Sort the values by price, ascending (so that 4.0 dollars is at the top and 3300.0 dollars is at the bottom)."
      ]
    },
    {
      "cell_type": "code",
      "metadata": {
        "id": "mmIx95Kspzih",
        "colab_type": "code",
        "colab": {
          "base_uri": "https://localhost:8080/",
          "height": 238
        },
        "outputId": "d4029142-66a2-44fa-c5d0-0ef6917b0120"
      },
      "source": [
        "reviews.groupby(['price']).points.max()"
      ],
      "execution_count": 91,
      "outputs": [
        {
          "output_type": "execute_result",
          "data": {
            "text/plain": [
              "price\n",
              "4.0       86\n",
              "5.0       87\n",
              "6.0       88\n",
              "7.0       91\n",
              "8.0       91\n",
              "          ..\n",
              "1900.0    98\n",
              "2000.0    97\n",
              "2013.0    91\n",
              "2500.0    96\n",
              "3300.0    88\n",
              "Name: points, Length: 390, dtype: int64"
            ]
          },
          "metadata": {
            "tags": []
          },
          "execution_count": 91
        }
      ]
    },
    {
      "cell_type": "code",
      "metadata": {
        "id": "fbS9ZITQqQdt",
        "colab_type": "code",
        "colab": {}
      },
      "source": [
        ""
      ],
      "execution_count": 0,
      "outputs": []
    },
    {
      "cell_type": "markdown",
      "metadata": {
        "id": "R7KV10Imqi9e",
        "colab_type": "text"
      },
      "source": [
        "#3.\n",
        "What are the minimum and maximum prices for each variety of wine? Create a DataFrame whose index is the variety category from the dataset and whose values are the min and max values thereof"
      ]
    },
    {
      "cell_type": "code",
      "metadata": {
        "id": "gKoAXzeHqjwZ",
        "colab_type": "code",
        "colab": {
          "base_uri": "https://localhost:8080/",
          "height": 450
        },
        "outputId": "70e31e09-6def-4346-a653-61822d58f22e"
      },
      "source": [
        "price_extremes = reviews.groupby('variety').price.agg([min,max])\n",
        "price_extremes"
      ],
      "execution_count": 93,
      "outputs": [
        {
          "output_type": "execute_result",
          "data": {
            "text/html": [
              "<div>\n",
              "<style scoped>\n",
              "    .dataframe tbody tr th:only-of-type {\n",
              "        vertical-align: middle;\n",
              "    }\n",
              "\n",
              "    .dataframe tbody tr th {\n",
              "        vertical-align: top;\n",
              "    }\n",
              "\n",
              "    .dataframe thead th {\n",
              "        text-align: right;\n",
              "    }\n",
              "</style>\n",
              "<table border=\"1\" class=\"dataframe\">\n",
              "  <thead>\n",
              "    <tr style=\"text-align: right;\">\n",
              "      <th></th>\n",
              "      <th>min</th>\n",
              "      <th>max</th>\n",
              "    </tr>\n",
              "    <tr>\n",
              "      <th>variety</th>\n",
              "      <th></th>\n",
              "      <th></th>\n",
              "    </tr>\n",
              "  </thead>\n",
              "  <tbody>\n",
              "    <tr>\n",
              "      <th>Abouriou</th>\n",
              "      <td>15.0</td>\n",
              "      <td>75.0</td>\n",
              "    </tr>\n",
              "    <tr>\n",
              "      <th>Agiorgitiko</th>\n",
              "      <td>10.0</td>\n",
              "      <td>66.0</td>\n",
              "    </tr>\n",
              "    <tr>\n",
              "      <th>Aglianico</th>\n",
              "      <td>6.0</td>\n",
              "      <td>180.0</td>\n",
              "    </tr>\n",
              "    <tr>\n",
              "      <th>Aidani</th>\n",
              "      <td>27.0</td>\n",
              "      <td>27.0</td>\n",
              "    </tr>\n",
              "    <tr>\n",
              "      <th>Airen</th>\n",
              "      <td>8.0</td>\n",
              "      <td>10.0</td>\n",
              "    </tr>\n",
              "    <tr>\n",
              "      <th>...</th>\n",
              "      <td>...</td>\n",
              "      <td>...</td>\n",
              "    </tr>\n",
              "    <tr>\n",
              "      <th>Zinfandel</th>\n",
              "      <td>5.0</td>\n",
              "      <td>100.0</td>\n",
              "    </tr>\n",
              "    <tr>\n",
              "      <th>Zlahtina</th>\n",
              "      <td>13.0</td>\n",
              "      <td>16.0</td>\n",
              "    </tr>\n",
              "    <tr>\n",
              "      <th>Zweigelt</th>\n",
              "      <td>9.0</td>\n",
              "      <td>70.0</td>\n",
              "    </tr>\n",
              "    <tr>\n",
              "      <th>Çalkarası</th>\n",
              "      <td>19.0</td>\n",
              "      <td>19.0</td>\n",
              "    </tr>\n",
              "    <tr>\n",
              "      <th>Žilavka</th>\n",
              "      <td>15.0</td>\n",
              "      <td>15.0</td>\n",
              "    </tr>\n",
              "  </tbody>\n",
              "</table>\n",
              "<p>707 rows × 2 columns</p>\n",
              "</div>"
            ],
            "text/plain": [
              "              min    max\n",
              "variety                 \n",
              "Abouriou     15.0   75.0\n",
              "Agiorgitiko  10.0   66.0\n",
              "Aglianico     6.0  180.0\n",
              "Aidani       27.0   27.0\n",
              "Airen         8.0   10.0\n",
              "...           ...    ...\n",
              "Zinfandel     5.0  100.0\n",
              "Zlahtina     13.0   16.0\n",
              "Zweigelt      9.0   70.0\n",
              "Çalkarası    19.0   19.0\n",
              "Žilavka      15.0   15.0\n",
              "\n",
              "[707 rows x 2 columns]"
            ]
          },
          "metadata": {
            "tags": []
          },
          "execution_count": 93
        }
      ]
    },
    {
      "cell_type": "markdown",
      "metadata": {
        "id": "egn6m3RoqxZS",
        "colab_type": "text"
      },
      "source": [
        "#4.\n",
        "What are the most expensive wine varieties? Create a variable sorted_varieties containing a copy of the dataframe from the previous question where varieties are sorted in descending order based on minimum price, then on maximum price (to break ties)."
      ]
    },
    {
      "cell_type": "code",
      "metadata": {
        "id": "oLUF07xRrDov",
        "colab_type": "code",
        "colab": {
          "base_uri": "https://localhost:8080/",
          "height": 450
        },
        "outputId": "7b92d5b0-f1a5-490c-8818-a349c4692109"
      },
      "source": [
        "sorted_varieties = reviews.groupby('variety').price.agg([min,max]).sort_values(by=['min','max'],ascending=False)\n",
        "sorted_varieties"
      ],
      "execution_count": 96,
      "outputs": [
        {
          "output_type": "execute_result",
          "data": {
            "text/html": [
              "<div>\n",
              "<style scoped>\n",
              "    .dataframe tbody tr th:only-of-type {\n",
              "        vertical-align: middle;\n",
              "    }\n",
              "\n",
              "    .dataframe tbody tr th {\n",
              "        vertical-align: top;\n",
              "    }\n",
              "\n",
              "    .dataframe thead th {\n",
              "        text-align: right;\n",
              "    }\n",
              "</style>\n",
              "<table border=\"1\" class=\"dataframe\">\n",
              "  <thead>\n",
              "    <tr style=\"text-align: right;\">\n",
              "      <th></th>\n",
              "      <th>min</th>\n",
              "      <th>max</th>\n",
              "    </tr>\n",
              "    <tr>\n",
              "      <th>variety</th>\n",
              "      <th></th>\n",
              "      <th></th>\n",
              "    </tr>\n",
              "  </thead>\n",
              "  <tbody>\n",
              "    <tr>\n",
              "      <th>Ramisco</th>\n",
              "      <td>495.0</td>\n",
              "      <td>495.0</td>\n",
              "    </tr>\n",
              "    <tr>\n",
              "      <th>Terrantez</th>\n",
              "      <td>236.0</td>\n",
              "      <td>236.0</td>\n",
              "    </tr>\n",
              "    <tr>\n",
              "      <th>Francisa</th>\n",
              "      <td>160.0</td>\n",
              "      <td>160.0</td>\n",
              "    </tr>\n",
              "    <tr>\n",
              "      <th>Rosenmuskateller</th>\n",
              "      <td>150.0</td>\n",
              "      <td>150.0</td>\n",
              "    </tr>\n",
              "    <tr>\n",
              "      <th>Tinta Negra Mole</th>\n",
              "      <td>112.0</td>\n",
              "      <td>112.0</td>\n",
              "    </tr>\n",
              "    <tr>\n",
              "      <th>...</th>\n",
              "      <td>...</td>\n",
              "      <td>...</td>\n",
              "    </tr>\n",
              "    <tr>\n",
              "      <th>Roscetto</th>\n",
              "      <td>NaN</td>\n",
              "      <td>NaN</td>\n",
              "    </tr>\n",
              "    <tr>\n",
              "      <th>Sauvignon Blanc-Sauvignon Gris</th>\n",
              "      <td>NaN</td>\n",
              "      <td>NaN</td>\n",
              "    </tr>\n",
              "    <tr>\n",
              "      <th>Tempranillo-Malbec</th>\n",
              "      <td>NaN</td>\n",
              "      <td>NaN</td>\n",
              "    </tr>\n",
              "    <tr>\n",
              "      <th>Vital</th>\n",
              "      <td>NaN</td>\n",
              "      <td>NaN</td>\n",
              "    </tr>\n",
              "    <tr>\n",
              "      <th>Zelen</th>\n",
              "      <td>NaN</td>\n",
              "      <td>NaN</td>\n",
              "    </tr>\n",
              "  </tbody>\n",
              "</table>\n",
              "<p>707 rows × 2 columns</p>\n",
              "</div>"
            ],
            "text/plain": [
              "                                  min    max\n",
              "variety                                     \n",
              "Ramisco                         495.0  495.0\n",
              "Terrantez                       236.0  236.0\n",
              "Francisa                        160.0  160.0\n",
              "Rosenmuskateller                150.0  150.0\n",
              "Tinta Negra Mole                112.0  112.0\n",
              "...                               ...    ...\n",
              "Roscetto                          NaN    NaN\n",
              "Sauvignon Blanc-Sauvignon Gris    NaN    NaN\n",
              "Tempranillo-Malbec                NaN    NaN\n",
              "Vital                             NaN    NaN\n",
              "Zelen                             NaN    NaN\n",
              "\n",
              "[707 rows x 2 columns]"
            ]
          },
          "metadata": {
            "tags": []
          },
          "execution_count": 96
        }
      ]
    },
    {
      "cell_type": "code",
      "metadata": {
        "id": "60seTva2rTrT",
        "colab_type": "code",
        "colab": {}
      },
      "source": [
        ""
      ],
      "execution_count": 0,
      "outputs": []
    },
    {
      "cell_type": "markdown",
      "metadata": {
        "id": "rokd3v4xrmCu",
        "colab_type": "text"
      },
      "source": [
        "#5.\n",
        "Create a Series whose index is reviewers and whose values is the average review score given out by that reviewer. Hint: you will need the taster_name and points columns."
      ]
    },
    {
      "cell_type": "code",
      "metadata": {
        "id": "hXpoyWCMrnAs",
        "colab_type": "code",
        "colab": {
          "base_uri": "https://localhost:8080/",
          "height": 374
        },
        "outputId": "b0db2a3d-bcda-4cfc-8e6f-5c5b54b244a6"
      },
      "source": [
        "reviewer_mean_ratings = reviews.groupby('taster_name').points.mean()\n",
        "reviewer_mean_ratings"
      ],
      "execution_count": 98,
      "outputs": [
        {
          "output_type": "execute_result",
          "data": {
            "text/plain": [
              "taster_name\n",
              "Alexander Peartree    85.855422\n",
              "Anna Lee C. Iijima    88.415629\n",
              "Anne Krebiehl MW      90.562551\n",
              "Carrie Dykes          86.395683\n",
              "Christina Pickard     87.833333\n",
              "Fiona Adams           86.888889\n",
              "Jeff Jenssen          88.319756\n",
              "Jim Gordon            88.626287\n",
              "Joe Czerwinski        88.536235\n",
              "Kerin O’Keefe         88.867947\n",
              "Lauren Buzzeo         87.739510\n",
              "Matt Kettmann         90.008686\n",
              "Michael Schachner     86.907493\n",
              "Mike DeSimone         89.101167\n",
              "Paul Gregutt          89.082564\n",
              "Roger Voss            88.708003\n",
              "Sean P. Sullivan      88.755739\n",
              "Susan Kostrzewa       86.609217\n",
              "Virginie Boone        89.213379\n",
              "Name: points, dtype: float64"
            ]
          },
          "metadata": {
            "tags": []
          },
          "execution_count": 98
        }
      ]
    },
    {
      "cell_type": "markdown",
      "metadata": {
        "id": "Xr8o72A7r7rz",
        "colab_type": "text"
      },
      "source": [
        "Are there significant differences in the average scores assigned by the various reviewers? Run the cell below to use the describe() method to see a summary of the range of values."
      ]
    },
    {
      "cell_type": "code",
      "metadata": {
        "id": "fdSCskNMrxOW",
        "colab_type": "code",
        "colab": {
          "base_uri": "https://localhost:8080/",
          "height": 190
        },
        "outputId": "4ffe2a09-d774-442e-a049-046d608f1dfe"
      },
      "source": [
        "reviewer_mean_ratings.describe()"
      ],
      "execution_count": 99,
      "outputs": [
        {
          "output_type": "execute_result",
          "data": {
            "text/plain": [
              "count    19.000000\n",
              "mean     88.233026\n",
              "std       1.243610\n",
              "min      85.855422\n",
              "25%      87.323501\n",
              "50%      88.536235\n",
              "75%      88.975256\n",
              "max      90.562551\n",
              "Name: points, dtype: float64"
            ]
          },
          "metadata": {
            "tags": []
          },
          "execution_count": 99
        },
        {
          "output_type": "stream",
          "text": [
            "ERROR! Session/line number was not unique in database. History logging moved to new session 60\n"
          ],
          "name": "stdout"
        }
      ]
    },
    {
      "cell_type": "markdown",
      "metadata": {
        "id": "cr-3VYnkRZRa",
        "colab_type": "text"
      },
      "source": [
        "#6.\n",
        "What combination of countries and varieties are most common? Create a Series whose index is a MultiIndexof {country, variety} pairs. For example, a pinot noir produced in the US should map to {\"US\", \"Pinot Noir\"}. Sort the values in the Series in descending order based on wine count."
      ]
    },
    {
      "cell_type": "code",
      "metadata": {
        "id": "1KJGMrA1Ra27",
        "colab_type": "code",
        "colab": {
          "base_uri": "https://localhost:8080/",
          "height": 238
        },
        "outputId": "c89d5e80-3a09-4d95-a762-981284eb8873"
      },
      "source": [
        "country_variety_counts = reviews.groupby(['country','variety']).size().sort_values(ascending=False)\n",
        "country_variety_counts"
      ],
      "execution_count": 5,
      "outputs": [
        {
          "output_type": "execute_result",
          "data": {
            "text/plain": [
              "country    variety                 \n",
              "US         Pinot Noir                  9885\n",
              "           Cabernet Sauvignon          7315\n",
              "           Chardonnay                  6801\n",
              "France     Bordeaux-style Red Blend    4725\n",
              "Italy      Red Blend                   3624\n",
              "                                       ... \n",
              "Uruguay    Tempranillo-Tannat             1\n",
              "Italy      Pignolo                        1\n",
              "           Muscat                         1\n",
              "           Moscato di Noto                1\n",
              "Argentina  Barbera                        1\n",
              "Length: 1612, dtype: int64"
            ]
          },
          "metadata": {
            "tags": []
          },
          "execution_count": 5
        }
      ]
    },
    {
      "cell_type": "code",
      "metadata": {
        "id": "eXjQ2w9VR6xK",
        "colab_type": "code",
        "colab": {}
      },
      "source": [
        ""
      ],
      "execution_count": 0,
      "outputs": []
    }
  ]
}